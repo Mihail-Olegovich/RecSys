{
  "cells": [
    {
      "cell_type": "code",
      "execution_count": null,
      "metadata": {
        "execution": {
          "iopub.execute_input": "2023-11-29T06:51:49.518719Z",
          "iopub.status.busy": "2023-11-29T06:51:49.518719Z",
          "iopub.status.idle": "2023-11-29T06:51:51.458425Z",
          "shell.execute_reply": "2023-11-29T06:51:51.458425Z",
          "shell.execute_reply.started": "2023-11-29T06:51:49.518719Z"
        },
        "tags": [],
        "id": "_5EaTY24acHY"
      },
      "outputs": [],
      "source": [
        "import pandas as pd\n",
        "import numpy as np\n",
        "import seaborn as sns"
      ]
    },
    {
      "cell_type": "markdown",
      "metadata": {
        "id": "rsg4KN7UacHZ"
      },
      "source": [
        "$$\n",
        "\\begin{aligned}\n",
        "&\\frac{\\partial L}{\\partial p_u}=0 \\Rightarrow p_u=\\left(Q^TC_u Q+\\lambda I\\right)^{-1} Q^T C_u \\phi_u \\\\\n",
        "&\\frac{\\partial L}{\\partial q_i}=0 \\Rightarrow q_i=\\left(P^TC_i P+\\lambda I\\right)^{-1} P^T C_i \\phi_i\n",
        "\\end{aligned}\n",
        "$$"
      ]
    },
    {
      "cell_type": "markdown",
      "metadata": {
        "id": "fBCG0RtbacHa"
      },
      "source": [
        "$$\n",
        "\\begin{aligned}\n",
        "&\\frac{\\partial L}{\\partial p_u}=0 \\Rightarrow p_u=\\left(Q^T Q+Q^T\\left(C_u-I\\right) Q+\\lambda I\\right)^{-1} Q^T C_u \\phi_u \\\\\n",
        "&\\frac{\\partial L}{\\partial q_i}=0 \\Rightarrow q_i=\\left(P^T P+P^T\\left(C_i-I\\right) P+\\lambda I\\right)^{-1} P^T C_i \\phi_i\n",
        "\\end{aligned}\n",
        "$$"
      ]
    },
    {
      "cell_type": "markdown",
      "metadata": {
        "id": "_-mjihsQacHa"
      },
      "source": [
        "$$ L\\left(p_u, q_i, r_{u i}\\right)=\\sum_{u, i \\in R} c_{u i} \\cdot\\left(\\phi_{u i}-\\langle p_u, q_i \\rangle\\right)^2=\\sum_{u, i \\in R}\\left(1+\\alpha r_{u i}\\right)\\left(\\phi_{u i}-\\langle p_u, q_i \\rangle\\right)^2 $$"
      ]
    },
    {
      "cell_type": "code",
      "execution_count": null,
      "metadata": {
        "execution": {
          "iopub.execute_input": "2023-11-29T06:51:53.198855Z",
          "iopub.status.busy": "2023-11-29T06:51:53.197856Z",
          "iopub.status.idle": "2023-11-29T06:51:53.220856Z",
          "shell.execute_reply": "2023-11-29T06:51:53.220856Z",
          "shell.execute_reply.started": "2023-11-29T06:51:53.198855Z"
        },
        "tags": [],
        "id": "21cCdbjmacHb"
      },
      "outputs": [],
      "source": [
        "class ImplicitALS:\n",
        "    def __init__(self, R, k=3, a=40, l2=10):\n",
        "        self.l2 = l2\n",
        "        self.k = k\n",
        "        self.a = a\n",
        "        self.m, self.n = R.shape\n",
        "        self.P = np.random.rand(self.m, self.k)\n",
        "        self.Q = np.random.rand(self.n, self.k)\n",
        "        self.phi = np.where(R > 0, 1, 0)\n",
        "        self.C = 1 + a * R\n",
        "        self.loss = []\n",
        "\n",
        "    def train(self, n_step=10):\n",
        "        l2_reg = self.l2 * np.identity(self.k)\n",
        "        for _ in range(n_step):\n",
        "\n",
        "            # fix P, update Q\n",
        "            PtP = self.P.T.dot(self.P)\n",
        "\n",
        "            for i in range(self.n):\n",
        "                Ci = np.diag(self.C[:, i])\n",
        "                Wi = PtP + self.P.T.dot(Ci - np.identity(self.m)).dot(self.P) + l2_reg\n",
        "                self.Q[i] = np.linalg.inv(Wi).dot(self.P.T).dot(Ci).dot(self.phi[:, i])\n",
        "\n",
        "            # fix Q, update P\n",
        "            QtQ = self.Q.T.dot(self.Q)\n",
        "            for u in range(self.m):\n",
        "                Cu = np.diag(self.C[u, :])\n",
        "                Wu = QtQ + self.Q.T.dot(Cu - np.identity(self.n)).dot(self.Q) + l2_reg\n",
        "                self.P[u] = np.linalg.inv(Wu).dot(self.Q.T).dot(Cu).dot(self.phi[u, :])\n",
        "\n",
        "            loss = (self.C*(self.phi - self.P.dot(self.Q.T))**2).sum()\n",
        "            l2_all = (self.P ** 2).sum() + (self.Q ** 2).sum()\n",
        "            self.loss.append(loss + self.l2 * l2_all)\n",
        "\n",
        "\n",
        "    def predict(self, u, i):\n",
        "        return self.P[u].dot(self.Q[i])"
      ]
    },
    {
      "cell_type": "code",
      "execution_count": null,
      "metadata": {
        "execution": {
          "iopub.execute_input": "2023-11-29T06:51:53.508958Z",
          "iopub.status.busy": "2023-11-29T06:51:53.507958Z",
          "iopub.status.idle": "2023-11-29T06:51:53.517960Z",
          "shell.execute_reply": "2023-11-29T06:51:53.516958Z",
          "shell.execute_reply.started": "2023-11-29T06:51:53.508958Z"
        },
        "tags": [],
        "id": "PBwKAKuPacHb"
      },
      "outputs": [],
      "source": [
        "np.random.seed(42)"
      ]
    },
    {
      "cell_type": "code",
      "execution_count": null,
      "metadata": {
        "execution": {
          "iopub.execute_input": "2023-11-29T06:51:55.568977Z",
          "iopub.status.busy": "2023-11-29T06:51:55.568977Z",
          "iopub.status.idle": "2023-11-29T06:51:55.584975Z",
          "shell.execute_reply": "2023-11-29T06:51:55.583985Z",
          "shell.execute_reply.started": "2023-11-29T06:51:55.568977Z"
        },
        "tags": [],
        "id": "yYdwG63RacHb"
      },
      "outputs": [],
      "source": [
        "stars = np.arange(6)\n",
        "p = np.array([10, 1, 1, 1, 1, 1])\n",
        "m = 5\n",
        "n = 10\n",
        "\n",
        "ratings = np.random.choice(stars, size=m*n, p=p / p.sum()).reshape((m, n))"
      ]
    },
    {
      "cell_type": "code",
      "execution_count": null,
      "metadata": {
        "execution": {
          "iopub.execute_input": "2023-11-29T06:51:55.862647Z",
          "iopub.status.busy": "2023-11-29T06:51:55.861647Z",
          "iopub.status.idle": "2023-11-29T06:51:55.878647Z",
          "shell.execute_reply": "2023-11-29T06:51:55.878647Z",
          "shell.execute_reply.started": "2023-11-29T06:51:55.862647Z"
        },
        "tags": [],
        "colab": {
          "base_uri": "https://localhost:8080/"
        },
        "id": "6iTXFj7facHb",
        "outputId": "2860f5c4-4f4b-4f60-aae8-53dd2df9d7c6"
      },
      "outputs": [
        {
          "output_type": "execute_result",
          "data": {
            "text/plain": [
              "array([[0, 5, 1, 0, 0, 0, 0, 3, 0, 1],\n",
              "       [0, 5, 3, 0, 0, 0, 0, 0, 0, 0],\n",
              "       [0, 0, 0, 0, 0, 2, 0, 0, 0, 0],\n",
              "       [0, 0, 0, 5, 5, 3, 0, 0, 1, 0],\n",
              "       [0, 0, 0, 4, 0, 0, 0, 0, 0, 0]])"
            ]
          },
          "metadata": {},
          "execution_count": 5
        }
      ],
      "source": [
        "ratings"
      ]
    },
    {
      "cell_type": "code",
      "execution_count": null,
      "metadata": {
        "execution": {
          "iopub.execute_input": "2023-11-29T06:51:56.741688Z",
          "iopub.status.busy": "2023-11-29T06:51:56.740688Z",
          "iopub.status.idle": "2023-11-29T06:51:56.757688Z",
          "shell.execute_reply": "2023-11-29T06:51:56.756688Z",
          "shell.execute_reply.started": "2023-11-29T06:51:56.741688Z"
        },
        "tags": [],
        "colab": {
          "base_uri": "https://localhost:8080/"
        },
        "id": "-wf04DuKacHc",
        "outputId": "00d6b45c-8e4f-4938-ee19-c77dcd7976b1"
      },
      "outputs": [
        {
          "output_type": "execute_result",
          "data": {
            "text/plain": [
              "(5, 10)"
            ]
          },
          "metadata": {},
          "execution_count": 6
        }
      ],
      "source": [
        "ratings.shape"
      ]
    },
    {
      "cell_type": "code",
      "execution_count": null,
      "metadata": {
        "execution": {
          "iopub.execute_input": "2023-11-29T06:51:58.176896Z",
          "iopub.status.busy": "2023-11-29T06:51:58.175895Z",
          "iopub.status.idle": "2023-11-29T06:51:58.180896Z",
          "shell.execute_reply": "2023-11-29T06:51:58.180896Z",
          "shell.execute_reply.started": "2023-11-29T06:51:58.176896Z"
        },
        "tags": [],
        "id": "uENZRC0jacHc"
      },
      "outputs": [],
      "source": [
        "als = ImplicitALS(R=ratings, k=20)"
      ]
    },
    {
      "cell_type": "code",
      "execution_count": null,
      "metadata": {
        "execution": {
          "iopub.execute_input": "2023-11-29T06:52:00.936973Z",
          "iopub.status.busy": "2023-11-29T06:52:00.936973Z",
          "iopub.status.idle": "2023-11-29T06:52:01.198997Z",
          "shell.execute_reply": "2023-11-29T06:52:01.198997Z",
          "shell.execute_reply.started": "2023-11-29T06:52:00.936973Z"
        },
        "tags": [],
        "id": "V4wt6IOSacHd"
      },
      "outputs": [],
      "source": [
        "als.train(n_step=50)"
      ]
    },
    {
      "cell_type": "code",
      "execution_count": null,
      "metadata": {
        "execution": {
          "iopub.execute_input": "2023-11-29T06:52:01.660179Z",
          "iopub.status.busy": "2023-11-29T06:52:01.660179Z",
          "iopub.status.idle": "2023-11-29T06:52:01.674183Z",
          "shell.execute_reply": "2023-11-29T06:52:01.673178Z",
          "shell.execute_reply.started": "2023-11-29T06:52:01.660179Z"
        },
        "tags": [],
        "colab": {
          "base_uri": "https://localhost:8080/"
        },
        "id": "jFnDEOuOacHd",
        "outputId": "53ef4f88-4135-47e6-a4b8-491d0ef2ea64"
      },
      "outputs": [
        {
          "output_type": "execute_result",
          "data": {
            "text/plain": [
              "[np.float64(245.43794448124567),\n",
              " np.float64(190.01384136209407),\n",
              " np.float64(165.32695425572288),\n",
              " np.float64(151.22063653819146),\n",
              " np.float64(142.51063458040846)]"
            ]
          },
          "metadata": {},
          "execution_count": 9
        }
      ],
      "source": [
        "als.loss[:5]"
      ]
    },
    {
      "cell_type": "code",
      "execution_count": null,
      "metadata": {
        "execution": {
          "iopub.execute_input": "2023-11-29T06:52:02.591721Z",
          "iopub.status.busy": "2023-11-29T06:52:02.591721Z",
          "iopub.status.idle": "2023-11-29T06:52:02.791765Z",
          "shell.execute_reply": "2023-11-29T06:52:02.790764Z",
          "shell.execute_reply.started": "2023-11-29T06:52:02.591721Z"
        },
        "tags": [],
        "colab": {
          "base_uri": "https://localhost:8080/",
          "height": 430
        },
        "id": "ZGdQ4sxWacHd",
        "outputId": "a08a92c0-3850-43a4-9f6e-3718dd2d95d8"
      },
      "outputs": [
        {
          "output_type": "display_data",
          "data": {
            "text/plain": [
              "<Figure size 640x480 with 1 Axes>"
            ],
            "image/png": "[encoded data removed]"
          },
          "metadata": {}
        }
      ],
      "source": [
        "ax = sns.lineplot(als.loss)"
      ]
    },
    {
      "cell_type": "code",
      "execution_count": null,
      "metadata": {
        "execution": {
          "iopub.execute_input": "2023-11-29T06:52:05.003842Z",
          "iopub.status.busy": "2023-11-29T06:52:05.003842Z",
          "iopub.status.idle": "2023-11-29T06:52:05.013999Z",
          "shell.execute_reply": "2023-11-29T06:52:05.012997Z",
          "shell.execute_reply.started": "2023-11-29T06:52:05.003842Z"
        },
        "tags": [],
        "colab": {
          "base_uri": "https://localhost:8080/"
        },
        "id": "zdkdcwnCacHd",
        "outputId": "4b4163af-82df-4591-88e7-189dedd2810b"
      },
      "outputs": [
        {
          "output_type": "execute_result",
          "data": {
            "text/plain": [
              "((5, 20), (10, 20))"
            ]
          },
          "metadata": {},
          "execution_count": 11
        }
      ],
      "source": [
        "als.P.shape, als.Q.shape"
      ]
    },
    {
      "cell_type": "code",
      "execution_count": null,
      "metadata": {
        "execution": {
          "iopub.execute_input": "2023-11-29T06:52:05.631757Z",
          "iopub.status.busy": "2023-11-29T06:52:05.631757Z",
          "iopub.status.idle": "2023-11-29T06:52:05.638753Z",
          "shell.execute_reply": "2023-11-29T06:52:05.638753Z",
          "shell.execute_reply.started": "2023-11-29T06:52:05.631757Z"
        },
        "tags": [],
        "colab": {
          "base_uri": "https://localhost:8080/"
        },
        "id": "_MIJ9FukacHd",
        "outputId": "70f3c0f7-84da-4185-bac8-ba4bb9c65cdd"
      },
      "outputs": [
        {
          "output_type": "execute_result",
          "data": {
            "text/plain": [
              "array([[ 0.57266048,  0.12609971, -0.17706221,  0.39119574,  0.15599883,\n",
              "         0.33169319,  0.15036896, -0.14981436, -0.07120173, -0.19968314,\n",
              "         0.26421699,  0.09835032,  0.18710543, -0.03378566,  0.0336248 ,\n",
              "         0.18304091,  0.12776908,  0.17479678,  0.58412224,  0.33889988],\n",
              "       [ 0.43630894,  0.02419501, -0.29441547,  0.31883727,  0.14214997,\n",
              "         0.2464388 ,  0.24055982, -0.15667642, -0.02440249, -0.23788802,\n",
              "         0.26688299,  0.15187184,  0.06366007, -0.07133108,  0.05608225,\n",
              "         0.12108612,  0.19778862,  0.12296263,  0.63997709,  0.18554464],\n",
              "       [-0.18852672,  0.21392503,  0.34178188,  0.11349175,  0.25674481,\n",
              "         0.09564052,  0.24083893,  0.18744073,  0.06976241,  0.04091326,\n",
              "        -0.07965199,  0.3029685 ,  0.00118021,  0.1961124 ,  0.39242258,\n",
              "         0.04053025,  0.18136741,  0.25887321, -0.02412417, -0.13854647],\n",
              "       [-0.13204164,  0.12544097,  0.2398805 ,  0.06977821,  0.4823854 ,\n",
              "         0.06807984,  0.34168201,  0.43119186,  0.24044072,  0.47933357,\n",
              "         0.30218877,  0.26265812,  0.11210775,  0.2201086 ,  0.31640969,\n",
              "        -0.03451992,  0.34920761,  0.28227846, -0.13705067, -0.10104813],\n",
              "       [ 0.04551409, -0.08086517, -0.08191556, -0.0390379 ,  0.30063717,\n",
              "        -0.02178204,  0.14919167,  0.31418777,  0.2127472 ,  0.53024184,\n",
              "         0.44824349, -0.01266706,  0.13308394,  0.05184035, -0.04491484,\n",
              "        -0.08517892,  0.22248634,  0.05850935, -0.13817113,  0.02863391]])"
            ]
          },
          "metadata": {},
          "execution_count": 12
        }
      ],
      "source": [
        "als.P"
      ]
    },
    {
      "cell_type": "code",
      "execution_count": null,
      "metadata": {
        "execution": {
          "iopub.execute_input": "2023-11-29T06:52:06.902446Z",
          "iopub.status.busy": "2023-11-29T06:52:06.902446Z",
          "iopub.status.idle": "2023-11-29T06:52:06.907447Z",
          "shell.execute_reply": "2023-11-29T06:52:06.907447Z",
          "shell.execute_reply.started": "2023-11-29T06:52:06.902446Z"
        },
        "tags": [],
        "id": "CWVIAL9racHe"
      },
      "outputs": [],
      "source": [
        "pred_ratings = np.matmul(als.P, als.Q.T).round(2)"
      ]
    },
    {
      "cell_type": "code",
      "execution_count": null,
      "metadata": {
        "execution": {
          "iopub.execute_input": "2023-11-29T06:52:07.879642Z",
          "iopub.status.busy": "2023-11-29T06:52:07.879642Z",
          "iopub.status.idle": "2023-11-29T06:52:07.889641Z",
          "shell.execute_reply": "2023-11-29T06:52:07.889641Z",
          "shell.execute_reply.started": "2023-11-29T06:52:07.879642Z"
        },
        "tags": [],
        "colab": {
          "base_uri": "https://localhost:8080/"
        },
        "id": "21tpdbxLacHe",
        "outputId": "aa0b674c-fc33-4192-e37f-1c94b28287a6"
      },
      "outputs": [
        {
          "output_type": "stream",
          "name": "stdout",
          "text": [
            "Original:\n",
            "[0 5 1 0 0 0 0 3 0 1]\n",
            "Predicted:\n",
            "[ 0.    1.    0.98 -0.    0.    0.    0.    0.94  0.    0.84]\n",
            "Original:\n",
            "[0 5 3 0 0 0 0 0 0 0]\n",
            "Predicted:\n",
            "[ 0.    0.96  0.94  0.   -0.   -0.    0.    0.83 -0.    0.74]\n",
            "Original:\n",
            "[0 0 0 0 0 2 0 0 0 0]\n",
            "Predicted:\n",
            "[ 0.   -0.   -0.    0.23  0.55  0.88  0.    0.    0.49  0.  ]\n",
            "Original:\n",
            "[0 0 0 5 5 3 0 0 1 0]\n",
            "Predicted:\n",
            "[ 0.   -0.   -0.    0.99  0.96  0.99  0.    0.    0.85  0.  ]\n",
            "Original:\n",
            "[0 0 0 4 0 0 0 0 0 0]\n",
            "Predicted:\n",
            "[ 0.    0.    0.    0.94  0.56  0.24  0.   -0.    0.49 -0.  ]\n"
          ]
        }
      ],
      "source": [
        "for row in range(ratings.shape[0]):\n",
        "    print('Original:')\n",
        "    print(ratings[row, :])\n",
        "    print('Predicted:')\n",
        "    print(pred_ratings[row, :])"
      ]
    },
    {
      "cell_type": "code",
      "execution_count": null,
      "metadata": {
        "execution": {
          "iopub.execute_input": "2023-11-29T06:52:08.914262Z",
          "iopub.status.busy": "2023-11-29T06:52:08.913261Z",
          "iopub.status.idle": "2023-11-29T06:52:08.919655Z",
          "shell.execute_reply": "2023-11-29T06:52:08.919655Z",
          "shell.execute_reply.started": "2023-11-29T06:52:08.914262Z"
        },
        "tags": [],
        "colab": {
          "base_uri": "https://localhost:8080/"
        },
        "id": "YkIDbA8-acHe",
        "outputId": "828eafc6-aac5-4be1-fafc-b8b8c2162fc0"
      },
      "outputs": [
        {
          "output_type": "execute_result",
          "data": {
            "text/plain": [
              "array([0, 0, 0, 4, 0, 0, 0, 0, 0, 0])"
            ]
          },
          "metadata": {},
          "execution_count": 15
        }
      ],
      "source": [
        "ratings[-1, :]"
      ]
    },
    {
      "cell_type": "code",
      "execution_count": null,
      "metadata": {
        "execution": {
          "iopub.execute_input": "2023-11-29T06:52:09.750846Z",
          "iopub.status.busy": "2023-11-29T06:52:09.750846Z",
          "iopub.status.idle": "2023-11-29T06:52:09.767848Z",
          "shell.execute_reply": "2023-11-29T06:52:09.766849Z",
          "shell.execute_reply.started": "2023-11-29T06:52:09.750846Z"
        },
        "tags": [],
        "colab": {
          "base_uri": "https://localhost:8080/"
        },
        "id": "KDzKLXjbacHe",
        "outputId": "96b80a33-b9f6-4d99-bace-aecd13a648e6"
      },
      "outputs": [
        {
          "output_type": "execute_result",
          "data": {
            "text/plain": [
              "array([ 0.  ,  0.  ,  0.  ,  0.94,  0.56,  0.24,  0.  , -0.  ,  0.49,\n",
              "       -0.  ])"
            ]
          },
          "metadata": {},
          "execution_count": 16
        }
      ],
      "source": [
        "als.P[-1, :].dot(als.Q.T).round(2)"
      ]
    },
    {
      "cell_type": "code",
      "execution_count": null,
      "metadata": {
        "execution": {
          "iopub.execute_input": "2023-11-29T06:52:11.080570Z",
          "iopub.status.busy": "2023-11-29T06:52:11.079570Z",
          "iopub.status.idle": "2023-11-29T06:52:11.091580Z",
          "shell.execute_reply": "2023-11-29T06:52:11.091580Z",
          "shell.execute_reply.started": "2023-11-29T06:52:11.080570Z"
        },
        "tags": [],
        "colab": {
          "base_uri": "https://localhost:8080/"
        },
        "id": "pLHiCunvacHe",
        "outputId": "fb29a8ac-5708-490b-9748-e09ffa80e6e0"
      },
      "outputs": [
        {
          "output_type": "execute_result",
          "data": {
            "text/plain": [
              "array([0, 5, 3, 0, 0, 0, 0, 0, 0, 0])"
            ]
          },
          "metadata": {},
          "execution_count": 17
        }
      ],
      "source": [
        "ratings[1, :]"
      ]
    },
    {
      "cell_type": "code",
      "execution_count": null,
      "metadata": {
        "execution": {
          "iopub.execute_input": "2023-11-29T06:52:11.573547Z",
          "iopub.status.busy": "2023-11-29T06:52:11.572553Z",
          "iopub.status.idle": "2023-11-29T06:52:11.583626Z",
          "shell.execute_reply": "2023-11-29T06:52:11.583626Z",
          "shell.execute_reply.started": "2023-11-29T06:52:11.573547Z"
        },
        "tags": [],
        "colab": {
          "base_uri": "https://localhost:8080/"
        },
        "id": "w6vwII3sacHe",
        "outputId": "083ee455-a2a4-46c5-c8a6-2ee787da9cf1"
      },
      "outputs": [
        {
          "output_type": "execute_result",
          "data": {
            "text/plain": [
              "array([ 0.  ,  0.96,  0.94,  0.  , -0.  , -0.  ,  0.  ,  0.83, -0.  ,\n",
              "        0.74])"
            ]
          },
          "metadata": {},
          "execution_count": 18
        }
      ],
      "source": [
        "als.P[1, :].dot(als.Q.T).round(2)"
      ]
    },
    {
      "cell_type": "code",
      "execution_count": null,
      "metadata": {
        "id": "7HtbLewlacHe"
      },
      "outputs": [],
      "source": []
    }
  ],
  "metadata": {
    "kernelspec": {
      "display_name": "Python 3",
      "name": "python3"
    },
    "language_info": {
      "name": "python"
    },
    "colab": {
      "provenance": []
    }
  },
  "nbformat": 4,
  "nbformat_minor": 0
}