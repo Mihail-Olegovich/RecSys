{
  "cells": [
    {
      "cell_type": "markdown",
      "metadata": {
        "id": "0vAjiNccAh2D"
      },
      "source": [
        "# RecSys Transformer Models Tutorial\n",
        "This tutorial concerns following questions:\n",
        "1. How to apply SASRec and BERT4Rec transformer models using RecTools?\n",
        "2. How do SASRec and BERT4Rec models work under the hood?\n",
        "\n",
        "Transformer models came to recommendation systems from NLP, where they are proved to have a significant impact. As transformers were applied to sequential data it is common to use them for recommender systems, where interactions are ordered by the date of their occurrence. In this tutorial focus is on SASRec and BERT4Rec - models which are considered as a common starting point for transformer application in RecSys.\n",
        "\n",
        "## Why transformers from RecTools?\n",
        "\n",
        "- RecTools implementations [achieve highest metrics on reproducible public benchmarks](https://github.com/blondered/bert4rec_repro?tab=readme-ov-file#rectools-transformers-benchmark-results) against other well-known implementations.\n",
        "\n",
        "- Simplest interface in `fit` / `recommend` paradigm.\n",
        "- Item features are added to item embedding net.\n",
        "- Multiple loss options.\n",
        "\n",
        "- Advanced training options like custom validation, logging, checkpoints and early stopping are available. See [Advanced training guide](https://github.com/MobileTeleSystems/RecTools/blob/main/examples/tutorials/transformers_advanced_training_guide.ipynb).\n",
        "- You can customize models architecture any way you like, keeping all of the above benefits. See [Customization guide](https://github.com/MobileTeleSystems/RecTools/blob/main/examples/tutorials/transformers_customization_guide.ipynb)."
      ]
    },
    {
      "cell_type": "markdown",
      "metadata": {
        "id": "-6dk00zUAh2I"
      },
      "source": [
        "## Table of Contents\n",
        "\n",
        "* Prepare data\n",
        "* SASRec & BERT4Rec\n",
        "    * SASRec\n",
        "    * BERT4Rec\n",
        "    * Main differences\n",
        "* RecTools implementation\n",
        "* Application of models\n",
        "    * Basic usage\n",
        "    * Adding item features. Selecting item net components\n",
        "    * Selecting losses\n",
        "    * Customizing model\n",
        "    * Cross-validation\n",
        "    * Item-to-item recommendations\n",
        "    * Inference tricks (inference for cold users)\n",
        "* Detailed SASRec and BERT4Rec description\n",
        "    * Dataset processing\n",
        "    * Transformer layers\n",
        "    * Losses\n",
        "* Links"
      ]
    },
    {
      "cell_type": "code",
      "execution_count": null,
      "metadata": {
        "id": "XQg7v_3WAh2I",
        "outputId": "2edbbb34-5d81-4ce0-933c-2a2a24a48ed0"
      },
      "outputs": [
        {
          "name": "stderr",
          "output_type": "stream",
          "text": [
            "Seed set to 60\n"
          ]
        },
        {
          "data": {
            "text/plain": [
              "60"
            ]
          },
          "execution_count": 27,
          "metadata": {},
          "output_type": "execute_result"
        }
      ],
      "source": [
        "import numpy as np\n",
        "import os\n",
        "import pandas as pd\n",
        "import torch\n",
        "import typing as tp\n",
        "import warnings\n",
        "import threadpoolctl\n",
        "import re\n",
        "import plotly.express as px\n",
        "\n",
        "from lightning_fabric import seed_everything\n",
        "from pathlib import Path\n",
        "\n",
        "from rectools import Columns\n",
        "from rectools.dataset import Dataset\n",
        "from rectools.metrics import (\n",
        "    MAP,\n",
        "    CoveredUsers,\n",
        "    AvgRecPopularity,\n",
        "    Intersection,\n",
        "    HitRate,\n",
        "    Serendipity,\n",
        ")\n",
        "from rectools.models import PopularModel, EASEModel, SASRecModel, BERT4RecModel\n",
        "from rectools.model_selection import TimeRangeSplitter, cross_validate\n",
        "from rectools.models.nn.item_net import CatFeaturesItemNet, IdEmbeddingsItemNet\n",
        "from rectools.visuals import MetricsApp\n",
        "\n",
        "warnings.simplefilter(\"ignore\")\n",
        "\n",
        "# Enable deterministic behaviour with CUDA >= 10.2\n",
        "os.environ[\"CUBLAS_WORKSPACE_CONFIG\"] = \":4096:8\"\n",
        "\n",
        "# Random seed\n",
        "RANDOM_STATE=60\n",
        "torch.use_deterministic_algorithms(True)\n",
        "seed_everything(RANDOM_STATE, workers=True)"
      ]
    },
    {
      "cell_type": "markdown",
      "metadata": {
        "id": "bkhZrI7aAh2K"
      },
      "source": [
        "## Prepare data"
      ]
    },
    {
      "cell_type": "markdown",
      "metadata": {
        "id": "ycGVDNBsAh2L"
      },
      "source": [
        "We are using KION dataset for this tutorial. The data was gathered from the users of MTS KION video streaming platform."
      ]
    },
    {
      "cell_type": "code",
      "execution_count": null,
      "metadata": {
        "id": "6Jp_KJQkAh2L",
        "outputId": "092faf48-e3f3-4909-c4d6-4debc3d4e3ba"
      },
      "outputs": [
        {
          "name": "stdout",
          "output_type": "stream",
          "text": [
            "Archive:  data_en.zip\n",
            "  inflating: data_en/items_en.csv    \n",
            "  inflating: __MACOSX/data_en/._items_en.csv  \n",
            "  inflating: data_en/interactions.csv  \n",
            "  inflating: __MACOSX/data_en/._interactions.csv  \n",
            "  inflating: data_en/users_en.csv    \n",
            "  inflating: __MACOSX/data_en/._users_en.csv  \n",
            "CPU times: user 74.8 ms, sys: 54.9 ms, total: 130 ms\n",
            "Wall time: 7.07 s\n"
          ]
        }
      ],
      "source": [
        "%%time\n",
        "!wget -q https://github.com/irsafilo/KION_DATASET/raw/f69775be31fa5779907cf0a92ddedb70037fb5ae/data_en.zip -O data_en.zip\n",
        "!unzip -o data_en.zip\n",
        "!rm data_en.zip"
      ]
    },
    {
      "cell_type": "code",
      "execution_count": null,
      "metadata": {
        "id": "yqJ1GHlAAh2L"
      },
      "outputs": [],
      "source": [
        "# Download dataset\n",
        "DATA_PATH = Path(\"data_en\")\n",
        "items = pd.read_csv(DATA_PATH / 'items_en.csv', index_col=0)\n",
        "interactions = (\n",
        "    pd.read_csv(DATA_PATH / 'interactions.csv', parse_dates=[\"last_watch_dt\"])\n",
        "    .rename(columns={\"last_watch_dt\": Columns.Datetime})\n",
        ")"
      ]
    },
    {
      "cell_type": "code",
      "execution_count": null,
      "metadata": {
        "id": "gmWAQzCEAh2M",
        "outputId": "0df7adc7-fc9a-46c9-a21c-e57c96300829"
      },
      "outputs": [
        {
          "name": "stdout",
          "output_type": "stream",
          "text": [
            "(5476251, 4)\n"
          ]
        },
        {
          "data": {
            "text/html": [
              "<div>\n",
              "<style scoped>\n",
              "    .dataframe tbody tr th:only-of-type {\n",
              "        vertical-align: middle;\n",
              "    }\n",
              "\n",
              "    .dataframe tbody tr th {\n",
              "        vertical-align: top;\n",
              "    }\n",
              "\n",
              "    .dataframe thead th {\n",
              "        text-align: right;\n",
              "    }\n",
              "</style>\n",
              "<table border=\"1\" class=\"dataframe\">\n",
              "  <thead>\n",
              "    <tr style=\"text-align: right;\">\n",
              "      <th></th>\n",
              "      <th>user_id</th>\n",
              "      <th>item_id</th>\n",
              "      <th>datetime</th>\n",
              "      <th>weight</th>\n",
              "    </tr>\n",
              "  </thead>\n",
              "  <tbody>\n",
              "    <tr>\n",
              "      <th>0</th>\n",
              "      <td>176549</td>\n",
              "      <td>9506</td>\n",
              "      <td>2021-05-11</td>\n",
              "      <td>1</td>\n",
              "    </tr>\n",
              "    <tr>\n",
              "      <th>1</th>\n",
              "      <td>699317</td>\n",
              "      <td>1659</td>\n",
              "      <td>2021-05-29</td>\n",
              "      <td>1</td>\n",
              "    </tr>\n",
              "  </tbody>\n",
              "</table>\n",
              "</div>"
            ],
            "text/plain": [
              "   user_id  item_id   datetime  weight\n",
              "0   176549     9506 2021-05-11       1\n",
              "1   699317     1659 2021-05-29       1"
            ]
          },
          "execution_count": 29,
          "metadata": {},
          "output_type": "execute_result"
        }
      ],
      "source": [
        "# Process interactions\n",
        "interactions[Columns.Weight] = 1\n",
        "interactions = interactions[[\"user_id\", \"item_id\", \"datetime\", \"weight\"]]\n",
        "print(interactions.shape)\n",
        "interactions.head(2)"
      ]
    },
    {
      "cell_type": "code",
      "execution_count": null,
      "metadata": {
        "id": "k5SpWDvlAh2M"
      },
      "outputs": [],
      "source": [
        "# Process item features\n",
        "items = items.loc[items[Columns.Item].isin(interactions[Columns.Item])].copy()\n",
        "\n",
        "# Genre\n",
        "items[\"genre\"] = items[\"genres\"].str.lower().str.replace(\", \", \",\", regex=False).str.split(\",\")\n",
        "genre_feature = items[[\"item_id\", \"genre\"]].explode(\"genre\")\n",
        "genre_feature.columns = [\"id\", \"value\"]\n",
        "genre_feature[\"feature\"] = \"genre\"\n",
        "\n",
        "# Director\n",
        "items[\"director\"] = items[\"transliterated\"].str.lower().str.replace(\", \", \",\", regex=False).str.split(\",\")\n",
        "director_feature = items[[\"item_id\", \"director\"]].explode(\"director\")\n",
        "director_feature.columns = [\"id\", \"value\"]\n",
        "director_feature[\"feature\"] = \"director\"\n",
        "\n",
        "item_features = pd.concat((genre_feature, director_feature))"
      ]
    },
    {
      "cell_type": "code",
      "execution_count": null,
      "metadata": {
        "id": "0LiBYSZqAh2M",
        "outputId": "99af50f1-7a67-47ec-de73-fa2a3c171f1f"
      },
      "outputs": [
        {
          "data": {
            "text/html": [
              "<div>\n",
              "<style scoped>\n",
              "    .dataframe tbody tr th:only-of-type {\n",
              "        vertical-align: middle;\n",
              "    }\n",
              "\n",
              "    .dataframe tbody tr th {\n",
              "        vertical-align: top;\n",
              "    }\n",
              "\n",
              "    .dataframe thead th {\n",
              "        text-align: right;\n",
              "    }\n",
              "</style>\n",
              "<table border=\"1\" class=\"dataframe\">\n",
              "  <thead>\n",
              "    <tr style=\"text-align: right;\">\n",
              "      <th></th>\n",
              "      <th>id</th>\n",
              "      <th>value</th>\n",
              "      <th>feature</th>\n",
              "    </tr>\n",
              "  </thead>\n",
              "  <tbody>\n",
              "    <tr>\n",
              "      <th>0</th>\n",
              "      <td>10711</td>\n",
              "      <td>drama</td>\n",
              "      <td>genre</td>\n",
              "    </tr>\n",
              "    <tr>\n",
              "      <th>0</th>\n",
              "      <td>10711</td>\n",
              "      <td>foreign</td>\n",
              "      <td>genre</td>\n",
              "    </tr>\n",
              "    <tr>\n",
              "      <th>0</th>\n",
              "      <td>10711</td>\n",
              "      <td>detective</td>\n",
              "      <td>genre</td>\n",
              "    </tr>\n",
              "    <tr>\n",
              "      <th>0</th>\n",
              "      <td>10711</td>\n",
              "      <td>melodrama</td>\n",
              "      <td>genre</td>\n",
              "    </tr>\n",
              "    <tr>\n",
              "      <th>1</th>\n",
              "      <td>2508</td>\n",
              "      <td>foreign</td>\n",
              "      <td>genre</td>\n",
              "    </tr>\n",
              "  </tbody>\n",
              "</table>\n",
              "</div>"
            ],
            "text/plain": [
              "      id      value feature\n",
              "0  10711      drama   genre\n",
              "0  10711    foreign   genre\n",
              "0  10711  detective   genre\n",
              "0  10711  melodrama   genre\n",
              "1   2508    foreign   genre"
            ]
          },
          "execution_count": 31,
          "metadata": {},
          "output_type": "execute_result"
        }
      ],
      "source": [
        "item_features.head(5)"
      ]
    },
    {
      "cell_type": "code",
      "execution_count": null,
      "metadata": {
        "id": "ho4FgXCDAh2M"
      },
      "outputs": [],
      "source": [
        "# Construct dataset\n",
        "dataset = Dataset.construct(\n",
        "    interactions_df=interactions,\n",
        "    item_features_df=item_features,\n",
        "    cat_item_features=[\"genre\", \"director\"],\n",
        ")"
      ]
    },
    {
      "cell_type": "code",
      "execution_count": null,
      "metadata": {
        "id": "YcWONHq1Ah2M",
        "outputId": "f8698951-c96d-4c9a-b7b1-582fc9ee1ce5"
      },
      "outputs": [
        {
          "name": "stdout",
          "output_type": "stream",
          "text": [
            "(82, 4)\n"
          ]
        },
        {
          "data": {
            "text/html": [
              "<div>\n",
              "<style scoped>\n",
              "    .dataframe tbody tr th:only-of-type {\n",
              "        vertical-align: middle;\n",
              "    }\n",
              "\n",
              "    .dataframe tbody tr th {\n",
              "        vertical-align: top;\n",
              "    }\n",
              "\n",
              "    .dataframe thead th {\n",
              "        text-align: right;\n",
              "    }\n",
              "</style>\n",
              "<table border=\"1\" class=\"dataframe\">\n",
              "  <thead>\n",
              "    <tr style=\"text-align: right;\">\n",
              "      <th></th>\n",
              "      <th>user_id</th>\n",
              "      <th>item_id</th>\n",
              "      <th>datetime</th>\n",
              "      <th>weight</th>\n",
              "    </tr>\n",
              "  </thead>\n",
              "  <tbody>\n",
              "    <tr>\n",
              "      <th>0</th>\n",
              "      <td>176549</td>\n",
              "      <td>9506</td>\n",
              "      <td>2021-05-11</td>\n",
              "      <td>1</td>\n",
              "    </tr>\n",
              "    <tr>\n",
              "      <th>3815</th>\n",
              "      <td>176549</td>\n",
              "      <td>15469</td>\n",
              "      <td>2021-05-25</td>\n",
              "      <td>1</td>\n",
              "    </tr>\n",
              "  </tbody>\n",
              "</table>\n",
              "</div>"
            ],
            "text/plain": [
              "      user_id  item_id   datetime  weight\n",
              "0      176549     9506 2021-05-11       1\n",
              "3815   176549    15469 2021-05-25       1"
            ]
          },
          "execution_count": 34,
          "metadata": {},
          "output_type": "execute_result"
        }
      ],
      "source": [
        "# Prepare test user\n",
        "test_user = 176549\n",
        "print(interactions[interactions[\"user_id\"] == test_user].shape)\n",
        "interactions[interactions[\"user_id\"] == test_user].head(2)"
      ]
    },
    {
      "cell_type": "markdown",
      "metadata": {
        "id": "0Hw0TFVgAh2N"
      },
      "source": [
        "# SASRec & BERT4Rec\n",
        "\n",
        "As an input both models take user sequences, containing previous user interaction history. Description of how they are created from user-item interactions can be found in the \"Detailed SASRec and BERT4Rec description\" part. Item embeddings from these sequences are fed to transformer blocks with multi-head self-attention and feedforward neural network as main components. After one or several stacked attention blocks, resulting user sequence latent representation is used to predict targets items."
      ]
    },
    {
      "cell_type": "markdown",
      "metadata": {
        "id": "HKhBzBw3Ah2N"
      },
      "source": [
        "### SASRec"
      ]
    },
    {
      "cell_type": "markdown",
      "metadata": {
        "id": "g_7oW8FkAh2N"
      },
      "source": [
        "SASRec is a transformer-based sequential model with <b>unidirectional</b> attention mechanism and <b>\"Shifted Sequence\"</b> training objective. Resulting user sequence latent representation is used to predict all items in user sequence at each sequence position where each item prediction is based only on previous items.\n"
      ]
    },
    {
      "cell_type": "markdown",
      "metadata": {
        "id": "SSbhTBzSAh2N"
      },
      "source": [
        "### BERT4Rec"
      ]
    },
    {
      "cell_type": "markdown",
      "metadata": {
        "id": "zD3_-_fhAh2N"
      },
      "source": [
        "BERT4Rec is a transformer-based sequential model with <b>bi-directional</b> attention mechanism and <b>\"Item Masking\"</b> (same as \"MLM\") training objective. Resulting user sequence latent representation is used to predict masked items."
      ]
    },
    {
      "cell_type": "markdown",
      "metadata": {
        "id": "lrMDFCQ1Ah2N"
      },
      "source": [
        "### Main Differences"
      ]
    },
    {
      "cell_type": "markdown",
      "metadata": {
        "id": "2effXALvAh2N"
      },
      "source": [
        "|Difference            |Difference type|SASRec                                          | BERT4Rec |\n",
        "|----------------------|-------------- |---------------                                 |----------|\n",
        "|Training objective    |Conceptual     |Shifted sequence target                         | Item masking target |\n",
        "|Attention             |Conceptual     |Uni-directional                                 | Bi-directional      |\n",
        "|Transformer block     |Can be modified|Check \"Detailed SASRec and BERT4Rec description\"|Check \"Detailed SASRec and BERT4Rec description\"|\n",
        "|Loss in original paper|Can be modified|Binary cross-entropy (BCE) with 1 negative per positive  | Cross-entropy (Softmax) on full items catalog |"
      ]
    },
    {
      "cell_type": "markdown",
      "metadata": {
        "id": "bQERXIjcAh2N"
      },
      "source": [
        "## RecTools implementation"
      ]
    },
    {
      "cell_type": "markdown",
      "metadata": {
        "id": "iDBiT70uAh2N"
      },
      "source": [
        "We use dot product tying of user sequence embeddings (obtained after transformer blocks) and candidate item embeddings. Item embeddings are formed as sum of learnt item id embeddings and learnt item categorical features embeddings."
      ]
    },
    {
      "cell_type": "markdown",
      "metadata": {
        "id": "JZ3-f7pqAh2N"
      },
      "source": [
        "The following losses are supported:"
      ]
    },
    {
      "cell_type": "markdown",
      "metadata": {
        "id": "M2DTszfeAh2O"
      },
      "source": [
        "| Losses                       | SASRec   |BERT4Rec         |\n",
        "| ------------                 | ---------| --------------- |\n",
        "| Softmax loss                 | ``+``        | ``+``               |\n",
        "| BCE loss                     | ``+``        | ``+``               |\n",
        "| gBCE loss                    | ``+``        | ``+``               |\n",
        "| Variable number of negatives | ``+``        | ``+``               |\n"
      ]
    },
    {
      "cell_type": "markdown",
      "metadata": {
        "id": "pXLF8-O4Ah2O"
      },
      "source": [
        "We also allow explicit customization of any part of the model:"
      ]
    },
    {
      "cell_type": "markdown",
      "metadata": {
        "id": "eyBW_jsVAh2O"
      },
      "source": [
        "| Customization options   | SASRec   |BERT4Rec         |\n",
        "| ------------            | ---------| --------------- |\n",
        "| Data preprocessing      | ``+``        | ``+``               |\n",
        "| Item net for embeddings | ``+``        | ``+``               |\n",
        "| Positional encoding     | ``+``        | ``+``               |\n",
        "| Transformer layers      | ``+``        | ``+``               |\n",
        "| Model training          | ``+``        | ``+``               |\n"
      ]
    },
    {
      "cell_type": "markdown",
      "metadata": {
        "id": "KvjjSXRbAh2O"
      },
      "source": [
        "\\* customization options describe what parts of transformer model architecture can be changed by the user flexibly. For that user should inherit from the respective base class and pass a new class as a model parameter."
      ]
    },
    {
      "cell_type": "markdown",
      "metadata": {
        "id": "gUVTT3uzAh2O"
      },
      "source": [
        "### Reference implementations\n",
        "\n",
        "1. BERT4Rec reference implementation: https://github.com/jaywonchung/BERT4Rec-VAE-Pytorch.git What's changed: we implemented dot product tying between session latent representation and item embeddings instead of linear layer at the end of the model. Also we use pytorch implementation of Multi-Head Attention.\n",
        "2. SASrec reference implementation: https://github.com/asash/gSASRec-pytorch.git What's changed: we use pytorch implementation of Multi-Head Attention.\n",
        "\n",
        "In addition to original model losses we implemented different loss options to both models including softmax, BCE and gBCE with variable number of negatives. Reference implementation for gBCE loss can be found here: https://github.com/asash/gsasrec\n",
        "\n",
        "### Additional details\n",
        "1. Xavier normal initialization for model parameters\n",
        "2. Adam optimizer with betas=(0.9, 0.98)\n",
        "3. We use `LightningModule` and `Trainer` from PyTorch Lightning to wrap model training and inference. Multi-GPU training is enabled out of the box."
      ]
    },
    {
      "cell_type": "markdown",
      "metadata": {
        "id": "chCqpsujAh2O"
      },
      "source": [
        "## Application of Models\n",
        "\n",
        "### Basic usage\n"
      ]
    },
    {
      "cell_type": "markdown",
      "metadata": {
        "id": "L1dkPYhsAh2O"
      },
      "source": [
        "* Specify maximum length of user-item interaction history with `session_max_len`\n",
        "* Specify `loss` from \"softmax\", \"BCE\", \"gBCE\"\n",
        "* Specify latent embeddings size with `n_factors`\n",
        "* Specify number of transformer blocks with `n_blocks`\n",
        "* Specify number of attention heads with `n_heads`\n",
        "* Specify `dropout_rate`\n",
        "* Specify `lr` for learning rate\n",
        "* Specify `batch_size`\n",
        "* Specify `epochs` for specific number of model training epochs\n",
        "* Specify `deterministic=True` for deterministic model training\n",
        "* Specify `verbose`\n",
        "\n",
        "Parameter specific for BERT4Rec:\n",
        "\n",
        "* Specify probability of a sequence item to be masked `mask_prob`"
      ]
    },
    {
      "cell_type": "code",
      "execution_count": null,
      "metadata": {
        "scrolled": true,
        "id": "k-RutbxHAh2O",
        "outputId": "5e96c522-2c07-4990-bd5c-893a6880c379"
      },
      "outputs": [
        {
          "name": "stderr",
          "output_type": "stream",
          "text": [
            "GPU available: True (cuda), used: True\n",
            "TPU available: False, using: 0 TPU cores\n",
            "HPU available: False, using: 0 HPUs\n",
            "GPU available: True (cuda), used: True\n",
            "TPU available: False, using: 0 TPU cores\n",
            "HPU available: False, using: 0 HPUs\n"
          ]
        }
      ],
      "source": [
        "sasrec = SASRecModel(\n",
        "    session_max_len=20,\n",
        "    loss=\"softmax\",\n",
        "    n_factors=64,\n",
        "    n_blocks=1,\n",
        "    n_heads=4,\n",
        "    dropout_rate=0.2,\n",
        "    lr=0.001,\n",
        "    batch_size=128,\n",
        "    epochs=1,\n",
        "    verbose=1,\n",
        "    deterministic=True,\n",
        ")\n",
        "\n",
        "# Here we just keep deafult params\n",
        "bert4rec = BERT4RecModel(\n",
        "    mask_prob=0.15,  # specify probability of masking tokens\n",
        "    deterministic=True,\n",
        ")"
      ]
    },
    {
      "cell_type": "code",
      "execution_count": null,
      "metadata": {
        "colab": {
          "referenced_widgets": [
            "5f9dfbfb02394d4fbdc775a165cc1d10"
          ]
        },
        "id": "62K92jZMAh2O",
        "outputId": "9d174cc1-2448-4658-9e8b-3783cde7823f"
      },
      "outputs": [
        {
          "name": "stderr",
          "output_type": "stream",
          "text": [
            "LOCAL_RANK: 0 - CUDA_VISIBLE_DEVICES: [0,1]\n",
            "\n",
            "  | Name        | Type                     | Params | Mode \n",
            "-----------------------------------------------------------------\n",
            "0 | torch_model | TransformerTorchBackbone | 638 K  | train\n",
            "-----------------------------------------------------------------\n",
            "638 K     Trainable params\n",
            "0         Non-trainable params\n",
            "638 K     Total params\n",
            "2.553     Total estimated model params size (MB)\n",
            "26        Modules in train mode\n",
            "0         Modules in eval mode\n"
          ]
        },
        {
          "data": {
            "application/vnd.jupyter.widget-view+json": {
              "model_id": "5f9dfbfb02394d4fbdc775a165cc1d10",
              "version_major": 2,
              "version_minor": 0
            },
            "text/plain": [
              "Training: |          | 0/? [00:00<?, ?it/s]"
            ]
          },
          "metadata": {},
          "output_type": "display_data"
        },
        {
          "name": "stderr",
          "output_type": "stream",
          "text": [
            "`Trainer.fit` stopped: `max_epochs=1` reached.\n"
          ]
        },
        {
          "name": "stdout",
          "output_type": "stream",
          "text": [
            "CPU times: user 16.3 s, sys: 1.12 s, total: 17.4 s\n",
            "Wall time: 9min 54s\n"
          ]
        }
      ],
      "source": [
        "%%time\n",
        "sasrec.fit(dataset);"
      ]
    },
    {
      "cell_type": "code",
      "execution_count": null,
      "metadata": {
        "id": "7C4bweNAAh2O",
        "outputId": "a2513c48-4dfd-47b8-8c19-1d0af888e339"
      },
      "outputs": [
        {
          "name": "stdout",
          "output_type": "stream",
          "text": [
            "CPU times: user 119 ms, sys: 82.6 ms, total: 201 ms\n",
            "Wall time: 201 ms\n"
          ]
        },
        {
          "data": {
            "text/html": [
              "<div>\n",
              "<style scoped>\n",
              "    .dataframe tbody tr th:only-of-type {\n",
              "        vertical-align: middle;\n",
              "    }\n",
              "\n",
              "    .dataframe tbody tr th {\n",
              "        vertical-align: top;\n",
              "    }\n",
              "\n",
              "    .dataframe thead th {\n",
              "        text-align: right;\n",
              "    }\n",
              "</style>\n",
              "<table border=\"1\" class=\"dataframe\">\n",
              "  <thead>\n",
              "    <tr style=\"text-align: right;\">\n",
              "      <th></th>\n",
              "      <th>user_id</th>\n",
              "      <th>item_id</th>\n",
              "      <th>score</th>\n",
              "      <th>rank</th>\n",
              "      <th>title_orig</th>\n",
              "    </tr>\n",
              "  </thead>\n",
              "  <tbody>\n",
              "    <tr>\n",
              "      <th>0</th>\n",
              "      <td>176549</td>\n",
              "      <td>11749</td>\n",
              "      <td>3.427022</td>\n",
              "      <td>1</td>\n",
              "      <td>Incredibles 2</td>\n",
              "    </tr>\n",
              "    <tr>\n",
              "      <th>1</th>\n",
              "      <td>176549</td>\n",
              "      <td>12965</td>\n",
              "      <td>3.227504</td>\n",
              "      <td>2</td>\n",
              "      <td>Cars 3</td>\n",
              "    </tr>\n",
              "    <tr>\n",
              "      <th>2</th>\n",
              "      <td>176549</td>\n",
              "      <td>7571</td>\n",
              "      <td>3.096683</td>\n",
              "      <td>3</td>\n",
              "      <td>100% Wolf</td>\n",
              "    </tr>\n",
              "  </tbody>\n",
              "</table>\n",
              "</div>"
            ],
            "text/plain": [
              "   user_id  item_id     score  rank     title_orig\n",
              "0   176549    11749  3.427022     1  Incredibles 2\n",
              "1   176549    12965  3.227504     2         Cars 3\n",
              "2   176549     7571  3.096683     3      100% Wolf"
            ]
          },
          "execution_count": 11,
          "metadata": {},
          "output_type": "execute_result"
        }
      ],
      "source": [
        "%%time\n",
        "recos = sasrec.recommend(\n",
        "    users=[test_user],\n",
        "    dataset=dataset,\n",
        "    k=3,\n",
        "    filter_viewed=True,\n",
        "    on_unsupported_targets=\"warn\"\n",
        ")\n",
        "recos.merge(items[[\"item_id\", \"title_orig\"]], on=\"item_id\").sort_values([\"user_id\", \"rank\"])"
      ]
    },
    {
      "cell_type": "markdown",
      "metadata": {
        "id": "xkN_HBr9Ah2O"
      },
      "source": [
        "### Adding item features. Selecting item net components"
      ]
    },
    {
      "cell_type": "markdown",
      "metadata": {
        "id": "vpE_o8AGAh2P"
      },
      "source": [
        "To add item features to the process of learning item embeddings it is necessary to pass those features to RecTools dataset during construction (like we did above in this tutorial). Also it is necessary to pass `CatFeaturesItemNet` to `item_net_block_types` during model initialization. Any combination of `IdEmbeddingsItemNet` and `CatFeaturesItemNet` is applicable.\n",
        "\n",
        "By default our models use all features that are present in training dataset. Default model will use item features when they are present in dataset.\n",
        "\n",
        "<b>Categorical features:</b>\n",
        "\n",
        "For each pair of feature and feature value categorical feature embedding is created. Categorical feature embeddings are summed up with other embeddings for each item if they are present in the model.\n",
        "\n",
        "<b>Numerical features:</b> <b>Are not supported.</b>"
      ]
    },
    {
      "cell_type": "code",
      "execution_count": null,
      "metadata": {
        "id": "oxQ6R0Q3Ah2P",
        "outputId": "31118519-bb79-4c78-d54d-714f735683f5"
      },
      "outputs": [
        {
          "name": "stderr",
          "output_type": "stream",
          "text": [
            "GPU available: True (cuda), used: True\n",
            "TPU available: False, using: 0 TPU cores\n",
            "HPU available: False, using: 0 HPUs\n",
            "GPU available: True (cuda), used: True\n",
            "TPU available: False, using: 0 TPU cores\n",
            "HPU available: False, using: 0 HPUs\n",
            "GPU available: True (cuda), used: True\n",
            "TPU available: False, using: 0 TPU cores\n",
            "HPU available: False, using: 0 HPUs\n"
          ]
        }
      ],
      "source": [
        "sasrec_ids_only = SASRecModel(\n",
        "    deterministic=True,\n",
        "    loss=\"softmax\",\n",
        "    item_net_block_types=(IdEmbeddingsItemNet,)  # Use only item ids\n",
        ")\n",
        "sasrec_ids_and_categories = SASRecModel(\n",
        "    deterministic=True,\n",
        "    loss=\"softmax\",\n",
        "    item_net_block_types=(IdEmbeddingsItemNet, CatFeaturesItemNet)  # Use item ids and cat features\n",
        ")\n",
        "sasrec_categories_only = SASRecModel(\n",
        "    deterministic=True,\n",
        "    loss=\"softmax\",\n",
        "    item_net_block_types=(CatFeaturesItemNet,)  # Use only cat item features\n",
        ")"
      ]
    },
    {
      "cell_type": "markdown",
      "metadata": {
        "id": "FwiWaMXIAh2P"
      },
      "source": [
        "### Selecting losses"
      ]
    },
    {
      "cell_type": "markdown",
      "metadata": {
        "id": "e1YXhU5PAh2U"
      },
      "source": [
        "RecTools supports 3 losses:\n",
        "\n",
        "1. Softmax: requires no additional parameters. Calculated on full item catalog. Used by default.\n",
        "2. BCE: user can specify number of negatives to be sampled with `n_negatives` parameter.\n",
        "3. gBCE: user can specify number of negatives to be sampled with `n_negatives` parameter and calibration hyperparameter `gbce_t`\n",
        "\n",
        "See \"Losses\" section in \"Detailed SASRec and BERT4Rec description\" below for full losses description and math."
      ]
    },
    {
      "cell_type": "code",
      "execution_count": null,
      "metadata": {
        "id": "bVnqsfONAh2V",
        "outputId": "b8ff3b69-c997-434d-ed3c-815146865f0b"
      },
      "outputs": [
        {
          "name": "stderr",
          "output_type": "stream",
          "text": [
            "GPU available: True (cuda), used: True\n",
            "TPU available: False, using: 0 TPU cores\n",
            "HPU available: False, using: 0 HPUs\n",
            "GPU available: True (cuda), used: True\n",
            "TPU available: False, using: 0 TPU cores\n",
            "HPU available: False, using: 0 HPUs\n",
            "GPU available: True (cuda), used: True\n",
            "TPU available: False, using: 0 TPU cores\n",
            "HPU available: False, using: 0 HPUs\n"
          ]
        }
      ],
      "source": [
        "sasrec_softmax = SASRecModel(\n",
        "    deterministic=True,\n",
        "    loss=\"softmax\",\n",
        ")\n",
        "\n",
        "sasrec_bce = SASRecModel(\n",
        "    deterministic=True,\n",
        "    loss=\"BCE\",\n",
        "    n_negatives=50,\n",
        ")\n",
        "sasrec_gbce = SASRecModel(\n",
        "    deterministic=True,\n",
        "    loss=\"gBCE\",\n",
        "    n_negatives=50,\n",
        "    gbce_t=0.2,\n",
        ")"
      ]
    },
    {
      "cell_type": "markdown",
      "metadata": {
        "id": "emS4vjleAh2V"
      },
      "source": [
        "### Customizing model"
      ]
    },
    {
      "cell_type": "markdown",
      "metadata": {
        "id": "SpNWWlmeAh2V"
      },
      "source": [
        "* Specify minimum number of user interactions in dataset that is required to include user to model training with `train_min_user_interactions`\n",
        "* Specify whether positional encoding should be used with `use_pos_emb`\n",
        "* Specify whether key_padding_mask in multi-head attention should be used with `use_key_padding_mask`. BERT4Rec has it set to ``True`` by default. `SASRec` has it set to ``False`` by default because of explicit zero multiplication of padding embeddings inside transfomer layers that we inherited from the original implementation.\n",
        "\n",
        "For custom classes: inherit from base class and pass custom class as model parameter\n",
        "\n",
        "* Specify `item_net_block_types` for Item Net blocks from `(IdEmbeddingsItemNet, CatFeaturesItemNet)`, `(IdEmbeddingsItemNet,)`,            `(, CatFeaturesItemNet)` or custom embedding network. Inherit from `ItemNetBase`\n",
        "* Specify `pos_encoding_type` for custom positional encoding logic. Inherit from `PositionalEncodingBase`\n",
        "* Specify `transformer_layers_type` for custom transformer layers logic. Inherit from `TransformerLayersBase`\n",
        "* Specify `data_preparator_type` for custom data processing logic. Inherit from `SessionEncoderDataPreparatorBase`\n",
        "* Specify `lightning_module_type` for custom training logic. Inherit from `SessionEncoderLightningModuleBase`"
      ]
    },
    {
      "cell_type": "markdown",
      "metadata": {
        "id": "rYseNua1Ah2V"
      },
      "source": [
        "### Cross-validation"
      ]
    },
    {
      "cell_type": "code",
      "execution_count": null,
      "metadata": {
        "id": "vDTfrBCBAh2V"
      },
      "outputs": [],
      "source": [
        "# Use last week to validate model. Number of folds is set to 1 to speed up training\n",
        "splitter = TimeRangeSplitter(\n",
        "    test_size=\"7D\",\n",
        "    n_splits=1,\n",
        "    filter_already_seen=True,\n",
        ")"
      ]
    },
    {
      "cell_type": "code",
      "execution_count": null,
      "metadata": {
        "id": "CBbOh2GWAh2V",
        "outputId": "040d2de6-7bc5-4366-e13e-a31cb19e1392"
      },
      "outputs": [
        {
          "name": "stderr",
          "output_type": "stream",
          "text": [
            "GPU available: True (cuda), used: True\n",
            "TPU available: False, using: 0 TPU cores\n",
            "HPU available: False, using: 0 HPUs\n",
            "GPU available: True (cuda), used: True\n",
            "TPU available: False, using: 0 TPU cores\n",
            "HPU available: False, using: 0 HPUs\n",
            "GPU available: True (cuda), used: True\n",
            "TPU available: False, using: 0 TPU cores\n",
            "HPU available: False, using: 0 HPUs\n",
            "GPU available: True (cuda), used: True\n",
            "TPU available: False, using: 0 TPU cores\n",
            "HPU available: False, using: 0 HPUs\n"
          ]
        }
      ],
      "source": [
        "models = {\n",
        "    \"popular\": PopularModel(),\n",
        "    \"ease\": EASEModel(),\n",
        "    \"bert4rec_softmax_ids_and_cat\": bert4rec,\n",
        "    \"sasrec_softmax_ids_and_cat\": sasrec_softmax,\n",
        "    \"sasrec_bce_ids_and_cat\": sasrec_bce,\n",
        "    \"sasrec_gbce_ids_and_cat\": sasrec_gbce,\n",
        "    \"sasrec_softmax_ids_only\": sasrec_ids_only,\n",
        "    \"sasrec_softmax_cat_only\": sasrec_categories_only,\n",
        "    \"sasrec_bce_ids_only\": SASRecModel(deterministic=True, loss=\"BCE\", n_negatives=50, item_net_block_types=(IdEmbeddingsItemNet, )),\n",
        "    \"sasrec_bce_cat_only\": SASRecModel(deterministic=True, loss=\"BCE\", n_negatives=50, item_net_block_types=(CatFeaturesItemNet, )),\n",
        "    \"sasrec_gbce_ids_only\": SASRecModel(deterministic=True, loss=\"gBCE\", n_negatives=50, item_net_block_types=(IdEmbeddingsItemNet, )),\n",
        "    \"sasrec_gbce_cat_only\": SASRecModel(deterministic=True, loss=\"gBCE\", n_negatives=50, item_net_block_types=(CatFeaturesItemNet, )),\n",
        "}\n",
        "\n",
        "metrics = {\n",
        "    \"HitRate@10\": HitRate(k=10),\n",
        "    \"MAP@10\": MAP(k=10),\n",
        "    \"Serendipity@10\": Serendipity(k=10),\n",
        "    \"CoveredUsers@10\": CoveredUsers(k=10),  # how many test users received recommendations\n",
        "    \"AvgRecPopularity@10\": AvgRecPopularity(k=10),  # average popularity of recommended items\n",
        "    \"Intersection@10\": Intersection(k=10),  # intersection with recommendations from reference model\n",
        "}\n",
        "\n",
        "K_RECS = 10\n"
      ]
    },
    {
      "cell_type": "code",
      "execution_count": null,
      "metadata": {
        "id": "y_6e8m4pAh2V",
        "outputId": "98724be4-c3fb-4b40-e141-9e8cd808d8d2"
      },
      "outputs": [
        {
          "name": "stderr",
          "output_type": "stream",
          "text": [
            "LOCAL_RANK: 0 - CUDA_VISIBLE_DEVICES: [0,1]\n",
            "`Trainer.fit` stopped: `max_epochs=3` reached.\n",
            "LOCAL_RANK: 0 - CUDA_VISIBLE_DEVICES: [0,1]\n",
            "`Trainer.fit` stopped: `max_epochs=3` reached.\n",
            "LOCAL_RANK: 0 - CUDA_VISIBLE_DEVICES: [0,1]\n",
            "`Trainer.fit` stopped: `max_epochs=3` reached.\n",
            "LOCAL_RANK: 0 - CUDA_VISIBLE_DEVICES: [0,1]\n",
            "`Trainer.fit` stopped: `max_epochs=3` reached.\n",
            "LOCAL_RANK: 0 - CUDA_VISIBLE_DEVICES: [0,1]\n",
            "`Trainer.fit` stopped: `max_epochs=3` reached.\n",
            "LOCAL_RANK: 0 - CUDA_VISIBLE_DEVICES: [0,1]\n",
            "`Trainer.fit` stopped: `max_epochs=3` reached.\n",
            "LOCAL_RANK: 0 - CUDA_VISIBLE_DEVICES: [0,1]\n",
            "`Trainer.fit` stopped: `max_epochs=3` reached.\n",
            "LOCAL_RANK: 0 - CUDA_VISIBLE_DEVICES: [0,1]\n",
            "`Trainer.fit` stopped: `max_epochs=3` reached.\n",
            "LOCAL_RANK: 0 - CUDA_VISIBLE_DEVICES: [0,1]\n",
            "`Trainer.fit` stopped: `max_epochs=3` reached.\n",
            "LOCAL_RANK: 0 - CUDA_VISIBLE_DEVICES: [0,1]\n",
            "`Trainer.fit` stopped: `max_epochs=3` reached.\n"
          ]
        },
        {
          "name": "stdout",
          "output_type": "stream",
          "text": [
            "CPU times: user 15h 2min 16s, sys: 7min 50s, total: 15h 10min 7s\n",
            "Wall time: 2h 37min 44s\n"
          ]
        }
      ],
      "source": [
        "%%time\n",
        "\n",
        "# For each fold generate train and test part of dataset\n",
        "# Then fit every model, generate recommendations and calculate metrics\n",
        "\n",
        "cv_results = cross_validate(\n",
        "    dataset=dataset,\n",
        "    splitter=splitter,\n",
        "    models=models,\n",
        "    metrics=metrics,\n",
        "    k=K_RECS,\n",
        "    filter_viewed=True,\n",
        "    ref_models=[\"popular\"],  # pass reference model to calculate recommendations intersection\n",
        "    validate_ref_models=True,\n",
        ")"
      ]
    },
    {
      "cell_type": "code",
      "execution_count": null,
      "metadata": {
        "id": "Vg_zeqjrAh2V",
        "outputId": "1fa5f2a6-7d01-4d8d-a42a-1dbec3ad4d47"
      },
      "outputs": [
        {
          "data": {
            "text/html": [
              "<div>\n",
              "<style scoped>\n",
              "    .dataframe tbody tr th:only-of-type {\n",
              "        vertical-align: middle;\n",
              "    }\n",
              "\n",
              "    .dataframe tbody tr th {\n",
              "        vertical-align: top;\n",
              "    }\n",
              "\n",
              "    .dataframe thead th {\n",
              "        text-align: right;\n",
              "    }\n",
              "</style>\n",
              "<table border=\"1\" class=\"dataframe\">\n",
              "  <thead>\n",
              "    <tr style=\"text-align: right;\">\n",
              "      <th></th>\n",
              "      <th>HitRate@10</th>\n",
              "      <th>MAP@10</th>\n",
              "      <th>AvgRecPopularity@10</th>\n",
              "      <th>Serendipity@10</th>\n",
              "      <th>Intersection@10_popular</th>\n",
              "      <th>CoveredUsers@10</th>\n",
              "    </tr>\n",
              "    <tr>\n",
              "      <th>model</th>\n",
              "      <th></th>\n",
              "      <th></th>\n",
              "      <th></th>\n",
              "      <th></th>\n",
              "      <th></th>\n",
              "      <th></th>\n",
              "    </tr>\n",
              "  </thead>\n",
              "  <tbody>\n",
              "    <tr>\n",
              "      <th>popular</th>\n",
              "      <td>0.274365</td>\n",
              "      <td>0.080114</td>\n",
              "      <td>82236.761783</td>\n",
              "      <td>0.000002</td>\n",
              "      <td>1.000000</td>\n",
              "      <td>1.0</td>\n",
              "    </tr>\n",
              "    <tr>\n",
              "      <th>ease</th>\n",
              "      <td>0.191522</td>\n",
              "      <td>0.037317</td>\n",
              "      <td>15987.674248</td>\n",
              "      <td>0.000261</td>\n",
              "      <td>0.136901</td>\n",
              "      <td>1.0</td>\n",
              "    </tr>\n",
              "    <tr>\n",
              "      <th>bert4rec_softmax_ids_and_cat</th>\n",
              "      <td>0.341591</td>\n",
              "      <td>0.097810</td>\n",
              "      <td>49256.224578</td>\n",
              "      <td>0.000176</td>\n",
              "      <td>0.391448</td>\n",
              "      <td>1.0</td>\n",
              "    </tr>\n",
              "    <tr>\n",
              "      <th>sasrec_softmax_ids_and_cat</th>\n",
              "      <td>0.367610</td>\n",
              "      <td>0.107672</td>\n",
              "      <td>53651.582417</td>\n",
              "      <td>0.000279</td>\n",
              "      <td>0.424526</td>\n",
              "      <td>1.0</td>\n",
              "    </tr>\n",
              "    <tr>\n",
              "      <th>sasrec_bce_ids_and_cat</th>\n",
              "      <td>0.358316</td>\n",
              "      <td>0.100007</td>\n",
              "      <td>48322.991465</td>\n",
              "      <td>0.000323</td>\n",
              "      <td>0.376132</td>\n",
              "      <td>1.0</td>\n",
              "    </tr>\n",
              "    <tr>\n",
              "      <th>sasrec_gbce_ids_and_cat</th>\n",
              "      <td>0.358089</td>\n",
              "      <td>0.098112</td>\n",
              "      <td>48277.492343</td>\n",
              "      <td>0.000307</td>\n",
              "      <td>0.374561</td>\n",
              "      <td>1.0</td>\n",
              "    </tr>\n",
              "    <tr>\n",
              "      <th>sasrec_softmax_ids_only</th>\n",
              "      <td>0.317717</td>\n",
              "      <td>0.094235</td>\n",
              "      <td>69309.781054</td>\n",
              "      <td>0.000033</td>\n",
              "      <td>0.619626</td>\n",
              "      <td>1.0</td>\n",
              "    </tr>\n",
              "    <tr>\n",
              "      <th>sasrec_softmax_cat_only</th>\n",
              "      <td>0.302582</td>\n",
              "      <td>0.086132</td>\n",
              "      <td>36868.127081</td>\n",
              "      <td>0.000276</td>\n",
              "      <td>0.251032</td>\n",
              "      <td>1.0</td>\n",
              "    </tr>\n",
              "    <tr>\n",
              "      <th>sasrec_bce_ids_only</th>\n",
              "      <td>0.310558</td>\n",
              "      <td>0.088595</td>\n",
              "      <td>74938.036791</td>\n",
              "      <td>0.000017</td>\n",
              "      <td>0.679780</td>\n",
              "      <td>1.0</td>\n",
              "    </tr>\n",
              "    <tr>\n",
              "      <th>sasrec_bce_cat_only</th>\n",
              "      <td>0.273502</td>\n",
              "      <td>0.073051</td>\n",
              "      <td>34082.316616</td>\n",
              "      <td>0.000241</td>\n",
              "      <td>0.249858</td>\n",
              "      <td>1.0</td>\n",
              "    </tr>\n",
              "    <tr>\n",
              "      <th>sasrec_gbce_ids_only</th>\n",
              "      <td>0.317263</td>\n",
              "      <td>0.091954</td>\n",
              "      <td>70467.451156</td>\n",
              "      <td>0.000033</td>\n",
              "      <td>0.620795</td>\n",
              "      <td>1.0</td>\n",
              "    </tr>\n",
              "    <tr>\n",
              "      <th>sasrec_gbce_cat_only</th>\n",
              "      <td>0.275219</td>\n",
              "      <td>0.072310</td>\n",
              "      <td>33037.131802</td>\n",
              "      <td>0.000264</td>\n",
              "      <td>0.232910</td>\n",
              "      <td>1.0</td>\n",
              "    </tr>\n",
              "  </tbody>\n",
              "</table>\n",
              "</div>"
            ],
            "text/plain": [
              "                              HitRate@10    MAP@10  AvgRecPopularity@10  \\\n",
              "model                                                                     \n",
              "popular                         0.274365  0.080114         82236.761783   \n",
              "ease                            0.191522  0.037317         15987.674248   \n",
              "bert4rec_softmax_ids_and_cat    0.341591  0.097810         49256.224578   \n",
              "sasrec_softmax_ids_and_cat      0.367610  0.107672         53651.582417   \n",
              "sasrec_bce_ids_and_cat          0.358316  0.100007         48322.991465   \n",
              "sasrec_gbce_ids_and_cat         0.358089  0.098112         48277.492343   \n",
              "sasrec_softmax_ids_only         0.317717  0.094235         69309.781054   \n",
              "sasrec_softmax_cat_only         0.302582  0.086132         36868.127081   \n",
              "sasrec_bce_ids_only             0.310558  0.088595         74938.036791   \n",
              "sasrec_bce_cat_only             0.273502  0.073051         34082.316616   \n",
              "sasrec_gbce_ids_only            0.317263  0.091954         70467.451156   \n",
              "sasrec_gbce_cat_only            0.275219  0.072310         33037.131802   \n",
              "\n",
              "                              Serendipity@10  Intersection@10_popular  \\\n",
              "model                                                                   \n",
              "popular                             0.000002                 1.000000   \n",
              "ease                                0.000261                 0.136901   \n",
              "bert4rec_softmax_ids_and_cat        0.000176                 0.391448   \n",
              "sasrec_softmax_ids_and_cat          0.000279                 0.424526   \n",
              "sasrec_bce_ids_and_cat              0.000323                 0.376132   \n",
              "sasrec_gbce_ids_and_cat             0.000307                 0.374561   \n",
              "sasrec_softmax_ids_only             0.000033                 0.619626   \n",
              "sasrec_softmax_cat_only             0.000276                 0.251032   \n",
              "sasrec_bce_ids_only                 0.000017                 0.679780   \n",
              "sasrec_bce_cat_only                 0.000241                 0.249858   \n",
              "sasrec_gbce_ids_only                0.000033                 0.620795   \n",
              "sasrec_gbce_cat_only                0.000264                 0.232910   \n",
              "\n",
              "                              CoveredUsers@10  \n",
              "model                                          \n",
              "popular                                   1.0  \n",
              "ease                                      1.0  \n",
              "bert4rec_softmax_ids_and_cat              1.0  \n",
              "sasrec_softmax_ids_and_cat                1.0  \n",
              "sasrec_bce_ids_and_cat                    1.0  \n",
              "sasrec_gbce_ids_and_cat                   1.0  \n",
              "sasrec_softmax_ids_only                   1.0  \n",
              "sasrec_softmax_cat_only                   1.0  \n",
              "sasrec_bce_ids_only                       1.0  \n",
              "sasrec_bce_cat_only                       1.0  \n",
              "sasrec_gbce_ids_only                      1.0  \n",
              "sasrec_gbce_cat_only                      1.0  "
            ]
          },
          "execution_count": 17,
          "metadata": {},
          "output_type": "execute_result"
        }
      ],
      "source": [
        "pivot_results = (\n",
        "    pd.DataFrame(cv_results[\"metrics\"])\n",
        "    .drop(columns=\"i_split\")\n",
        "    .groupby([\"model\"], sort=False)\n",
        "    .agg([\"mean\"])\n",
        ")\n",
        "pivot_results.columns = pivot_results.columns.droplevel(1)\n",
        "pivot_results.to_csv(\"rectools_transformers_cv.csv\", index=True)\n",
        "pivot_results"
      ]
    },
    {
      "cell_type": "code",
      "execution_count": null,
      "metadata": {
        "colab": {
          "referenced_widgets": [
            "73d9d9946fe84193b592ef3e943bc68f"
          ]
        },
        "id": "XRpU3EVKAh2W",
        "outputId": "c1e12a3b-c5e9-4802-c380-329a9797e3fd"
      },
      "outputs": [
        {
          "data": {
            "application/vnd.jupyter.widget-view+json": {
              "model_id": "73d9d9946fe84193b592ef3e943bc68f",
              "version_major": 2,
              "version_minor": 0
            },
            "text/plain": [
              "VBox(children=(Tab(children=(VBox(children=(HBox(children=(Dropdown(description='Metric X:', options=('MAP@10'…"
            ]
          },
          "metadata": {},
          "output_type": "display_data"
        },
        {
          "data": {
            "image/png": "[encoded data removed]"
          },
          "metadata": {},
          "output_type": "display_data"
        }
      ],
      "source": [
        "models_metrics = pivot_results.reset_index()[[\"model\", \"MAP@10\", \"Serendipity@10\"]]\n",
        "\n",
        "models_to_skip_meta = [\"popular\", \"ease\", \"bert4rec_softmax_ids_and_cat\"]\n",
        "models_metadata = [\n",
        "    {\n",
        "        \"model\": model_name,\n",
        "        \"item_net_block_types\": \",\".join(\n",
        "            block for block in [\"Id\", \"Cat\"]\n",
        "            if re.search(block, str(model.get_params()[\"item_net_block_types\"]))\n",
        "        ),\n",
        "    }\n",
        "    for model_name, model in models.items() if model_name not in models_to_skip_meta\n",
        "]\n",
        "\n",
        "app = MetricsApp.construct(\n",
        "    models_metrics=models_metrics,\n",
        "    models_metadata=pd.DataFrame(models_metadata),\n",
        "    scatter_kwargs={\n",
        "        \"color_discrete_sequence\": px.colors.qualitative.Dark24,\n",
        "        \"symbol_sequence\": ['circle', 'square', 'diamond', 'cross', 'x', 'star', 'pentagon'],\n",
        "    }\n",
        ")\n",
        "fig = app.fig\n",
        "fig.update_layout(title=\"Model CV metrics\", font={\"size\": 15})\n",
        "fig.update_traces(marker={'size': 9})\n",
        "fig.show(\"png\")"
      ]
    },
    {
      "cell_type": "code",
      "execution_count": null,
      "metadata": {
        "id": "UD5BouTOAh2W",
        "outputId": "43e511d7-2c22-4212-db71-7534f3e9bce7"
      },
      "outputs": [
        {
          "data": {
            "image/png": "[encoded data removed]"
          },
          "metadata": {},
          "output_type": "display_data"
        }
      ],
      "source": [
        "# For this plot metadata colouring was enabled\n",
        "fig = app.fig\n",
        "fig.update_layout(title=\"SASRec CV metrics by item net blocks\",\n",
        "                  font={\"size\": 15})\n",
        "fig.update_traces(marker={'size': 9})\n",
        "fig.show(\"png\")"
      ]
    },
    {
      "cell_type": "markdown",
      "metadata": {
        "id": "-obJYDylAh2W"
      },
      "source": [
        "### Item-to-item recommendations"
      ]
    },
    {
      "cell_type": "markdown",
      "metadata": {
        "id": "d8lyI1vMAh2W"
      },
      "source": [
        "i2i recommendations are generated in the following way:\n",
        "\n",
        "1. Get item embeddings received after the train stage\n",
        "2. Calculate cosine similarity of catalog item embedding with target item embedding\n",
        "3. Return k most similar items"
      ]
    },
    {
      "cell_type": "code",
      "execution_count": null,
      "metadata": {
        "id": "4ikjPtBEAh2W",
        "outputId": "0c48673b-c9ba-4532-a4ca-69cb5ecb3da0"
      },
      "outputs": [
        {
          "data": {
            "text/plain": [
              "6501    Devyataev\n",
              "Name: title, dtype: object"
            ]
          },
          "execution_count": 18,
          "metadata": {},
          "output_type": "execute_result"
        }
      ],
      "source": [
        "# Prepare test item\n",
        "test_item = 13865\n",
        "items.loc[items['item_id'] == test_item, \"title\"]"
      ]
    },
    {
      "cell_type": "code",
      "execution_count": null,
      "metadata": {
        "id": "b_o2KS9iAh2W",
        "outputId": "9e0851d6-0bd2-4fd4-e248-042abb5b48b3"
      },
      "outputs": [
        {
          "name": "stdout",
          "output_type": "stream",
          "text": [
            "CPU times: user 2.06 s, sys: 1.73 s, total: 3.79 s\n",
            "Wall time: 3.81 s\n"
          ]
        },
        {
          "data": {
            "text/html": [
              "<div>\n",
              "<style scoped>\n",
              "    .dataframe tbody tr th:only-of-type {\n",
              "        vertical-align: middle;\n",
              "    }\n",
              "\n",
              "    .dataframe tbody tr th {\n",
              "        vertical-align: top;\n",
              "    }\n",
              "\n",
              "    .dataframe thead th {\n",
              "        text-align: right;\n",
              "    }\n",
              "</style>\n",
              "<table border=\"1\" class=\"dataframe\">\n",
              "  <thead>\n",
              "    <tr style=\"text-align: right;\">\n",
              "      <th></th>\n",
              "      <th>target_item_id</th>\n",
              "      <th>item_id</th>\n",
              "      <th>score</th>\n",
              "      <th>rank</th>\n",
              "      <th>title_orig</th>\n",
              "    </tr>\n",
              "  </thead>\n",
              "  <tbody>\n",
              "    <tr>\n",
              "      <th>2</th>\n",
              "      <td>13865</td>\n",
              "      <td>3734</td>\n",
              "      <td>0.898868</td>\n",
              "      <td>3</td>\n",
              "      <td>Prababushka lyogkogo povedeniya</td>\n",
              "    </tr>\n",
              "    <tr>\n",
              "      <th>1</th>\n",
              "      <td>13865</td>\n",
              "      <td>9728</td>\n",
              "      <td>0.952629</td>\n",
              "      <td>2</td>\n",
              "      <td>Wrath of Man</td>\n",
              "    </tr>\n",
              "    <tr>\n",
              "      <th>0</th>\n",
              "      <td>13865</td>\n",
              "      <td>10440</td>\n",
              "      <td>0.961360</td>\n",
              "      <td>1</td>\n",
              "      <td>Khrustal'nyy</td>\n",
              "    </tr>\n",
              "  </tbody>\n",
              "</table>\n",
              "</div>"
            ],
            "text/plain": [
              "   target_item_id  item_id     score  rank                       title_orig\n",
              "2           13865     3734  0.898868     3  Prababushka lyogkogo povedeniya\n",
              "1           13865     9728  0.952629     2                     Wrath of Man\n",
              "0           13865    10440  0.961360     1                     Khrustal'nyy"
            ]
          },
          "execution_count": 19,
          "metadata": {},
          "output_type": "execute_result"
        }
      ],
      "source": [
        "%%time\n",
        "recos = sasrec.recommend_to_items(\n",
        "    target_items=[test_item],\n",
        "    dataset=dataset,\n",
        "    k=3,\n",
        "    filter_itself=True,\n",
        "    items_to_recommend=None,\n",
        ")\n",
        "recos.merge(items[[\"item_id\", \"title_orig\"]], on=\"item_id\").sort_values([\"item_id\", \"rank\"])"
      ]
    },
    {
      "cell_type": "markdown",
      "metadata": {
        "id": "X5Ju_XAaAh2W"
      },
      "source": [
        "### Inference tricks (model known items and inference for cold users)"
      ]
    },
    {
      "cell_type": "markdown",
      "metadata": {
        "id": "FfMLDcxNAh2W"
      },
      "source": [
        "It may happen that SASRec or BERT4Rec filters out users with less than `train_min_user_interactions` interactions during the train stage. However, it is still possible to make recommendations for those users if they have at least one interaction in history with an item that was present at training.\n",
        "\n",
        "As an example consider user 324373, for whom there is only one interaction in the dataset."
      ]
    },
    {
      "cell_type": "code",
      "execution_count": null,
      "metadata": {
        "id": "5HzY5DEfAh2W",
        "outputId": "56128895-28b3-4609-9339-931856f3a381"
      },
      "outputs": [
        {
          "name": "stdout",
          "output_type": "stream",
          "text": [
            "(1, 4)\n"
          ]
        },
        {
          "data": {
            "text/html": [
              "<div>\n",
              "<style scoped>\n",
              "    .dataframe tbody tr th:only-of-type {\n",
              "        vertical-align: middle;\n",
              "    }\n",
              "\n",
              "    .dataframe tbody tr th {\n",
              "        vertical-align: top;\n",
              "    }\n",
              "\n",
              "    .dataframe thead th {\n",
              "        text-align: right;\n",
              "    }\n",
              "</style>\n",
              "<table border=\"1\" class=\"dataframe\">\n",
              "  <thead>\n",
              "    <tr style=\"text-align: right;\">\n",
              "      <th></th>\n",
              "      <th>user_id</th>\n",
              "      <th>item_id</th>\n",
              "      <th>datetime</th>\n",
              "      <th>weight</th>\n",
              "    </tr>\n",
              "  </thead>\n",
              "  <tbody>\n",
              "    <tr>\n",
              "      <th>2493287</th>\n",
              "      <td>324373</td>\n",
              "      <td>10440</td>\n",
              "      <td>2021-06-24</td>\n",
              "      <td>1</td>\n",
              "    </tr>\n",
              "  </tbody>\n",
              "</table>\n",
              "</div>"
            ],
            "text/plain": [
              "         user_id  item_id   datetime  weight\n",
              "2493287   324373    10440 2021-06-24       1"
            ]
          },
          "execution_count": 20,
          "metadata": {},
          "output_type": "execute_result"
        }
      ],
      "source": [
        "# Prepare test user with 1 interaction\n",
        "test_user_one = 324373\n",
        "print(interactions[interactions[\"user_id\"] == test_user_one].shape)\n",
        "interactions[interactions[\"user_id\"] == test_user_one]"
      ]
    },
    {
      "cell_type": "code",
      "execution_count": null,
      "metadata": {
        "id": "XPsl21Y7Ah2W",
        "outputId": "e9eaa432-08be-47ce-e304-211b8e959449"
      },
      "outputs": [
        {
          "name": "stdout",
          "output_type": "stream",
          "text": [
            "CPU times: user 133 ms, sys: 15.9 ms, total: 149 ms\n",
            "Wall time: 149 ms\n"
          ]
        },
        {
          "data": {
            "text/html": [
              "<div>\n",
              "<style scoped>\n",
              "    .dataframe tbody tr th:only-of-type {\n",
              "        vertical-align: middle;\n",
              "    }\n",
              "\n",
              "    .dataframe tbody tr th {\n",
              "        vertical-align: top;\n",
              "    }\n",
              "\n",
              "    .dataframe thead th {\n",
              "        text-align: right;\n",
              "    }\n",
              "</style>\n",
              "<table border=\"1\" class=\"dataframe\">\n",
              "  <thead>\n",
              "    <tr style=\"text-align: right;\">\n",
              "      <th></th>\n",
              "      <th>user_id</th>\n",
              "      <th>item_id</th>\n",
              "      <th>score</th>\n",
              "      <th>rank</th>\n",
              "      <th>title_orig</th>\n",
              "    </tr>\n",
              "  </thead>\n",
              "  <tbody>\n",
              "    <tr>\n",
              "      <th>0</th>\n",
              "      <td>324373</td>\n",
              "      <td>15297</td>\n",
              "      <td>4.755268</td>\n",
              "      <td>1</td>\n",
              "      <td>Klinika schast'ya</td>\n",
              "    </tr>\n",
              "    <tr>\n",
              "      <th>1</th>\n",
              "      <td>324373</td>\n",
              "      <td>9728</td>\n",
              "      <td>4.134816</td>\n",
              "      <td>2</td>\n",
              "      <td>Wrath of Man</td>\n",
              "    </tr>\n",
              "    <tr>\n",
              "      <th>2</th>\n",
              "      <td>324373</td>\n",
              "      <td>13865</td>\n",
              "      <td>4.025954</td>\n",
              "      <td>3</td>\n",
              "      <td>V2. Escape from Hell</td>\n",
              "    </tr>\n",
              "  </tbody>\n",
              "</table>\n",
              "</div>"
            ],
            "text/plain": [
              "   user_id  item_id     score  rank            title_orig\n",
              "0   324373    15297  4.755268     1     Klinika schast'ya\n",
              "1   324373     9728  4.134816     2          Wrath of Man\n",
              "2   324373    13865  4.025954     3  V2. Escape from Hell"
            ]
          },
          "execution_count": 21,
          "metadata": {},
          "output_type": "execute_result"
        }
      ],
      "source": [
        "%%time\n",
        "recos = sasrec.recommend(\n",
        "    users=[test_user_one],\n",
        "    dataset=dataset,\n",
        "    k=3,\n",
        "    filter_viewed=True,\n",
        "    on_unsupported_targets=\"warn\"\n",
        ")\n",
        "recos.merge(items[[\"item_id\", \"title_orig\"]], on=\"item_id\").sort_values([\"user_id\", \"rank\"])"
      ]
    },
    {
      "cell_type": "markdown",
      "metadata": {
        "id": "9tL5sw0rAh2W"
      },
      "source": [
        "Another case is when user that was filtered from train he doesn't have interactions with items that are known by the model. In this case user will not get recommendations."
      ]
    },
    {
      "cell_type": "code",
      "execution_count": null,
      "metadata": {
        "id": "2WwTK0bKAh2W",
        "outputId": "4f9fc940-06b3-4b0e-e5cf-9aac6bc0dc91"
      },
      "outputs": [
        {
          "name": "stdout",
          "output_type": "stream",
          "text": [
            "(1, 4)\n"
          ]
        },
        {
          "data": {
            "text/html": [
              "<div>\n",
              "<style scoped>\n",
              "    .dataframe tbody tr th:only-of-type {\n",
              "        vertical-align: middle;\n",
              "    }\n",
              "\n",
              "    .dataframe tbody tr th {\n",
              "        vertical-align: top;\n",
              "    }\n",
              "\n",
              "    .dataframe thead th {\n",
              "        text-align: right;\n",
              "    }\n",
              "</style>\n",
              "<table border=\"1\" class=\"dataframe\">\n",
              "  <thead>\n",
              "    <tr style=\"text-align: right;\">\n",
              "      <th></th>\n",
              "      <th>user_id</th>\n",
              "      <th>item_id</th>\n",
              "      <th>datetime</th>\n",
              "      <th>weight</th>\n",
              "    </tr>\n",
              "  </thead>\n",
              "  <tbody>\n",
              "    <tr>\n",
              "      <th>2393877</th>\n",
              "      <td>14630</td>\n",
              "      <td>8871</td>\n",
              "      <td>2021-03-28</td>\n",
              "      <td>1</td>\n",
              "    </tr>\n",
              "  </tbody>\n",
              "</table>\n",
              "</div>"
            ],
            "text/plain": [
              "         user_id  item_id   datetime  weight\n",
              "2393877    14630     8871 2021-03-28       1"
            ]
          },
          "execution_count": 22,
          "metadata": {},
          "output_type": "execute_result"
        }
      ],
      "source": [
        "# Prepare test user with items unknown by the model\n",
        "test_user_no_recs = 14630\n",
        "print(interactions[interactions[\"user_id\"] == test_user_no_recs.shape])\n",
        "interactions[interactions[\"user_id\"] == test_user_no_recs.head(2)]"
      ]
    },
    {
      "cell_type": "markdown",
      "metadata": {
        "id": "maOqZrivAh2X"
      },
      "source": [
        "Flag `on_unsupported_target` allows to chose behaviour for processing users that cannot get recommendations from model.\n",
        "\n",
        "Flag options:\n",
        "\n",
        "* \"ignore\" - skip such users (show warning with the number of cold users)\n",
        "* \"warn\" - skip such users but show a warning.\n",
        "* \"raise\" - stop recommendation procedure with an error."
      ]
    },
    {
      "cell_type": "code",
      "execution_count": null,
      "metadata": {
        "id": "M0JLKBTUAh2X",
        "outputId": "d6adde2a-162d-4084-a93e-720eca6ae9a0"
      },
      "outputs": [
        {
          "name": "stdout",
          "output_type": "stream",
          "text": [
            "CPU times: user 118 ms, sys: 2 ms, total: 120 ms\n",
            "Wall time: 119 ms\n"
          ]
        },
        {
          "data": {
            "text/html": [
              "<div>\n",
              "<style scoped>\n",
              "    .dataframe tbody tr th:only-of-type {\n",
              "        vertical-align: middle;\n",
              "    }\n",
              "\n",
              "    .dataframe tbody tr th {\n",
              "        vertical-align: top;\n",
              "    }\n",
              "\n",
              "    .dataframe thead th {\n",
              "        text-align: right;\n",
              "    }\n",
              "</style>\n",
              "<table border=\"1\" class=\"dataframe\">\n",
              "  <thead>\n",
              "    <tr style=\"text-align: right;\">\n",
              "      <th></th>\n",
              "      <th>user_id</th>\n",
              "      <th>item_id</th>\n",
              "      <th>score</th>\n",
              "      <th>rank</th>\n",
              "      <th>title_orig</th>\n",
              "    </tr>\n",
              "  </thead>\n",
              "  <tbody>\n",
              "  </tbody>\n",
              "</table>\n",
              "</div>"
            ],
            "text/plain": [
              "Empty DataFrame\n",
              "Columns: [user_id, item_id, score, rank, title_orig]\n",
              "Index: []"
            ]
          },
          "execution_count": 23,
          "metadata": {},
          "output_type": "execute_result"
        }
      ],
      "source": [
        "%%time\n",
        "recos = sasrec.recommend(\n",
        "    users=[test_user_no_recs],\n",
        "    dataset=dataset,\n",
        "    k=3,\n",
        "    filter_viewed=True,\n",
        "    on_unsupported_targets=\"ignore\"  # prevent raising an error\n",
        ")\n",
        "recos.merge(items[[\"item_id\", \"title_orig\"]], on=\"item_id\").sort_values([\"user_id\", \"rank\"])"
      ]
    },
    {
      "cell_type": "markdown",
      "metadata": {
        "id": "pdv4uigzAh2X"
      },
      "source": [
        "### Dataset processing\n",
        "\n",
        "Preprocessing steps will be shown using toy dataset:"
      ]
    },
    {
      "cell_type": "markdown",
      "metadata": {
        "id": "ffZOd1dmAh2X"
      },
      "source": [
        "1. Filter out users with less than `train_min_user_interactions` interactions in the train dataset.\n",
        "    * <b>SASRec:</b> the model uses shifted user interactions to make next item prediction, thus, at least 2 items should be in the history (`train_min_user_interactions` > 1).\n",
        "    * <b>BERT4Rec:</b> the model bases on masked language modelling, thus, at least 2 item should be in the history but larger theshold could be more meaningful.\n",
        "2. Leave `session_maxlen` most recent interactions for each user.\n",
        "\n",
        "After the first 2 steps, some users and/or items may be filtered out from the train dataset. However, as it will be shown further, it is still possible to make recommendations for a previously unmet user, if at least one of his items is known.\n",
        "\n",
        "3. Create user sessions: for each user specify items with which there was an interaction in the order from earliest to most recent. Sessions for example dataset are the following (u3 user was filtered out):\n",
        "$$S^1 = (i2, i3, i1)$$\n",
        "$$S^2 = (i3, i1)$$\n",
        "\n",
        "4. Before the train stage each session is divided into train and target.\n",
        "    * <b>SASRec:</b> as the task is to predict the next item, the shifted sequence is considered as the target.\n",
        "    $$S^1_{train} = (i2, i3), S^1_{target} = (i3, i1)$$\n",
        "    $$S^2_{train} = (i3), S^2_{target} = (i1)$$\n",
        "    * <b>BERT4Rec:</b> as the task is masked session modelling, following rules are applied:\n",
        "    \n",
        "    ```Text\n",
        "    For each item in the user session generate probability p\n",
        "    If p < mask_prob:\n",
        "        p = p / mask_prob\n",
        "        if p < 0.8:\n",
        "            replace item with MASK\n",
        "        if p > 0.8 and p < 0.9:\n",
        "            replace item with another random item\n",
        "    If p > mask_prob:\n",
        "         Replace target for this item with PAD. We will not predict this element\n",
        "    ```\n",
        "\n",
        "    For our dataset an example of resulting train and target will be:\n",
        "    $$S^1_{train} = (i2, MASK, i1), S^1_{target} = (i2, i3, PAD)$$\n",
        "    $$S^2_{train} = (i2, i1), S^2_{target} = (i3, i1)$$\n",
        "\n",
        "    Session that was formed for BERT4Rec is one element longer than the session for SASRec. This happens because of the way of processing \"shifted sequence\" target for SASRec.\n",
        "\n",
        "5. Both train and target sequences are adjusted to take into account user-defined `session_maxlen`:\n",
        "    * <b>SASRec:</b>\n",
        "        * If session is longer than `session_maxlen`, cut earliest items\n",
        "        * If session is shorter than `session_maxlen`, pad earliest items with PAD element\n",
        "        $$S^1_{train} = (PAD, PAD, PAD, i2, i3), S^1_{target} = (PAD, PAD, PAD, i3, i1)$$\n",
        "        $$S^2_{train} = (PAD, PAD, PAD, PAD, i3), S^2_{target} = (PAD, PAD, PAD, PAD, i1)$$\n",
        "    * <b>BERT4Rec:</b>\n",
        "        * If session is longer than `session_maxlen + 1`, cut earliest items\n",
        "        * If session is shorter than `session_maxlen + 1`, pad earliest items with PAD element\n",
        "$$S^1_{train} = (PAD, PAD, PAD, i2, MASK, i1), S^1_{target} = (PAD, PAD, PAD, i2, i3, PAD)$$\n",
        "$$S^2_{train} = (PAD, PAD, PAD, PAD, i2, i1), S^2_{target} = (PAD, PAD, PAD, PAD, i3, i1)$$\n",
        "\n",
        "During `recommend` stage SASRec model will take the last item latent representation for predicting next item. But BERT4Rec will put \"MASK\" token after the last item and will make predictions based on this added token latent representation. This explains why we need to make `+1` to `session_maxlen` for BERT4Rec during training. <b>The actual amount of interactions used for training and inference of both models is exactly the same. Each model will make predictions based on the most recent `session_maxlen` items for each user.</b>"
      ]
    },
    {
      "cell_type": "markdown",
      "metadata": {
        "id": "A9KqwXrkAh2Y"
      },
      "source": [
        "## Losses\n",
        "#### Softmax loss\n",
        "Softmax loss is a Cross Entropy loss calculated over the full catalog of items. As softmax loss finds probability distribution across all items, it returns the most precise results, however, for large catalogs such calculations are prohibitively inefficient.\n",
        "\n",
        "RecTools implementation uses `torch.nn.CrossEntropyLoss` with 'none' reduction\n",
        "$$L = \\{l_1, l_2, ..., l_N\\}^T$$\n",
        "$$l_n = -w_{y_n} log \\frac{exp(x_{n,y_n})}{\\sum_{c=1}^Cexp(x_{n,c})} \\cdot I\\{y_n \\neq \\text{ignore index}\\}$$\n",
        "After that 'sum' reduction is applied, excluding padding elements.\n",
        "\n",
        "### Losses with negative sampling\n",
        "Losses with negative sampling are needed to deal with the problem of computational inefficiency inherent to usage of full catalog. For that n negative items per positive are sampled and used for calculations.\n",
        "\n",
        "RecTools implementation samples negatives uniformly from training dataset.\n",
        "\n",
        "#### BCE loss\n",
        "Binary Cross Entropy loss aims to improve computational efficiency by using a few sampled negatives instead of the full catalog for calculations. The problem is that in most cases performance degrades.\n",
        "\n",
        "Logits $(x_n)$ - concat positive and negative logits.\n",
        "\n",
        "Target $(y_n)$ - positive samples are marked as 1, negative as 0.\n",
        "\n",
        "RecTools implementation uses `torch.nn.BCEWithLogitsLoss` with 'none' reduction\n",
        "$$L = \\{l_1, l_2, ..., l_N\\}^T$$\n",
        "$$l_n = -w_{y_n} [y_n log\\sigma (x_n) + (1 - y_n) log(1 - \\sigma (x_n))]$$\n",
        "After that 'sum' reduction is applied, excluding padding elements.\n",
        "\n",
        "#### gBCE loss\n",
        "Models trained with negative sampling (BCE loss) tend to overestimate probabilities of positive interactions. To mitigate this effect gBCE loss can be used, which is actually BCE loss applied to transformed logits. It combines efficiency of BCE loss with better performance results.\n",
        "\n",
        "Logit transformation is applied to positive logits only, negative logits remain unchanged:\n",
        "\n",
        "$$ \\text{transformed positive logits} = log(\\frac{1}{\\sigma^{-\\beta}(s^+) - 1})$$\n",
        "$$\\beta = \\alpha(t(1-\\frac{1}{\\alpha}) + \\frac{1}{\\alpha})$$\n",
        "$$\\alpha = \\frac{1}{\\text{number of unique items} - 1}$$\n",
        "$$t - \\text{calibration hyperparameter}$$\n",
        "\n",
        "After that BCE loss is applied to concatenation of transformed positive logits and negative logits."
      ]
    },
    {
      "cell_type": "markdown",
      "metadata": {
        "id": "7JdlDjPZAh2Y"
      },
      "source": [
        "## Links\n",
        "1. Transformers: [Attention Is All You Need](https://arxiv.org/abs/1706.03762)\n",
        "\n",
        "### SASRec\n",
        "1. SASRec original paper: [Self-Attentive Sequential Recommendation](https://arxiv.org/abs/1808.09781)\n",
        "2. [Turning Dross Into Gold Loss: is BERT4Rec really better than SASRec?](https://arxiv.org/abs/2309.07602)\n",
        "3. [gSASRec: Reducing Overconfidence in Sequential Recommendation Trained with Negative Sampling](https://arxiv.org/pdf/2308.07192)\n",
        "\n",
        "### BERT4Rec\n",
        "1. BERT4Rec original paper: [BERT4Rec: Sequential Recommendation with Bidirectional Encoder Representations from Transformer](https://arxiv.org/abs/1904.06690)\n",
        "2. Comparison of BERT4Rec implementations: [A Systematic Review and Replicability Study of BERT4Rec for\n",
        "Sequential Recommendation](https://arxiv.org/abs/2207.07483)"
      ]
    },
    {
      "cell_type": "markdown",
      "metadata": {
        "id": "E0Y-Wu7rAh2Y"
      },
      "source": []
    }
  ],
  "metadata": {
    "kernelspec": {
      "display_name": "venv",
      "language": "python",
      "name": "python3"
    },
    "language_info": {
      "codemirror_mode": {
        "name": "ipython",
        "version": 3
      },
      "file_extension": ".py",
      "mimetype": "text/x-python",
      "name": "python",
      "nbconvert_exporter": "python",
      "pygments_lexer": "ipython3",
      "version": "3.9.12"
    },
    "colab": {
      "provenance": []
    }
  },
  "nbformat": 4,
  "nbformat_minor": 0
}