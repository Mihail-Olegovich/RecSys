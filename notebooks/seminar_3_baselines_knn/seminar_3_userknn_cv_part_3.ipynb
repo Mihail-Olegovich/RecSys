{
 "cells": [
  {
   "cell_type": "markdown",
   "id": "ad8e37ce",
   "metadata": {},
   "source": [
    "#  Семинар 3. userkNN  CV для сравнения моделей"
   ]
  },
  {
   "cell_type": "code",
   "execution_count": 3,
   "id": "d591ad1b",
   "metadata": {
    "ExecuteTime": {
     "end_time": "2025-03-18T11:48:53.831807Z",
     "start_time": "2025-03-18T11:48:53.827692Z"
    }
   },
   "outputs": [],
   "source": [
    "import pandas as pd\n",
    "import requests\n",
    "from tqdm.auto import tqdm\n",
    "from pprint import pprint\n",
    "from implicit.nearest_neighbours import CosineRecommender, TFIDFRecommender\n",
    "import warnings\n",
    "\n",
    "from rectools import Columns\n",
    "from rectools.dataset import Dataset, Interactions\n",
    "from rectools.metrics import MAP, calc_metrics\n",
    "from rectools.model_selection import TimeRangeSplitter\n",
    "from rectools.models import PopularModel, RandomModel, ImplicitItemKNNWrapperModel\n",
    "from rectools.model_selection import TimeRangeSplitter\n",
    "from rectools.dataset import Dataset\n",
    "from rectools.metrics import MeanInvUserFreq, AvgRecPopularity\n",
    "from implicit.nearest_neighbours import CosineRecommender\n",
    "\n",
    "from userknn import UserKnn\n",
    "\n",
    "warnings.filterwarnings(\"ignore\")\n",
    "pd.set_option('display.max_columns', None)\n",
    "pd.set_option('display.max_colwidth', 200)"
   ]
  },
  {
   "cell_type": "markdown",
   "id": "d1d7cc47",
   "metadata": {},
   "source": [
    "# Датасет KION "
   ]
  },
  {
   "cell_type": "code",
   "execution_count": null,
   "id": "d5994343",
   "metadata": {},
   "outputs": [],
   "source": [
    "url = 'https://github.com/irsafilo/KION_DATASET/raw/f69775be31fa5779907cf0a92ddedb70037fb5ae/data_original.zip'\n",
    "req = requests.get(url, stream=True)\n",
    "\n",
    "with open('kion_train.zip', \"wb\") as fd:\n",
    "    total_size_in_bytes = int(req.headers.get('Content-Length', 0))\n",
    "    progress_bar = tqdm(desc='Downloading the kion dataset...', \n",
    "                        total=total_size_in_bytes, \n",
    "                        unit='iB', unit_scale=True)\n",
    "    for chunk in req.iter_content(chunk_size=2 ** 20):\n",
    "        progress_bar.update(len(chunk))\n",
    "        fd.write(chunk)"
   ]
  },
  {
   "cell_type": "code",
   "execution_count": null,
   "id": "edf558c4",
   "metadata": {},
   "outputs": [],
   "source": [
    "!unzip kion_train.zip -x '__MACOSX/*'"
   ]
  },
  {
   "cell_type": "code",
   "execution_count": 12,
   "id": "1f349c11",
   "metadata": {
    "ExecuteTime": {
     "end_time": "2025-03-18T17:05:40.570247Z",
     "start_time": "2025-03-18T17:05:34.648034Z"
    }
   },
   "outputs": [
    {
     "name": "stdout",
     "output_type": "stream",
     "text": [
      "(29428, 5) 5000\n"
     ]
    },
    {
     "data": {
      "text/plain": "     user_id  item_id   datetime  weight  watched_pct\n263   243946    14317 2021-05-14     128          2.0\n451   993099     1465 2021-05-23     128          0.0\n612   230196     3130 2021-07-28    6566         87.0\n642   546831    10440 2021-05-25     786          0.0\n805   183259     5919 2021-05-22     583          8.0",
      "text/html": "<div>\n<style scoped>\n    .dataframe tbody tr th:only-of-type {\n        vertical-align: middle;\n    }\n\n    .dataframe tbody tr th {\n        vertical-align: top;\n    }\n\n    .dataframe thead th {\n        text-align: right;\n    }\n</style>\n<table border=\"1\" class=\"dataframe\">\n  <thead>\n    <tr style=\"text-align: right;\">\n      <th></th>\n      <th>user_id</th>\n      <th>item_id</th>\n      <th>datetime</th>\n      <th>weight</th>\n      <th>watched_pct</th>\n    </tr>\n  </thead>\n  <tbody>\n    <tr>\n      <th>263</th>\n      <td>243946</td>\n      <td>14317</td>\n      <td>2021-05-14</td>\n      <td>128</td>\n      <td>2.0</td>\n    </tr>\n    <tr>\n      <th>451</th>\n      <td>993099</td>\n      <td>1465</td>\n      <td>2021-05-23</td>\n      <td>128</td>\n      <td>0.0</td>\n    </tr>\n    <tr>\n      <th>612</th>\n      <td>230196</td>\n      <td>3130</td>\n      <td>2021-07-28</td>\n      <td>6566</td>\n      <td>87.0</td>\n    </tr>\n    <tr>\n      <th>642</th>\n      <td>546831</td>\n      <td>10440</td>\n      <td>2021-05-25</td>\n      <td>786</td>\n      <td>0.0</td>\n    </tr>\n    <tr>\n      <th>805</th>\n      <td>183259</td>\n      <td>5919</td>\n      <td>2021-05-22</td>\n      <td>583</td>\n      <td>8.0</td>\n    </tr>\n  </tbody>\n</table>\n</div>"
     },
     "execution_count": 12,
     "metadata": {},
     "output_type": "execute_result"
    }
   ],
   "source": [
    "interactions = (\n",
    "    pd.read_csv('data_original/interactions.csv', parse_dates=[\"last_watch_dt\"])\n",
    "    .rename(columns={'total_dur': Columns.Weight,\n",
    "                     'last_watch_dt': Columns.Datetime})\n",
    ")\n",
    "users = pd.read_csv('data_original/users.csv')\n",
    "items = pd.read_csv('data_original/items.csv')\n",
    "\n",
    "### ! если хотите быстро прогнать этот ноутбук - раскомментируйте эти строки - она уменьшает данные\n",
    "import numpy as np\n",
    "user_ids = np.random.choice(interactions.user_id.unique(), size=5000, replace=False)\n",
    "interactions = interactions[interactions.user_id.isin(user_ids)]\n",
    "###\n",
    "\n",
    "print(interactions.shape, interactions.user_id.nunique())\n",
    "interactions.head()"
   ]
  },
  {
   "cell_type": "code",
   "outputs": [],
   "source": [
    "%load_ext autoreload\n",
    "%autoreload 2"
   ],
   "metadata": {
    "collapsed": false,
    "ExecuteTime": {
     "end_time": "2025-03-18T11:49:03.183962Z",
     "start_time": "2025-03-18T11:49:03.042447Z"
    }
   },
   "id": "159034fe164bae83",
   "execution_count": 5
  },
  {
   "cell_type": "markdown",
   "source": [
    "# Тест как работает наш кастомный класс"
   ],
   "metadata": {
    "collapsed": false
   },
   "id": "31e41569ac12deb7"
  },
  {
   "cell_type": "code",
   "outputs": [
    {
     "data": {
      "text/plain": "  0%|          | 0/5000 [00:00<?, ?it/s]",
      "application/vnd.jupyter.widget-view+json": {
       "version_major": 2,
       "version_minor": 0,
       "model_id": "690310b044274622852ed5fc337134ef"
      }
     },
     "metadata": {},
     "output_type": "display_data"
    }
   ],
   "source": [
    "model = UserKnn(model=CosineRecommender(), N_similar_users=30)\n",
    "model.fit(interactions)"
   ],
   "metadata": {
    "collapsed": false,
    "ExecuteTime": {
     "end_time": "2025-03-18T17:05:47.151469Z",
     "start_time": "2025-03-18T17:05:46.847799Z"
    }
   },
   "id": "2ffb43534967f317",
   "execution_count": 13
  },
  {
   "cell_type": "code",
   "outputs": [
    {
     "data": {
      "text/plain": "   user_id item_id     score  rank\n0  1097395    1290  5.061712     1\n1  1097395   10876  4.920837     2\n2  1097395    5600    3.9413     3\n4  1097395    6738  3.878243     4\n7  1097395   10878  3.286824     5",
      "text/html": "<div>\n<style scoped>\n    .dataframe tbody tr th:only-of-type {\n        vertical-align: middle;\n    }\n\n    .dataframe tbody tr th {\n        vertical-align: top;\n    }\n\n    .dataframe thead th {\n        text-align: right;\n    }\n</style>\n<table border=\"1\" class=\"dataframe\">\n  <thead>\n    <tr style=\"text-align: right;\">\n      <th></th>\n      <th>user_id</th>\n      <th>item_id</th>\n      <th>score</th>\n      <th>rank</th>\n    </tr>\n  </thead>\n  <tbody>\n    <tr>\n      <th>0</th>\n      <td>1097395</td>\n      <td>1290</td>\n      <td>5.061712</td>\n      <td>1</td>\n    </tr>\n    <tr>\n      <th>1</th>\n      <td>1097395</td>\n      <td>10876</td>\n      <td>4.920837</td>\n      <td>2</td>\n    </tr>\n    <tr>\n      <th>2</th>\n      <td>1097395</td>\n      <td>5600</td>\n      <td>3.9413</td>\n      <td>3</td>\n    </tr>\n    <tr>\n      <th>4</th>\n      <td>1097395</td>\n      <td>6738</td>\n      <td>3.878243</td>\n      <td>4</td>\n    </tr>\n    <tr>\n      <th>7</th>\n      <td>1097395</td>\n      <td>10878</td>\n      <td>3.286824</td>\n      <td>5</td>\n    </tr>\n  </tbody>\n</table>\n</div>"
     },
     "execution_count": 14,
     "metadata": {},
     "output_type": "execute_result"
    }
   ],
   "source": [
    "recs = model.recommend(interactions.user_id.unique(), k=10)\n",
    "recs.head()"
   ],
   "metadata": {
    "collapsed": false,
    "ExecuteTime": {
     "end_time": "2025-03-18T17:06:40.283604Z",
     "start_time": "2025-03-18T17:06:37.014311Z"
    }
   },
   "id": "2670f1c1bc445341",
   "execution_count": 14
  },
  {
   "cell_type": "code",
   "outputs": [
    {
     "ename": "AssertionError",
     "evalue": "",
     "output_type": "error",
     "traceback": [
      "\u001B[31m---------------------------------------------------------------------------\u001B[39m",
      "\u001B[31mAssertionError\u001B[39m                            Traceback (most recent call last)",
      "\u001B[36mCell\u001B[39m\u001B[36m \u001B[39m\u001B[32mIn[15]\u001B[39m\u001B[32m, line 2\u001B[39m\n\u001B[32m      1\u001B[39m \u001B[38;5;66;03m# TODO не всем пользователем достались 10 рекомендаций\u001B[39;00m\n\u001B[32m----> \u001B[39m\u001B[32m2\u001B[39m \u001B[38;5;28;01massert\u001B[39;00m (recs.groupby(\u001B[33m'\u001B[39m\u001B[33muser_id\u001B[39m\u001B[33m'\u001B[39m)[\u001B[33m'\u001B[39m\u001B[33mitem_id\u001B[39m\u001B[33m'\u001B[39m].nunique() == \u001B[32m10\u001B[39m).all()\n",
      "\u001B[31mAssertionError\u001B[39m: "
     ]
    }
   ],
   "source": [
    "# TODO не всем пользователем достались 10 рекомендаций\n",
    "assert (recs.groupby('user_id')['item_id'].nunique() == 10).all()"
   ],
   "metadata": {
    "collapsed": false,
    "ExecuteTime": {
     "end_time": "2025-03-18T17:06:52.575607Z",
     "start_time": "2025-03-18T17:06:52.486537Z"
    }
   },
   "id": "441e53ce545c79e2",
   "execution_count": 15
  },
  {
   "cell_type": "markdown",
   "id": "cd1a5482",
   "metadata": {},
   "source": [
    "# Задаем метрики и модели, по которым будем делать CV"
   ]
  },
  {
   "cell_type": "code",
   "execution_count": 9,
   "id": "fce4747a",
   "metadata": {
    "ExecuteTime": {
     "end_time": "2025-03-18T11:49:20.509250Z",
     "start_time": "2025-03-18T11:49:20.482237Z"
    }
   },
   "outputs": [],
   "source": [
    "metrics = {\n",
    "    'map@10': MAP(k=10),\n",
    "    \"novelty\": MeanInvUserFreq(10),  # новизна\n",
    "    \"AvgRecPopularity\": AvgRecPopularity(10),  # popularity bias\n",
    "}\n",
    "\n",
    "# модели rectools + наша кастомная\n",
    "models = {\n",
    "    \"popular_all\": PopularModel(),\n",
    "    \"random\": RandomModel(random_state=1),\n",
    "    \"itemknn_cosine\": ImplicitItemKNNWrapperModel(model=CosineRecommender()),\n",
    "    \"itemknn_tfidf\": ImplicitItemKNNWrapperModel(model=TFIDFRecommender()),\n",
    "    \"userknn_cosine\": UserKnn(model=CosineRecommender(), N_similar_users=50),\n",
    "    \"userknn_tfidf\": UserKnn(model=TFIDFRecommender(), N_similar_users=50)\n",
    "}"
   ]
  },
  {
   "cell_type": "code",
   "execution_count": 16,
   "id": "fa67664a",
   "metadata": {
    "ExecuteTime": {
     "end_time": "2025-03-18T17:08:03.635888Z",
     "start_time": "2025-03-18T17:07:59.229242Z"
    }
   },
   "outputs": [
    {
     "name": "stdout",
     "output_type": "stream",
     "text": [
      "\n",
      "===== Fold 0 =====\n",
      "{'end': Timestamp('2021-08-09 00:00:00'),\n",
      " 'i_split': 0,\n",
      " 'start': Timestamp('2021-08-02 00:00:00'),\n",
      " 'test': 1291,\n",
      " 'test_items': 669,\n",
      " 'test_users': 506,\n",
      " 'train': 23049,\n",
      " 'train_items': 3792,\n",
      " 'train_users': 4116}\n",
      "Training 'popular_all' on fold 0...\n",
      "Training 'random' on fold 0...\n",
      "Training 'itemknn_cosine' on fold 0...\n",
      "Training 'itemknn_tfidf' on fold 0...\n",
      "Training 'userknn_cosine' on fold 0...\n"
     ]
    },
    {
     "data": {
      "text/plain": "  0%|          | 0/4116 [00:00<?, ?it/s]",
      "application/vnd.jupyter.widget-view+json": {
       "version_major": 2,
       "version_minor": 0,
       "model_id": "9af6cfe0b8f84e27ac61722ea41d7d2e"
      }
     },
     "metadata": {},
     "output_type": "display_data"
    },
    {
     "name": "stdout",
     "output_type": "stream",
     "text": [
      "Training 'userknn_tfidf' on fold 0...\n"
     ]
    },
    {
     "data": {
      "text/plain": "  0%|          | 0/4116 [00:00<?, ?it/s]",
      "application/vnd.jupyter.widget-view+json": {
       "version_major": 2,
       "version_minor": 0,
       "model_id": "91eaaf290534411cbddbe6937e990acb"
      }
     },
     "metadata": {},
     "output_type": "display_data"
    },
    {
     "name": "stdout",
     "output_type": "stream",
     "text": [
      "\n",
      "===== Fold 1 =====\n",
      "{'end': Timestamp('2021-08-16 00:00:00'),\n",
      " 'i_split': 1,\n",
      " 'start': Timestamp('2021-08-09 00:00:00'),\n",
      " 'test': 1254,\n",
      " 'test_items': 627,\n",
      " 'test_users': 509,\n",
      " 'train': 25106,\n",
      " 'train_items': 3986,\n",
      " 'train_users': 4410}\n",
      "Training 'popular_all' on fold 1...\n",
      "Training 'random' on fold 1...\n",
      "Training 'itemknn_cosine' on fold 1...\n",
      "Training 'itemknn_tfidf' on fold 1...\n",
      "Training 'userknn_cosine' on fold 1...\n"
     ]
    },
    {
     "data": {
      "text/plain": "  0%|          | 0/4410 [00:00<?, ?it/s]",
      "application/vnd.jupyter.widget-view+json": {
       "version_major": 2,
       "version_minor": 0,
       "model_id": "141fa07103b3468992a3d7d429e61c1d"
      }
     },
     "metadata": {},
     "output_type": "display_data"
    },
    {
     "name": "stdout",
     "output_type": "stream",
     "text": [
      "Training 'userknn_tfidf' on fold 1...\n"
     ]
    },
    {
     "data": {
      "text/plain": "  0%|          | 0/4410 [00:00<?, ?it/s]",
      "application/vnd.jupyter.widget-view+json": {
       "version_major": 2,
       "version_minor": 0,
       "model_id": "266625d7408441138e799034397fb814"
      }
     },
     "metadata": {},
     "output_type": "display_data"
    },
    {
     "name": "stdout",
     "output_type": "stream",
     "text": [
      "\n",
      "===== Fold 2 =====\n",
      "{'end': Timestamp('2021-08-23 00:00:00'),\n",
      " 'i_split': 2,\n",
      " 'start': Timestamp('2021-08-16 00:00:00'),\n",
      " 'test': 1447,\n",
      " 'test_items': 724,\n",
      " 'test_users': 546,\n",
      " 'train': 27163,\n",
      " 'train_items': 4165,\n",
      " 'train_users': 4704}\n",
      "Training 'popular_all' on fold 2...\n",
      "Training 'random' on fold 2...\n",
      "Training 'itemknn_cosine' on fold 2...\n",
      "Training 'itemknn_tfidf' on fold 2...\n",
      "Training 'userknn_cosine' on fold 2...\n"
     ]
    },
    {
     "data": {
      "text/plain": "  0%|          | 0/4704 [00:00<?, ?it/s]",
      "application/vnd.jupyter.widget-view+json": {
       "version_major": 2,
       "version_minor": 0,
       "model_id": "334ceb34b7fc481793774512be7f3b49"
      }
     },
     "metadata": {},
     "output_type": "display_data"
    },
    {
     "name": "stdout",
     "output_type": "stream",
     "text": [
      "Training 'userknn_tfidf' on fold 2...\n"
     ]
    },
    {
     "data": {
      "text/plain": "  0%|          | 0/4704 [00:00<?, ?it/s]",
      "application/vnd.jupyter.widget-view+json": {
       "version_major": 2,
       "version_minor": 0,
       "model_id": "638537d02e1340d697de987bae205086"
      }
     },
     "metadata": {},
     "output_type": "display_data"
    }
   ],
   "source": [
    "# инициализируем сплиттер (TimeRangeSplitter)\n",
    "splitter = TimeRangeSplitter(\n",
    "    test_size=\"7D\",\n",
    "    n_splits=3,\n",
    "    filter_already_seen=True,\n",
    "    filter_cold_items=True,\n",
    "    filter_cold_users=True,\n",
    ")\n",
    "\n",
    "fold_iterator = splitter.split(Interactions(interactions), collect_fold_stats=True)\n",
    "\n",
    "# цикл по фолдам и моделям \n",
    "results = []\n",
    "\n",
    "for i_fold, (train_ids, test_ids, fold_info) in enumerate(fold_iterator):\n",
    "    print(f\"\\n===== Fold {i_fold} =====\")\n",
    "    pprint(fold_info)\n",
    "\n",
    "    df_train = interactions.iloc[train_ids].copy()\n",
    "    df_test = interactions.iloc[test_ids][Columns.UserItem].copy()\n",
    "\n",
    "    catalog = df_train[Columns.Item].unique()\n",
    "\n",
    "    # обучаем и оцениваем каждую модель\n",
    "    for model_name, model in models.items():\n",
    "        print(f\"Training '{model_name}' on fold {i_fold}...\")\n",
    "\n",
    "        if 'userknn' in model_name:\n",
    "            model.fit(df_train)\n",
    "            reco = model.recommend(\n",
    "                users=df_test[Columns.User].unique(),\n",
    "                k=10\n",
    "            )\n",
    "            \n",
    "        else:\n",
    "            dataset = Dataset.construct(df_train)\n",
    "            model.fit(dataset)  # rectools - подаем Dataset (train_data)\n",
    "            reco = model.recommend(\n",
    "                users=df_test[Columns.User].unique(),\n",
    "                dataset=dataset,  \n",
    "                k=10,\n",
    "                filter_viewed=True\n",
    "            )\n",
    "      \n",
    "        # метрики\n",
    "        metric_values = calc_metrics(\n",
    "            metrics=metrics,\n",
    "            reco=reco,\n",
    "            interactions=df_test,   \n",
    "            prev_interactions=df_train,\n",
    "            catalog=catalog,\n",
    "        )\n",
    "\n",
    "        fold_result = {\"fold\": i_fold, \"model\": model_name}\n",
    "        fold_result.update(metric_values)\n",
    "        results.append(fold_result)\n"
   ]
  },
  {
   "cell_type": "code",
   "outputs": [
    {
     "data": {
      "text/plain": "                  map@10    novelty  AvgRecPopularity\nmodel                                                \nitemknn_cosine  0.017091  10.030123         44.131601\nitemknn_tfidf   0.044462   8.799985        117.712863\npopular_all     0.088588   3.677358        409.481105\nrandom          0.000891  10.756232          5.947228\nuserknn_cosine  0.002922   8.208261        135.315994\nuserknn_tfidf   0.004607   8.125517        118.847867",
      "text/html": "<div>\n<style scoped>\n    .dataframe tbody tr th:only-of-type {\n        vertical-align: middle;\n    }\n\n    .dataframe tbody tr th {\n        vertical-align: top;\n    }\n\n    .dataframe thead th {\n        text-align: right;\n    }\n</style>\n<table border=\"1\" class=\"dataframe\">\n  <thead>\n    <tr style=\"text-align: right;\">\n      <th></th>\n      <th>map@10</th>\n      <th>novelty</th>\n      <th>AvgRecPopularity</th>\n    </tr>\n    <tr>\n      <th>model</th>\n      <th></th>\n      <th></th>\n      <th></th>\n    </tr>\n  </thead>\n  <tbody>\n    <tr>\n      <th>itemknn_cosine</th>\n      <td>0.017091</td>\n      <td>10.030123</td>\n      <td>44.131601</td>\n    </tr>\n    <tr>\n      <th>itemknn_tfidf</th>\n      <td>0.044462</td>\n      <td>8.799985</td>\n      <td>117.712863</td>\n    </tr>\n    <tr>\n      <th>popular_all</th>\n      <td>0.088588</td>\n      <td>3.677358</td>\n      <td>409.481105</td>\n    </tr>\n    <tr>\n      <th>random</th>\n      <td>0.000891</td>\n      <td>10.756232</td>\n      <td>5.947228</td>\n    </tr>\n    <tr>\n      <th>userknn_cosine</th>\n      <td>0.002922</td>\n      <td>8.208261</td>\n      <td>135.315994</td>\n    </tr>\n    <tr>\n      <th>userknn_tfidf</th>\n      <td>0.004607</td>\n      <td>8.125517</td>\n      <td>118.847867</td>\n    </tr>\n  </tbody>\n</table>\n</div>"
     },
     "metadata": {},
     "output_type": "display_data"
    }
   ],
   "source": [
    "results_df = pd.DataFrame(results)\n",
    "display(results_df.groupby('model').mean()[metrics.keys()])"
   ],
   "metadata": {
    "collapsed": false,
    "ExecuteTime": {
     "end_time": "2025-03-18T17:08:32.975059Z",
     "start_time": "2025-03-18T17:08:32.734601Z"
    }
   },
   "id": "3d6c36b80b64c5de",
   "execution_count": 17
  },
  {
   "cell_type": "code",
   "outputs": [],
   "source": [],
   "metadata": {
    "collapsed": false
   },
   "id": "f701d5430d481589"
  }
 ],
 "metadata": {
  "kernelspec": {
   "name": "itmo_311",
   "language": "python",
   "display_name": "itmo_311"
  },
  "language_info": {
   "codemirror_mode": {
    "name": "ipython",
    "version": 3
   },
   "file_extension": ".py",
   "mimetype": "text/x-python",
   "name": "python",
   "nbconvert_exporter": "python",
   "pygments_lexer": "ipython3",
   "version": "3.8.13"
  }
 },
 "nbformat": 4,
 "nbformat_minor": 5
}
