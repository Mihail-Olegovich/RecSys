{
 "cells": [
  {
   "cell_type": "markdown",
   "id": "ea7de89c",
   "metadata": {},
   "source": [
    "# Семинар 3. kNN модели. Кастомный kNN. "
   ]
  },
  {
   "cell_type": "code",
   "execution_count": 39,
   "id": "d591ad1b",
   "metadata": {
    "ExecuteTime": {
     "end_time": "2025-03-18T16:21:04.423452Z",
     "start_time": "2025-03-18T16:21:04.420359Z"
    }
   },
   "outputs": [],
   "source": [
    "import requests\n",
    "import pandas as pd\n",
    "import numpy as np\n",
    "from scipy.sparse import coo_matrix\n",
    "from tqdm.auto import tqdm\n",
    "import warnings\n",
    "import dill\n",
    "from implicit.nearest_neighbours import CosineRecommender\n",
    "from rectools import Columns\n",
    "from rectools.dataset import Dataset\n",
    "from rectools.metrics import MAP, AvgRecPopularity, MeanInvUserFreq, calc_metrics\n",
    "\n",
    "warnings.filterwarnings(\"ignore\")\n",
    "pd.set_option('display.max_columns', None)\n",
    "pd.set_option('display.max_colwidth', 200)\n",
    "pd.set_option('display.float_format', lambda x: f'{x:,.6f}')"
   ]
  },
  {
   "cell_type": "markdown",
   "id": "539ac5f5",
   "metadata": {},
   "source": [
    "# Датасет KION "
   ]
  },
  {
   "cell_type": "code",
   "execution_count": 4,
   "id": "47db2aa9",
   "metadata": {
    "ExecuteTime": {
     "end_time": "2025-03-16T11:26:27.908371Z",
     "start_time": "2025-03-16T11:26:15.847308Z"
    }
   },
   "outputs": [
    {
     "data": {
      "text/plain": "Downloading the kion dataset...:   0%|          | 0.00/78.8M [00:00<?, ?iB/s]",
      "application/vnd.jupyter.widget-view+json": {
       "version_major": 2,
       "version_minor": 0,
       "model_id": "70ebcbe3f5524abb8cf2e219b53495cb"
      }
     },
     "metadata": {},
     "output_type": "display_data"
    }
   ],
   "source": [
    "url = 'https://github.com/irsafilo/KION_DATASET/raw/f69775be31fa5779907cf0a92ddedb70037fb5ae/data_original.zip'\n",
    "req = requests.get(url, stream=True)\n",
    "\n",
    "with open('kion_train.zip', \"wb\") as fd:\n",
    "    total_size_in_bytes = int(req.headers.get('Content-Length', 0))\n",
    "    progress_bar = tqdm(desc='Downloading the kion dataset...', \n",
    "                        total=total_size_in_bytes, \n",
    "                        unit='iB', unit_scale=True)\n",
    "    for chunk in req.iter_content(chunk_size=2 ** 20):\n",
    "        progress_bar.update(len(chunk))\n",
    "        fd.write(chunk)"
   ]
  },
  {
   "cell_type": "code",
   "execution_count": 10,
   "id": "3437b308",
   "metadata": {
    "ExecuteTime": {
     "end_time": "2025-03-16T11:28:20.409080Z",
     "start_time": "2025-03-16T11:28:20.091931Z"
    }
   },
   "outputs": [
    {
     "name": "stdout",
     "output_type": "stream",
     "text": [
      "unzip:  cannot find or open kion_train.zip, kion_train.zip.zip or kion_train.zip.ZIP.\r\n",
      "rm: kion_train.zip: No such file or directory\r\n"
     ]
    }
   ],
   "source": [
    "!unzip kion_train.zip -x '__MACOSX/*'\n",
    "!rm kion_train.zip"
   ]
  },
  {
   "cell_type": "markdown",
   "id": "ff82ea60",
   "metadata": {},
   "source": [
    "## EDA"
   ]
  },
  {
   "cell_type": "code",
   "execution_count": 4,
   "id": "1f349c11",
   "metadata": {
    "ExecuteTime": {
     "end_time": "2025-03-18T12:29:06.584203Z",
     "start_time": "2025-03-18T12:29:02.190024Z"
    }
   },
   "outputs": [],
   "source": [
    "interactions = pd.read_csv('data_original/interactions.csv')\n",
    "interactions = interactions.rename(columns={'total_dur': Columns.Weight, \n",
    "                                            'last_watch_dt': Columns.Datetime})\n",
    "interactions['datetime'] = pd.to_datetime(interactions['datetime'])\n",
    "\n",
    "users = pd.read_csv('data_original/users.csv')\n",
    "items = pd.read_csv('data_original/items.csv')"
   ]
  },
  {
   "cell_type": "markdown",
   "id": "a19cd6de",
   "metadata": {},
   "source": [
    "## interactions"
   ]
  },
  {
   "cell_type": "code",
   "execution_count": 12,
   "id": "f27d010e",
   "metadata": {
    "ExecuteTime": {
     "end_time": "2025-03-16T11:28:34.163651Z",
     "start_time": "2025-03-16T11:28:33.950981Z"
    }
   },
   "outputs": [
    {
     "data": {
      "text/plain": "         user_id  item_id   datetime  weight  watched_pct\n0         176549     9506 2021-05-11    4250    72.000000\n1         699317     1659 2021-05-29    8317   100.000000\n2         656683     7107 2021-05-09      10     0.000000\n3         864613     7638 2021-07-05   14483   100.000000\n4         964868     9506 2021-04-30    6725   100.000000\n5476246   648596    12225 2021-08-13      76     0.000000\n5476247   546862     9673 2021-04-13    2308    49.000000\n5476248   697262    15297 2021-08-20   18307    63.000000\n5476249   384202    16197 2021-04-19    6203   100.000000\n5476250   319709     4436 2021-08-15    3921    45.000000",
      "text/html": "<div>\n<style scoped>\n    .dataframe tbody tr th:only-of-type {\n        vertical-align: middle;\n    }\n\n    .dataframe tbody tr th {\n        vertical-align: top;\n    }\n\n    .dataframe thead th {\n        text-align: right;\n    }\n</style>\n<table border=\"1\" class=\"dataframe\">\n  <thead>\n    <tr style=\"text-align: right;\">\n      <th></th>\n      <th>user_id</th>\n      <th>item_id</th>\n      <th>datetime</th>\n      <th>weight</th>\n      <th>watched_pct</th>\n    </tr>\n  </thead>\n  <tbody>\n    <tr>\n      <th>0</th>\n      <td>176549</td>\n      <td>9506</td>\n      <td>2021-05-11</td>\n      <td>4250</td>\n      <td>72.000000</td>\n    </tr>\n    <tr>\n      <th>1</th>\n      <td>699317</td>\n      <td>1659</td>\n      <td>2021-05-29</td>\n      <td>8317</td>\n      <td>100.000000</td>\n    </tr>\n    <tr>\n      <th>2</th>\n      <td>656683</td>\n      <td>7107</td>\n      <td>2021-05-09</td>\n      <td>10</td>\n      <td>0.000000</td>\n    </tr>\n    <tr>\n      <th>3</th>\n      <td>864613</td>\n      <td>7638</td>\n      <td>2021-07-05</td>\n      <td>14483</td>\n      <td>100.000000</td>\n    </tr>\n    <tr>\n      <th>4</th>\n      <td>964868</td>\n      <td>9506</td>\n      <td>2021-04-30</td>\n      <td>6725</td>\n      <td>100.000000</td>\n    </tr>\n    <tr>\n      <th>5476246</th>\n      <td>648596</td>\n      <td>12225</td>\n      <td>2021-08-13</td>\n      <td>76</td>\n      <td>0.000000</td>\n    </tr>\n    <tr>\n      <th>5476247</th>\n      <td>546862</td>\n      <td>9673</td>\n      <td>2021-04-13</td>\n      <td>2308</td>\n      <td>49.000000</td>\n    </tr>\n    <tr>\n      <th>5476248</th>\n      <td>697262</td>\n      <td>15297</td>\n      <td>2021-08-20</td>\n      <td>18307</td>\n      <td>63.000000</td>\n    </tr>\n    <tr>\n      <th>5476249</th>\n      <td>384202</td>\n      <td>16197</td>\n      <td>2021-04-19</td>\n      <td>6203</td>\n      <td>100.000000</td>\n    </tr>\n    <tr>\n      <th>5476250</th>\n      <td>319709</td>\n      <td>4436</td>\n      <td>2021-08-15</td>\n      <td>3921</td>\n      <td>45.000000</td>\n    </tr>\n  </tbody>\n</table>\n</div>"
     },
     "execution_count": 12,
     "metadata": {},
     "output_type": "execute_result"
    }
   ],
   "source": [
    "pd.concat([interactions.head(), interactions.tail()])"
   ]
  },
  {
   "cell_type": "code",
   "execution_count": 13,
   "id": "1bb874bc",
   "metadata": {
    "ExecuteTime": {
     "end_time": "2025-03-16T11:28:34.246076Z",
     "start_time": "2025-03-16T11:28:33.961310Z"
    }
   },
   "outputs": [
    {
     "name": "stdout",
     "output_type": "stream",
     "text": [
      "Interactions dataframe shape: (5476251, 5)\n",
      "Unique users in interactions: 962_179\n",
      "Unique items in interactions: 15_706\n"
     ]
    }
   ],
   "source": [
    "print(f\"Interactions dataframe shape: {interactions.shape}\")\n",
    "print(f\"Unique users in interactions: {interactions['user_id'].nunique():_}\")\n",
    "print(f\"Unique items in interactions: {interactions['item_id'].nunique():_}\")"
   ]
  },
  {
   "cell_type": "code",
   "execution_count": 14,
   "id": "23cd6e56",
   "metadata": {
    "ExecuteTime": {
     "end_time": "2025-03-16T11:28:34.444610Z",
     "start_time": "2025-03-16T11:28:34.224701Z"
    }
   },
   "outputs": [
    {
     "name": "stdout",
     "output_type": "stream",
     "text": [
      "min date in interactions: 2021-03-13 00:00:00\n",
      "max date in interactions: 2021-08-22 00:00:00\n"
     ]
    }
   ],
   "source": [
    "max_date = interactions['datetime'].max()\n",
    "min_date = interactions['datetime'].min()\n",
    "\n",
    "print(f\"min date in interactions: {min_date}\")\n",
    "print(f\"max date in interactions: {max_date}\")"
   ]
  },
  {
   "cell_type": "markdown",
   "id": "675295b6",
   "metadata": {},
   "source": [
    "## users"
   ]
  },
  {
   "cell_type": "code",
   "execution_count": 15,
   "id": "3ff572ff",
   "metadata": {
    "ExecuteTime": {
     "end_time": "2025-03-16T11:28:37.515349Z",
     "start_time": "2025-03-16T11:28:37.456409Z"
    }
   },
   "outputs": [
    {
     "data": {
      "text/plain": "        user_id         age        income  sex  kids_flg\n0        973171   age_25_34  income_60_90    М         1\n1        962099   age_18_24  income_20_40    М         0\n2       1047345   age_45_54  income_40_60    Ж         0\n3        721985   age_45_54  income_20_40    Ж         0\n4        704055   age_35_44  income_60_90    Ж         0\n840192   339025  age_65_inf   income_0_20    Ж         0\n840193   983617   age_18_24  income_20_40    Ж         1\n840194   251008         NaN           NaN  NaN         0\n840195   590706         NaN           NaN    Ж         0\n840196   166555  age_65_inf  income_20_40    Ж         0",
      "text/html": "<div>\n<style scoped>\n    .dataframe tbody tr th:only-of-type {\n        vertical-align: middle;\n    }\n\n    .dataframe tbody tr th {\n        vertical-align: top;\n    }\n\n    .dataframe thead th {\n        text-align: right;\n    }\n</style>\n<table border=\"1\" class=\"dataframe\">\n  <thead>\n    <tr style=\"text-align: right;\">\n      <th></th>\n      <th>user_id</th>\n      <th>age</th>\n      <th>income</th>\n      <th>sex</th>\n      <th>kids_flg</th>\n    </tr>\n  </thead>\n  <tbody>\n    <tr>\n      <th>0</th>\n      <td>973171</td>\n      <td>age_25_34</td>\n      <td>income_60_90</td>\n      <td>М</td>\n      <td>1</td>\n    </tr>\n    <tr>\n      <th>1</th>\n      <td>962099</td>\n      <td>age_18_24</td>\n      <td>income_20_40</td>\n      <td>М</td>\n      <td>0</td>\n    </tr>\n    <tr>\n      <th>2</th>\n      <td>1047345</td>\n      <td>age_45_54</td>\n      <td>income_40_60</td>\n      <td>Ж</td>\n      <td>0</td>\n    </tr>\n    <tr>\n      <th>3</th>\n      <td>721985</td>\n      <td>age_45_54</td>\n      <td>income_20_40</td>\n      <td>Ж</td>\n      <td>0</td>\n    </tr>\n    <tr>\n      <th>4</th>\n      <td>704055</td>\n      <td>age_35_44</td>\n      <td>income_60_90</td>\n      <td>Ж</td>\n      <td>0</td>\n    </tr>\n    <tr>\n      <th>840192</th>\n      <td>339025</td>\n      <td>age_65_inf</td>\n      <td>income_0_20</td>\n      <td>Ж</td>\n      <td>0</td>\n    </tr>\n    <tr>\n      <th>840193</th>\n      <td>983617</td>\n      <td>age_18_24</td>\n      <td>income_20_40</td>\n      <td>Ж</td>\n      <td>1</td>\n    </tr>\n    <tr>\n      <th>840194</th>\n      <td>251008</td>\n      <td>NaN</td>\n      <td>NaN</td>\n      <td>NaN</td>\n      <td>0</td>\n    </tr>\n    <tr>\n      <th>840195</th>\n      <td>590706</td>\n      <td>NaN</td>\n      <td>NaN</td>\n      <td>Ж</td>\n      <td>0</td>\n    </tr>\n    <tr>\n      <th>840196</th>\n      <td>166555</td>\n      <td>age_65_inf</td>\n      <td>income_20_40</td>\n      <td>Ж</td>\n      <td>0</td>\n    </tr>\n  </tbody>\n</table>\n</div>"
     },
     "execution_count": 15,
     "metadata": {},
     "output_type": "execute_result"
    }
   ],
   "source": [
    "pd.concat([users.head(), users.tail()])"
   ]
  },
  {
   "cell_type": "code",
   "execution_count": 16,
   "id": "3616f0a5",
   "metadata": {
    "ExecuteTime": {
     "end_time": "2025-03-16T11:28:38.779330Z",
     "start_time": "2025-03-16T11:28:38.232082Z"
    }
   },
   "outputs": [
    {
     "name": "stdout",
     "output_type": "stream",
     "text": [
      "Users dataframe shape (840197, 5)\n",
      "Unique users: 840_197\n"
     ]
    }
   ],
   "source": [
    "print(f\"Users dataframe shape {users.shape}\")\n",
    "print(f\"Unique users: {users['user_id'].nunique():_}\")"
   ]
  },
  {
   "cell_type": "markdown",
   "id": "b89ca7b2",
   "metadata": {},
   "source": [
    "## items"
   ]
  },
  {
   "cell_type": "code",
   "execution_count": 17,
   "id": "a289682c",
   "metadata": {
    "ExecuteTime": {
     "end_time": "2025-03-16T11:28:41.110698Z",
     "start_time": "2025-03-16T11:28:41.000467Z"
    }
   },
   "outputs": [
    {
     "data": {
      "text/plain": "       item_id content_type           title      title_orig  release_year  \\\n0        10711         film  Поговори с ней  Hable con ella  2,002.000000   \n1         2508         film     Голые перцы    Search Party  2,014.000000   \n15961     4538       series    Среди камней      Darklands   2,019.000000   \n15962     3206       series            Гоша             NaN  2,019.000000   \n\n                                        genres countries  for_kids  \\\n0      драмы, зарубежные, детективы, мелодрамы   Испания       NaN   \n1             зарубежные, приключения, комедии       США       NaN   \n15961                   драмы, спорт, криминал    Россия  0.000000   \n15962                                  комедии    Россия  0.000000   \n\n       age_rating studios                      directors  \\\n0       16.000000     NaN               Педро Альмодовар   \n1       16.000000     NaN                 Скот Армстронг   \n15961   18.000000     NaN  Марк О’Коннор, Конор МакМахон   \n15962   16.000000     NaN                 Михаил Миронов   \n\n                                                                                                                                                                                                        actors  \\\n0      Адольфо Фернандес, Ана Фернандес, Дарио Грандинетти, Джеральдин Чаплин, Елена Анайя, Каэтано Велозо, Леонор Уотлинг, Лола Дуэньяс, Лолес Леон, Малу Айродо, Мариола Фуэнтес, Пас Вега, Пина Бауш, Ро...   \n1      Адам Палли, Брайан Хаски, Дж.Б. Смув, Джейсон Манцукас, Джон Глейсер, Карл Грин, Кристен Риттер, Лэнс Реддик, Морис Комт, Патрик Кернс, Ребекка Коллинз, Роза Салазар, Росс П. Кук, Стеффи Гроут, Ти...   \n15961                                                                                                                       Дэйн Уайт О’Хара, Томас Кэйн-Бирн, Джудит Родди, Марк О’Халлоран, Джимми Смоллхорн   \n15962                                                                                                                                                                       Мкртыч Арзуманян, Виктория Рунцова   \n\n                                                                                                                                                                                                   description  \\\n0      Мелодрама легендарного Педро Альмодовара «Поговори с ней» в 2003 году получила премию «Оскар» за лучший сценарий.  Журналист Марко берет интервью у знаменитой женщины-тореро Лидии и вскоре влюбляе...   \n1      Уморительная современная комедия на популярную тему о том, как не надо отмечать мальчишник. Главный герой усвоил, что не надо звать на свадьбу своего друга Джейсона, из-за которого он вместо сваде...   \n15961  Семнадцатилетний Дэмиен мечтает вырваться за пределы своего района и стать профессиональным бойцом. Когда его кумир и старший брат исчезает, парень попадает в чуждый ему мир насилия, наркотиков и ...   \n15962                Добродушный Гоша не может выйти из дома, чтобы не попасть в нелепую и курьёзную историю. Но даже неудачники мечтают о любви, и наш герой — не исключение, ведь оптимизма ему не занимать.   \n\n                                                                                                                                                                                                      keywords  \n0      Поговори, ней, 2002, Испания, друзья, любовь, сильные, женщины, преодоление, трудностей, отношения, дружба, отношения, паре, отношения, мужчины, женщины, романтические, отношения, потеря, близких,...  \n1                                              Голые, перцы, 2014, США, друзья, свадьбы, преодоление, трудностей, расставания, отношения, дружба, риск, недоразумение, мужская, дружба, мальчишники, девичники  \n15961                                                                                                                                                                              Среди, камней, 2019, Россия  \n15962                                                                                                                                                                                       Гоша, 2019, Россия  ",
      "text/html": "<div>\n<style scoped>\n    .dataframe tbody tr th:only-of-type {\n        vertical-align: middle;\n    }\n\n    .dataframe tbody tr th {\n        vertical-align: top;\n    }\n\n    .dataframe thead th {\n        text-align: right;\n    }\n</style>\n<table border=\"1\" class=\"dataframe\">\n  <thead>\n    <tr style=\"text-align: right;\">\n      <th></th>\n      <th>item_id</th>\n      <th>content_type</th>\n      <th>title</th>\n      <th>title_orig</th>\n      <th>release_year</th>\n      <th>genres</th>\n      <th>countries</th>\n      <th>for_kids</th>\n      <th>age_rating</th>\n      <th>studios</th>\n      <th>directors</th>\n      <th>actors</th>\n      <th>description</th>\n      <th>keywords</th>\n    </tr>\n  </thead>\n  <tbody>\n    <tr>\n      <th>0</th>\n      <td>10711</td>\n      <td>film</td>\n      <td>Поговори с ней</td>\n      <td>Hable con ella</td>\n      <td>2,002.000000</td>\n      <td>драмы, зарубежные, детективы, мелодрамы</td>\n      <td>Испания</td>\n      <td>NaN</td>\n      <td>16.000000</td>\n      <td>NaN</td>\n      <td>Педро Альмодовар</td>\n      <td>Адольфо Фернандес, Ана Фернандес, Дарио Грандинетти, Джеральдин Чаплин, Елена Анайя, Каэтано Велозо, Леонор Уотлинг, Лола Дуэньяс, Лолес Леон, Малу Айродо, Мариола Фуэнтес, Пас Вега, Пина Бауш, Ро...</td>\n      <td>Мелодрама легендарного Педро Альмодовара «Поговори с ней» в 2003 году получила премию «Оскар» за лучший сценарий.  Журналист Марко берет интервью у знаменитой женщины-тореро Лидии и вскоре влюбляе...</td>\n      <td>Поговори, ней, 2002, Испания, друзья, любовь, сильные, женщины, преодоление, трудностей, отношения, дружба, отношения, паре, отношения, мужчины, женщины, романтические, отношения, потеря, близких,...</td>\n    </tr>\n    <tr>\n      <th>1</th>\n      <td>2508</td>\n      <td>film</td>\n      <td>Голые перцы</td>\n      <td>Search Party</td>\n      <td>2,014.000000</td>\n      <td>зарубежные, приключения, комедии</td>\n      <td>США</td>\n      <td>NaN</td>\n      <td>16.000000</td>\n      <td>NaN</td>\n      <td>Скот Армстронг</td>\n      <td>Адам Палли, Брайан Хаски, Дж.Б. Смув, Джейсон Манцукас, Джон Глейсер, Карл Грин, Кристен Риттер, Лэнс Реддик, Морис Комт, Патрик Кернс, Ребекка Коллинз, Роза Салазар, Росс П. Кук, Стеффи Гроут, Ти...</td>\n      <td>Уморительная современная комедия на популярную тему о том, как не надо отмечать мальчишник. Главный герой усвоил, что не надо звать на свадьбу своего друга Джейсона, из-за которого он вместо сваде...</td>\n      <td>Голые, перцы, 2014, США, друзья, свадьбы, преодоление, трудностей, расставания, отношения, дружба, риск, недоразумение, мужская, дружба, мальчишники, девичники</td>\n    </tr>\n    <tr>\n      <th>15961</th>\n      <td>4538</td>\n      <td>series</td>\n      <td>Среди камней</td>\n      <td>Darklands</td>\n      <td>2,019.000000</td>\n      <td>драмы, спорт, криминал</td>\n      <td>Россия</td>\n      <td>0.000000</td>\n      <td>18.000000</td>\n      <td>NaN</td>\n      <td>Марк О’Коннор, Конор МакМахон</td>\n      <td>Дэйн Уайт О’Хара, Томас Кэйн-Бирн, Джудит Родди, Марк О’Халлоран, Джимми Смоллхорн</td>\n      <td>Семнадцатилетний Дэмиен мечтает вырваться за пределы своего района и стать профессиональным бойцом. Когда его кумир и старший брат исчезает, парень попадает в чуждый ему мир насилия, наркотиков и ...</td>\n      <td>Среди, камней, 2019, Россия</td>\n    </tr>\n    <tr>\n      <th>15962</th>\n      <td>3206</td>\n      <td>series</td>\n      <td>Гоша</td>\n      <td>NaN</td>\n      <td>2,019.000000</td>\n      <td>комедии</td>\n      <td>Россия</td>\n      <td>0.000000</td>\n      <td>16.000000</td>\n      <td>NaN</td>\n      <td>Михаил Миронов</td>\n      <td>Мкртыч Арзуманян, Виктория Рунцова</td>\n      <td>Добродушный Гоша не может выйти из дома, чтобы не попасть в нелепую и курьёзную историю. Но даже неудачники мечтают о любви, и наш герой — не исключение, ведь оптимизма ему не занимать.</td>\n      <td>Гоша, 2019, Россия</td>\n    </tr>\n  </tbody>\n</table>\n</div>"
     },
     "execution_count": 17,
     "metadata": {},
     "output_type": "execute_result"
    }
   ],
   "source": [
    "pd.concat([items.head(2), items.tail(2)])"
   ]
  },
  {
   "cell_type": "code",
   "execution_count": 18,
   "id": "923d3d34",
   "metadata": {
    "ExecuteTime": {
     "end_time": "2025-03-16T11:28:44.529320Z",
     "start_time": "2025-03-16T11:28:44.441272Z"
    }
   },
   "outputs": [
    {
     "name": "stdout",
     "output_type": "stream",
     "text": [
      "Items dataframe shape (15963, 14)\n",
      "Unique item_id: 15_963\n"
     ]
    }
   ],
   "source": [
    "print(f\"Items dataframe shape {items.shape}\")\n",
    "print(f\"Unique item_id: {items['item_id'].nunique():_}\")"
   ]
  },
  {
   "cell_type": "markdown",
   "id": "ef3eb8f9",
   "metadata": {},
   "source": [
    "##  Train test split "
   ]
  },
  {
   "cell_type": "code",
   "execution_count": 40,
   "id": "36eb253d",
   "metadata": {
    "ExecuteTime": {
     "end_time": "2025-03-18T16:21:17.571992Z",
     "start_time": "2025-03-18T16:21:16.414931Z"
    }
   },
   "outputs": [
    {
     "name": "stdout",
     "output_type": "stream",
     "text": [
      "train: (5051815, 5)\n",
      "test: (306752, 5)\n"
     ]
    }
   ],
   "source": [
    "max_date = interactions['datetime'].max()\n",
    "\n",
    "train = interactions[(interactions['datetime'] <= max_date - pd.Timedelta(days=7))]\n",
    "test = interactions[(interactions['datetime'] > max_date - pd.Timedelta(days=7))]\n",
    "\n",
    "# оставляем только теплых пользователей в тесте\n",
    "test = test[test['user_id'].isin(train['user_id'].unique())]\n",
    "\n",
    "print(f\"train: {train.shape}\")\n",
    "print(f\"test: {test.shape}\")"
   ]
  },
  {
   "cell_type": "markdown",
   "id": "1abd2ae6",
   "metadata": {},
   "source": [
    "# Сделаем c нуля новый алгоритм: перейдем от модели itemkNN к модели userkNN"
   ]
  },
  {
   "cell_type": "markdown",
   "id": "7bc44867",
   "metadata": {},
   "source": [
    "## 1.  train matrix \n",
    "\n",
    "### 1.1 Сделаем `user` и `item` mappings\n",
    "\n",
    "users_mapping = `{user0: 0, user1: 1, ... , userN: N}`\n",
    "\n",
    "items_mapping = `{item0: 0, item1: 1, ... , itemK: K}`\n",
    "\n",
    "Вопрос: зачем нам нужны эти маппинги?"
   ]
  },
  {
   "cell_type": "code",
   "execution_count": 41,
   "id": "c80a50c3",
   "metadata": {
    "ExecuteTime": {
     "end_time": "2025-03-18T16:23:41.944810Z",
     "start_time": "2025-03-18T16:23:41.219035Z"
    }
   },
   "outputs": [],
   "source": [
    "users_inv_mapping = dict(enumerate(train['user_id'].unique()))\n",
    "users_mapping = {v: k for k, v in users_inv_mapping.items()}"
   ]
  },
  {
   "cell_type": "code",
   "execution_count": 42,
   "id": "d72a7423",
   "metadata": {
    "ExecuteTime": {
     "end_time": "2025-03-18T16:23:43.074257Z",
     "start_time": "2025-03-18T16:23:42.977798Z"
    }
   },
   "outputs": [],
   "source": [
    "items_inv_mapping = dict(enumerate(train['item_id'].unique()))\n",
    "items_mapping = {v: k for k, v in items_inv_mapping.items()}"
   ]
  },
  {
   "cell_type": "code",
   "execution_count": 43,
   "id": "be8785e6",
   "metadata": {
    "ExecuteTime": {
     "end_time": "2025-03-18T16:24:50.608762Z",
     "start_time": "2025-03-18T16:24:50.568394Z"
    }
   },
   "outputs": [
    {
     "name": "stdout",
     "output_type": "stream",
     "text": [
      "users_mapping amount: 906071\n",
      "items_mapping amount: 15577\n"
     ]
    }
   ],
   "source": [
    "print(f\"users_mapping amount: {len(users_mapping)}\")\n",
    "print(f\"items_mapping amount: {len(items_mapping)}\")"
   ]
  },
  {
   "attachments": {
    "image.png": {
     "image/png": "[encoded data removed]"
    }
   },
   "cell_type": "markdown",
   "id": "42f9758d",
   "metadata": {},
   "source": [
    "### 1.2. Сформируем sparse matrix \n",
    "\n",
    "Чтение про sparse матрицы https://matteding.github.io\n"
   ]
  },
  {
   "cell_type": "code",
   "outputs": [],
   "source": [
    "def get_coo_matrix(df, user_col='user_id', item_col='item_id',\n",
    "                   weight_col=None, users_mapping=None, items_mapping=None):\n",
    "    \"\"\"\n",
    "    Creates a sparse interaction matrix (COO format) between users and items.\n",
    "    \"\"\"\n",
    "    if users_mapping is None or items_mapping is None:\n",
    "        raise ValueError(\"Both users_mapping and items_mapping must be provided.\")\n",
    "    \n",
    "    if weight_col and weight_col in df.columns:\n",
    "        weights = df[weight_col].astype(np.float32).values\n",
    "    else:\n",
    "        weights = np.ones(len(df), dtype=np.float32)\n",
    "    \n",
    "    user_idx = df[user_col].map(users_mapping.get).dropna().astype(int)\n",
    "    item_idx = df[item_col].map(items_mapping.get).dropna().astype(int)\n",
    "    \n",
    "    return coo_matrix((weights, (user_idx, item_idx)))"
   ],
   "metadata": {
    "collapsed": false,
    "ExecuteTime": {
     "end_time": "2025-03-18T16:25:34.741238Z",
     "start_time": "2025-03-18T16:25:34.734599Z"
    }
   },
   "id": "5fa72a2be02e2910",
   "execution_count": 44
  },
  {
   "cell_type": "code",
   "execution_count": 45,
   "id": "e6c814e2",
   "metadata": {
    "ExecuteTime": {
     "end_time": "2025-03-18T16:25:46.264637Z",
     "start_time": "2025-03-18T16:25:37.197982Z"
    }
   },
   "outputs": [],
   "source": [
    "user_item_matrix = get_coo_matrix(train, weight_col='weight',\n",
    "                                users_mapping=users_mapping, \n",
    "                                items_mapping=items_mapping)"
   ]
  },
  {
   "cell_type": "code",
   "execution_count": 46,
   "id": "ad8c48e5",
   "metadata": {
    "ExecuteTime": {
     "end_time": "2025-03-18T16:26:01.980236Z",
     "start_time": "2025-03-18T16:26:01.873728Z"
    }
   },
   "outputs": [
    {
     "data": {
      "text/plain": "<906071x15577 sparse matrix of type '<class 'numpy.float32'>'\n\twith 5051815 stored elements in COOrdinate format>"
     },
     "execution_count": 46,
     "metadata": {},
     "output_type": "execute_result"
    }
   ],
   "source": [
    "# проверяем размерность матрицы\n",
    "user_item_matrix"
   ]
  },
  {
   "cell_type": "markdown",
   "id": "d9d1c605",
   "metadata": {},
   "source": [
    "## 2. Как бы обучалась `itemkNN` модель \n",
    "\n",
    "У нас классическая `interaction_matrix = users x items`\n",
    "\n",
    "Когда мы обучаем классический implicit itemkNN и получаем соседей `items`, то мы передаем матрицу `user-item` \n",
    "(так исторически сложилось в implicit):\n",
    " \n",
    "`model.fit(interaction_matrix)`"
   ]
  },
  {
   "cell_type": "code",
   "outputs": [
    {
     "data": {
      "text/plain": "  0%|          | 0/15577 [00:00<?, ?it/s]",
      "application/vnd.jupyter.widget-view+json": {
       "version_major": 2,
       "version_minor": 0,
       "model_id": "439e9d0f9d2840ee83f32ff7494cd24d"
      }
     },
     "metadata": {},
     "output_type": "display_data"
    }
   ],
   "source": [
    "# K : int, optional\n",
    "# The number of neighbours to include when calculating the similarity matrix\n",
    "\n",
    "# fit за 1 мин (5 CPU)\n",
    "itemknn = CosineRecommender(K=30)\n",
    "itemknn.fit(user_item_matrix)"
   ],
   "metadata": {
    "collapsed": false,
    "ExecuteTime": {
     "end_time": "2025-03-18T16:27:13.106422Z",
     "start_time": "2025-03-18T16:27:10.577365Z"
    }
   },
   "id": "fc0516f1d7dd66b6",
   "execution_count": 47
  },
  {
   "cell_type": "markdown",
   "source": [
    "## 2. Обучим `UserkNN` модель \n",
    "\n",
    "Так как мы хотим обучить `userknn` и получить **user** neighbours, то мы просто передаем ее в алгоритм транспонированную: `model.fit(user_item_matrix.T)`. \n",
    "\n",
    "Если бы мы делали itemkNN, то передавали бы матрицу как `model.fit(interaction_matrix.T)` \n",
    "\n",
    "(применимо для модели implicit.nearest_neighbours.ItemItemRecommender)\n",
    "\n",
    "### Оцените как долго идет обучение\n",
    "\n",
    "\n",
    "- потому что обучаемся в разрезе 896791 эмбеддингов юзеров (потому что хотим UserKnn)\n",
    "- если бы искали соседей у айтемов, то цикл был бы для 15565 эмбеддингов айтемов - что значительно быстрее\n",
    "\n"
   ],
   "metadata": {
    "collapsed": false
   },
   "id": "843a7fd5d65fecf"
  },
  {
   "cell_type": "code",
   "execution_count": 31,
   "id": "6bcac724",
   "metadata": {
    "ExecuteTime": {
     "end_time": "2025-03-16T12:19:00.169722Z",
     "start_time": "2025-03-16T11:54:50.771011Z"
    }
   },
   "outputs": [
    {
     "data": {
      "text/plain": "  0%|          | 0/906071 [00:00<?, ?it/s]",
      "application/vnd.jupyter.widget-view+json": {
       "version_major": 2,
       "version_minor": 0,
       "model_id": "685e99a5294447a59531595d9171de94"
      }
     },
     "metadata": {},
     "output_type": "display_data"
    }
   ],
   "source": [
    "# fit за 25 мин (5 CPU)\n",
    "userknn = CosineRecommender(K=30)\n",
    "userknn.fit(user_item_matrix.T)"
   ]
  },
  {
   "cell_type": "code",
   "execution_count": 49,
   "id": "ab2b4a3c",
   "metadata": {
    "ExecuteTime": {
     "end_time": "2025-03-16T13:16:44.716435Z",
     "start_time": "2025-03-16T13:16:44.043368Z"
    }
   },
   "outputs": [],
   "source": [
    "# save model\n",
    "with open('userknn.dill', 'wb') as f:\n",
    "    dill.dump(userknn, f)"
   ]
  },
  {
   "cell_type": "code",
   "execution_count": 48,
   "id": "d027c623",
   "metadata": {
    "ExecuteTime": {
     "end_time": "2025-03-18T16:28:11.864912Z",
     "start_time": "2025-03-18T16:28:11.392857Z"
    }
   },
   "outputs": [],
   "source": [
    "with open('userknn.dill', 'rb') as f:\n",
    "    userknn = dill.load(f)"
   ]
  },
  {
   "cell_type": "markdown",
   "id": "4d2529f9",
   "metadata": {},
   "source": [
    "## 3. Реализуем метод Recommend чтобы получить user neighbours"
   ]
  },
  {
   "cell_type": "code",
   "outputs": [
    {
     "data": {
      "text/plain": "(array([     1, 833074, 126319, 457517,  50968, 367465, 892196, 790274,\n        793106, 828548], dtype=int32),\n array([1.00000001, 0.36483897, 0.36044331, 0.35847579, 0.35574781,\n        0.35391451, 0.35391451, 0.35391451, 0.35391451, 0.35391451]))"
     },
     "execution_count": 49,
     "metadata": {},
     "output_type": "execute_result"
    }
   ],
   "source": [
    "# example of similar users to user with internal id = 1 \n",
    "userknn.similar_items(1)"
   ],
   "metadata": {
    "ExecuteTime": {
     "end_time": "2025-03-18T16:31:12.050610Z",
     "start_time": "2025-03-18T16:31:11.966067Z"
    }
   },
   "id": "0d929de9",
   "execution_count": 49
  },
  {
   "cell_type": "code",
   "execution_count": 17,
   "id": "4b813271",
   "metadata": {
    "ExecuteTime": {
     "end_time": "2025-03-18T12:32:07.957770Z",
     "start_time": "2025-03-18T12:32:07.941572Z"
    }
   },
   "outputs": [],
   "source": [
    "def generate_implicit_recs_mapper(model, N_similar_users, users_mapping=None, \n",
    "                                  users_inv_mapping=None):\n",
    "    def _recs_mapper(user):\n",
    "        user_id = users_mapping[user]\n",
    "        users, similarity = model.similar_items(user_id, N=N_similar_users)\n",
    "        return [users_inv_mapping[user] for user in users], similarity\n",
    "    return _recs_mapper"
   ]
  },
  {
   "cell_type": "code",
   "execution_count": 50,
   "id": "ab982d86",
   "metadata": {
    "ExecuteTime": {
     "end_time": "2025-03-18T16:32:37.483379Z",
     "start_time": "2025-03-18T16:32:37.341011Z"
    }
   },
   "outputs": [],
   "source": [
    "mapper = generate_implicit_recs_mapper(\n",
    "    userknn, \n",
    "    N_similar_users=30,\n",
    "    users_mapping=users_mapping,\n",
    "    users_inv_mapping=users_inv_mapping\n",
    ")"
   ]
  },
  {
   "cell_type": "markdown",
   "source": [
    "### 3.1 Получим соседей пользователей из теста и меру близости"
   ],
   "metadata": {
    "collapsed": false
   },
   "id": "b659b47453192da4"
  },
  {
   "cell_type": "code",
   "execution_count": 51,
   "id": "25b266b4",
   "metadata": {
    "ExecuteTime": {
     "end_time": "2025-03-18T16:33:38.121952Z",
     "start_time": "2025-03-18T16:33:16.737651Z"
    }
   },
   "outputs": [
    {
     "data": {
      "text/plain": "       user_id  \\\n26910   133773   \n33083   878057   \n51993   339793   \n59658   199321   \n70101   285430   \n\n                                                                                                                                                                                               similar_user_id  \\\n26910  [468239, 631480, 224467, 931167, 617902, 347674, 336010, 266494, 82372, 813859, 414909, 596218, 781481, 962027, 290667, 275805, 933452, 788589, 804908, 739847, 71798, 218721, 147114, 695822, 22656...   \n33083  [878057, 191646, 447105, 330253, 128275, 874609, 3943, 150107, 688966, 877296, 366801, 387301, 325251, 686136, 409153, 735846, 482128, 1072769, 619956, 487252, 100590, 288604, 413065, 488571, 4216...   \n51993  [339793, 973383, 73007, 844514, 708809, 603, 244586, 736930, 1037611, 121500, 720483, 168424, 522158, 42951, 50289, 157744, 869713, 116818, 200250, 57544, 870535, 1033943, 139490, 667815, 171037, ...   \n59658  [1044329, 294552, 2110, 557115, 1010529, 895623, 537097, 318347, 584019, 79321, 645348, 695269, 396111, 803508, 1064560, 361019, 704247, 890143, 486383, 827442, 982010, 786028, 164489, 941182, 664...   \n70101  [285430, 303438, 298254, 230817, 877543, 928609, 417316, 574099, 103366, 970517, 809911, 486262, 235930, 247397, 184539, 754138, 223684, 412820, 1012935, 949769, 1018216, 739801, 783589, 45054, 64...   \n\n                                                                                                                                                                                                    similarity  \n26910  [1.0000000297877771, 1.0000000297877771, 1.0000000297877771, 1.0000000297877771, 1.000000029758716, 1.000000029758716, 1.000000029758716, 1.0000000297296971, 1.0000000297296971, 1.0000000297296971...  \n33083  [1.000000041918021, 0.9982057270541209, 0.9801327997292706, 0.8001563671242372, 0.8001563644641887, 0.8001563630933893, 0.8001563620099502, 0.8001563598347416, 0.8001563589251053, 0.80015635764034...  \n51993  [1.0000000159113416, 0.709180248799367, 0.7033775534447774, 0.6531962174171586, 0.6487289948338693, 0.6461440858609901, 0.6340173168496037, 0.6340164329949928, 0.6340163994913398, 0.63401470996841...  \n59658  [1.000000029299461, 1.0000000287953938, 1.0000000287401907, 1.0000000279308385, 1.0000000267052245, 1.0000000260271777, 1.000000025885244, 1.00000002562803, 1.000000024592889, 1.0000000245493135, ...  \n70101  [1.0000000114301801, 0.8686090820785994, 0.7526955547791536, 0.7504781680579906, 0.7498484129938323, 0.7189517186907339, 0.7053861976580095, 0.7042783035507794, 0.7035812333251916, 0.7012513047888...  ",
      "text/html": "<div>\n<style scoped>\n    .dataframe tbody tr th:only-of-type {\n        vertical-align: middle;\n    }\n\n    .dataframe tbody tr th {\n        vertical-align: top;\n    }\n\n    .dataframe thead th {\n        text-align: right;\n    }\n</style>\n<table border=\"1\" class=\"dataframe\">\n  <thead>\n    <tr style=\"text-align: right;\">\n      <th></th>\n      <th>user_id</th>\n      <th>similar_user_id</th>\n      <th>similarity</th>\n    </tr>\n  </thead>\n  <tbody>\n    <tr>\n      <th>26910</th>\n      <td>133773</td>\n      <td>[468239, 631480, 224467, 931167, 617902, 347674, 336010, 266494, 82372, 813859, 414909, 596218, 781481, 962027, 290667, 275805, 933452, 788589, 804908, 739847, 71798, 218721, 147114, 695822, 22656...</td>\n      <td>[1.0000000297877771, 1.0000000297877771, 1.0000000297877771, 1.0000000297877771, 1.000000029758716, 1.000000029758716, 1.000000029758716, 1.0000000297296971, 1.0000000297296971, 1.0000000297296971...</td>\n    </tr>\n    <tr>\n      <th>33083</th>\n      <td>878057</td>\n      <td>[878057, 191646, 447105, 330253, 128275, 874609, 3943, 150107, 688966, 877296, 366801, 387301, 325251, 686136, 409153, 735846, 482128, 1072769, 619956, 487252, 100590, 288604, 413065, 488571, 4216...</td>\n      <td>[1.000000041918021, 0.9982057270541209, 0.9801327997292706, 0.8001563671242372, 0.8001563644641887, 0.8001563630933893, 0.8001563620099502, 0.8001563598347416, 0.8001563589251053, 0.80015635764034...</td>\n    </tr>\n    <tr>\n      <th>51993</th>\n      <td>339793</td>\n      <td>[339793, 973383, 73007, 844514, 708809, 603, 244586, 736930, 1037611, 121500, 720483, 168424, 522158, 42951, 50289, 157744, 869713, 116818, 200250, 57544, 870535, 1033943, 139490, 667815, 171037, ...</td>\n      <td>[1.0000000159113416, 0.709180248799367, 0.7033775534447774, 0.6531962174171586, 0.6487289948338693, 0.6461440858609901, 0.6340173168496037, 0.6340164329949928, 0.6340163994913398, 0.63401470996841...</td>\n    </tr>\n    <tr>\n      <th>59658</th>\n      <td>199321</td>\n      <td>[1044329, 294552, 2110, 557115, 1010529, 895623, 537097, 318347, 584019, 79321, 645348, 695269, 396111, 803508, 1064560, 361019, 704247, 890143, 486383, 827442, 982010, 786028, 164489, 941182, 664...</td>\n      <td>[1.000000029299461, 1.0000000287953938, 1.0000000287401907, 1.0000000279308385, 1.0000000267052245, 1.0000000260271777, 1.000000025885244, 1.00000002562803, 1.000000024592889, 1.0000000245493135, ...</td>\n    </tr>\n    <tr>\n      <th>70101</th>\n      <td>285430</td>\n      <td>[285430, 303438, 298254, 230817, 877543, 928609, 417316, 574099, 103366, 970517, 809911, 486262, 235930, 247397, 184539, 754138, 223684, 412820, 1012935, 949769, 1018216, 739801, 783589, 45054, 64...</td>\n      <td>[1.0000000114301801, 0.8686090820785994, 0.7526955547791536, 0.7504781680579906, 0.7498484129938323, 0.7189517186907339, 0.7053861976580095, 0.7042783035507794, 0.7035812333251916, 0.7012513047888...</td>\n    </tr>\n  </tbody>\n</table>\n</div>"
     },
     "execution_count": 51,
     "metadata": {},
     "output_type": "execute_result"
    }
   ],
   "source": [
    "recs = pd.DataFrame({\n",
    "    'user_id': test['user_id'].unique()\n",
    "})\n",
    "\n",
    "recs['similar_user_id'], recs['similarity'] = zip(*recs['user_id'].map(mapper))\n",
    "\n",
    "# посмотрим на 5 рандомных пользователей\n",
    "recs[recs['user_id'].isin(np.random.choice(test['user_id'], 5))]"
   ]
  },
  {
   "cell_type": "markdown",
   "source": [
    "### 3.2 Развернем списки для вертикального представления"
   ],
   "metadata": {
    "collapsed": false
   },
   "id": "308d78aa10fee911"
  },
  {
   "cell_type": "code",
   "outputs": [],
   "source": [
    "recs = (\n",
    "    recs\n",
    "    .set_index('user_id')                # cтавим user_id в индекс\n",
    "    .apply(pd.Series.explode)            # разворачиваем списки в столбцах\n",
    "    .reset_index()                       # возвращаемся к обычному индексу\n",
    "    .assign(similar_user_id=lambda df: df['similar_user_id'].astype(int))  # приводим к int\n",
    "    .query('user_id != similar_user_id') # удаляем рекомендации самого себя\n",
    ")"
   ],
   "metadata": {
    "collapsed": false,
    "ExecuteTime": {
     "end_time": "2025-03-18T16:36:49.763586Z",
     "start_time": "2025-03-18T16:36:48.060790Z"
    }
   },
   "id": "1e0b23ff05d625b2",
   "execution_count": 52
  },
  {
   "cell_type": "code",
   "execution_count": 53,
   "id": "05934c8f",
   "metadata": {
    "ExecuteTime": {
     "end_time": "2025-03-18T16:36:52.444167Z",
     "start_time": "2025-03-18T16:36:52.305003Z"
    }
   },
   "outputs": [
    {
     "data": {
      "text/plain": "         user_id  similar_user_id similarity\n63491     318229          1078788   0.628850\n63492     318229           951879   0.627956\n63493     318229            43746   0.619471\n63494     318229           480908   0.596849\n63495     318229           441735   0.583126\n...          ...              ...        ...\n1820525   580306           672663   0.994382\n1820526   580306           146542   0.994382\n1820527   580306           276448   0.994382\n1820528   580306            39940   0.994382\n1820529   580306           876262   0.994382\n\n[145 rows x 3 columns]",
      "text/html": "<div>\n<style scoped>\n    .dataframe tbody tr th:only-of-type {\n        vertical-align: middle;\n    }\n\n    .dataframe tbody tr th {\n        vertical-align: top;\n    }\n\n    .dataframe thead th {\n        text-align: right;\n    }\n</style>\n<table border=\"1\" class=\"dataframe\">\n  <thead>\n    <tr style=\"text-align: right;\">\n      <th></th>\n      <th>user_id</th>\n      <th>similar_user_id</th>\n      <th>similarity</th>\n    </tr>\n  </thead>\n  <tbody>\n    <tr>\n      <th>63491</th>\n      <td>318229</td>\n      <td>1078788</td>\n      <td>0.628850</td>\n    </tr>\n    <tr>\n      <th>63492</th>\n      <td>318229</td>\n      <td>951879</td>\n      <td>0.627956</td>\n    </tr>\n    <tr>\n      <th>63493</th>\n      <td>318229</td>\n      <td>43746</td>\n      <td>0.619471</td>\n    </tr>\n    <tr>\n      <th>63494</th>\n      <td>318229</td>\n      <td>480908</td>\n      <td>0.596849</td>\n    </tr>\n    <tr>\n      <th>63495</th>\n      <td>318229</td>\n      <td>441735</td>\n      <td>0.583126</td>\n    </tr>\n    <tr>\n      <th>...</th>\n      <td>...</td>\n      <td>...</td>\n      <td>...</td>\n    </tr>\n    <tr>\n      <th>1820525</th>\n      <td>580306</td>\n      <td>672663</td>\n      <td>0.994382</td>\n    </tr>\n    <tr>\n      <th>1820526</th>\n      <td>580306</td>\n      <td>146542</td>\n      <td>0.994382</td>\n    </tr>\n    <tr>\n      <th>1820527</th>\n      <td>580306</td>\n      <td>276448</td>\n      <td>0.994382</td>\n    </tr>\n    <tr>\n      <th>1820528</th>\n      <td>580306</td>\n      <td>39940</td>\n      <td>0.994382</td>\n    </tr>\n    <tr>\n      <th>1820529</th>\n      <td>580306</td>\n      <td>876262</td>\n      <td>0.994382</td>\n    </tr>\n  </tbody>\n</table>\n<p>145 rows × 3 columns</p>\n</div>"
     },
     "execution_count": 53,
     "metadata": {},
     "output_type": "execute_result"
    }
   ],
   "source": [
    "recs[recs['user_id'].isin(np.random.choice(test['user_id'], 5))]"
   ]
  },
  {
   "cell_type": "markdown",
   "id": "fa2b1622",
   "metadata": {},
   "source": [
    "## 4. Как получить рекомендации в таком алгоритме? Рекомендуем пользователю просмотренные фильмы его ближайших соседей \n",
    "\n",
    "- Соберем просмотренные айтемы для каждого юзера\n",
    "- приджоиним их по similar_user_id к исходному списку пользователей"
   ]
  },
  {
   "cell_type": "code",
   "execution_count": 54,
   "id": "bfaf52e4",
   "metadata": {
    "ExecuteTime": {
     "end_time": "2025-03-18T16:39:08.700662Z",
     "start_time": "2025-03-18T16:38:54.724736Z"
    }
   },
   "outputs": [
    {
     "data": {
      "text/plain": "   similar_user_id  \\\n0                0   \n1                1   \n2                2   \n3                3   \n4                4   \n\n                                                                                                                                                                                                   item_id  \n0                                                                                                                                                                  [7102, 14359, 15297, 6006, 9728, 12192]  \n1                                                                                                                                                                                                  [10440]  \n2  [7571, 3541, 15266, 13867, 12841, 10770, 4475, 9506, 8936, 11018, 11577, 561, 7106, 6774, 16029, 8482, 6825, 3594, 16166, 5819, 2954, 383, 11689, 12449, 2025, 6155, 3628, 334, 4024, 7210, 11539, 1...  \n3                                                        [12192, 9728, 16406, 15719, 10440, 3475, 4151, 1418, 2220, 3734, 6208, 13789, 8581, 13849, 9550, 10464, 4880, 4436, 142, 8801, 11790, 2657, 8252]  \n4                                                                                                                                                                                             [4700, 6317]  ",
      "text/html": "<div>\n<style scoped>\n    .dataframe tbody tr th:only-of-type {\n        vertical-align: middle;\n    }\n\n    .dataframe tbody tr th {\n        vertical-align: top;\n    }\n\n    .dataframe thead th {\n        text-align: right;\n    }\n</style>\n<table border=\"1\" class=\"dataframe\">\n  <thead>\n    <tr style=\"text-align: right;\">\n      <th></th>\n      <th>similar_user_id</th>\n      <th>item_id</th>\n    </tr>\n  </thead>\n  <tbody>\n    <tr>\n      <th>0</th>\n      <td>0</td>\n      <td>[7102, 14359, 15297, 6006, 9728, 12192]</td>\n    </tr>\n    <tr>\n      <th>1</th>\n      <td>1</td>\n      <td>[10440]</td>\n    </tr>\n    <tr>\n      <th>2</th>\n      <td>2</td>\n      <td>[7571, 3541, 15266, 13867, 12841, 10770, 4475, 9506, 8936, 11018, 11577, 561, 7106, 6774, 16029, 8482, 6825, 3594, 16166, 5819, 2954, 383, 11689, 12449, 2025, 6155, 3628, 334, 4024, 7210, 11539, 1...</td>\n    </tr>\n    <tr>\n      <th>3</th>\n      <td>3</td>\n      <td>[12192, 9728, 16406, 15719, 10440, 3475, 4151, 1418, 2220, 3734, 6208, 13789, 8581, 13849, 9550, 10464, 4880, 4436, 142, 8801, 11790, 2657, 8252]</td>\n    </tr>\n    <tr>\n      <th>4</th>\n      <td>4</td>\n      <td>[4700, 6317]</td>\n    </tr>\n  </tbody>\n</table>\n</div>"
     },
     "execution_count": 54,
     "metadata": {},
     "output_type": "execute_result"
    }
   ],
   "source": [
    "watched = train\\\n",
    "    .groupby('user_id', as_index=False)\\\n",
    "    .agg({'item_id': list})\\\n",
    "    .rename(columns={'user_id': 'similar_user_id'})\n",
    "\n",
    "watched.head()"
   ]
  },
  {
   "cell_type": "code",
   "outputs": [],
   "source": [
    "recs = (recs\n",
    "    .merge(watched, on=['similar_user_id'], how='left')  # джойним просмотренные айтемы  \n",
    "    .explode('item_id')  # разворачиваем списки\n",
    "    .sort_values(['user_id', 'similarity'], ascending=False)  # cортируем по убыванию similarity\n",
    "    .drop_duplicates(['user_id', 'item_id'], keep='first')  # даляем дубли (оставляем item_id с максимальной similarity)\n",
    ")"
   ],
   "metadata": {
    "collapsed": false,
    "ExecuteTime": {
     "end_time": "2025-03-18T16:40:20.309613Z",
     "start_time": "2025-03-18T16:39:54.939469Z"
    }
   },
   "id": "1fdc8425cd29efa5",
   "execution_count": 55
  },
  {
   "cell_type": "markdown",
   "id": "c7c9fbd2",
   "metadata": {},
   "source": [
    "## Получается, что для одного user_id и его рекомендованных item_id, пришедших от одного и того же соседа мы имеем одну и ту же меру похожести (similarity) просто потому, что так работает алгоритм. Давайте это исправим на следующем шаге"
   ]
  },
  {
   "cell_type": "code",
   "outputs": [
    {
     "data": {
      "text/plain": "         user_id  similar_user_id similarity item_id\n401415    987008          1060750   0.997868     747\n401415    987008          1060750   0.997868    9728\n401418    987008           520667   0.987175    8036\n2043331   918005            64932   0.913354   16228\n2043331   918005            64932   0.913354   13073\n...          ...              ...        ...     ...\n2532752    28759           275772   0.731250    6171\n2532753    28759            74631   0.723442   11345\n2532754    28759           460401   0.722283    7019\n2532754    28759           460401   0.722283   12360\n2532754    28759           460401   0.722283   15297\n\n[188 rows x 4 columns]",
      "text/html": "<div>\n<style scoped>\n    .dataframe tbody tr th:only-of-type {\n        vertical-align: middle;\n    }\n\n    .dataframe tbody tr th {\n        vertical-align: top;\n    }\n\n    .dataframe thead th {\n        text-align: right;\n    }\n</style>\n<table border=\"1\" class=\"dataframe\">\n  <thead>\n    <tr style=\"text-align: right;\">\n      <th></th>\n      <th>user_id</th>\n      <th>similar_user_id</th>\n      <th>similarity</th>\n      <th>item_id</th>\n    </tr>\n  </thead>\n  <tbody>\n    <tr>\n      <th>401415</th>\n      <td>987008</td>\n      <td>1060750</td>\n      <td>0.997868</td>\n      <td>747</td>\n    </tr>\n    <tr>\n      <th>401415</th>\n      <td>987008</td>\n      <td>1060750</td>\n      <td>0.997868</td>\n      <td>9728</td>\n    </tr>\n    <tr>\n      <th>401418</th>\n      <td>987008</td>\n      <td>520667</td>\n      <td>0.987175</td>\n      <td>8036</td>\n    </tr>\n    <tr>\n      <th>2043331</th>\n      <td>918005</td>\n      <td>64932</td>\n      <td>0.913354</td>\n      <td>16228</td>\n    </tr>\n    <tr>\n      <th>2043331</th>\n      <td>918005</td>\n      <td>64932</td>\n      <td>0.913354</td>\n      <td>13073</td>\n    </tr>\n    <tr>\n      <th>...</th>\n      <td>...</td>\n      <td>...</td>\n      <td>...</td>\n      <td>...</td>\n    </tr>\n    <tr>\n      <th>2532752</th>\n      <td>28759</td>\n      <td>275772</td>\n      <td>0.731250</td>\n      <td>6171</td>\n    </tr>\n    <tr>\n      <th>2532753</th>\n      <td>28759</td>\n      <td>74631</td>\n      <td>0.723442</td>\n      <td>11345</td>\n    </tr>\n    <tr>\n      <th>2532754</th>\n      <td>28759</td>\n      <td>460401</td>\n      <td>0.722283</td>\n      <td>7019</td>\n    </tr>\n    <tr>\n      <th>2532754</th>\n      <td>28759</td>\n      <td>460401</td>\n      <td>0.722283</td>\n      <td>12360</td>\n    </tr>\n    <tr>\n      <th>2532754</th>\n      <td>28759</td>\n      <td>460401</td>\n      <td>0.722283</td>\n      <td>15297</td>\n    </tr>\n  </tbody>\n</table>\n<p>188 rows × 4 columns</p>\n</div>"
     },
     "execution_count": 56,
     "metadata": {},
     "output_type": "execute_result"
    }
   ],
   "source": [
    "recs[recs['user_id'].isin(np.random.choice(test['user_id'], 5))]"
   ],
   "metadata": {
    "collapsed": false,
    "ExecuteTime": {
     "end_time": "2025-03-18T16:40:50.398179Z",
     "start_time": "2025-03-18T16:40:50.264223Z"
    }
   },
   "id": "18cfd8d2",
   "execution_count": 56
  },
  {
   "cell_type": "markdown",
   "id": "409c2c01",
   "metadata": {},
   "source": [
    "## 5. Изобретаем rank из поля similarity\n",
    "\n",
    "Вдохновимся статьей Effective Nearest-Neighbor Music Recommendations\n",
    "\n",
    "В статье описывается задача так называемого “playlist continuation”: как автоматически подобрать треки для продолжения незавершённого плейлиста, имея лишь некоторую исходную информацию о нём (название, несколько добавленных пользователем песен и т.п.). Этот челлендж проводился в рамках ACM RecSys Challenge 2018, где участники должны были предложить алгоритмы, максимально точно восстанавливающие скрытые треки плейлистов из большого датасета от Spotify (Million Playlist Dataset)\n",
    "\n",
    "У них в статье - плейлисты и треки, у нас - пользователи и фильмы, но идея та же: как продолжить список фильмов для пользователя, имея информацию о его просмотренных фильмах и фильмах его ближайших соседей. \n",
    "\n",
    "Ключевым элементом стала корректировка весов треков, а также использование IDF (inverse document frequency), чтобы не перетягивать рекомендации в сторону слишком популярных песен\n",
    "\n",
    "![image.png](https://i.ibb.co/yBM6jXqq/similarity-tf-idf.png)\n",
    "\n",
    "\n",
    "\n",
    "https://web-ainf.aau.at/pub/jannach/files/Workshop_RecSys_Challenge_2018.pdf"
   ]
  },
  {
   "cell_type": "markdown",
   "id": "8cb2a8e6",
   "metadata": {},
   "source": [
    "### 5.1 посчитаем `idf` для каждого item\n",
    "\n",
    "- `n` - кол-во рекомендаций = кол-во пользователей\n",
    "- `document frequency (= recommendation list frequency) of the item` = кол-во раз, когда item встречается в датафрейме с рекомендациями\n",
    "\n",
    "### Вывод по формуле для rank\n",
    "\n",
    "- `idf` больше для `непопулярных` айтемов \n",
    "- в случае одинаковых занчений similarity получаем, что мы ранжируем наверх менее популярные айтемы (внутри одного юзера), что позволяет бороться со знаменитым смещением в популярное \n",
    "\n",
    "![image.png](https://i.ibb.co/fzpghYpC/tf-idf.png)"
   ]
  },
  {
   "cell_type": "code",
   "outputs": [
    {
     "data": {
      "text/plain": "   index     df      idf\n0   9506   3858 7.177859\n1   1659    985 8.541797\n2   7107  16279 5.740783\n3   7638   1153 8.384497\n4   6686   2060 7.804720",
      "text/html": "<div>\n<style scoped>\n    .dataframe tbody tr th:only-of-type {\n        vertical-align: middle;\n    }\n\n    .dataframe tbody tr th {\n        vertical-align: top;\n    }\n\n    .dataframe thead th {\n        text-align: right;\n    }\n</style>\n<table border=\"1\" class=\"dataframe\">\n  <thead>\n    <tr style=\"text-align: right;\">\n      <th></th>\n      <th>index</th>\n      <th>df</th>\n      <th>idf</th>\n    </tr>\n  </thead>\n  <tbody>\n    <tr>\n      <th>0</th>\n      <td>9506</td>\n      <td>3858</td>\n      <td>7.177859</td>\n    </tr>\n    <tr>\n      <th>1</th>\n      <td>1659</td>\n      <td>985</td>\n      <td>8.541797</td>\n    </tr>\n    <tr>\n      <th>2</th>\n      <td>7107</td>\n      <td>16279</td>\n      <td>5.740783</td>\n    </tr>\n    <tr>\n      <th>3</th>\n      <td>7638</td>\n      <td>1153</td>\n      <td>8.384497</td>\n    </tr>\n    <tr>\n      <th>4</th>\n      <td>6686</td>\n      <td>2060</td>\n      <td>7.804720</td>\n    </tr>\n  </tbody>\n</table>\n</div>"
     },
     "execution_count": 60,
     "metadata": {},
     "output_type": "execute_result"
    }
   ],
   "source": [
    "from collections import Counter\n",
    "\n",
    "cnt = Counter(train['item_id'].values)\n",
    "n = train.shape[0]\n",
    "\n",
    "idf = (\n",
    "    pd.DataFrame\n",
    "    .from_dict(cnt, orient='index', columns=['df'])  # конвертируем Counter в DataFrame\n",
    "    .reset_index()                                    \n",
    "    .assign(                                         # добавляем столбец idf\n",
    "        idf=lambda df: np.log((1 + n) / (1 + df['df']) + 1)\n",
    "    )\n",
    ")\n",
    "\n",
    "idf.head()"
   ],
   "metadata": {
    "collapsed": false,
    "ExecuteTime": {
     "end_time": "2025-03-18T16:52:21.322638Z",
     "start_time": "2025-03-18T16:52:18.955797Z"
    }
   },
   "id": "83ae26bb8dba1c",
   "execution_count": 60
  },
  {
   "cell_type": "code",
   "execution_count": 61,
   "id": "f8ef119d",
   "metadata": {
    "ExecuteTime": {
     "end_time": "2025-03-18T16:52:33.112522Z",
     "start_time": "2025-03-18T16:52:25.295051Z"
    }
   },
   "outputs": [
    {
     "data": {
      "text/plain": "   user_id  similar_user_id similarity item_id    idf_x rank_idf    idf_y  \\\n0  1097544           412291   0.704641    8636 5.003507 3.525675 5.003507   \n1  1097544           412291   0.704641    7829 5.636214 3.971507 5.636214   \n2  1097544           412291   0.704641    9996 4.958866 3.494219 4.958866   \n\n       idf  \n0 5.003507  \n1 5.636214  \n2 4.958866  ",
      "text/html": "<div>\n<style scoped>\n    .dataframe tbody tr th:only-of-type {\n        vertical-align: middle;\n    }\n\n    .dataframe tbody tr th {\n        vertical-align: top;\n    }\n\n    .dataframe thead th {\n        text-align: right;\n    }\n</style>\n<table border=\"1\" class=\"dataframe\">\n  <thead>\n    <tr style=\"text-align: right;\">\n      <th></th>\n      <th>user_id</th>\n      <th>similar_user_id</th>\n      <th>similarity</th>\n      <th>item_id</th>\n      <th>idf_x</th>\n      <th>rank_idf</th>\n      <th>idf_y</th>\n      <th>idf</th>\n    </tr>\n  </thead>\n  <tbody>\n    <tr>\n      <th>0</th>\n      <td>1097544</td>\n      <td>412291</td>\n      <td>0.704641</td>\n      <td>8636</td>\n      <td>5.003507</td>\n      <td>3.525675</td>\n      <td>5.003507</td>\n      <td>5.003507</td>\n    </tr>\n    <tr>\n      <th>1</th>\n      <td>1097544</td>\n      <td>412291</td>\n      <td>0.704641</td>\n      <td>7829</td>\n      <td>5.636214</td>\n      <td>3.971507</td>\n      <td>5.636214</td>\n      <td>5.636214</td>\n    </tr>\n    <tr>\n      <th>2</th>\n      <td>1097544</td>\n      <td>412291</td>\n      <td>0.704641</td>\n      <td>9996</td>\n      <td>4.958866</td>\n      <td>3.494219</td>\n      <td>4.958866</td>\n      <td>4.958866</td>\n    </tr>\n  </tbody>\n</table>\n</div>"
     },
     "execution_count": 61,
     "metadata": {},
     "output_type": "execute_result"
    }
   ],
   "source": [
    "# join idf \n",
    "recs = recs\\\n",
    "    .merge(\n",
    "        idf[['index', 'idf']], \n",
    "        left_on='item_id',\n",
    "        right_on='index',\n",
    "        how='left')\\\n",
    "    .drop(['index'], axis=1)\n",
    "\n",
    "# apply formula from an article \n",
    "recs['rank_idf'] = recs['similarity'] * recs['idf']\n",
    "\n",
    "recs[recs['user_id'] == 1097544]"
   ]
  },
  {
   "cell_type": "code",
   "execution_count": 62,
   "id": "49ed82b3",
   "metadata": {
    "ExecuteTime": {
     "end_time": "2025-03-18T16:54:11.197672Z",
     "start_time": "2025-03-18T16:53:46.211996Z"
    }
   },
   "outputs": [
    {
     "data": {
      "text/plain": "   user_id  similar_user_id similarity item_id    idf_x rank_idf    idf_y  \\\n1  1097544           412291   0.704641    7829 5.636214 3.971507 5.636214   \n0  1097544           412291   0.704641    8636 5.003507 3.525675 5.003507   \n2  1097544           412291   0.704641    9996 4.958866 3.494219 4.958866   \n\n       idf  rank  \n1 5.636214     1  \n0 5.003507     2  \n2 4.958866     3  ",
      "text/html": "<div>\n<style scoped>\n    .dataframe tbody tr th:only-of-type {\n        vertical-align: middle;\n    }\n\n    .dataframe tbody tr th {\n        vertical-align: top;\n    }\n\n    .dataframe thead th {\n        text-align: right;\n    }\n</style>\n<table border=\"1\" class=\"dataframe\">\n  <thead>\n    <tr style=\"text-align: right;\">\n      <th></th>\n      <th>user_id</th>\n      <th>similar_user_id</th>\n      <th>similarity</th>\n      <th>item_id</th>\n      <th>idf_x</th>\n      <th>rank_idf</th>\n      <th>idf_y</th>\n      <th>idf</th>\n      <th>rank</th>\n    </tr>\n  </thead>\n  <tbody>\n    <tr>\n      <th>1</th>\n      <td>1097544</td>\n      <td>412291</td>\n      <td>0.704641</td>\n      <td>7829</td>\n      <td>5.636214</td>\n      <td>3.971507</td>\n      <td>5.636214</td>\n      <td>5.636214</td>\n      <td>1</td>\n    </tr>\n    <tr>\n      <th>0</th>\n      <td>1097544</td>\n      <td>412291</td>\n      <td>0.704641</td>\n      <td>8636</td>\n      <td>5.003507</td>\n      <td>3.525675</td>\n      <td>5.003507</td>\n      <td>5.003507</td>\n      <td>2</td>\n    </tr>\n    <tr>\n      <th>2</th>\n      <td>1097544</td>\n      <td>412291</td>\n      <td>0.704641</td>\n      <td>9996</td>\n      <td>4.958866</td>\n      <td>3.494219</td>\n      <td>4.958866</td>\n      <td>4.958866</td>\n      <td>3</td>\n    </tr>\n  </tbody>\n</table>\n</div>"
     },
     "execution_count": 62,
     "metadata": {},
     "output_type": "execute_result"
    }
   ],
   "source": [
    "# make order by rank_idf \n",
    "recs = recs.sort_values(['user_id', 'rank_idf'], ascending=False)\n",
    "\n",
    "# make rank\n",
    "recs['rank'] = recs.groupby('user_id').cumcount() + 1 \n",
    "\n",
    "recs[recs['user_id'] == 1097544]"
   ]
  },
  {
   "cell_type": "markdown",
   "source": [
    "Только остался один нюанс - у многих пользователей рекомендаций меньше N"
   ],
   "metadata": {
    "collapsed": false
   },
   "id": "144cf1f43c5a368f"
  },
  {
   "cell_type": "code",
   "execution_count": 63,
   "id": "3fd8d637",
   "metadata": {
    "ExecuteTime": {
     "end_time": "2025-03-18T16:55:08.327321Z",
     "start_time": "2025-03-18T16:55:07.046350Z"
    }
   },
   "outputs": [
    {
     "ename": "AssertionError",
     "evalue": "Ошибка: у каждого user_id должно быть ровно 10 уникальных item_id",
     "output_type": "error",
     "traceback": [
      "\u001B[31m---------------------------------------------------------------------------\u001B[39m",
      "\u001B[31mAssertionError\u001B[39m                            Traceback (most recent call last)",
      "\u001B[36mCell\u001B[39m\u001B[36m \u001B[39m\u001B[32mIn[63]\u001B[39m\u001B[32m, line 1\u001B[39m\n\u001B[32m----> \u001B[39m\u001B[32m1\u001B[39m \u001B[38;5;28;01massert\u001B[39;00m (recs[recs[\u001B[33m'\u001B[39m\u001B[33mrank\u001B[39m\u001B[33m'\u001B[39m] <= \u001B[32m10\u001B[39m].groupby(\u001B[33m'\u001B[39m\u001B[33muser_id\u001B[39m\u001B[33m'\u001B[39m)[\u001B[33m'\u001B[39m\u001B[33mitem_id\u001B[39m\u001B[33m'\u001B[39m].nunique() == \u001B[32m10\u001B[39m).all(), \\\n\u001B[32m      2\u001B[39m     \u001B[33m\"\u001B[39m\u001B[33mОшибка: у каждого user_id должно быть ровно 10 уникальных item_id\u001B[39m\u001B[33m\"\u001B[39m\n",
      "\u001B[31mAssertionError\u001B[39m: Ошибка: у каждого user_id должно быть ровно 10 уникальных item_id"
     ]
    }
   ],
   "source": [
    "assert (recs[recs['rank'] <= 10].groupby('user_id')['item_id'].nunique() == 10).all(), \\\n",
    "    \"Ошибка: у каждого user_id должно быть ровно 10 уникальных item_id\""
   ]
  },
  {
   "cell_type": "markdown",
   "source": [
    "## Обучим default-itemkNN"
   ],
   "metadata": {
    "collapsed": false
   },
   "id": "cd4ebdd003c4c29b"
  },
  {
   "cell_type": "markdown",
   "source": [
    "## Схема ItemkNN из коробки \n",
    "\n",
    "<p align=\"left\">\n",
    "  <img src=\"https://i.ibb.co/xqjXVQTp/itemknn.png\" alt=\"Switchers schema\" style=\"width: 300px !important; height: auto !important;\">\n",
    "</p>\n",
    "\n",
    "Источник картинки - документация RecTools"
   ],
   "metadata": {},
   "id": "b8a65909"
  },
  {
   "cell_type": "code",
   "outputs": [],
   "source": [
    "from rectools.models.implicit_knn import ImplicitItemKNNWrapperModel\n",
    "\n",
    "dataset = Dataset.construct(\n",
    "    interactions_df=train,\n",
    "    user_features_df=None,\n",
    "    item_features_df=None\n",
    ")\n",
    "item_knn = ImplicitItemKNNWrapperModel(model=CosineRecommender(K=30))\n",
    "item_knn.fit(dataset);\n",
    "\n",
    "recs_itemknn = item_knn.recommend(\n",
    "    test['user_id'].unique(), \n",
    "    dataset=dataset, \n",
    "    k=10, \n",
    "    filter_viewed=False  \n",
    ")"
   ],
   "metadata": {
    "collapsed": false,
    "ExecuteTime": {
     "end_time": "2025-03-18T17:01:00.870831Z",
     "start_time": "2025-03-18T17:00:46.587576Z"
    }
   },
   "id": "96a911c2081a0e96",
   "execution_count": 64
  },
  {
   "cell_type": "markdown",
   "source": [
    "## 6. Сравнение метрик default-itemkNN vs custom-userkNN"
   ],
   "metadata": {},
   "id": "6fadf707"
  },
  {
   "cell_type": "code",
   "outputs": [],
   "source": [
    "metrics= {\n",
    "    'map@10': MAP(k=10), # качество ранжирования\n",
    "    \"novelty\": MeanInvUserFreq(k=10), # глобальная новизна\n",
    "    \"arp\": AvgRecPopularity(k=10),  # popularity bias\n",
    "}"
   ],
   "metadata": {
    "collapsed": false,
    "ExecuteTime": {
     "end_time": "2025-03-18T17:01:10.700178Z",
     "start_time": "2025-03-18T17:01:10.669750Z"
    }
   },
   "id": "aae0eaa7245cb75e",
   "execution_count": 65
  },
  {
   "cell_type": "code",
   "outputs": [],
   "source": [
    "metric_userknn = calc_metrics(\n",
    "    metrics,\n",
    "    reco=recs,\n",
    "    interactions=test,\n",
    "    prev_interactions=train,\n",
    "    catalog=train['item_id'].unique()\n",
    ")\n",
    "\n",
    "metric_itemknn = calc_metrics(\n",
    "    metrics,\n",
    "    reco=recs_itemknn,\n",
    "    interactions=test,\n",
    "    prev_interactions=train,\n",
    "    catalog=train['item_id'].unique()\n",
    ")"
   ],
   "metadata": {
    "ExecuteTime": {
     "end_time": "2025-03-18T17:01:26.344973Z",
     "start_time": "2025-03-18T17:01:15.116619Z"
    }
   },
   "id": "a8533cdb",
   "execution_count": 66
  },
  {
   "cell_type": "markdown",
   "source": [
    "## Так, ну мы зачем старались? Есть смысл тащить такой алгоритм в продакшн?\n",
    "\n",
    "`novelty` получается больше у userkNN, но `map@10` меньше. \n",
    "\n",
    "Если у нас задача рекомендовать пользователю что-то из \"хвоста\" айтемов, то userkNN подходит лучше. \n",
    "\n",
    "Эту гипотезу надо проверить далее на кросс-валидации, так как мы посчитали метрики сейчас на единственном отложенном тесте"
   ],
   "metadata": {
    "collapsed": false
   },
   "id": "902fc5e507367300"
  },
  {
   "cell_type": "code",
   "outputs": [
    {
     "data": {
      "text/plain": "metric    map@10  novelty           arp\nitemknn 0.020359 8.092385 40,647.647706\nuserknn 0.001886 9.532342 15,592.791944",
      "text/html": "<div>\n<style scoped>\n    .dataframe tbody tr th:only-of-type {\n        vertical-align: middle;\n    }\n\n    .dataframe tbody tr th {\n        vertical-align: top;\n    }\n\n    .dataframe thead th {\n        text-align: right;\n    }\n</style>\n<table border=\"1\" class=\"dataframe\">\n  <thead>\n    <tr style=\"text-align: right;\">\n      <th>metric</th>\n      <th>map@10</th>\n      <th>novelty</th>\n      <th>arp</th>\n    </tr>\n  </thead>\n  <tbody>\n    <tr>\n      <th>itemknn</th>\n      <td>0.020359</td>\n      <td>8.092385</td>\n      <td>40,647.647706</td>\n    </tr>\n    <tr>\n      <th>userknn</th>\n      <td>0.001886</td>\n      <td>9.532342</td>\n      <td>15,592.791944</td>\n    </tr>\n  </tbody>\n</table>\n</div>"
     },
     "execution_count": 68,
     "metadata": {},
     "output_type": "execute_result"
    }
   ],
   "source": [
    "knn_metrics = pd.DataFrame({\n",
    "    'itemknn': metric_itemknn,\n",
    "    'userknn': metric_userknn\n",
    "})\n",
    "\n",
    "knn_metrics.index.name = 'metric'\n",
    "knn_metrics.T"
   ],
   "metadata": {
    "ExecuteTime": {
     "end_time": "2025-03-18T17:01:50.678197Z",
     "start_time": "2025-03-18T17:01:50.550243Z"
    }
   },
   "id": "650a959c",
   "execution_count": 68
  },
  {
   "cell_type": "code",
   "outputs": [
    {
     "data": {
      "text/plain": "                  pop       pop_cat   pop_covered\nmetric                                           \nmap@10       0.063759      0.062374      0.062070\nnovelty      3.435863      4.327433      3.470048\narp     96,288.400000 63,851.900000 95,383.800000",
      "text/html": "<div>\n<style scoped>\n    .dataframe tbody tr th:only-of-type {\n        vertical-align: middle;\n    }\n\n    .dataframe tbody tr th {\n        vertical-align: top;\n    }\n\n    .dataframe thead th {\n        text-align: right;\n    }\n</style>\n<table border=\"1\" class=\"dataframe\">\n  <thead>\n    <tr style=\"text-align: right;\">\n      <th></th>\n      <th>pop</th>\n      <th>pop_cat</th>\n      <th>pop_covered</th>\n    </tr>\n    <tr>\n      <th>metric</th>\n      <th></th>\n      <th></th>\n      <th></th>\n    </tr>\n  </thead>\n  <tbody>\n    <tr>\n      <th>map@10</th>\n      <td>0.063759</td>\n      <td>0.062374</td>\n      <td>0.062070</td>\n    </tr>\n    <tr>\n      <th>novelty</th>\n      <td>3.435863</td>\n      <td>4.327433</td>\n      <td>3.470048</td>\n    </tr>\n    <tr>\n      <th>arp</th>\n      <td>96,288.400000</td>\n      <td>63,851.900000</td>\n      <td>95,383.800000</td>\n    </tr>\n  </tbody>\n</table>\n</div>"
     },
     "execution_count": 69,
     "metadata": {},
     "output_type": "execute_result"
    }
   ],
   "source": [
    "pop_metrics = pd.read_csv('pop_metrics.csv')\n",
    "pop_metrics.set_index('index', inplace=True)\n",
    "pop_metrics.index.name = 'metric'\n",
    "pop_metrics"
   ],
   "metadata": {
    "ExecuteTime": {
     "end_time": "2025-03-18T17:02:37.282695Z",
     "start_time": "2025-03-18T17:02:37.215824Z"
    }
   },
   "id": "ebc8b056",
   "execution_count": 69
  },
  {
   "cell_type": "markdown",
   "source": [
    "## Выводы по метрикам pop vs knn \n",
    "- map@10 (насколько мы хорошо попали в уже просмотренные на тесте) выше у модели популярного, \n",
    "- а вот метрика \"разнообразия\" айтемов (новизна) выше у kNN моделей\n",
    "- плюс у kNN моделей меньше смещение в популярное, особенно у кастомной userkNN"
   ],
   "metadata": {},
   "id": "f05041d1"
  },
  {
   "cell_type": "code",
   "outputs": [
    {
     "data": {
      "text/plain": "metric        map@10  novelty           arp\npop         0.063759 3.435863 96,288.400000\npop_cat     0.062374 4.327433 63,851.900000\npop_covered 0.062070 3.470048 95,383.800000\nitemknn     0.020359 8.092385 40,647.647706\nuserknn     0.001886 9.532342 15,592.791944",
      "text/html": "<div>\n<style scoped>\n    .dataframe tbody tr th:only-of-type {\n        vertical-align: middle;\n    }\n\n    .dataframe tbody tr th {\n        vertical-align: top;\n    }\n\n    .dataframe thead th {\n        text-align: right;\n    }\n</style>\n<table border=\"1\" class=\"dataframe\">\n  <thead>\n    <tr style=\"text-align: right;\">\n      <th>metric</th>\n      <th>map@10</th>\n      <th>novelty</th>\n      <th>arp</th>\n    </tr>\n  </thead>\n  <tbody>\n    <tr>\n      <th>pop</th>\n      <td>0.063759</td>\n      <td>3.435863</td>\n      <td>96,288.400000</td>\n    </tr>\n    <tr>\n      <th>pop_cat</th>\n      <td>0.062374</td>\n      <td>4.327433</td>\n      <td>63,851.900000</td>\n    </tr>\n    <tr>\n      <th>pop_covered</th>\n      <td>0.062070</td>\n      <td>3.470048</td>\n      <td>95,383.800000</td>\n    </tr>\n    <tr>\n      <th>itemknn</th>\n      <td>0.020359</td>\n      <td>8.092385</td>\n      <td>40,647.647706</td>\n    </tr>\n    <tr>\n      <th>userknn</th>\n      <td>0.001886</td>\n      <td>9.532342</td>\n      <td>15,592.791944</td>\n    </tr>\n  </tbody>\n</table>\n</div>"
     },
     "execution_count": 70,
     "metadata": {},
     "output_type": "execute_result"
    }
   ],
   "source": [
    "pd.concat([pop_metrics, knn_metrics], axis=1).T"
   ],
   "metadata": {
    "ExecuteTime": {
     "end_time": "2025-03-18T17:02:44.156729Z",
     "start_time": "2025-03-18T17:02:44.129610Z"
    }
   },
   "id": "3ac7122f",
   "execution_count": 70
  },
  {
   "cell_type": "markdown",
   "source": [
    "# TODO\n",
    "\n",
    "- количество рекомендаций для пользователя может быть меньше < N\n",
    "- рекомендации для холодных пользователей"
   ],
   "metadata": {},
   "id": "f4f3f2a6"
  },
  {
   "cell_type": "code",
   "outputs": [],
   "source": [],
   "metadata": {
    "collapsed": false
   },
   "id": "2680cc8ef9876883"
  }
 ],
 "metadata": {
  "kernelspec": {
   "name": "itmo_311",
   "language": "python",
   "display_name": "itmo_311"
  },
  "language_info": {
   "codemirror_mode": {
    "name": "ipython",
    "version": 3
   },
   "file_extension": ".py",
   "mimetype": "text/x-python",
   "name": "python",
   "nbconvert_exporter": "python",
   "pygments_lexer": "ipython3",
   "version": "3.8.13"
  }
 },
 "nbformat": 4,
 "nbformat_minor": 5
}
