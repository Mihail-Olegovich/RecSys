{
  "cells": [
    {
      "cell_type": "code",
      "execution_count": null,
      "metadata": {
        "execution": {
          "iopub.execute_input": "2023-11-29T06:54:04.653893Z",
          "iopub.status.busy": "2023-11-29T06:54:04.652893Z",
          "iopub.status.idle": "2023-11-29T06:54:04.667932Z",
          "shell.execute_reply": "2023-11-29T06:54:04.667011Z",
          "shell.execute_reply.started": "2023-11-29T06:54:04.653893Z"
        },
        "colab": {
          "base_uri": "https://localhost:8080/"
        },
        "id": "nmx3DnxnWU-4",
        "outputId": "ccb6185c-e342-4192-b5ca-063914067dac"
      },
      "outputs": [
        {
          "output_type": "stream",
          "name": "stdout",
          "text": [
            "Requirement already satisfied: implicit==0.7.2 in /usr/local/lib/python3.11/dist-packages (0.7.2)\n",
            "Requirement already satisfied: requests==2.32.3 in /usr/local/lib/python3.11/dist-packages (2.32.3)\n",
            "Requirement already satisfied: rectools==0.12.0 in /usr/local/lib/python3.11/dist-packages (from rectools[lightfm,nmslib]==0.12.0) (0.12.0)\n",
            "Requirement already satisfied: pandas==2.2.3 in /usr/local/lib/python3.11/dist-packages (2.2.3)\n",
            "Requirement already satisfied: numpy==1.26.4 in /usr/local/lib/python3.11/dist-packages (1.26.4)\n",
            "Requirement already satisfied: scipy==1.12.0 in /usr/local/lib/python3.11/dist-packages (1.12.0)\n",
            "Requirement already satisfied: hnswlib in /usr/local/lib/python3.11/dist-packages (0.8.0)\n",
            "Requirement already satisfied: tqdm>=4.27 in /usr/local/lib/python3.11/dist-packages (from implicit==0.7.2) (4.67.1)\n",
            "Requirement already satisfied: threadpoolctl in /usr/local/lib/python3.11/dist-packages (from implicit==0.7.2) (3.6.0)\n",
            "Requirement already satisfied: charset-normalizer<4,>=2 in /usr/local/lib/python3.11/dist-packages (from requests==2.32.3) (3.4.1)\n",
            "Requirement already satisfied: idna<4,>=2.5 in /usr/local/lib/python3.11/dist-packages (from requests==2.32.3) (3.10)\n",
            "Requirement already satisfied: urllib3<3,>=1.21.1 in /usr/local/lib/python3.11/dist-packages (from requests==2.32.3) (2.3.0)\n",
            "Requirement already satisfied: certifi>=2017.4.17 in /usr/local/lib/python3.11/dist-packages (from requests==2.32.3) (2025.1.31)\n",
            "Requirement already satisfied: attrs<24.0.0,>=19.1.0 in /usr/local/lib/python3.11/dist-packages (from rectools==0.12.0->rectools[lightfm,nmslib]==0.12.0) (23.2.0)\n",
            "Requirement already satisfied: pydantic<3.0.0,>=2.8.2 in /usr/local/lib/python3.11/dist-packages (from rectools==0.12.0->rectools[lightfm,nmslib]==0.12.0) (2.10.6)\n",
            "Requirement already satisfied: pydantic-core<3.0.0,>=2.20.1 in /usr/local/lib/python3.11/dist-packages (from rectools==0.12.0->rectools[lightfm,nmslib]==0.12.0) (2.27.2)\n",
            "Requirement already satisfied: typeguard<5.0.0,>=4.1.0 in /usr/local/lib/python3.11/dist-packages (from rectools==0.12.0->rectools[lightfm,nmslib]==0.12.0) (4.4.2)\n",
            "Requirement already satisfied: typing-extensions<5.0.0,>=4.12.2 in /usr/local/lib/python3.11/dist-packages (from rectools==0.12.0->rectools[lightfm,nmslib]==0.12.0) (4.12.2)\n",
            "Requirement already satisfied: python-dateutil>=2.8.2 in /usr/local/lib/python3.11/dist-packages (from pandas==2.2.3) (2.8.2)\n",
            "Requirement already satisfied: pytz>=2020.1 in /usr/local/lib/python3.11/dist-packages (from pandas==2.2.3) (2025.1)\n",
            "Requirement already satisfied: tzdata>=2022.7 in /usr/local/lib/python3.11/dist-packages (from pandas==2.2.3) (2025.1)\n",
            "Requirement already satisfied: nmslib-metabrainz<3.0.0,>=2.1.3 in /usr/local/lib/python3.11/dist-packages (from rectools[lightfm,nmslib]==0.12.0) (2.1.3)\n",
            "Requirement already satisfied: rectools-lightfm<2.0.0,>=1.17.3 in /usr/local/lib/python3.11/dist-packages (from rectools[lightfm,nmslib]==0.12.0) (1.17.3)\n",
            "Requirement already satisfied: pybind11>=2.2.3 in /usr/local/lib/python3.11/dist-packages (from nmslib-metabrainz<3.0.0,>=2.1.3->rectools[lightfm,nmslib]==0.12.0) (2.13.6)\n",
            "Requirement already satisfied: psutil in /usr/local/lib/python3.11/dist-packages (from nmslib-metabrainz<3.0.0,>=2.1.3->rectools[lightfm,nmslib]==0.12.0) (5.9.5)\n",
            "Requirement already satisfied: annotated-types>=0.6.0 in /usr/local/lib/python3.11/dist-packages (from pydantic<3.0.0,>=2.8.2->rectools==0.12.0->rectools[lightfm,nmslib]==0.12.0) (0.7.0)\n",
            "Requirement already satisfied: six>=1.5 in /usr/local/lib/python3.11/dist-packages (from python-dateutil>=2.8.2->pandas==2.2.3) (1.17.0)\n",
            "Requirement already satisfied: scikit-learn in /usr/local/lib/python3.11/dist-packages (from rectools-lightfm<2.0.0,>=1.17.3->rectools[lightfm,nmslib]==0.12.0) (1.6.1)\n",
            "Requirement already satisfied: joblib>=1.2.0 in /usr/local/lib/python3.11/dist-packages (from scikit-learn->rectools-lightfm<2.0.0,>=1.17.3->rectools[lightfm,nmslib]==0.12.0) (1.4.2)\n"
          ]
        }
      ],
      "source": [
        "!pip install implicit==0.7.2 requests==2.32.3 rectools[lightfm,nmslib]==0.12.0 pandas==2.2.3 numpy==1.26.4 scipy==1.12.0 hnswlib"
      ]
    },
    {
      "cell_type": "code",
      "execution_count": null,
      "metadata": {
        "execution": {
          "iopub.execute_input": "2023-11-29T06:54:04.671951Z",
          "iopub.status.busy": "2023-11-29T06:54:04.670951Z",
          "iopub.status.idle": "2023-11-29T06:54:04.682950Z",
          "shell.execute_reply": "2023-11-29T06:54:04.682950Z",
          "shell.execute_reply.started": "2023-11-29T06:54:04.671951Z"
        },
        "colab": {
          "base_uri": "https://localhost:8080/"
        },
        "id": "wD_OO-ZmWU-6",
        "outputId": "bb5415fc-632f-4c12-c6b4-9977a9960232"
      },
      "outputs": [
        {
          "output_type": "execute_result",
          "data": {
            "text/plain": [
              "<threadpoolctl.threadpool_limits at 0x7ca15abdd7d0>"
            ]
          },
          "metadata": {},
          "execution_count": 65
        }
      ],
      "source": [
        "import os\n",
        "import time\n",
        "import threadpoolctl\n",
        "import requests\n",
        "\n",
        "import numpy as np\n",
        "import pandas as pd\n",
        "import zipfile as zf\n",
        "import typing as tp\n",
        "\n",
        "from pathlib import Path\n",
        "\n",
        "from tqdm.auto import tqdm\n",
        "\n",
        "from implicit.als import AlternatingLeastSquares\n",
        "from implicit.bpr import BayesianPersonalizedRanking\n",
        "\n",
        "from lightfm import LightFM\n",
        "\n",
        "from rectools import Columns\n",
        "from rectools.metrics import MAP, Precision, Recall, calc_metrics\n",
        "from rectools.dataset import Dataset\n",
        "from rectools.models import (\n",
        "    PopularModel,\n",
        "    ImplicitALSWrapperModel,\n",
        "    LightFMWrapperModel,\n",
        "    model_from_config,\n",
        "    load_model,\n",
        "    model_from_params\n",
        ")\n",
        "\n",
        "import nmslib\n",
        "import hnswlib\n",
        "\n",
        "import matplotlib.pyplot as plt\n",
        "import seaborn as sns\n",
        "\n",
        "\n",
        "# For implicit ALS\n",
        "os.environ[\"OPENBLAS_NUM_THREADS\"] = \"1\"\n",
        "threadpoolctl.threadpool_limits(1, \"blas\")"
      ]
    },
    {
      "cell_type": "code",
      "execution_count": null,
      "metadata": {
        "execution": {
          "iopub.execute_input": "2023-11-29T06:54:04.684950Z",
          "iopub.status.busy": "2023-11-29T06:54:04.684950Z",
          "iopub.status.idle": "2023-11-29T06:54:04.698949Z",
          "shell.execute_reply": "2023-11-29T06:54:04.698949Z",
          "shell.execute_reply.started": "2023-11-29T06:54:04.684950Z"
        },
        "id": "VuMbfjPzWU-6"
      },
      "outputs": [],
      "source": [
        "import warnings\n",
        "warnings.filterwarnings('ignore')"
      ]
    },
    {
      "cell_type": "code",
      "source": [
        "%%time\n",
        "\n",
        "!wget -q https://github.com/irsafilo/KION_DATASET/raw/f69775be31fa5779907cf0a92ddedb70037fb5ae/data_original.zip -O kion_train.zip\n",
        "!unzip -o kion_train.zip -x '__MACOSX/*'\n",
        "!rm kion_train.zip\n",
        "!ls -lah ."
      ],
      "metadata": {
        "colab": {
          "base_uri": "https://localhost:8080/"
        },
        "id": "fA7ct4fpW7mi",
        "outputId": "ab817cf1-f25e-4226-e836-2bfd7347722a"
      },
      "execution_count": null,
      "outputs": [
        {
          "output_type": "stream",
          "name": "stdout",
          "text": [
            "Archive:  kion_train.zip\n",
            "  inflating: data_original/interactions.csv  \n",
            "  inflating: data_original/users.csv  \n",
            "  inflating: data_original/items.csv  \n",
            "total 20K\n",
            "drwxr-xr-x 1 root root 4.0K Mar 25 13:11 .\n",
            "drwxr-xr-x 1 root root 4.0K Mar 25 12:48 ..\n",
            "drwxr-xr-x 4 root root 4.0K Mar 21 13:32 .config\n",
            "drwxr-xr-x 2 root root 4.0K Mar 25 13:11 data_original\n",
            "drwxr-xr-x 1 root root 4.0K Mar 21 13:33 sample_data\n",
            "CPU times: user 37.6 ms, sys: 14.4 ms, total: 52 ms\n",
            "Wall time: 7.53 s\n"
          ]
        }
      ]
    },
    {
      "cell_type": "code",
      "execution_count": null,
      "metadata": {
        "execution": {
          "iopub.execute_input": "2023-11-29T06:54:06.159361Z",
          "iopub.status.busy": "2023-11-29T06:54:06.158362Z",
          "iopub.status.idle": "2023-11-29T06:54:06.174361Z",
          "shell.execute_reply": "2023-11-29T06:54:06.173361Z",
          "shell.execute_reply.started": "2023-11-29T06:54:06.159361Z"
        },
        "id": "90n8bxdzWU-7"
      },
      "outputs": [],
      "source": [
        "DATA_PATH = Path(\"data_original\")"
      ]
    },
    {
      "cell_type": "markdown",
      "metadata": {
        "id": "-UGSddqmWU-7"
      },
      "source": [
        "# LOAD DATA"
      ]
    },
    {
      "cell_type": "code",
      "execution_count": null,
      "metadata": {
        "execution": {
          "iopub.execute_input": "2023-11-29T06:54:06.175361Z",
          "iopub.status.busy": "2023-11-29T06:54:06.175361Z",
          "iopub.status.idle": "2023-11-29T06:54:08.982371Z",
          "shell.execute_reply": "2023-11-29T06:54:08.982371Z",
          "shell.execute_reply.started": "2023-11-29T06:54:06.175361Z"
        },
        "colab": {
          "base_uri": "https://localhost:8080/"
        },
        "id": "VGYwq5jnWU-7",
        "outputId": "141b5f3f-586e-4b6a-8834-c7bcf37a3bb8"
      },
      "outputs": [
        {
          "output_type": "stream",
          "name": "stdout",
          "text": [
            "CPU times: user 5.58 s, sys: 880 ms, total: 6.46 s\n",
            "Wall time: 11.2 s\n"
          ]
        }
      ],
      "source": [
        "%%time\n",
        "users = pd.read_csv(DATA_PATH / 'users.csv')\n",
        "items = pd.read_csv(DATA_PATH / 'items.csv')\n",
        "interactions = pd.read_csv(DATA_PATH / 'interactions.csv')"
      ]
    },
    {
      "cell_type": "markdown",
      "metadata": {
        "id": "ntHIJXdLWU-8"
      },
      "source": [
        "# Preprocess"
      ]
    },
    {
      "cell_type": "code",
      "execution_count": null,
      "metadata": {
        "execution": {
          "iopub.execute_input": "2023-11-29T06:54:08.985371Z",
          "iopub.status.busy": "2023-11-29T06:54:08.985371Z",
          "iopub.status.idle": "2023-11-29T06:54:08.999401Z",
          "shell.execute_reply": "2023-11-29T06:54:08.998401Z",
          "shell.execute_reply.started": "2023-11-29T06:54:08.985371Z"
        },
        "id": "0Et-7FhDWU-8"
      },
      "outputs": [],
      "source": [
        "Columns.Datetime = 'last_watch_dt'"
      ]
    },
    {
      "cell_type": "code",
      "execution_count": null,
      "metadata": {
        "execution": {
          "iopub.execute_input": "2023-11-29T06:54:09.000402Z",
          "iopub.status.busy": "2023-11-29T06:54:09.000402Z",
          "iopub.status.idle": "2023-11-29T06:54:10.690252Z",
          "shell.execute_reply": "2023-11-29T06:54:10.689252Z",
          "shell.execute_reply.started": "2023-11-29T06:54:09.000402Z"
        },
        "id": "Gybtn0hsWU-8"
      },
      "outputs": [],
      "source": [
        "interactions.drop(interactions[interactions[Columns.Datetime].str.len() != 10].index, inplace=True)"
      ]
    },
    {
      "cell_type": "code",
      "execution_count": null,
      "metadata": {
        "execution": {
          "iopub.execute_input": "2023-11-29T06:54:10.691252Z",
          "iopub.status.busy": "2023-11-29T06:54:10.690252Z",
          "iopub.status.idle": "2023-11-29T06:54:11.344252Z",
          "shell.execute_reply": "2023-11-29T06:54:11.343252Z",
          "shell.execute_reply.started": "2023-11-29T06:54:10.691252Z"
        },
        "id": "7sA3_7QBWU-8"
      },
      "outputs": [],
      "source": [
        "interactions[Columns.Datetime] = pd.to_datetime(interactions[Columns.Datetime], format='%Y-%m-%d')"
      ]
    },
    {
      "cell_type": "code",
      "execution_count": null,
      "metadata": {
        "execution": {
          "iopub.execute_input": "2023-11-29T06:54:11.345252Z",
          "iopub.status.busy": "2023-11-29T06:54:11.345252Z",
          "iopub.status.idle": "2023-11-29T06:54:11.374252Z",
          "shell.execute_reply": "2023-11-29T06:54:11.374252Z",
          "shell.execute_reply.started": "2023-11-29T06:54:11.345252Z"
        },
        "id": "w4Rqi4mAWU-8"
      },
      "outputs": [],
      "source": [
        "max_date = interactions[Columns.Datetime].max()"
      ]
    },
    {
      "cell_type": "code",
      "execution_count": null,
      "metadata": {
        "execution": {
          "iopub.execute_input": "2023-11-29T06:54:11.376252Z",
          "iopub.status.busy": "2023-11-29T06:54:11.376252Z",
          "iopub.status.idle": "2023-11-29T06:54:11.405252Z",
          "shell.execute_reply": "2023-11-29T06:54:11.405252Z",
          "shell.execute_reply.started": "2023-11-29T06:54:11.376252Z"
        },
        "id": "ebaBsGF3WU-8"
      },
      "outputs": [],
      "source": [
        "interactions[Columns.Weight] = np.where(interactions['watched_pct'] > 10, 3, 1)"
      ]
    },
    {
      "cell_type": "code",
      "execution_count": null,
      "metadata": {
        "execution": {
          "iopub.execute_input": "2023-11-29T06:54:11.407252Z",
          "iopub.status.busy": "2023-11-29T06:54:11.406252Z",
          "iopub.status.idle": "2023-11-29T06:54:11.628252Z",
          "shell.execute_reply": "2023-11-29T06:54:11.627252Z",
          "shell.execute_reply.started": "2023-11-29T06:54:11.407252Z"
        },
        "colab": {
          "base_uri": "https://localhost:8080/"
        },
        "id": "3LrMLaZwWU-9",
        "outputId": "ccf351e6-d3ac-485a-d68e-2db4a240c7cc"
      },
      "outputs": [
        {
          "output_type": "stream",
          "name": "stdout",
          "text": [
            "train: (4985269, 6)\n",
            "test: (490982, 6)\n"
          ]
        }
      ],
      "source": [
        "train = interactions[interactions[Columns.Datetime] < max_date - pd.Timedelta(days=7)].copy()\n",
        "test = interactions[interactions[Columns.Datetime] >= max_date - pd.Timedelta(days=7)].copy()\n",
        "\n",
        "print(f\"train: {train.shape}\")\n",
        "print(f\"test: {test.shape}\")"
      ]
    },
    {
      "cell_type": "code",
      "execution_count": null,
      "metadata": {
        "execution": {
          "iopub.execute_input": "2023-11-29T06:54:11.629254Z",
          "iopub.status.busy": "2023-11-29T06:54:11.629254Z",
          "iopub.status.idle": "2023-11-29T06:54:12.075251Z",
          "shell.execute_reply": "2023-11-29T06:54:12.075251Z",
          "shell.execute_reply.started": "2023-11-29T06:54:11.629254Z"
        },
        "id": "kFFUQs6AWU-9"
      },
      "outputs": [],
      "source": [
        "train.drop(train.query(\"total_dur < 300\").index, inplace=True)"
      ]
    },
    {
      "cell_type": "code",
      "execution_count": null,
      "metadata": {
        "execution": {
          "iopub.execute_input": "2023-11-29T06:54:12.077252Z",
          "iopub.status.busy": "2023-11-29T06:54:12.076252Z",
          "iopub.status.idle": "2023-11-29T06:54:13.166062Z",
          "shell.execute_reply": "2023-11-29T06:54:13.166062Z",
          "shell.execute_reply.started": "2023-11-29T06:54:12.077252Z"
        },
        "id": "LAnDVR7GWU-9"
      },
      "outputs": [],
      "source": [
        "# отфильтруем холодных пользователей из теста\n",
        "cold_users = set(test[Columns.User]) - set(train[Columns.User])"
      ]
    },
    {
      "cell_type": "code",
      "execution_count": null,
      "metadata": {
        "execution": {
          "iopub.execute_input": "2023-11-29T06:54:13.168063Z",
          "iopub.status.busy": "2023-11-29T06:54:13.167063Z",
          "iopub.status.idle": "2023-11-29T06:54:13.246063Z",
          "shell.execute_reply": "2023-11-29T06:54:13.246063Z",
          "shell.execute_reply.started": "2023-11-29T06:54:13.168063Z"
        },
        "id": "3Yxd5uRDWU-9"
      },
      "outputs": [],
      "source": [
        "test.drop(test[test[Columns.User].isin(cold_users)].index, inplace=True)"
      ]
    },
    {
      "cell_type": "markdown",
      "metadata": {
        "id": "XhtK0bpyWU-9"
      },
      "source": [
        "# Prepare features"
      ]
    },
    {
      "cell_type": "markdown",
      "metadata": {
        "id": "qce-BHAxWU-9"
      },
      "source": [
        "## User features"
      ]
    },
    {
      "cell_type": "code",
      "execution_count": null,
      "metadata": {
        "execution": {
          "iopub.execute_input": "2023-11-29T06:54:13.248063Z",
          "iopub.status.busy": "2023-11-29T06:54:13.247063Z",
          "iopub.status.idle": "2023-11-29T06:54:13.546063Z",
          "shell.execute_reply": "2023-11-29T06:54:13.546063Z",
          "shell.execute_reply.started": "2023-11-29T06:54:13.248063Z"
        },
        "colab": {
          "base_uri": "https://localhost:8080/",
          "height": 241
        },
        "id": "puLRf3JmWU-9",
        "outputId": "96cc7dc3-a788-44e2-beb2-43773e4e76e0"
      },
      "outputs": [
        {
          "output_type": "execute_result",
          "data": {
            "text/plain": [
              "user_id         0\n",
              "age         14095\n",
              "income      14776\n",
              "sex         13831\n",
              "kids_flg        0\n",
              "dtype: int64"
            ],
            "text/html": [
              "<div>\n",
              "<style scoped>\n",
              "    .dataframe tbody tr th:only-of-type {\n",
              "        vertical-align: middle;\n",
              "    }\n",
              "\n",
              "    .dataframe tbody tr th {\n",
              "        vertical-align: top;\n",
              "    }\n",
              "\n",
              "    .dataframe thead th {\n",
              "        text-align: right;\n",
              "    }\n",
              "</style>\n",
              "<table border=\"1\" class=\"dataframe\">\n",
              "  <thead>\n",
              "    <tr style=\"text-align: right;\">\n",
              "      <th></th>\n",
              "      <th>0</th>\n",
              "    </tr>\n",
              "  </thead>\n",
              "  <tbody>\n",
              "    <tr>\n",
              "      <th>user_id</th>\n",
              "      <td>0</td>\n",
              "    </tr>\n",
              "    <tr>\n",
              "      <th>age</th>\n",
              "      <td>14095</td>\n",
              "    </tr>\n",
              "    <tr>\n",
              "      <th>income</th>\n",
              "      <td>14776</td>\n",
              "    </tr>\n",
              "    <tr>\n",
              "      <th>sex</th>\n",
              "      <td>13831</td>\n",
              "    </tr>\n",
              "    <tr>\n",
              "      <th>kids_flg</th>\n",
              "      <td>0</td>\n",
              "    </tr>\n",
              "  </tbody>\n",
              "</table>\n",
              "</div><br><label><b>dtype:</b> int64</label>"
            ]
          },
          "metadata": {},
          "execution_count": 16
        }
      ],
      "source": [
        "users.isnull().sum()"
      ]
    },
    {
      "cell_type": "code",
      "execution_count": null,
      "metadata": {
        "execution": {
          "iopub.execute_input": "2023-11-29T06:54:13.548063Z",
          "iopub.status.busy": "2023-11-29T06:54:13.547063Z",
          "iopub.status.idle": "2023-11-29T06:54:13.862063Z",
          "shell.execute_reply": "2023-11-29T06:54:13.862063Z",
          "shell.execute_reply.started": "2023-11-29T06:54:13.548063Z"
        },
        "id": "OTcVP9cGWU--"
      },
      "outputs": [],
      "source": [
        "users.fillna('Unknown', inplace=True)"
      ]
    },
    {
      "cell_type": "code",
      "execution_count": null,
      "metadata": {
        "execution": {
          "iopub.execute_input": "2023-11-29T06:54:13.864063Z",
          "iopub.status.busy": "2023-11-29T06:54:13.863063Z",
          "iopub.status.idle": "2023-11-29T06:54:14.007831Z",
          "shell.execute_reply": "2023-11-29T06:54:14.007831Z",
          "shell.execute_reply.started": "2023-11-29T06:54:13.864063Z"
        },
        "colab": {
          "base_uri": "https://localhost:8080/",
          "height": 241
        },
        "id": "jBUtPVQtWU--",
        "outputId": "c6d948f3-14b1-4872-9b6b-94a9603b5714"
      },
      "outputs": [
        {
          "output_type": "execute_result",
          "data": {
            "text/plain": [
              "user_id     840197\n",
              "age              7\n",
              "income           7\n",
              "sex              3\n",
              "kids_flg         2\n",
              "dtype: int64"
            ],
            "text/html": [
              "<div>\n",
              "<style scoped>\n",
              "    .dataframe tbody tr th:only-of-type {\n",
              "        vertical-align: middle;\n",
              "    }\n",
              "\n",
              "    .dataframe tbody tr th {\n",
              "        vertical-align: top;\n",
              "    }\n",
              "\n",
              "    .dataframe thead th {\n",
              "        text-align: right;\n",
              "    }\n",
              "</style>\n",
              "<table border=\"1\" class=\"dataframe\">\n",
              "  <thead>\n",
              "    <tr style=\"text-align: right;\">\n",
              "      <th></th>\n",
              "      <th>0</th>\n",
              "    </tr>\n",
              "  </thead>\n",
              "  <tbody>\n",
              "    <tr>\n",
              "      <th>user_id</th>\n",
              "      <td>840197</td>\n",
              "    </tr>\n",
              "    <tr>\n",
              "      <th>age</th>\n",
              "      <td>7</td>\n",
              "    </tr>\n",
              "    <tr>\n",
              "      <th>income</th>\n",
              "      <td>7</td>\n",
              "    </tr>\n",
              "    <tr>\n",
              "      <th>sex</th>\n",
              "      <td>3</td>\n",
              "    </tr>\n",
              "    <tr>\n",
              "      <th>kids_flg</th>\n",
              "      <td>2</td>\n",
              "    </tr>\n",
              "  </tbody>\n",
              "</table>\n",
              "</div><br><label><b>dtype:</b> int64</label>"
            ]
          },
          "metadata": {},
          "execution_count": 18
        }
      ],
      "source": [
        "users.nunique()"
      ]
    },
    {
      "cell_type": "code",
      "execution_count": null,
      "metadata": {
        "execution": {
          "iopub.execute_input": "2023-11-29T06:54:14.009831Z",
          "iopub.status.busy": "2023-11-29T06:54:14.008831Z",
          "iopub.status.idle": "2023-11-29T06:54:14.136831Z",
          "shell.execute_reply": "2023-11-29T06:54:14.135831Z",
          "shell.execute_reply.started": "2023-11-29T06:54:14.009831Z"
        },
        "id": "jhOCfcu_WU--"
      },
      "outputs": [],
      "source": [
        "users = users.loc[users[Columns.User].isin(train[Columns.User])].copy()"
      ]
    },
    {
      "cell_type": "code",
      "execution_count": null,
      "metadata": {
        "execution": {
          "iopub.execute_input": "2023-11-29T06:54:14.137831Z",
          "iopub.status.busy": "2023-11-29T06:54:14.137831Z",
          "iopub.status.idle": "2023-11-29T06:54:14.168831Z",
          "shell.execute_reply": "2023-11-29T06:54:14.167831Z",
          "shell.execute_reply.started": "2023-11-29T06:54:14.137831Z"
        },
        "colab": {
          "base_uri": "https://localhost:8080/",
          "height": 423
        },
        "id": "YV-ftvssWU--",
        "outputId": "a8b38b4f-bcbd-4557-d6bb-bbbfd2f60d6b"
      },
      "outputs": [
        {
          "output_type": "execute_result",
          "data": {
            "text/plain": [
              "        user_id         age        income sex  kids_flg\n",
              "0        973171   age_25_34  income_60_90   М         1\n",
              "1        962099   age_18_24  income_20_40   М         0\n",
              "3        721985   age_45_54  income_20_40   Ж         0\n",
              "4        704055   age_35_44  income_60_90   Ж         0\n",
              "5       1037719   age_45_54  income_60_90   М         0\n",
              "...         ...         ...           ...  ..       ...\n",
              "840184   529394   age_25_34  income_40_60   Ж         0\n",
              "840186    80113   age_25_34  income_40_60   Ж         0\n",
              "840188   312839  age_65_inf  income_60_90   Ж         0\n",
              "840189   191349   age_45_54  income_40_60   М         1\n",
              "840190   393868   age_25_34  income_20_40   М         0\n",
              "\n",
              "[586668 rows x 5 columns]"
            ],
            "text/html": [
              "\n",
              "  <div id=\"df-22a9089b-c882-462e-b4bf-a1cf918da324\" class=\"colab-df-container\">\n",
              "    <div>\n",
              "<style scoped>\n",
              "    .dataframe tbody tr th:only-of-type {\n",
              "        vertical-align: middle;\n",
              "    }\n",
              "\n",
              "    .dataframe tbody tr th {\n",
              "        vertical-align: top;\n",
              "    }\n",
              "\n",
              "    .dataframe thead th {\n",
              "        text-align: right;\n",
              "    }\n",
              "</style>\n",
              "<table border=\"1\" class=\"dataframe\">\n",
              "  <thead>\n",
              "    <tr style=\"text-align: right;\">\n",
              "      <th></th>\n",
              "      <th>user_id</th>\n",
              "      <th>age</th>\n",
              "      <th>income</th>\n",
              "      <th>sex</th>\n",
              "      <th>kids_flg</th>\n",
              "    </tr>\n",
              "  </thead>\n",
              "  <tbody>\n",
              "    <tr>\n",
              "      <th>0</th>\n",
              "      <td>973171</td>\n",
              "      <td>age_25_34</td>\n",
              "      <td>income_60_90</td>\n",
              "      <td>М</td>\n",
              "      <td>1</td>\n",
              "    </tr>\n",
              "    <tr>\n",
              "      <th>1</th>\n",
              "      <td>962099</td>\n",
              "      <td>age_18_24</td>\n",
              "      <td>income_20_40</td>\n",
              "      <td>М</td>\n",
              "      <td>0</td>\n",
              "    </tr>\n",
              "    <tr>\n",
              "      <th>3</th>\n",
              "      <td>721985</td>\n",
              "      <td>age_45_54</td>\n",
              "      <td>income_20_40</td>\n",
              "      <td>Ж</td>\n",
              "      <td>0</td>\n",
              "    </tr>\n",
              "    <tr>\n",
              "      <th>4</th>\n",
              "      <td>704055</td>\n",
              "      <td>age_35_44</td>\n",
              "      <td>income_60_90</td>\n",
              "      <td>Ж</td>\n",
              "      <td>0</td>\n",
              "    </tr>\n",
              "    <tr>\n",
              "      <th>5</th>\n",
              "      <td>1037719</td>\n",
              "      <td>age_45_54</td>\n",
              "      <td>income_60_90</td>\n",
              "      <td>М</td>\n",
              "      <td>0</td>\n",
              "    </tr>\n",
              "    <tr>\n",
              "      <th>...</th>\n",
              "      <td>...</td>\n",
              "      <td>...</td>\n",
              "      <td>...</td>\n",
              "      <td>...</td>\n",
              "      <td>...</td>\n",
              "    </tr>\n",
              "    <tr>\n",
              "      <th>840184</th>\n",
              "      <td>529394</td>\n",
              "      <td>age_25_34</td>\n",
              "      <td>income_40_60</td>\n",
              "      <td>Ж</td>\n",
              "      <td>0</td>\n",
              "    </tr>\n",
              "    <tr>\n",
              "      <th>840186</th>\n",
              "      <td>80113</td>\n",
              "      <td>age_25_34</td>\n",
              "      <td>income_40_60</td>\n",
              "      <td>Ж</td>\n",
              "      <td>0</td>\n",
              "    </tr>\n",
              "    <tr>\n",
              "      <th>840188</th>\n",
              "      <td>312839</td>\n",
              "      <td>age_65_inf</td>\n",
              "      <td>income_60_90</td>\n",
              "      <td>Ж</td>\n",
              "      <td>0</td>\n",
              "    </tr>\n",
              "    <tr>\n",
              "      <th>840189</th>\n",
              "      <td>191349</td>\n",
              "      <td>age_45_54</td>\n",
              "      <td>income_40_60</td>\n",
              "      <td>М</td>\n",
              "      <td>1</td>\n",
              "    </tr>\n",
              "    <tr>\n",
              "      <th>840190</th>\n",
              "      <td>393868</td>\n",
              "      <td>age_25_34</td>\n",
              "      <td>income_20_40</td>\n",
              "      <td>М</td>\n",
              "      <td>0</td>\n",
              "    </tr>\n",
              "  </tbody>\n",
              "</table>\n",
              "<p>586668 rows × 5 columns</p>\n",
              "</div>\n",
              "    <div class=\"colab-df-buttons\">\n",
              "\n",
              "  <div class=\"colab-df-container\">\n",
              "    <button class=\"colab-df-convert\" onclick=\"convertToInteractive('df-22a9089b-c882-462e-b4bf-a1cf918da324')\"\n",
              "            title=\"Convert this dataframe to an interactive table.\"\n",
              "            style=\"display:none;\">\n",
              "\n",
              "  <svg xmlns=\"http://www.w3.org/2000/svg\" height=\"24px\" viewBox=\"0 -960 960 960\">\n",
              "    <path d=\"M120-120v-720h720v720H120Zm60-500h600v-160H180v160Zm220 220h160v-160H400v160Zm0 220h160v-160H400v160ZM180-400h160v-160H180v160Zm440 0h160v-160H620v160ZM180-180h160v-160H180v160Zm440 0h160v-160H620v160Z\"/>\n",
              "  </svg>\n",
              "    </button>\n",
              "\n",
              "  <style>\n",
              "    .colab-df-container {\n",
              "      display:flex;\n",
              "      gap: 12px;\n",
              "    }\n",
              "\n",
              "    .colab-df-convert {\n",
              "      background-color: #E8F0FE;\n",
              "      border: none;\n",
              "      border-radius: 50%;\n",
              "      cursor: pointer;\n",
              "      display: none;\n",
              "      fill: #1967D2;\n",
              "      height: 32px;\n",
              "      padding: 0 0 0 0;\n",
              "      width: 32px;\n",
              "    }\n",
              "\n",
              "    .colab-df-convert:hover {\n",
              "      background-color: #E2EBFA;\n",
              "      box-shadow: 0px 1px 2px rgba(60, 64, 67, 0.3), 0px 1px 3px 1px rgba(60, 64, 67, 0.15);\n",
              "      fill: #174EA6;\n",
              "    }\n",
              "\n",
              "    .colab-df-buttons div {\n",
              "      margin-bottom: 4px;\n",
              "    }\n",
              "\n",
              "    [theme=dark] .colab-df-convert {\n",
              "      background-color: #3B4455;\n",
              "      fill: #D2E3FC;\n",
              "    }\n",
              "\n",
              "    [theme=dark] .colab-df-convert:hover {\n",
              "      background-color: #434B5C;\n",
              "      box-shadow: 0px 1px 3px 1px rgba(0, 0, 0, 0.15);\n",
              "      filter: drop-shadow(0px 1px 2px rgba(0, 0, 0, 0.3));\n",
              "      fill: #FFFFFF;\n",
              "    }\n",
              "  </style>\n",
              "\n",
              "    <script>\n",
              "      const buttonEl =\n",
              "        document.querySelector('#df-22a9089b-c882-462e-b4bf-a1cf918da324 button.colab-df-convert');\n",
              "      buttonEl.style.display =\n",
              "        google.colab.kernel.accessAllowed ? 'block' : 'none';\n",
              "\n",
              "      async function convertToInteractive(key) {\n",
              "        const element = document.querySelector('#df-22a9089b-c882-462e-b4bf-a1cf918da324');\n",
              "        const dataTable =\n",
              "          await google.colab.kernel.invokeFunction('convertToInteractive',\n",
              "                                                    [key], {});\n",
              "        if (!dataTable) return;\n",
              "\n",
              "        const docLinkHtml = 'Like what you see? Visit the ' +\n",
              "          '<a target=\"_blank\" href=https://colab.research.google.com/notebooks/data_table.ipynb>data table notebook</a>'\n",
              "          + ' to learn more about interactive tables.';\n",
              "        element.innerHTML = '';\n",
              "        dataTable['output_type'] = 'display_data';\n",
              "        await google.colab.output.renderOutput(dataTable, element);\n",
              "        const docLink = document.createElement('div');\n",
              "        docLink.innerHTML = docLinkHtml;\n",
              "        element.appendChild(docLink);\n",
              "      }\n",
              "    </script>\n",
              "  </div>\n",
              "\n",
              "\n",
              "<div id=\"df-8a2dcf0d-dba0-4380-b7bb-4f87701c568b\">\n",
              "  <button class=\"colab-df-quickchart\" onclick=\"quickchart('df-8a2dcf0d-dba0-4380-b7bb-4f87701c568b')\"\n",
              "            title=\"Suggest charts\"\n",
              "            style=\"display:none;\">\n",
              "\n",
              "<svg xmlns=\"http://www.w3.org/2000/svg\" height=\"24px\"viewBox=\"0 0 24 24\"\n",
              "     width=\"24px\">\n",
              "    <g>\n",
              "        <path d=\"M19 3H5c-1.1 0-2 .9-2 2v14c0 1.1.9 2 2 2h14c1.1 0 2-.9 2-2V5c0-1.1-.9-2-2-2zM9 17H7v-7h2v7zm4 0h-2V7h2v10zm4 0h-2v-4h2v4z\"/>\n",
              "    </g>\n",
              "</svg>\n",
              "  </button>\n",
              "\n",
              "<style>\n",
              "  .colab-df-quickchart {\n",
              "      --bg-color: #E8F0FE;\n",
              "      --fill-color: #1967D2;\n",
              "      --hover-bg-color: #E2EBFA;\n",
              "      --hover-fill-color: #174EA6;\n",
              "      --disabled-fill-color: #AAA;\n",
              "      --disabled-bg-color: #DDD;\n",
              "  }\n",
              "\n",
              "  [theme=dark] .colab-df-quickchart {\n",
              "      --bg-color: #3B4455;\n",
              "      --fill-color: #D2E3FC;\n",
              "      --hover-bg-color: #434B5C;\n",
              "      --hover-fill-color: #FFFFFF;\n",
              "      --disabled-bg-color: #3B4455;\n",
              "      --disabled-fill-color: #666;\n",
              "  }\n",
              "\n",
              "  .colab-df-quickchart {\n",
              "    background-color: var(--bg-color);\n",
              "    border: none;\n",
              "    border-radius: 50%;\n",
              "    cursor: pointer;\n",
              "    display: none;\n",
              "    fill: var(--fill-color);\n",
              "    height: 32px;\n",
              "    padding: 0;\n",
              "    width: 32px;\n",
              "  }\n",
              "\n",
              "  .colab-df-quickchart:hover {\n",
              "    background-color: var(--hover-bg-color);\n",
              "    box-shadow: 0 1px 2px rgba(60, 64, 67, 0.3), 0 1px 3px 1px rgba(60, 64, 67, 0.15);\n",
              "    fill: var(--button-hover-fill-color);\n",
              "  }\n",
              "\n",
              "  .colab-df-quickchart-complete:disabled,\n",
              "  .colab-df-quickchart-complete:disabled:hover {\n",
              "    background-color: var(--disabled-bg-color);\n",
              "    fill: var(--disabled-fill-color);\n",
              "    box-shadow: none;\n",
              "  }\n",
              "\n",
              "  .colab-df-spinner {\n",
              "    border: 2px solid var(--fill-color);\n",
              "    border-color: transparent;\n",
              "    border-bottom-color: var(--fill-color);\n",
              "    animation:\n",
              "      spin 1s steps(1) infinite;\n",
              "  }\n",
              "\n",
              "  @keyframes spin {\n",
              "    0% {\n",
              "      border-color: transparent;\n",
              "      border-bottom-color: var(--fill-color);\n",
              "      border-left-color: var(--fill-color);\n",
              "    }\n",
              "    20% {\n",
              "      border-color: transparent;\n",
              "      border-left-color: var(--fill-color);\n",
              "      border-top-color: var(--fill-color);\n",
              "    }\n",
              "    30% {\n",
              "      border-color: transparent;\n",
              "      border-left-color: var(--fill-color);\n",
              "      border-top-color: var(--fill-color);\n",
              "      border-right-color: var(--fill-color);\n",
              "    }\n",
              "    40% {\n",
              "      border-color: transparent;\n",
              "      border-right-color: var(--fill-color);\n",
              "      border-top-color: var(--fill-color);\n",
              "    }\n",
              "    60% {\n",
              "      border-color: transparent;\n",
              "      border-right-color: var(--fill-color);\n",
              "    }\n",
              "    80% {\n",
              "      border-color: transparent;\n",
              "      border-right-color: var(--fill-color);\n",
              "      border-bottom-color: var(--fill-color);\n",
              "    }\n",
              "    90% {\n",
              "      border-color: transparent;\n",
              "      border-bottom-color: var(--fill-color);\n",
              "    }\n",
              "  }\n",
              "</style>\n",
              "\n",
              "  <script>\n",
              "    async function quickchart(key) {\n",
              "      const quickchartButtonEl =\n",
              "        document.querySelector('#' + key + ' button');\n",
              "      quickchartButtonEl.disabled = true;  // To prevent multiple clicks.\n",
              "      quickchartButtonEl.classList.add('colab-df-spinner');\n",
              "      try {\n",
              "        const charts = await google.colab.kernel.invokeFunction(\n",
              "            'suggestCharts', [key], {});\n",
              "      } catch (error) {\n",
              "        console.error('Error during call to suggestCharts:', error);\n",
              "      }\n",
              "      quickchartButtonEl.classList.remove('colab-df-spinner');\n",
              "      quickchartButtonEl.classList.add('colab-df-quickchart-complete');\n",
              "    }\n",
              "    (() => {\n",
              "      let quickchartButtonEl =\n",
              "        document.querySelector('#df-8a2dcf0d-dba0-4380-b7bb-4f87701c568b button');\n",
              "      quickchartButtonEl.style.display =\n",
              "        google.colab.kernel.accessAllowed ? 'block' : 'none';\n",
              "    })();\n",
              "  </script>\n",
              "</div>\n",
              "    </div>\n",
              "  </div>\n"
            ],
            "application/vnd.google.colaboratory.intrinsic+json": {
              "type": "dataframe",
              "variable_name": "users"
            }
          },
          "metadata": {},
          "execution_count": 20
        }
      ],
      "source": [
        "users"
      ]
    },
    {
      "cell_type": "code",
      "execution_count": null,
      "metadata": {
        "execution": {
          "iopub.execute_input": "2023-11-29T06:54:14.169831Z",
          "iopub.status.busy": "2023-11-29T06:54:14.169831Z",
          "iopub.status.idle": "2023-11-29T06:54:14.215831Z",
          "shell.execute_reply": "2023-11-29T06:54:14.215831Z",
          "shell.execute_reply.started": "2023-11-29T06:54:14.169831Z"
        },
        "colab": {
          "base_uri": "https://localhost:8080/",
          "height": 206
        },
        "id": "rcW8y5HCWU--",
        "outputId": "94c311df-297b-46d1-c38a-3b53aebd53ee"
      },
      "outputs": [
        {
          "output_type": "execute_result",
          "data": {
            "text/plain": [
              "        id value feature\n",
              "0   973171     М     sex\n",
              "1   962099     М     sex\n",
              "3   721985     Ж     sex\n",
              "4   704055     Ж     sex\n",
              "5  1037719     М     sex"
            ],
            "text/html": [
              "\n",
              "  <div id=\"df-deba4500-8980-4e5e-a9b3-3c4b41be7505\" class=\"colab-df-container\">\n",
              "    <div>\n",
              "<style scoped>\n",
              "    .dataframe tbody tr th:only-of-type {\n",
              "        vertical-align: middle;\n",
              "    }\n",
              "\n",
              "    .dataframe tbody tr th {\n",
              "        vertical-align: top;\n",
              "    }\n",
              "\n",
              "    .dataframe thead th {\n",
              "        text-align: right;\n",
              "    }\n",
              "</style>\n",
              "<table border=\"1\" class=\"dataframe\">\n",
              "  <thead>\n",
              "    <tr style=\"text-align: right;\">\n",
              "      <th></th>\n",
              "      <th>id</th>\n",
              "      <th>value</th>\n",
              "      <th>feature</th>\n",
              "    </tr>\n",
              "  </thead>\n",
              "  <tbody>\n",
              "    <tr>\n",
              "      <th>0</th>\n",
              "      <td>973171</td>\n",
              "      <td>М</td>\n",
              "      <td>sex</td>\n",
              "    </tr>\n",
              "    <tr>\n",
              "      <th>1</th>\n",
              "      <td>962099</td>\n",
              "      <td>М</td>\n",
              "      <td>sex</td>\n",
              "    </tr>\n",
              "    <tr>\n",
              "      <th>3</th>\n",
              "      <td>721985</td>\n",
              "      <td>Ж</td>\n",
              "      <td>sex</td>\n",
              "    </tr>\n",
              "    <tr>\n",
              "      <th>4</th>\n",
              "      <td>704055</td>\n",
              "      <td>Ж</td>\n",
              "      <td>sex</td>\n",
              "    </tr>\n",
              "    <tr>\n",
              "      <th>5</th>\n",
              "      <td>1037719</td>\n",
              "      <td>М</td>\n",
              "      <td>sex</td>\n",
              "    </tr>\n",
              "  </tbody>\n",
              "</table>\n",
              "</div>\n",
              "    <div class=\"colab-df-buttons\">\n",
              "\n",
              "  <div class=\"colab-df-container\">\n",
              "    <button class=\"colab-df-convert\" onclick=\"convertToInteractive('df-deba4500-8980-4e5e-a9b3-3c4b41be7505')\"\n",
              "            title=\"Convert this dataframe to an interactive table.\"\n",
              "            style=\"display:none;\">\n",
              "\n",
              "  <svg xmlns=\"http://www.w3.org/2000/svg\" height=\"24px\" viewBox=\"0 -960 960 960\">\n",
              "    <path d=\"M120-120v-720h720v720H120Zm60-500h600v-160H180v160Zm220 220h160v-160H400v160Zm0 220h160v-160H400v160ZM180-400h160v-160H180v160Zm440 0h160v-160H620v160ZM180-180h160v-160H180v160Zm440 0h160v-160H620v160Z\"/>\n",
              "  </svg>\n",
              "    </button>\n",
              "\n",
              "  <style>\n",
              "    .colab-df-container {\n",
              "      display:flex;\n",
              "      gap: 12px;\n",
              "    }\n",
              "\n",
              "    .colab-df-convert {\n",
              "      background-color: #E8F0FE;\n",
              "      border: none;\n",
              "      border-radius: 50%;\n",
              "      cursor: pointer;\n",
              "      display: none;\n",
              "      fill: #1967D2;\n",
              "      height: 32px;\n",
              "      padding: 0 0 0 0;\n",
              "      width: 32px;\n",
              "    }\n",
              "\n",
              "    .colab-df-convert:hover {\n",
              "      background-color: #E2EBFA;\n",
              "      box-shadow: 0px 1px 2px rgba(60, 64, 67, 0.3), 0px 1px 3px 1px rgba(60, 64, 67, 0.15);\n",
              "      fill: #174EA6;\n",
              "    }\n",
              "\n",
              "    .colab-df-buttons div {\n",
              "      margin-bottom: 4px;\n",
              "    }\n",
              "\n",
              "    [theme=dark] .colab-df-convert {\n",
              "      background-color: #3B4455;\n",
              "      fill: #D2E3FC;\n",
              "    }\n",
              "\n",
              "    [theme=dark] .colab-df-convert:hover {\n",
              "      background-color: #434B5C;\n",
              "      box-shadow: 0px 1px 3px 1px rgba(0, 0, 0, 0.15);\n",
              "      filter: drop-shadow(0px 1px 2px rgba(0, 0, 0, 0.3));\n",
              "      fill: #FFFFFF;\n",
              "    }\n",
              "  </style>\n",
              "\n",
              "    <script>\n",
              "      const buttonEl =\n",
              "        document.querySelector('#df-deba4500-8980-4e5e-a9b3-3c4b41be7505 button.colab-df-convert');\n",
              "      buttonEl.style.display =\n",
              "        google.colab.kernel.accessAllowed ? 'block' : 'none';\n",
              "\n",
              "      async function convertToInteractive(key) {\n",
              "        const element = document.querySelector('#df-deba4500-8980-4e5e-a9b3-3c4b41be7505');\n",
              "        const dataTable =\n",
              "          await google.colab.kernel.invokeFunction('convertToInteractive',\n",
              "                                                    [key], {});\n",
              "        if (!dataTable) return;\n",
              "\n",
              "        const docLinkHtml = 'Like what you see? Visit the ' +\n",
              "          '<a target=\"_blank\" href=https://colab.research.google.com/notebooks/data_table.ipynb>data table notebook</a>'\n",
              "          + ' to learn more about interactive tables.';\n",
              "        element.innerHTML = '';\n",
              "        dataTable['output_type'] = 'display_data';\n",
              "        await google.colab.output.renderOutput(dataTable, element);\n",
              "        const docLink = document.createElement('div');\n",
              "        docLink.innerHTML = docLinkHtml;\n",
              "        element.appendChild(docLink);\n",
              "      }\n",
              "    </script>\n",
              "  </div>\n",
              "\n",
              "\n",
              "<div id=\"df-498ad483-e7b3-46c1-86dc-8603a6e1492d\">\n",
              "  <button class=\"colab-df-quickchart\" onclick=\"quickchart('df-498ad483-e7b3-46c1-86dc-8603a6e1492d')\"\n",
              "            title=\"Suggest charts\"\n",
              "            style=\"display:none;\">\n",
              "\n",
              "<svg xmlns=\"http://www.w3.org/2000/svg\" height=\"24px\"viewBox=\"0 0 24 24\"\n",
              "     width=\"24px\">\n",
              "    <g>\n",
              "        <path d=\"M19 3H5c-1.1 0-2 .9-2 2v14c0 1.1.9 2 2 2h14c1.1 0 2-.9 2-2V5c0-1.1-.9-2-2-2zM9 17H7v-7h2v7zm4 0h-2V7h2v10zm4 0h-2v-4h2v4z\"/>\n",
              "    </g>\n",
              "</svg>\n",
              "  </button>\n",
              "\n",
              "<style>\n",
              "  .colab-df-quickchart {\n",
              "      --bg-color: #E8F0FE;\n",
              "      --fill-color: #1967D2;\n",
              "      --hover-bg-color: #E2EBFA;\n",
              "      --hover-fill-color: #174EA6;\n",
              "      --disabled-fill-color: #AAA;\n",
              "      --disabled-bg-color: #DDD;\n",
              "  }\n",
              "\n",
              "  [theme=dark] .colab-df-quickchart {\n",
              "      --bg-color: #3B4455;\n",
              "      --fill-color: #D2E3FC;\n",
              "      --hover-bg-color: #434B5C;\n",
              "      --hover-fill-color: #FFFFFF;\n",
              "      --disabled-bg-color: #3B4455;\n",
              "      --disabled-fill-color: #666;\n",
              "  }\n",
              "\n",
              "  .colab-df-quickchart {\n",
              "    background-color: var(--bg-color);\n",
              "    border: none;\n",
              "    border-radius: 50%;\n",
              "    cursor: pointer;\n",
              "    display: none;\n",
              "    fill: var(--fill-color);\n",
              "    height: 32px;\n",
              "    padding: 0;\n",
              "    width: 32px;\n",
              "  }\n",
              "\n",
              "  .colab-df-quickchart:hover {\n",
              "    background-color: var(--hover-bg-color);\n",
              "    box-shadow: 0 1px 2px rgba(60, 64, 67, 0.3), 0 1px 3px 1px rgba(60, 64, 67, 0.15);\n",
              "    fill: var(--button-hover-fill-color);\n",
              "  }\n",
              "\n",
              "  .colab-df-quickchart-complete:disabled,\n",
              "  .colab-df-quickchart-complete:disabled:hover {\n",
              "    background-color: var(--disabled-bg-color);\n",
              "    fill: var(--disabled-fill-color);\n",
              "    box-shadow: none;\n",
              "  }\n",
              "\n",
              "  .colab-df-spinner {\n",
              "    border: 2px solid var(--fill-color);\n",
              "    border-color: transparent;\n",
              "    border-bottom-color: var(--fill-color);\n",
              "    animation:\n",
              "      spin 1s steps(1) infinite;\n",
              "  }\n",
              "\n",
              "  @keyframes spin {\n",
              "    0% {\n",
              "      border-color: transparent;\n",
              "      border-bottom-color: var(--fill-color);\n",
              "      border-left-color: var(--fill-color);\n",
              "    }\n",
              "    20% {\n",
              "      border-color: transparent;\n",
              "      border-left-color: var(--fill-color);\n",
              "      border-top-color: var(--fill-color);\n",
              "    }\n",
              "    30% {\n",
              "      border-color: transparent;\n",
              "      border-left-color: var(--fill-color);\n",
              "      border-top-color: var(--fill-color);\n",
              "      border-right-color: var(--fill-color);\n",
              "    }\n",
              "    40% {\n",
              "      border-color: transparent;\n",
              "      border-right-color: var(--fill-color);\n",
              "      border-top-color: var(--fill-color);\n",
              "    }\n",
              "    60% {\n",
              "      border-color: transparent;\n",
              "      border-right-color: var(--fill-color);\n",
              "    }\n",
              "    80% {\n",
              "      border-color: transparent;\n",
              "      border-right-color: var(--fill-color);\n",
              "      border-bottom-color: var(--fill-color);\n",
              "    }\n",
              "    90% {\n",
              "      border-color: transparent;\n",
              "      border-bottom-color: var(--fill-color);\n",
              "    }\n",
              "  }\n",
              "</style>\n",
              "\n",
              "  <script>\n",
              "    async function quickchart(key) {\n",
              "      const quickchartButtonEl =\n",
              "        document.querySelector('#' + key + ' button');\n",
              "      quickchartButtonEl.disabled = true;  // To prevent multiple clicks.\n",
              "      quickchartButtonEl.classList.add('colab-df-spinner');\n",
              "      try {\n",
              "        const charts = await google.colab.kernel.invokeFunction(\n",
              "            'suggestCharts', [key], {});\n",
              "      } catch (error) {\n",
              "        console.error('Error during call to suggestCharts:', error);\n",
              "      }\n",
              "      quickchartButtonEl.classList.remove('colab-df-spinner');\n",
              "      quickchartButtonEl.classList.add('colab-df-quickchart-complete');\n",
              "    }\n",
              "    (() => {\n",
              "      let quickchartButtonEl =\n",
              "        document.querySelector('#df-498ad483-e7b3-46c1-86dc-8603a6e1492d button');\n",
              "      quickchartButtonEl.style.display =\n",
              "        google.colab.kernel.accessAllowed ? 'block' : 'none';\n",
              "    })();\n",
              "  </script>\n",
              "</div>\n",
              "    </div>\n",
              "  </div>\n"
            ],
            "application/vnd.google.colaboratory.intrinsic+json": {
              "type": "dataframe",
              "variable_name": "user_features"
            }
          },
          "metadata": {},
          "execution_count": 21
        }
      ],
      "source": [
        "user_features_frames = []\n",
        "for feature in [\"sex\", \"age\", \"income\"]:\n",
        "    feature_frame = users.reindex(columns=[Columns.User, feature])\n",
        "    feature_frame.columns = [\"id\", \"value\"]\n",
        "    feature_frame[\"feature\"] = feature\n",
        "    user_features_frames.append(feature_frame)\n",
        "user_features = pd.concat(user_features_frames)\n",
        "user_features.head()"
      ]
    },
    {
      "cell_type": "code",
      "execution_count": null,
      "metadata": {
        "execution": {
          "iopub.execute_input": "2023-11-29T06:54:14.221831Z",
          "iopub.status.busy": "2023-11-29T06:54:14.221831Z",
          "iopub.status.idle": "2023-11-29T06:54:14.264831Z",
          "shell.execute_reply": "2023-11-29T06:54:14.263831Z",
          "shell.execute_reply.started": "2023-11-29T06:54:14.221831Z"
        },
        "colab": {
          "base_uri": "https://localhost:8080/",
          "height": 143
        },
        "id": "Lwuh-2qyWU--",
        "outputId": "89dd48af-87c2-4dc5-bf3e-00593005634d"
      },
      "outputs": [
        {
          "output_type": "execute_result",
          "data": {
            "text/plain": [
              "       id         value feature\n",
              "0  973171             М     sex\n",
              "0  973171     age_25_34     age\n",
              "0  973171  income_60_90  income"
            ],
            "text/html": [
              "\n",
              "  <div id=\"df-594d0408-7f73-4cf2-97e7-017528e1d39b\" class=\"colab-df-container\">\n",
              "    <div>\n",
              "<style scoped>\n",
              "    .dataframe tbody tr th:only-of-type {\n",
              "        vertical-align: middle;\n",
              "    }\n",
              "\n",
              "    .dataframe tbody tr th {\n",
              "        vertical-align: top;\n",
              "    }\n",
              "\n",
              "    .dataframe thead th {\n",
              "        text-align: right;\n",
              "    }\n",
              "</style>\n",
              "<table border=\"1\" class=\"dataframe\">\n",
              "  <thead>\n",
              "    <tr style=\"text-align: right;\">\n",
              "      <th></th>\n",
              "      <th>id</th>\n",
              "      <th>value</th>\n",
              "      <th>feature</th>\n",
              "    </tr>\n",
              "  </thead>\n",
              "  <tbody>\n",
              "    <tr>\n",
              "      <th>0</th>\n",
              "      <td>973171</td>\n",
              "      <td>М</td>\n",
              "      <td>sex</td>\n",
              "    </tr>\n",
              "    <tr>\n",
              "      <th>0</th>\n",
              "      <td>973171</td>\n",
              "      <td>age_25_34</td>\n",
              "      <td>age</td>\n",
              "    </tr>\n",
              "    <tr>\n",
              "      <th>0</th>\n",
              "      <td>973171</td>\n",
              "      <td>income_60_90</td>\n",
              "      <td>income</td>\n",
              "    </tr>\n",
              "  </tbody>\n",
              "</table>\n",
              "</div>\n",
              "    <div class=\"colab-df-buttons\">\n",
              "\n",
              "  <div class=\"colab-df-container\">\n",
              "    <button class=\"colab-df-convert\" onclick=\"convertToInteractive('df-594d0408-7f73-4cf2-97e7-017528e1d39b')\"\n",
              "            title=\"Convert this dataframe to an interactive table.\"\n",
              "            style=\"display:none;\">\n",
              "\n",
              "  <svg xmlns=\"http://www.w3.org/2000/svg\" height=\"24px\" viewBox=\"0 -960 960 960\">\n",
              "    <path d=\"M120-120v-720h720v720H120Zm60-500h600v-160H180v160Zm220 220h160v-160H400v160Zm0 220h160v-160H400v160ZM180-400h160v-160H180v160Zm440 0h160v-160H620v160ZM180-180h160v-160H180v160Zm440 0h160v-160H620v160Z\"/>\n",
              "  </svg>\n",
              "    </button>\n",
              "\n",
              "  <style>\n",
              "    .colab-df-container {\n",
              "      display:flex;\n",
              "      gap: 12px;\n",
              "    }\n",
              "\n",
              "    .colab-df-convert {\n",
              "      background-color: #E8F0FE;\n",
              "      border: none;\n",
              "      border-radius: 50%;\n",
              "      cursor: pointer;\n",
              "      display: none;\n",
              "      fill: #1967D2;\n",
              "      height: 32px;\n",
              "      padding: 0 0 0 0;\n",
              "      width: 32px;\n",
              "    }\n",
              "\n",
              "    .colab-df-convert:hover {\n",
              "      background-color: #E2EBFA;\n",
              "      box-shadow: 0px 1px 2px rgba(60, 64, 67, 0.3), 0px 1px 3px 1px rgba(60, 64, 67, 0.15);\n",
              "      fill: #174EA6;\n",
              "    }\n",
              "\n",
              "    .colab-df-buttons div {\n",
              "      margin-bottom: 4px;\n",
              "    }\n",
              "\n",
              "    [theme=dark] .colab-df-convert {\n",
              "      background-color: #3B4455;\n",
              "      fill: #D2E3FC;\n",
              "    }\n",
              "\n",
              "    [theme=dark] .colab-df-convert:hover {\n",
              "      background-color: #434B5C;\n",
              "      box-shadow: 0px 1px 3px 1px rgba(0, 0, 0, 0.15);\n",
              "      filter: drop-shadow(0px 1px 2px rgba(0, 0, 0, 0.3));\n",
              "      fill: #FFFFFF;\n",
              "    }\n",
              "  </style>\n",
              "\n",
              "    <script>\n",
              "      const buttonEl =\n",
              "        document.querySelector('#df-594d0408-7f73-4cf2-97e7-017528e1d39b button.colab-df-convert');\n",
              "      buttonEl.style.display =\n",
              "        google.colab.kernel.accessAllowed ? 'block' : 'none';\n",
              "\n",
              "      async function convertToInteractive(key) {\n",
              "        const element = document.querySelector('#df-594d0408-7f73-4cf2-97e7-017528e1d39b');\n",
              "        const dataTable =\n",
              "          await google.colab.kernel.invokeFunction('convertToInteractive',\n",
              "                                                    [key], {});\n",
              "        if (!dataTable) return;\n",
              "\n",
              "        const docLinkHtml = 'Like what you see? Visit the ' +\n",
              "          '<a target=\"_blank\" href=https://colab.research.google.com/notebooks/data_table.ipynb>data table notebook</a>'\n",
              "          + ' to learn more about interactive tables.';\n",
              "        element.innerHTML = '';\n",
              "        dataTable['output_type'] = 'display_data';\n",
              "        await google.colab.output.renderOutput(dataTable, element);\n",
              "        const docLink = document.createElement('div');\n",
              "        docLink.innerHTML = docLinkHtml;\n",
              "        element.appendChild(docLink);\n",
              "      }\n",
              "    </script>\n",
              "  </div>\n",
              "\n",
              "\n",
              "<div id=\"df-a46e6cb7-e503-40a4-ac06-af095dcbbedc\">\n",
              "  <button class=\"colab-df-quickchart\" onclick=\"quickchart('df-a46e6cb7-e503-40a4-ac06-af095dcbbedc')\"\n",
              "            title=\"Suggest charts\"\n",
              "            style=\"display:none;\">\n",
              "\n",
              "<svg xmlns=\"http://www.w3.org/2000/svg\" height=\"24px\"viewBox=\"0 0 24 24\"\n",
              "     width=\"24px\">\n",
              "    <g>\n",
              "        <path d=\"M19 3H5c-1.1 0-2 .9-2 2v14c0 1.1.9 2 2 2h14c1.1 0 2-.9 2-2V5c0-1.1-.9-2-2-2zM9 17H7v-7h2v7zm4 0h-2V7h2v10zm4 0h-2v-4h2v4z\"/>\n",
              "    </g>\n",
              "</svg>\n",
              "  </button>\n",
              "\n",
              "<style>\n",
              "  .colab-df-quickchart {\n",
              "      --bg-color: #E8F0FE;\n",
              "      --fill-color: #1967D2;\n",
              "      --hover-bg-color: #E2EBFA;\n",
              "      --hover-fill-color: #174EA6;\n",
              "      --disabled-fill-color: #AAA;\n",
              "      --disabled-bg-color: #DDD;\n",
              "  }\n",
              "\n",
              "  [theme=dark] .colab-df-quickchart {\n",
              "      --bg-color: #3B4455;\n",
              "      --fill-color: #D2E3FC;\n",
              "      --hover-bg-color: #434B5C;\n",
              "      --hover-fill-color: #FFFFFF;\n",
              "      --disabled-bg-color: #3B4455;\n",
              "      --disabled-fill-color: #666;\n",
              "  }\n",
              "\n",
              "  .colab-df-quickchart {\n",
              "    background-color: var(--bg-color);\n",
              "    border: none;\n",
              "    border-radius: 50%;\n",
              "    cursor: pointer;\n",
              "    display: none;\n",
              "    fill: var(--fill-color);\n",
              "    height: 32px;\n",
              "    padding: 0;\n",
              "    width: 32px;\n",
              "  }\n",
              "\n",
              "  .colab-df-quickchart:hover {\n",
              "    background-color: var(--hover-bg-color);\n",
              "    box-shadow: 0 1px 2px rgba(60, 64, 67, 0.3), 0 1px 3px 1px rgba(60, 64, 67, 0.15);\n",
              "    fill: var(--button-hover-fill-color);\n",
              "  }\n",
              "\n",
              "  .colab-df-quickchart-complete:disabled,\n",
              "  .colab-df-quickchart-complete:disabled:hover {\n",
              "    background-color: var(--disabled-bg-color);\n",
              "    fill: var(--disabled-fill-color);\n",
              "    box-shadow: none;\n",
              "  }\n",
              "\n",
              "  .colab-df-spinner {\n",
              "    border: 2px solid var(--fill-color);\n",
              "    border-color: transparent;\n",
              "    border-bottom-color: var(--fill-color);\n",
              "    animation:\n",
              "      spin 1s steps(1) infinite;\n",
              "  }\n",
              "\n",
              "  @keyframes spin {\n",
              "    0% {\n",
              "      border-color: transparent;\n",
              "      border-bottom-color: var(--fill-color);\n",
              "      border-left-color: var(--fill-color);\n",
              "    }\n",
              "    20% {\n",
              "      border-color: transparent;\n",
              "      border-left-color: var(--fill-color);\n",
              "      border-top-color: var(--fill-color);\n",
              "    }\n",
              "    30% {\n",
              "      border-color: transparent;\n",
              "      border-left-color: var(--fill-color);\n",
              "      border-top-color: var(--fill-color);\n",
              "      border-right-color: var(--fill-color);\n",
              "    }\n",
              "    40% {\n",
              "      border-color: transparent;\n",
              "      border-right-color: var(--fill-color);\n",
              "      border-top-color: var(--fill-color);\n",
              "    }\n",
              "    60% {\n",
              "      border-color: transparent;\n",
              "      border-right-color: var(--fill-color);\n",
              "    }\n",
              "    80% {\n",
              "      border-color: transparent;\n",
              "      border-right-color: var(--fill-color);\n",
              "      border-bottom-color: var(--fill-color);\n",
              "    }\n",
              "    90% {\n",
              "      border-color: transparent;\n",
              "      border-bottom-color: var(--fill-color);\n",
              "    }\n",
              "  }\n",
              "</style>\n",
              "\n",
              "  <script>\n",
              "    async function quickchart(key) {\n",
              "      const quickchartButtonEl =\n",
              "        document.querySelector('#' + key + ' button');\n",
              "      quickchartButtonEl.disabled = true;  // To prevent multiple clicks.\n",
              "      quickchartButtonEl.classList.add('colab-df-spinner');\n",
              "      try {\n",
              "        const charts = await google.colab.kernel.invokeFunction(\n",
              "            'suggestCharts', [key], {});\n",
              "      } catch (error) {\n",
              "        console.error('Error during call to suggestCharts:', error);\n",
              "      }\n",
              "      quickchartButtonEl.classList.remove('colab-df-spinner');\n",
              "      quickchartButtonEl.classList.add('colab-df-quickchart-complete');\n",
              "    }\n",
              "    (() => {\n",
              "      let quickchartButtonEl =\n",
              "        document.querySelector('#df-a46e6cb7-e503-40a4-ac06-af095dcbbedc button');\n",
              "      quickchartButtonEl.style.display =\n",
              "        google.colab.kernel.accessAllowed ? 'block' : 'none';\n",
              "    })();\n",
              "  </script>\n",
              "</div>\n",
              "    </div>\n",
              "  </div>\n"
            ],
            "application/vnd.google.colaboratory.intrinsic+json": {
              "type": "dataframe",
              "summary": "{\n  \"name\": \"user_features\",\n  \"rows\": 3,\n  \"fields\": [\n    {\n      \"column\": \"id\",\n      \"properties\": {\n        \"dtype\": \"number\",\n        \"std\": 0,\n        \"min\": 973171,\n        \"max\": 973171,\n        \"num_unique_values\": 1,\n        \"samples\": [\n          973171\n        ],\n        \"semantic_type\": \"\",\n        \"description\": \"\"\n      }\n    },\n    {\n      \"column\": \"value\",\n      \"properties\": {\n        \"dtype\": \"string\",\n        \"num_unique_values\": 3,\n        \"samples\": [\n          \"\\u041c\"\n        ],\n        \"semantic_type\": \"\",\n        \"description\": \"\"\n      }\n    },\n    {\n      \"column\": \"feature\",\n      \"properties\": {\n        \"dtype\": \"string\",\n        \"num_unique_values\": 3,\n        \"samples\": [\n          \"sex\"\n        ],\n        \"semantic_type\": \"\",\n        \"description\": \"\"\n      }\n    }\n  ]\n}"
            }
          },
          "metadata": {},
          "execution_count": 22
        }
      ],
      "source": [
        "user_features.query(f\"id == 973171\")"
      ]
    },
    {
      "cell_type": "markdown",
      "metadata": {
        "id": "2B_ejSXEWU--"
      },
      "source": [
        "# Item features"
      ]
    },
    {
      "cell_type": "code",
      "execution_count": null,
      "metadata": {
        "execution": {
          "iopub.execute_input": "2023-11-29T06:54:14.265831Z",
          "iopub.status.busy": "2023-11-29T06:54:14.265831Z",
          "iopub.status.idle": "2023-11-29T06:54:14.297849Z",
          "shell.execute_reply": "2023-11-29T06:54:14.295847Z",
          "shell.execute_reply.started": "2023-11-29T06:54:14.265831Z"
        },
        "colab": {
          "base_uri": "https://localhost:8080/",
          "height": 523
        },
        "id": "0Yase-taWU--",
        "outputId": "259e5819-7247-4bad-be64-6d08286ca238"
      },
      "outputs": [
        {
          "output_type": "execute_result",
          "data": {
            "text/plain": [
              "item_id             0\n",
              "content_type        0\n",
              "title               0\n",
              "title_orig       4745\n",
              "release_year       98\n",
              "genres              0\n",
              "countries          37\n",
              "for_kids        15397\n",
              "age_rating          2\n",
              "studios         14898\n",
              "directors        1509\n",
              "actors           2619\n",
              "description         2\n",
              "keywords          423\n",
              "dtype: int64"
            ],
            "text/html": [
              "<div>\n",
              "<style scoped>\n",
              "    .dataframe tbody tr th:only-of-type {\n",
              "        vertical-align: middle;\n",
              "    }\n",
              "\n",
              "    .dataframe tbody tr th {\n",
              "        vertical-align: top;\n",
              "    }\n",
              "\n",
              "    .dataframe thead th {\n",
              "        text-align: right;\n",
              "    }\n",
              "</style>\n",
              "<table border=\"1\" class=\"dataframe\">\n",
              "  <thead>\n",
              "    <tr style=\"text-align: right;\">\n",
              "      <th></th>\n",
              "      <th>0</th>\n",
              "    </tr>\n",
              "  </thead>\n",
              "  <tbody>\n",
              "    <tr>\n",
              "      <th>item_id</th>\n",
              "      <td>0</td>\n",
              "    </tr>\n",
              "    <tr>\n",
              "      <th>content_type</th>\n",
              "      <td>0</td>\n",
              "    </tr>\n",
              "    <tr>\n",
              "      <th>title</th>\n",
              "      <td>0</td>\n",
              "    </tr>\n",
              "    <tr>\n",
              "      <th>title_orig</th>\n",
              "      <td>4745</td>\n",
              "    </tr>\n",
              "    <tr>\n",
              "      <th>release_year</th>\n",
              "      <td>98</td>\n",
              "    </tr>\n",
              "    <tr>\n",
              "      <th>genres</th>\n",
              "      <td>0</td>\n",
              "    </tr>\n",
              "    <tr>\n",
              "      <th>countries</th>\n",
              "      <td>37</td>\n",
              "    </tr>\n",
              "    <tr>\n",
              "      <th>for_kids</th>\n",
              "      <td>15397</td>\n",
              "    </tr>\n",
              "    <tr>\n",
              "      <th>age_rating</th>\n",
              "      <td>2</td>\n",
              "    </tr>\n",
              "    <tr>\n",
              "      <th>studios</th>\n",
              "      <td>14898</td>\n",
              "    </tr>\n",
              "    <tr>\n",
              "      <th>directors</th>\n",
              "      <td>1509</td>\n",
              "    </tr>\n",
              "    <tr>\n",
              "      <th>actors</th>\n",
              "      <td>2619</td>\n",
              "    </tr>\n",
              "    <tr>\n",
              "      <th>description</th>\n",
              "      <td>2</td>\n",
              "    </tr>\n",
              "    <tr>\n",
              "      <th>keywords</th>\n",
              "      <td>423</td>\n",
              "    </tr>\n",
              "  </tbody>\n",
              "</table>\n",
              "</div><br><label><b>dtype:</b> int64</label>"
            ]
          },
          "metadata": {},
          "execution_count": 23
        }
      ],
      "source": [
        "items.isnull().sum()"
      ]
    },
    {
      "cell_type": "code",
      "execution_count": null,
      "metadata": {
        "execution": {
          "iopub.execute_input": "2023-11-29T06:54:14.298842Z",
          "iopub.status.busy": "2023-11-29T06:54:14.298842Z",
          "iopub.status.idle": "2023-11-29T06:54:14.344831Z",
          "shell.execute_reply": "2023-11-29T06:54:14.343831Z",
          "shell.execute_reply.started": "2023-11-29T06:54:14.298842Z"
        },
        "id": "PiB4TjbIWU-_"
      },
      "outputs": [],
      "source": [
        "items = items.loc[items[Columns.Item].isin(train[Columns.Item])].copy()"
      ]
    },
    {
      "cell_type": "code",
      "execution_count": null,
      "metadata": {
        "execution": {
          "iopub.execute_input": "2023-11-29T06:54:14.345831Z",
          "iopub.status.busy": "2023-11-29T06:54:14.345831Z",
          "iopub.status.idle": "2023-11-29T06:54:14.360831Z",
          "shell.execute_reply": "2023-11-29T06:54:14.359831Z",
          "shell.execute_reply.started": "2023-11-29T06:54:14.345831Z"
        },
        "colab": {
          "base_uri": "https://localhost:8080/",
          "height": 345
        },
        "id": "vXggd_qQWU-_",
        "outputId": "d705ca5d-cb2f-4eb9-a68b-37f261ee6ef9"
      },
      "outputs": [
        {
          "output_type": "execute_result",
          "data": {
            "text/plain": [
              "   item_id content_type                 title      title_orig  release_year  \\\n",
              "0    10711         film        Поговори с ней  Hable con ella        2002.0   \n",
              "1     2508         film           Голые перцы    Search Party        2014.0   \n",
              "2    10716         film      Тактическая сила  Tactical Force        2011.0   \n",
              "3     7868         film                45 лет        45 Years        2015.0   \n",
              "4    16268         film  Все решает мгновение             NaN        1978.0   \n",
              "\n",
              "                                             genres       countries  for_kids  \\\n",
              "0           драмы, зарубежные, детективы, мелодрамы         Испания       NaN   \n",
              "1                  зарубежные, приключения, комедии             США       NaN   \n",
              "2  криминал, зарубежные, триллеры, боевики, комедии          Канада       NaN   \n",
              "3                      драмы, зарубежные, мелодрамы  Великобритания       NaN   \n",
              "4                драмы, спорт, советские, мелодрамы            СССР       NaN   \n",
              "\n",
              "   age_rating   studios         directors  \\\n",
              "0        16.0       NaN  Педро Альмодовар   \n",
              "1        16.0       NaN    Скот Армстронг   \n",
              "2        16.0       NaN  Адам П. Калтраро   \n",
              "3        16.0       NaN         Эндрю Хэй   \n",
              "4        12.0  Ленфильм  Виктор Садовский   \n",
              "\n",
              "                                              actors  \\\n",
              "0  Адольфо Фернандес, Ана Фернандес, Дарио Гранди...   \n",
              "1  Адам Палли, Брайан Хаски, Дж.Б. Смув, Джейсон ...   \n",
              "2  Адриан Холмс, Даррен Шалави, Джерри Вассерман,...   \n",
              "3  Александра Риддлстон-Барретт, Джеральдин Джейм...   \n",
              "4  Александр Абдулов, Александр Демьяненко, Алекс...   \n",
              "\n",
              "                                         description  \\\n",
              "0  Мелодрама легендарного Педро Альмодовара «Пого...   \n",
              "1  Уморительная современная комедия на популярную...   \n",
              "2  Профессиональный рестлер Стив Остин («Все или ...   \n",
              "3  Шарлотта Рэмплинг, Том Кортни, Джеральдин Джей...   \n",
              "4  Расчетливая чаровница из советского кинохита «...   \n",
              "\n",
              "                                            keywords  \n",
              "0  Поговори, ней, 2002, Испания, друзья, любовь, ...  \n",
              "1  Голые, перцы, 2014, США, друзья, свадьбы, прео...  \n",
              "2  Тактическая, сила, 2011, Канада, бандиты, ганг...  \n",
              "3  45, лет, 2015, Великобритания, брак, жизнь, лю...  \n",
              "4  Все, решает, мгновение, 1978, СССР, сильные, ж...  "
            ],
            "text/html": [
              "\n",
              "  <div id=\"df-fc81e742-141e-4299-a9fa-8f5be8eefa54\" class=\"colab-df-container\">\n",
              "    <div>\n",
              "<style scoped>\n",
              "    .dataframe tbody tr th:only-of-type {\n",
              "        vertical-align: middle;\n",
              "    }\n",
              "\n",
              "    .dataframe tbody tr th {\n",
              "        vertical-align: top;\n",
              "    }\n",
              "\n",
              "    .dataframe thead th {\n",
              "        text-align: right;\n",
              "    }\n",
              "</style>\n",
              "<table border=\"1\" class=\"dataframe\">\n",
              "  <thead>\n",
              "    <tr style=\"text-align: right;\">\n",
              "      <th></th>\n",
              "      <th>item_id</th>\n",
              "      <th>content_type</th>\n",
              "      <th>title</th>\n",
              "      <th>title_orig</th>\n",
              "      <th>release_year</th>\n",
              "      <th>genres</th>\n",
              "      <th>countries</th>\n",
              "      <th>for_kids</th>\n",
              "      <th>age_rating</th>\n",
              "      <th>studios</th>\n",
              "      <th>directors</th>\n",
              "      <th>actors</th>\n",
              "      <th>description</th>\n",
              "      <th>keywords</th>\n",
              "    </tr>\n",
              "  </thead>\n",
              "  <tbody>\n",
              "    <tr>\n",
              "      <th>0</th>\n",
              "      <td>10711</td>\n",
              "      <td>film</td>\n",
              "      <td>Поговори с ней</td>\n",
              "      <td>Hable con ella</td>\n",
              "      <td>2002.0</td>\n",
              "      <td>драмы, зарубежные, детективы, мелодрамы</td>\n",
              "      <td>Испания</td>\n",
              "      <td>NaN</td>\n",
              "      <td>16.0</td>\n",
              "      <td>NaN</td>\n",
              "      <td>Педро Альмодовар</td>\n",
              "      <td>Адольфо Фернандес, Ана Фернандес, Дарио Гранди...</td>\n",
              "      <td>Мелодрама легендарного Педро Альмодовара «Пого...</td>\n",
              "      <td>Поговори, ней, 2002, Испания, друзья, любовь, ...</td>\n",
              "    </tr>\n",
              "    <tr>\n",
              "      <th>1</th>\n",
              "      <td>2508</td>\n",
              "      <td>film</td>\n",
              "      <td>Голые перцы</td>\n",
              "      <td>Search Party</td>\n",
              "      <td>2014.0</td>\n",
              "      <td>зарубежные, приключения, комедии</td>\n",
              "      <td>США</td>\n",
              "      <td>NaN</td>\n",
              "      <td>16.0</td>\n",
              "      <td>NaN</td>\n",
              "      <td>Скот Армстронг</td>\n",
              "      <td>Адам Палли, Брайан Хаски, Дж.Б. Смув, Джейсон ...</td>\n",
              "      <td>Уморительная современная комедия на популярную...</td>\n",
              "      <td>Голые, перцы, 2014, США, друзья, свадьбы, прео...</td>\n",
              "    </tr>\n",
              "    <tr>\n",
              "      <th>2</th>\n",
              "      <td>10716</td>\n",
              "      <td>film</td>\n",
              "      <td>Тактическая сила</td>\n",
              "      <td>Tactical Force</td>\n",
              "      <td>2011.0</td>\n",
              "      <td>криминал, зарубежные, триллеры, боевики, комедии</td>\n",
              "      <td>Канада</td>\n",
              "      <td>NaN</td>\n",
              "      <td>16.0</td>\n",
              "      <td>NaN</td>\n",
              "      <td>Адам П. Калтраро</td>\n",
              "      <td>Адриан Холмс, Даррен Шалави, Джерри Вассерман,...</td>\n",
              "      <td>Профессиональный рестлер Стив Остин («Все или ...</td>\n",
              "      <td>Тактическая, сила, 2011, Канада, бандиты, ганг...</td>\n",
              "    </tr>\n",
              "    <tr>\n",
              "      <th>3</th>\n",
              "      <td>7868</td>\n",
              "      <td>film</td>\n",
              "      <td>45 лет</td>\n",
              "      <td>45 Years</td>\n",
              "      <td>2015.0</td>\n",
              "      <td>драмы, зарубежные, мелодрамы</td>\n",
              "      <td>Великобритания</td>\n",
              "      <td>NaN</td>\n",
              "      <td>16.0</td>\n",
              "      <td>NaN</td>\n",
              "      <td>Эндрю Хэй</td>\n",
              "      <td>Александра Риддлстон-Барретт, Джеральдин Джейм...</td>\n",
              "      <td>Шарлотта Рэмплинг, Том Кортни, Джеральдин Джей...</td>\n",
              "      <td>45, лет, 2015, Великобритания, брак, жизнь, лю...</td>\n",
              "    </tr>\n",
              "    <tr>\n",
              "      <th>4</th>\n",
              "      <td>16268</td>\n",
              "      <td>film</td>\n",
              "      <td>Все решает мгновение</td>\n",
              "      <td>NaN</td>\n",
              "      <td>1978.0</td>\n",
              "      <td>драмы, спорт, советские, мелодрамы</td>\n",
              "      <td>СССР</td>\n",
              "      <td>NaN</td>\n",
              "      <td>12.0</td>\n",
              "      <td>Ленфильм</td>\n",
              "      <td>Виктор Садовский</td>\n",
              "      <td>Александр Абдулов, Александр Демьяненко, Алекс...</td>\n",
              "      <td>Расчетливая чаровница из советского кинохита «...</td>\n",
              "      <td>Все, решает, мгновение, 1978, СССР, сильные, ж...</td>\n",
              "    </tr>\n",
              "  </tbody>\n",
              "</table>\n",
              "</div>\n",
              "    <div class=\"colab-df-buttons\">\n",
              "\n",
              "  <div class=\"colab-df-container\">\n",
              "    <button class=\"colab-df-convert\" onclick=\"convertToInteractive('df-fc81e742-141e-4299-a9fa-8f5be8eefa54')\"\n",
              "            title=\"Convert this dataframe to an interactive table.\"\n",
              "            style=\"display:none;\">\n",
              "\n",
              "  <svg xmlns=\"http://www.w3.org/2000/svg\" height=\"24px\" viewBox=\"0 -960 960 960\">\n",
              "    <path d=\"M120-120v-720h720v720H120Zm60-500h600v-160H180v160Zm220 220h160v-160H400v160Zm0 220h160v-160H400v160ZM180-400h160v-160H180v160Zm440 0h160v-160H620v160ZM180-180h160v-160H180v160Zm440 0h160v-160H620v160Z\"/>\n",
              "  </svg>\n",
              "    </button>\n",
              "\n",
              "  <style>\n",
              "    .colab-df-container {\n",
              "      display:flex;\n",
              "      gap: 12px;\n",
              "    }\n",
              "\n",
              "    .colab-df-convert {\n",
              "      background-color: #E8F0FE;\n",
              "      border: none;\n",
              "      border-radius: 50%;\n",
              "      cursor: pointer;\n",
              "      display: none;\n",
              "      fill: #1967D2;\n",
              "      height: 32px;\n",
              "      padding: 0 0 0 0;\n",
              "      width: 32px;\n",
              "    }\n",
              "\n",
              "    .colab-df-convert:hover {\n",
              "      background-color: #E2EBFA;\n",
              "      box-shadow: 0px 1px 2px rgba(60, 64, 67, 0.3), 0px 1px 3px 1px rgba(60, 64, 67, 0.15);\n",
              "      fill: #174EA6;\n",
              "    }\n",
              "\n",
              "    .colab-df-buttons div {\n",
              "      margin-bottom: 4px;\n",
              "    }\n",
              "\n",
              "    [theme=dark] .colab-df-convert {\n",
              "      background-color: #3B4455;\n",
              "      fill: #D2E3FC;\n",
              "    }\n",
              "\n",
              "    [theme=dark] .colab-df-convert:hover {\n",
              "      background-color: #434B5C;\n",
              "      box-shadow: 0px 1px 3px 1px rgba(0, 0, 0, 0.15);\n",
              "      filter: drop-shadow(0px 1px 2px rgba(0, 0, 0, 0.3));\n",
              "      fill: #FFFFFF;\n",
              "    }\n",
              "  </style>\n",
              "\n",
              "    <script>\n",
              "      const buttonEl =\n",
              "        document.querySelector('#df-fc81e742-141e-4299-a9fa-8f5be8eefa54 button.colab-df-convert');\n",
              "      buttonEl.style.display =\n",
              "        google.colab.kernel.accessAllowed ? 'block' : 'none';\n",
              "\n",
              "      async function convertToInteractive(key) {\n",
              "        const element = document.querySelector('#df-fc81e742-141e-4299-a9fa-8f5be8eefa54');\n",
              "        const dataTable =\n",
              "          await google.colab.kernel.invokeFunction('convertToInteractive',\n",
              "                                                    [key], {});\n",
              "        if (!dataTable) return;\n",
              "\n",
              "        const docLinkHtml = 'Like what you see? Visit the ' +\n",
              "          '<a target=\"_blank\" href=https://colab.research.google.com/notebooks/data_table.ipynb>data table notebook</a>'\n",
              "          + ' to learn more about interactive tables.';\n",
              "        element.innerHTML = '';\n",
              "        dataTable['output_type'] = 'display_data';\n",
              "        await google.colab.output.renderOutput(dataTable, element);\n",
              "        const docLink = document.createElement('div');\n",
              "        docLink.innerHTML = docLinkHtml;\n",
              "        element.appendChild(docLink);\n",
              "      }\n",
              "    </script>\n",
              "  </div>\n",
              "\n",
              "\n",
              "<div id=\"df-fc46b202-5f35-46af-b6f6-172c03f838bf\">\n",
              "  <button class=\"colab-df-quickchart\" onclick=\"quickchart('df-fc46b202-5f35-46af-b6f6-172c03f838bf')\"\n",
              "            title=\"Suggest charts\"\n",
              "            style=\"display:none;\">\n",
              "\n",
              "<svg xmlns=\"http://www.w3.org/2000/svg\" height=\"24px\"viewBox=\"0 0 24 24\"\n",
              "     width=\"24px\">\n",
              "    <g>\n",
              "        <path d=\"M19 3H5c-1.1 0-2 .9-2 2v14c0 1.1.9 2 2 2h14c1.1 0 2-.9 2-2V5c0-1.1-.9-2-2-2zM9 17H7v-7h2v7zm4 0h-2V7h2v10zm4 0h-2v-4h2v4z\"/>\n",
              "    </g>\n",
              "</svg>\n",
              "  </button>\n",
              "\n",
              "<style>\n",
              "  .colab-df-quickchart {\n",
              "      --bg-color: #E8F0FE;\n",
              "      --fill-color: #1967D2;\n",
              "      --hover-bg-color: #E2EBFA;\n",
              "      --hover-fill-color: #174EA6;\n",
              "      --disabled-fill-color: #AAA;\n",
              "      --disabled-bg-color: #DDD;\n",
              "  }\n",
              "\n",
              "  [theme=dark] .colab-df-quickchart {\n",
              "      --bg-color: #3B4455;\n",
              "      --fill-color: #D2E3FC;\n",
              "      --hover-bg-color: #434B5C;\n",
              "      --hover-fill-color: #FFFFFF;\n",
              "      --disabled-bg-color: #3B4455;\n",
              "      --disabled-fill-color: #666;\n",
              "  }\n",
              "\n",
              "  .colab-df-quickchart {\n",
              "    background-color: var(--bg-color);\n",
              "    border: none;\n",
              "    border-radius: 50%;\n",
              "    cursor: pointer;\n",
              "    display: none;\n",
              "    fill: var(--fill-color);\n",
              "    height: 32px;\n",
              "    padding: 0;\n",
              "    width: 32px;\n",
              "  }\n",
              "\n",
              "  .colab-df-quickchart:hover {\n",
              "    background-color: var(--hover-bg-color);\n",
              "    box-shadow: 0 1px 2px rgba(60, 64, 67, 0.3), 0 1px 3px 1px rgba(60, 64, 67, 0.15);\n",
              "    fill: var(--button-hover-fill-color);\n",
              "  }\n",
              "\n",
              "  .colab-df-quickchart-complete:disabled,\n",
              "  .colab-df-quickchart-complete:disabled:hover {\n",
              "    background-color: var(--disabled-bg-color);\n",
              "    fill: var(--disabled-fill-color);\n",
              "    box-shadow: none;\n",
              "  }\n",
              "\n",
              "  .colab-df-spinner {\n",
              "    border: 2px solid var(--fill-color);\n",
              "    border-color: transparent;\n",
              "    border-bottom-color: var(--fill-color);\n",
              "    animation:\n",
              "      spin 1s steps(1) infinite;\n",
              "  }\n",
              "\n",
              "  @keyframes spin {\n",
              "    0% {\n",
              "      border-color: transparent;\n",
              "      border-bottom-color: var(--fill-color);\n",
              "      border-left-color: var(--fill-color);\n",
              "    }\n",
              "    20% {\n",
              "      border-color: transparent;\n",
              "      border-left-color: var(--fill-color);\n",
              "      border-top-color: var(--fill-color);\n",
              "    }\n",
              "    30% {\n",
              "      border-color: transparent;\n",
              "      border-left-color: var(--fill-color);\n",
              "      border-top-color: var(--fill-color);\n",
              "      border-right-color: var(--fill-color);\n",
              "    }\n",
              "    40% {\n",
              "      border-color: transparent;\n",
              "      border-right-color: var(--fill-color);\n",
              "      border-top-color: var(--fill-color);\n",
              "    }\n",
              "    60% {\n",
              "      border-color: transparent;\n",
              "      border-right-color: var(--fill-color);\n",
              "    }\n",
              "    80% {\n",
              "      border-color: transparent;\n",
              "      border-right-color: var(--fill-color);\n",
              "      border-bottom-color: var(--fill-color);\n",
              "    }\n",
              "    90% {\n",
              "      border-color: transparent;\n",
              "      border-bottom-color: var(--fill-color);\n",
              "    }\n",
              "  }\n",
              "</style>\n",
              "\n",
              "  <script>\n",
              "    async function quickchart(key) {\n",
              "      const quickchartButtonEl =\n",
              "        document.querySelector('#' + key + ' button');\n",
              "      quickchartButtonEl.disabled = true;  // To prevent multiple clicks.\n",
              "      quickchartButtonEl.classList.add('colab-df-spinner');\n",
              "      try {\n",
              "        const charts = await google.colab.kernel.invokeFunction(\n",
              "            'suggestCharts', [key], {});\n",
              "      } catch (error) {\n",
              "        console.error('Error during call to suggestCharts:', error);\n",
              "      }\n",
              "      quickchartButtonEl.classList.remove('colab-df-spinner');\n",
              "      quickchartButtonEl.classList.add('colab-df-quickchart-complete');\n",
              "    }\n",
              "    (() => {\n",
              "      let quickchartButtonEl =\n",
              "        document.querySelector('#df-fc46b202-5f35-46af-b6f6-172c03f838bf button');\n",
              "      quickchartButtonEl.style.display =\n",
              "        google.colab.kernel.accessAllowed ? 'block' : 'none';\n",
              "    })();\n",
              "  </script>\n",
              "</div>\n",
              "    </div>\n",
              "  </div>\n"
            ],
            "application/vnd.google.colaboratory.intrinsic+json": {
              "type": "dataframe",
              "variable_name": "items",
              "summary": "{\n  \"name\": \"items\",\n  \"rows\": 14019,\n  \"fields\": [\n    {\n      \"column\": \"item_id\",\n      \"properties\": {\n        \"dtype\": \"number\",\n        \"std\": 4771,\n        \"min\": 0,\n        \"max\": 16518,\n        \"num_unique_values\": 14019,\n        \"samples\": [\n          4509,\n          3554,\n          16280\n        ],\n        \"semantic_type\": \"\",\n        \"description\": \"\"\n      }\n    },\n    {\n      \"column\": \"content_type\",\n      \"properties\": {\n        \"dtype\": \"category\",\n        \"num_unique_values\": 2,\n        \"samples\": [\n          \"series\",\n          \"film\"\n        ],\n        \"semantic_type\": \"\",\n        \"description\": \"\"\n      }\n    },\n    {\n      \"column\": \"title\",\n      \"properties\": {\n        \"dtype\": \"string\",\n        \"num_unique_values\": 13454,\n        \"samples\": [\n          \"\\u0410\\u043b\\u0438\\u0442\\u0430: \\u0411\\u043e\\u0435\\u0432\\u043e\\u0439 \\u0430\\u043d\\u0433\\u0435\\u043b\",\n          \"\\u041c\\u0430\\u043a\\u0441\\u0438\\u043c \\u041f\\u0435\\u0440\\u0435\\u043f\\u0435\\u043b\\u0438\\u0446\\u0430\"\n        ],\n        \"semantic_type\": \"\",\n        \"description\": \"\"\n      }\n    },\n    {\n      \"column\": \"title_orig\",\n      \"properties\": {\n        \"dtype\": \"string\",\n        \"num_unique_values\": 9724,\n        \"samples\": [\n          \"The Secret Echelon\",\n          \"Tootsie\"\n        ],\n        \"semantic_type\": \"\",\n        \"description\": \"\"\n      }\n    },\n    {\n      \"column\": \"release_year\",\n      \"properties\": {\n        \"dtype\": \"number\",\n        \"std\": 16.0380448772619,\n        \"min\": 1916.0,\n        \"max\": 2021.0,\n        \"num_unique_values\": 104,\n        \"samples\": [\n          2000.0,\n          1991.0\n        ],\n        \"semantic_type\": \"\",\n        \"description\": \"\"\n      }\n    },\n    {\n      \"column\": \"genres\",\n      \"properties\": {\n        \"dtype\": \"category\",\n        \"num_unique_values\": 2559,\n        \"samples\": [\n          \"\\u0441\\u043f\\u043e\\u0440\\u0442, \\u0431\\u0438\\u043e\\u0433\\u0440\\u0430\\u0444\\u0438\\u044f, \\u0438\\u0441\\u0442\\u043e\\u0440\\u0438\\u0447\\u0435\\u0441\\u043a\\u043e\\u0435\",\n          \"\\u0434\\u0440\\u0430\\u043c\\u044b, \\u043f\\u0440\\u0438\\u043a\\u043b\\u044e\\u0447\\u0435\\u043d\\u0438\\u044f, \\u0434\\u0435\\u0442\\u0435\\u043a\\u0442\\u0438\\u0432\\u044b, \\u043a\\u043e\\u043c\\u0435\\u0434\\u0438\\u0438\"\n        ],\n        \"semantic_type\": \"\",\n        \"description\": \"\"\n      }\n    },\n    {\n      \"column\": \"countries\",\n      \"properties\": {\n        \"dtype\": \"category\",\n        \"num_unique_values\": 666,\n        \"samples\": [\n          \"\\u0412\\u0435\\u043b\\u0438\\u043a\\u043e\\u0431\\u0440\\u0438\\u0442\\u0430\\u043d\\u0438\\u044f, \\u0421\\u0428\\u0410, \\u0412\\u0435\\u043d\\u0433\\u0440\\u0438\\u044f\",\n          \"\\u0412\\u0435\\u043b\\u0438\\u043a\\u043e\\u0431\\u0440\\u0438\\u0442\\u0430\\u043d\\u0438\\u044f, \\u041d\\u0438\\u0434\\u0435\\u0440\\u043b\\u0430\\u043d\\u0434\\u044b\"\n        ],\n        \"semantic_type\": \"\",\n        \"description\": \"\"\n      }\n    },\n    {\n      \"column\": \"for_kids\",\n      \"properties\": {\n        \"dtype\": \"number\",\n        \"std\": 0.3967594149277101,\n        \"min\": 0.0,\n        \"max\": 1.0,\n        \"num_unique_values\": 2,\n        \"samples\": [\n          1.0,\n          0.0\n        ],\n        \"semantic_type\": \"\",\n        \"description\": \"\"\n      }\n    },\n    {\n      \"column\": \"age_rating\",\n      \"properties\": {\n        \"dtype\": \"number\",\n        \"std\": 5.414149766736872,\n        \"min\": 0.0,\n        \"max\": 21.0,\n        \"num_unique_values\": 6,\n        \"samples\": [\n          16.0,\n          12.0\n        ],\n        \"semantic_type\": \"\",\n        \"description\": \"\"\n      }\n    },\n    {\n      \"column\": \"studios\",\n      \"properties\": {\n        \"dtype\": \"category\",\n        \"num_unique_values\": 38,\n        \"samples\": [\n          \"Legendary\",\n          \"New Regency Productions\"\n        ],\n        \"semantic_type\": \"\",\n        \"description\": \"\"\n      }\n    },\n    {\n      \"column\": \"directors\",\n      \"properties\": {\n        \"dtype\": \"string\",\n        \"num_unique_values\": 7414,\n        \"samples\": [\n          \"\\u042e\\u0440\\u0438\\u0439 \\u0411\\u043e\\u0440\\u0435\\u0446\\u043a\\u0438\\u0439\",\n          \"\\u041a\\u0430\\u0440\\u043b\\u043e\\u0441 \\u0413\\u0443\\u0442\\u0438\\u0435\\u0440\\u0440\\u0435\\u0437 \\u041c\\u0435\\u0434\\u0440\\u0430\\u043d\\u043e\"\n        ],\n        \"semantic_type\": \"\",\n        \"description\": \"\"\n      }\n    },\n    {\n      \"column\": \"actors\",\n      \"properties\": {\n        \"dtype\": \"string\",\n        \"num_unique_values\": 11830,\n        \"samples\": [\n          \"\\u0421\\u043e\\u0444\\u0438 \\u041c\\u0430\\u0440\\u0441\\u043e, \\u041f\\u0430\\u0442\\u0440\\u0438\\u043a \\u0411\\u0440\\u044e\\u044d\\u043b\\u044c, \\u0410\\u043d\\u0434\\u0440\\u0435 \\u0412\\u0438\\u043b\\u044c\\u043c, \\u0421\\u0438\\u043b\\u044c\\u0432\\u0438 \\u0412\\u0430\\u0440\\u0442\\u0430\\u043d, \\u0424\\u0440\\u0430\\u043d\\u0441\\u0443\\u0430 \\u041c\\u043e\\u0440\\u0435\\u043b\\u044c, \\u0424\\u0438\\u043b\\u0438\\u043f\\u043f \\u041b\\u0435\\u043b\\u043b\\u0443\\u0448, \\u0416\\u0430\\u043d-\\u041f\\u044c\\u0435\\u0440 \\u041c\\u0430\\u0440\\u044c\\u0435\\u043b\\u044c, \\u041f\\u0430\\u0442\\u0440\\u0438\\u043a \\u0411\\u0440\\u0430\\u0443\\u0434\\u0435, \\u041a\\u043b\\u043e\\u0434 \\u041f\\u0435\\u0440\\u0440\\u043e\\u043d, \\u041f\\u0430\\u0441\\u043a\\u0430\\u043b\\u044c \\u0414\\u0435\\u043c\\u043e\\u043b\\u043e\\u043d\",\n          \"\\u0418\\u043d\\u043d\\u043e\\u043a\\u0435\\u043d\\u0442\\u0438\\u0439 \\u0421\\u043c\\u043e\\u043a\\u0442\\u0443\\u043d\\u043e\\u0432\\u0441\\u043a\\u0438\\u0439, \\u0415\\u0432\\u0433\\u0435\\u043d\\u0438\\u0439 \\u0415\\u0432\\u0441\\u0442\\u0438\\u0433\\u043d\\u0435\\u0435\\u0432, \\u0413\\u0435\\u043e\\u0440\\u0433\\u0438\\u0439 \\u0416\\u0436\\u0451\\u043d\\u043e\\u0432, \\u0414\\u043e\\u043d\\u0430\\u0442\\u0430\\u0441 \\u0411\\u0430\\u043d\\u0438\\u043e\\u043d\\u0438\\u0441, \\u041e\\u043b\\u0435\\u0433 \\u0415\\u0444\\u0440\\u0435\\u043c\\u043e\\u0432, \\u041b\\u044e\\u0431\\u043e\\u0432\\u044c \\u0421\\u043e\\u043a\\u043e\\u043b\\u043e\\u0432\\u0430, \\u0410\\u043d\\u0434\\u0440\\u0435\\u0439 \\u041c\\u0438\\u0440\\u043e\\u043d\\u043e\\u0432, \\u0410\\u043d\\u0430\\u0442\\u043e\\u043b\\u0438\\u0439 \\u041f\\u0430\\u043f\\u0430\\u043d\\u043e\\u0432, \\u041e\\u043b\\u044c\\u0433\\u0430 \\u0410\\u0440\\u043e\\u0441\\u0435\\u0432\\u0430, \\u041b\\u044e\\u0431\\u043e\\u0432\\u044c \\u0414\\u043e\\u0431\\u0440\\u0436\\u0430\\u043d\\u0441\\u043a\\u0430\\u044f\"\n        ],\n        \"semantic_type\": \"\",\n        \"description\": \"\"\n      }\n    },\n    {\n      \"column\": \"description\",\n      \"properties\": {\n        \"dtype\": \"string\",\n        \"num_unique_values\": 13791,\n        \"samples\": [\n          \"\\u0413\\u0435\\u0440\\u043e\\u0438\\u043d\\u044f \\u044d\\u0442\\u043e\\u0439 \\u043e\\u0441\\u0442\\u0440\\u043e\\u0441\\u044e\\u0436\\u0435\\u0442\\u043d\\u043e\\u0439 \\u0440\\u043e\\u043c\\u0430\\u043d\\u0442\\u0438\\u0447\\u0435\\u0441\\u043a\\u043e\\u0439 \\u0434\\u0440\\u0430\\u043c\\u044b \\u042d\\u043b\\u044c \\u0424\\u0435\\u0440\\u0440\\u0430\\u0440\\u0438 \\u2014 \\u043f\\u043e\\u044d\\u0442\\u0435\\u0441\\u0441\\u0430, \\u0432\\u0445\\u043e\\u0436\\u0430\\u044f \\u0432 \\u0441\\u0435\\u043c\\u044c\\u044e \\u0431\\u0430\\u0440\\u043e\\u043d\\u0430 \\u0412\\u0440\\u0430\\u043d\\u0433\\u0435\\u043b\\u044f. \\u041e\\u043d\\u0430 \\u0436\\u0435 \\u2014 \\u0442\\u0430\\u0439\\u043d\\u044b\\u0439 \\u0430\\u0433\\u0435\\u043d\\u0442, \\u0433\\u043e\\u0442\\u043e\\u0432\\u044f\\u0449\\u0430\\u044f \\u043d\\u0430 \\u043d\\u0435\\u0433\\u043e \\u043f\\u043e\\u043a\\u0443\\u0448\\u0435\\u043d\\u0438\\u0435. \\u041d\\u043e \\u0441\\u043c\\u0435\\u0440\\u0442\\u044c \\u0433\\u043b\\u0430\\u0432\\u043d\\u043e\\u043a\\u043e\\u043c\\u0430\\u043d\\u0434\\u0443\\u044e\\u0449\\u0435\\u0433\\u043e \\u043d\\u0435 \\u0432\\u0445\\u043e\\u0434\\u0438\\u0442 \\u0432 \\u043f\\u043b\\u0430\\u043d\\u044b \\u0436\\u0443\\u0440\\u043d\\u0430\\u043b\\u0438\\u0441\\u0442\\u0430 \\u042d\\u0440\\u043c\\u043b\\u0435\\u0440\\u0430, \\u0437\\u0430\\u0432\\u0435\\u0440\\u0431\\u043e\\u0432\\u0430\\u043d\\u043d\\u043e\\u0433\\u043e \\u0431\\u0440\\u0438\\u0442\\u0430\\u043d\\u0441\\u043a\\u043e\\u0439 \\u0440\\u0430\\u0437\\u0432\\u0435\\u0434\\u043a\\u043e\\u0439. \\u041f\\u0440\\u043e\\u0442\\u0438\\u0432\\u043d\\u0438\\u043a\\u0438 \\u0434\\u043e\\u043b\\u0436\\u043d\\u044b \\u0441\\u0434\\u0435\\u043b\\u0430\\u0442\\u044c \\u0432\\u044b\\u0431\\u043e\\u0440 \\u2014 \\u0434\\u043e\\u043b\\u0433 \\u0438\\u043b\\u0438 \\u0441\\u0442\\u0440\\u0430\\u0441\\u0442\\u044c.\",\n          \"\\u0412 \\u043c\\u0438\\u0440\\u0435, \\u0433\\u0434\\u0435 \\u0433\\u0435\\u043d\\u0434\\u0435\\u0440\\u043d\\u044b\\u0435 \\u0440\\u043e\\u043b\\u0438 \\u043f\\u0435\\u0440\\u0435\\u0432\\u0435\\u0440\\u043d\\u0443\\u043b\\u0438\\u0441\\u044c, \\u043c\\u043e\\u043b\\u043e\\u0434\\u043e\\u0439 \\u0447\\u0435\\u043b\\u043e\\u0432\\u0435\\u043a-\\u043f\\u0440\\u043e\\u0434\\u044e\\u0441\\u0435\\u0440 \\u0434\\u043e\\u043b\\u0436\\u0435\\u043d \\u0440\\u0435\\u0448\\u0438\\u0442\\u044c, \\u0447\\u0442\\u043e \\u0434\\u0435\\u043b\\u0430\\u0442\\u044c \\u043f\\u043e\\u0441\\u043b\\u0435 \\u0442\\u043e\\u0433\\u043e, \\u043a\\u0430\\u043a \\u0435\\u0433\\u043e \\u0438\\u0437\\u043d\\u0430\\u0441\\u0438\\u043b\\u043e\\u0432\\u0430\\u043b\\u0430 \\u0432\\u043b\\u0438\\u044f\\u0442\\u0435\\u043b\\u044c\\u043d\\u0430\\u044f \\u0436\\u0435\\u043d\\u0449\\u0438\\u043d\\u0430-\\u043d\\u0430\\u0447\\u0430\\u043b\\u044c\\u043d\\u0438\\u043a.\"\n        ],\n        \"semantic_type\": \"\",\n        \"description\": \"\"\n      }\n    },\n    {\n      \"column\": \"keywords\",\n      \"properties\": {\n        \"dtype\": \"string\",\n        \"num_unique_values\": 13583,\n        \"samples\": [\n          \"\\u0418\\u0442\\u0430\\u043b\\u044c\\u044f\\u043d\\u0441\\u043a\\u0430\\u044f, \\u0433\\u043e\\u043d\\u0449\\u0438\\u0446\\u0430, 2016, \\u0418\\u0442\\u0430\\u043b\\u0438\\u044f, \\u043d\\u0430\\u0440\\u043a\\u043e\\u0442\\u0438\\u043a\\u0438, \\u043f\\u0440\\u0435\\u043e\\u0434\\u043e\\u043b\\u0435\\u043d\\u0438\\u0435, \\u0442\\u0440\\u0443\\u0434\\u043d\\u043e\\u0441\\u0442\\u0435\\u0439, \\u0441\\u043e\\u043f\\u0435\\u0440\\u043d\\u0438\\u0447\\u0435\\u0441\\u0442\\u0432\\u043e, \\u0431\\u0440\\u0430\\u0442\\u044c\\u044f, \\u0441\\u0435\\u0441\\u0442\\u0440\\u044b, \\u0433\\u043e\\u043d\\u043a\\u0438, \\u0440\\u0438\\u0441\\u043a, \\u043c\\u0430\\u0448\\u0438\\u043d\\u044b, \\u043a\\u043e\\u043d\\u0444\\u043b\\u0438\\u043a\\u0442\\u044b, \\u0440\\u0430\\u0431\\u043e\\u0442\\u0435, \\u043e\\u0442\\u043d\\u043e\\u0448\\u0435\\u043d\\u0438\\u044f, \\u0431\\u0440\\u0430\\u0442\\u0430, \\u0441\\u0435\\u0441\\u0442\\u0440\\u044b, \\u0441\\u0435\\u043c\\u0435\\u0439\\u043d\\u044b\\u0439, \\u043a\\u043e\\u043d\\u0444\\u043b\\u0438\\u043a\\u0442, \\u0441\\u0441\\u043e\\u0440\\u044b, \\u0441\\u0442\\u0438\\u043b\\u044c, \\u0436\\u0438\\u0437\\u043d\\u0438, \\u043f\\u0441\\u0438\\u0445\\u043e\\u043b\\u043e\\u0433\\u0438\\u0447\\u0435\\u0441\\u043a\\u0438\\u0435, \\u0442\\u0440\\u0430\\u0432\\u043c\\u044b\",\n          \"\\u0427\\u0442\\u043e, \\u0442\\u043e\\u0431\\u043e\\u0439, \\u043f\\u0440\\u043e\\u0438\\u0441\\u0445\\u043e\\u0434\\u0438\\u0442, 1976, \\u0421\\u0421\\u0421\\u0420, \\u0434\\u0440\\u0443\\u0437\\u044c\\u044f, \\u043e\\u0442\\u0446\\u044b, \\u0434\\u0435\\u0442\\u0438, \\u043f\\u0435\\u0440\\u0432\\u0430\\u044f, \\u043b\\u044e\\u0431\\u043e\\u0432\\u044c, \\u0448\\u043a\\u043e\\u043b\\u0430, \\u0434\\u043e\\u0431\\u0440\\u044b\\u0435, \\u0434\\u0435\\u043b\\u0430, \\u043e\\u0442\\u043d\\u043e\\u0448\\u0435\\u043d\\u0438\\u044f, \\u0434\\u0440\\u0443\\u0436\\u0431\\u0430, \\u0432\\u0437\\u0440\\u043e\\u0441\\u043b\\u0435\\u043d\\u0438\\u0435, \\u0434\\u0435\\u0442\\u0438, \\u043e\\u0442\\u043d\\u043e\\u0448\\u0435\\u043d\\u0438\\u044f, \\u043c\\u0430\\u0442\\u0435\\u0440\\u0438, \\u0441\\u044b\\u043d\\u0430, \\u043e\\u0442\\u043d\\u043e\\u0448\\u0435\\u043d\\u0438\\u044f, \\u0440\\u043e\\u0434\\u0438\\u0442\\u0435\\u043b\\u0435\\u0439, \\u0434\\u0435\\u0442\\u0435\\u0439, \\u043f\\u043e\\u0434\\u0440\\u043e\\u0441\\u0442\\u043a\\u0438, \\u0441\\u043f\\u0430\\u0441\\u0435\\u043d\\u0438\\u0435\"\n        ],\n        \"semantic_type\": \"\",\n        \"description\": \"\"\n      }\n    }\n  ]\n}"
            }
          },
          "metadata": {},
          "execution_count": 25
        }
      ],
      "source": [
        "items.head()"
      ]
    },
    {
      "cell_type": "code",
      "execution_count": null,
      "metadata": {
        "execution": {
          "iopub.execute_input": "2023-11-29T06:54:14.361831Z",
          "iopub.status.busy": "2023-11-29T06:54:14.361831Z",
          "iopub.status.idle": "2023-11-29T06:54:14.465910Z",
          "shell.execute_reply": "2023-11-29T06:54:14.464909Z",
          "shell.execute_reply.started": "2023-11-29T06:54:14.361831Z"
        },
        "colab": {
          "base_uri": "https://localhost:8080/",
          "height": 523
        },
        "id": "XTrXDFrGWU-_",
        "outputId": "623228c8-95fc-4e13-ffab-be437cb30128"
      },
      "outputs": [
        {
          "output_type": "execute_result",
          "data": {
            "text/plain": [
              "item_id         14019\n",
              "content_type        2\n",
              "title           13454\n",
              "title_orig       9724\n",
              "release_year      104\n",
              "genres           2559\n",
              "countries         666\n",
              "for_kids            2\n",
              "age_rating          6\n",
              "studios            38\n",
              "directors        7414\n",
              "actors          11830\n",
              "description     13791\n",
              "keywords        13583\n",
              "dtype: int64"
            ],
            "text/html": [
              "<div>\n",
              "<style scoped>\n",
              "    .dataframe tbody tr th:only-of-type {\n",
              "        vertical-align: middle;\n",
              "    }\n",
              "\n",
              "    .dataframe tbody tr th {\n",
              "        vertical-align: top;\n",
              "    }\n",
              "\n",
              "    .dataframe thead th {\n",
              "        text-align: right;\n",
              "    }\n",
              "</style>\n",
              "<table border=\"1\" class=\"dataframe\">\n",
              "  <thead>\n",
              "    <tr style=\"text-align: right;\">\n",
              "      <th></th>\n",
              "      <th>0</th>\n",
              "    </tr>\n",
              "  </thead>\n",
              "  <tbody>\n",
              "    <tr>\n",
              "      <th>item_id</th>\n",
              "      <td>14019</td>\n",
              "    </tr>\n",
              "    <tr>\n",
              "      <th>content_type</th>\n",
              "      <td>2</td>\n",
              "    </tr>\n",
              "    <tr>\n",
              "      <th>title</th>\n",
              "      <td>13454</td>\n",
              "    </tr>\n",
              "    <tr>\n",
              "      <th>title_orig</th>\n",
              "      <td>9724</td>\n",
              "    </tr>\n",
              "    <tr>\n",
              "      <th>release_year</th>\n",
              "      <td>104</td>\n",
              "    </tr>\n",
              "    <tr>\n",
              "      <th>genres</th>\n",
              "      <td>2559</td>\n",
              "    </tr>\n",
              "    <tr>\n",
              "      <th>countries</th>\n",
              "      <td>666</td>\n",
              "    </tr>\n",
              "    <tr>\n",
              "      <th>for_kids</th>\n",
              "      <td>2</td>\n",
              "    </tr>\n",
              "    <tr>\n",
              "      <th>age_rating</th>\n",
              "      <td>6</td>\n",
              "    </tr>\n",
              "    <tr>\n",
              "      <th>studios</th>\n",
              "      <td>38</td>\n",
              "    </tr>\n",
              "    <tr>\n",
              "      <th>directors</th>\n",
              "      <td>7414</td>\n",
              "    </tr>\n",
              "    <tr>\n",
              "      <th>actors</th>\n",
              "      <td>11830</td>\n",
              "    </tr>\n",
              "    <tr>\n",
              "      <th>description</th>\n",
              "      <td>13791</td>\n",
              "    </tr>\n",
              "    <tr>\n",
              "      <th>keywords</th>\n",
              "      <td>13583</td>\n",
              "    </tr>\n",
              "  </tbody>\n",
              "</table>\n",
              "</div><br><label><b>dtype:</b> int64</label>"
            ]
          },
          "metadata": {},
          "execution_count": 26
        }
      ],
      "source": [
        "items.nunique()"
      ]
    },
    {
      "cell_type": "markdown",
      "metadata": {
        "id": "M7uD4M_OWU-_"
      },
      "source": [
        "### Genre"
      ]
    },
    {
      "cell_type": "code",
      "execution_count": null,
      "metadata": {
        "execution": {
          "iopub.execute_input": "2023-11-29T06:54:14.466909Z",
          "iopub.status.busy": "2023-11-29T06:54:14.466909Z",
          "iopub.status.idle": "2023-11-29T06:54:14.512909Z",
          "shell.execute_reply": "2023-11-29T06:54:14.512909Z",
          "shell.execute_reply.started": "2023-11-29T06:54:14.466909Z"
        },
        "colab": {
          "base_uri": "https://localhost:8080/",
          "height": 206
        },
        "id": "e38fucG1WU-_",
        "outputId": "5be49d56-5247-4388-86d4-9a6d930270cf"
      },
      "outputs": [
        {
          "output_type": "execute_result",
          "data": {
            "text/plain": [
              "      id       value feature\n",
              "0  10711       драмы   genre\n",
              "0  10711  зарубежные   genre\n",
              "0  10711   детективы   genre\n",
              "0  10711   мелодрамы   genre\n",
              "1   2508  зарубежные   genre"
            ],
            "text/html": [
              "\n",
              "  <div id=\"df-658686c9-9bf5-4b8b-abfa-58fc63bfdb9b\" class=\"colab-df-container\">\n",
              "    <div>\n",
              "<style scoped>\n",
              "    .dataframe tbody tr th:only-of-type {\n",
              "        vertical-align: middle;\n",
              "    }\n",
              "\n",
              "    .dataframe tbody tr th {\n",
              "        vertical-align: top;\n",
              "    }\n",
              "\n",
              "    .dataframe thead th {\n",
              "        text-align: right;\n",
              "    }\n",
              "</style>\n",
              "<table border=\"1\" class=\"dataframe\">\n",
              "  <thead>\n",
              "    <tr style=\"text-align: right;\">\n",
              "      <th></th>\n",
              "      <th>id</th>\n",
              "      <th>value</th>\n",
              "      <th>feature</th>\n",
              "    </tr>\n",
              "  </thead>\n",
              "  <tbody>\n",
              "    <tr>\n",
              "      <th>0</th>\n",
              "      <td>10711</td>\n",
              "      <td>драмы</td>\n",
              "      <td>genre</td>\n",
              "    </tr>\n",
              "    <tr>\n",
              "      <th>0</th>\n",
              "      <td>10711</td>\n",
              "      <td>зарубежные</td>\n",
              "      <td>genre</td>\n",
              "    </tr>\n",
              "    <tr>\n",
              "      <th>0</th>\n",
              "      <td>10711</td>\n",
              "      <td>детективы</td>\n",
              "      <td>genre</td>\n",
              "    </tr>\n",
              "    <tr>\n",
              "      <th>0</th>\n",
              "      <td>10711</td>\n",
              "      <td>мелодрамы</td>\n",
              "      <td>genre</td>\n",
              "    </tr>\n",
              "    <tr>\n",
              "      <th>1</th>\n",
              "      <td>2508</td>\n",
              "      <td>зарубежные</td>\n",
              "      <td>genre</td>\n",
              "    </tr>\n",
              "  </tbody>\n",
              "</table>\n",
              "</div>\n",
              "    <div class=\"colab-df-buttons\">\n",
              "\n",
              "  <div class=\"colab-df-container\">\n",
              "    <button class=\"colab-df-convert\" onclick=\"convertToInteractive('df-658686c9-9bf5-4b8b-abfa-58fc63bfdb9b')\"\n",
              "            title=\"Convert this dataframe to an interactive table.\"\n",
              "            style=\"display:none;\">\n",
              "\n",
              "  <svg xmlns=\"http://www.w3.org/2000/svg\" height=\"24px\" viewBox=\"0 -960 960 960\">\n",
              "    <path d=\"M120-120v-720h720v720H120Zm60-500h600v-160H180v160Zm220 220h160v-160H400v160Zm0 220h160v-160H400v160ZM180-400h160v-160H180v160Zm440 0h160v-160H620v160ZM180-180h160v-160H180v160Zm440 0h160v-160H620v160Z\"/>\n",
              "  </svg>\n",
              "    </button>\n",
              "\n",
              "  <style>\n",
              "    .colab-df-container {\n",
              "      display:flex;\n",
              "      gap: 12px;\n",
              "    }\n",
              "\n",
              "    .colab-df-convert {\n",
              "      background-color: #E8F0FE;\n",
              "      border: none;\n",
              "      border-radius: 50%;\n",
              "      cursor: pointer;\n",
              "      display: none;\n",
              "      fill: #1967D2;\n",
              "      height: 32px;\n",
              "      padding: 0 0 0 0;\n",
              "      width: 32px;\n",
              "    }\n",
              "\n",
              "    .colab-df-convert:hover {\n",
              "      background-color: #E2EBFA;\n",
              "      box-shadow: 0px 1px 2px rgba(60, 64, 67, 0.3), 0px 1px 3px 1px rgba(60, 64, 67, 0.15);\n",
              "      fill: #174EA6;\n",
              "    }\n",
              "\n",
              "    .colab-df-buttons div {\n",
              "      margin-bottom: 4px;\n",
              "    }\n",
              "\n",
              "    [theme=dark] .colab-df-convert {\n",
              "      background-color: #3B4455;\n",
              "      fill: #D2E3FC;\n",
              "    }\n",
              "\n",
              "    [theme=dark] .colab-df-convert:hover {\n",
              "      background-color: #434B5C;\n",
              "      box-shadow: 0px 1px 3px 1px rgba(0, 0, 0, 0.15);\n",
              "      filter: drop-shadow(0px 1px 2px rgba(0, 0, 0, 0.3));\n",
              "      fill: #FFFFFF;\n",
              "    }\n",
              "  </style>\n",
              "\n",
              "    <script>\n",
              "      const buttonEl =\n",
              "        document.querySelector('#df-658686c9-9bf5-4b8b-abfa-58fc63bfdb9b button.colab-df-convert');\n",
              "      buttonEl.style.display =\n",
              "        google.colab.kernel.accessAllowed ? 'block' : 'none';\n",
              "\n",
              "      async function convertToInteractive(key) {\n",
              "        const element = document.querySelector('#df-658686c9-9bf5-4b8b-abfa-58fc63bfdb9b');\n",
              "        const dataTable =\n",
              "          await google.colab.kernel.invokeFunction('convertToInteractive',\n",
              "                                                    [key], {});\n",
              "        if (!dataTable) return;\n",
              "\n",
              "        const docLinkHtml = 'Like what you see? Visit the ' +\n",
              "          '<a target=\"_blank\" href=https://colab.research.google.com/notebooks/data_table.ipynb>data table notebook</a>'\n",
              "          + ' to learn more about interactive tables.';\n",
              "        element.innerHTML = '';\n",
              "        dataTable['output_type'] = 'display_data';\n",
              "        await google.colab.output.renderOutput(dataTable, element);\n",
              "        const docLink = document.createElement('div');\n",
              "        docLink.innerHTML = docLinkHtml;\n",
              "        element.appendChild(docLink);\n",
              "      }\n",
              "    </script>\n",
              "  </div>\n",
              "\n",
              "\n",
              "<div id=\"df-8db5ad5f-efff-490e-a750-a23d6dedeebb\">\n",
              "  <button class=\"colab-df-quickchart\" onclick=\"quickchart('df-8db5ad5f-efff-490e-a750-a23d6dedeebb')\"\n",
              "            title=\"Suggest charts\"\n",
              "            style=\"display:none;\">\n",
              "\n",
              "<svg xmlns=\"http://www.w3.org/2000/svg\" height=\"24px\"viewBox=\"0 0 24 24\"\n",
              "     width=\"24px\">\n",
              "    <g>\n",
              "        <path d=\"M19 3H5c-1.1 0-2 .9-2 2v14c0 1.1.9 2 2 2h14c1.1 0 2-.9 2-2V5c0-1.1-.9-2-2-2zM9 17H7v-7h2v7zm4 0h-2V7h2v10zm4 0h-2v-4h2v4z\"/>\n",
              "    </g>\n",
              "</svg>\n",
              "  </button>\n",
              "\n",
              "<style>\n",
              "  .colab-df-quickchart {\n",
              "      --bg-color: #E8F0FE;\n",
              "      --fill-color: #1967D2;\n",
              "      --hover-bg-color: #E2EBFA;\n",
              "      --hover-fill-color: #174EA6;\n",
              "      --disabled-fill-color: #AAA;\n",
              "      --disabled-bg-color: #DDD;\n",
              "  }\n",
              "\n",
              "  [theme=dark] .colab-df-quickchart {\n",
              "      --bg-color: #3B4455;\n",
              "      --fill-color: #D2E3FC;\n",
              "      --hover-bg-color: #434B5C;\n",
              "      --hover-fill-color: #FFFFFF;\n",
              "      --disabled-bg-color: #3B4455;\n",
              "      --disabled-fill-color: #666;\n",
              "  }\n",
              "\n",
              "  .colab-df-quickchart {\n",
              "    background-color: var(--bg-color);\n",
              "    border: none;\n",
              "    border-radius: 50%;\n",
              "    cursor: pointer;\n",
              "    display: none;\n",
              "    fill: var(--fill-color);\n",
              "    height: 32px;\n",
              "    padding: 0;\n",
              "    width: 32px;\n",
              "  }\n",
              "\n",
              "  .colab-df-quickchart:hover {\n",
              "    background-color: var(--hover-bg-color);\n",
              "    box-shadow: 0 1px 2px rgba(60, 64, 67, 0.3), 0 1px 3px 1px rgba(60, 64, 67, 0.15);\n",
              "    fill: var(--button-hover-fill-color);\n",
              "  }\n",
              "\n",
              "  .colab-df-quickchart-complete:disabled,\n",
              "  .colab-df-quickchart-complete:disabled:hover {\n",
              "    background-color: var(--disabled-bg-color);\n",
              "    fill: var(--disabled-fill-color);\n",
              "    box-shadow: none;\n",
              "  }\n",
              "\n",
              "  .colab-df-spinner {\n",
              "    border: 2px solid var(--fill-color);\n",
              "    border-color: transparent;\n",
              "    border-bottom-color: var(--fill-color);\n",
              "    animation:\n",
              "      spin 1s steps(1) infinite;\n",
              "  }\n",
              "\n",
              "  @keyframes spin {\n",
              "    0% {\n",
              "      border-color: transparent;\n",
              "      border-bottom-color: var(--fill-color);\n",
              "      border-left-color: var(--fill-color);\n",
              "    }\n",
              "    20% {\n",
              "      border-color: transparent;\n",
              "      border-left-color: var(--fill-color);\n",
              "      border-top-color: var(--fill-color);\n",
              "    }\n",
              "    30% {\n",
              "      border-color: transparent;\n",
              "      border-left-color: var(--fill-color);\n",
              "      border-top-color: var(--fill-color);\n",
              "      border-right-color: var(--fill-color);\n",
              "    }\n",
              "    40% {\n",
              "      border-color: transparent;\n",
              "      border-right-color: var(--fill-color);\n",
              "      border-top-color: var(--fill-color);\n",
              "    }\n",
              "    60% {\n",
              "      border-color: transparent;\n",
              "      border-right-color: var(--fill-color);\n",
              "    }\n",
              "    80% {\n",
              "      border-color: transparent;\n",
              "      border-right-color: var(--fill-color);\n",
              "      border-bottom-color: var(--fill-color);\n",
              "    }\n",
              "    90% {\n",
              "      border-color: transparent;\n",
              "      border-bottom-color: var(--fill-color);\n",
              "    }\n",
              "  }\n",
              "</style>\n",
              "\n",
              "  <script>\n",
              "    async function quickchart(key) {\n",
              "      const quickchartButtonEl =\n",
              "        document.querySelector('#' + key + ' button');\n",
              "      quickchartButtonEl.disabled = true;  // To prevent multiple clicks.\n",
              "      quickchartButtonEl.classList.add('colab-df-spinner');\n",
              "      try {\n",
              "        const charts = await google.colab.kernel.invokeFunction(\n",
              "            'suggestCharts', [key], {});\n",
              "      } catch (error) {\n",
              "        console.error('Error during call to suggestCharts:', error);\n",
              "      }\n",
              "      quickchartButtonEl.classList.remove('colab-df-spinner');\n",
              "      quickchartButtonEl.classList.add('colab-df-quickchart-complete');\n",
              "    }\n",
              "    (() => {\n",
              "      let quickchartButtonEl =\n",
              "        document.querySelector('#df-8db5ad5f-efff-490e-a750-a23d6dedeebb button');\n",
              "      quickchartButtonEl.style.display =\n",
              "        google.colab.kernel.accessAllowed ? 'block' : 'none';\n",
              "    })();\n",
              "  </script>\n",
              "</div>\n",
              "    </div>\n",
              "  </div>\n"
            ],
            "application/vnd.google.colaboratory.intrinsic+json": {
              "type": "dataframe",
              "variable_name": "genre_feature",
              "summary": "{\n  \"name\": \"genre_feature\",\n  \"rows\": 36205,\n  \"fields\": [\n    {\n      \"column\": \"id\",\n      \"properties\": {\n        \"dtype\": \"number\",\n        \"std\": 4784,\n        \"min\": 0,\n        \"max\": 16518,\n        \"num_unique_values\": 14019,\n        \"samples\": [\n          4509,\n          3554,\n          16280\n        ],\n        \"semantic_type\": \"\",\n        \"description\": \"\"\n      }\n    },\n    {\n      \"column\": \"value\",\n      \"properties\": {\n        \"dtype\": \"category\",\n        \"num_unique_values\": 94,\n        \"samples\": [\n          \"\\u0444\\u0438\\u0442\\u043d\\u0435\\u0441\",\n          \"\\u0432\\u043e\\u0435\\u043d\\u043d\\u044b\\u0435\",\n          \"\\u0434\\u043b\\u044f \\u0441\\u0430\\u043c\\u044b\\u0445 \\u043c\\u0430\\u043b\\u0435\\u043d\\u044c\\u043a\\u0438\\u0445\"\n        ],\n        \"semantic_type\": \"\",\n        \"description\": \"\"\n      }\n    },\n    {\n      \"column\": \"feature\",\n      \"properties\": {\n        \"dtype\": \"category\",\n        \"num_unique_values\": 1,\n        \"samples\": [\n          \"genre\"\n        ],\n        \"semantic_type\": \"\",\n        \"description\": \"\"\n      }\n    }\n  ]\n}"
            }
          },
          "metadata": {},
          "execution_count": 27
        }
      ],
      "source": [
        "# Explode genres to flatten table\n",
        "items[\"genre\"] = items[\"genres\"].str.lower().str.replace(\", \", \",\", regex=False).str.split(\",\")\n",
        "genre_feature = items[[\"item_id\", \"genre\"]].explode(\"genre\")\n",
        "genre_feature.columns = [\"id\", \"value\"]\n",
        "genre_feature[\"feature\"] = \"genre\"\n",
        "genre_feature.head()"
      ]
    },
    {
      "cell_type": "code",
      "execution_count": null,
      "metadata": {
        "execution": {
          "iopub.execute_input": "2023-11-29T06:54:14.513909Z",
          "iopub.status.busy": "2023-11-29T06:54:14.513909Z",
          "iopub.status.idle": "2023-11-29T06:54:14.529909Z",
          "shell.execute_reply": "2023-11-29T06:54:14.528909Z",
          "shell.execute_reply.started": "2023-11-29T06:54:14.513909Z"
        },
        "colab": {
          "base_uri": "https://localhost:8080/",
          "height": 489
        },
        "id": "kzErVr4qWU-_",
        "outputId": "03b5b27c-af40-41ea-a840-e42989c9083a"
      },
      "outputs": [
        {
          "output_type": "execute_result",
          "data": {
            "text/plain": [
              "value\n",
              "драмы                 4923\n",
              "комедии               3479\n",
              "зарубежные            3055\n",
              "мелодрамы             2533\n",
              "триллеры              2297\n",
              "                      ... \n",
              "токшоу                   2\n",
              "красота и здоровье       2\n",
              "передачи                 1\n",
              "образование              1\n",
              "рекомендуем              1\n",
              "Name: count, Length: 94, dtype: int64"
            ],
            "text/html": [
              "<div>\n",
              "<style scoped>\n",
              "    .dataframe tbody tr th:only-of-type {\n",
              "        vertical-align: middle;\n",
              "    }\n",
              "\n",
              "    .dataframe tbody tr th {\n",
              "        vertical-align: top;\n",
              "    }\n",
              "\n",
              "    .dataframe thead th {\n",
              "        text-align: right;\n",
              "    }\n",
              "</style>\n",
              "<table border=\"1\" class=\"dataframe\">\n",
              "  <thead>\n",
              "    <tr style=\"text-align: right;\">\n",
              "      <th></th>\n",
              "      <th>count</th>\n",
              "    </tr>\n",
              "    <tr>\n",
              "      <th>value</th>\n",
              "      <th></th>\n",
              "    </tr>\n",
              "  </thead>\n",
              "  <tbody>\n",
              "    <tr>\n",
              "      <th>драмы</th>\n",
              "      <td>4923</td>\n",
              "    </tr>\n",
              "    <tr>\n",
              "      <th>комедии</th>\n",
              "      <td>3479</td>\n",
              "    </tr>\n",
              "    <tr>\n",
              "      <th>зарубежные</th>\n",
              "      <td>3055</td>\n",
              "    </tr>\n",
              "    <tr>\n",
              "      <th>мелодрамы</th>\n",
              "      <td>2533</td>\n",
              "    </tr>\n",
              "    <tr>\n",
              "      <th>триллеры</th>\n",
              "      <td>2297</td>\n",
              "    </tr>\n",
              "    <tr>\n",
              "      <th>...</th>\n",
              "      <td>...</td>\n",
              "    </tr>\n",
              "    <tr>\n",
              "      <th>токшоу</th>\n",
              "      <td>2</td>\n",
              "    </tr>\n",
              "    <tr>\n",
              "      <th>красота и здоровье</th>\n",
              "      <td>2</td>\n",
              "    </tr>\n",
              "    <tr>\n",
              "      <th>передачи</th>\n",
              "      <td>1</td>\n",
              "    </tr>\n",
              "    <tr>\n",
              "      <th>образование</th>\n",
              "      <td>1</td>\n",
              "    </tr>\n",
              "    <tr>\n",
              "      <th>рекомендуем</th>\n",
              "      <td>1</td>\n",
              "    </tr>\n",
              "  </tbody>\n",
              "</table>\n",
              "<p>94 rows × 1 columns</p>\n",
              "</div><br><label><b>dtype:</b> int64</label>"
            ]
          },
          "metadata": {},
          "execution_count": 28
        }
      ],
      "source": [
        "genre_feature[\"value\"].value_counts()"
      ]
    },
    {
      "cell_type": "markdown",
      "metadata": {
        "id": "pupWbthlWU-_"
      },
      "source": [
        "### Content"
      ]
    },
    {
      "cell_type": "code",
      "execution_count": null,
      "metadata": {
        "execution": {
          "iopub.execute_input": "2023-11-29T06:54:14.530909Z",
          "iopub.status.busy": "2023-11-29T06:54:14.530909Z",
          "iopub.status.idle": "2023-11-29T06:54:14.545909Z",
          "shell.execute_reply": "2023-11-29T06:54:14.544909Z",
          "shell.execute_reply.started": "2023-11-29T06:54:14.530909Z"
        },
        "id": "9_5FdxK8WU-_"
      },
      "outputs": [],
      "source": [
        "content_feature = items.reindex(columns=[Columns.Item, \"content_type\"])\n",
        "content_feature.columns = [\"id\", \"value\"]\n",
        "content_feature[\"feature\"] = \"content_type\""
      ]
    },
    {
      "cell_type": "code",
      "execution_count": null,
      "metadata": {
        "execution": {
          "iopub.execute_input": "2023-11-29T06:54:14.546909Z",
          "iopub.status.busy": "2023-11-29T06:54:14.546909Z",
          "iopub.status.idle": "2023-11-29T06:54:14.561910Z",
          "shell.execute_reply": "2023-11-29T06:54:14.560909Z",
          "shell.execute_reply.started": "2023-11-29T06:54:14.546909Z"
        },
        "colab": {
          "base_uri": "https://localhost:8080/",
          "height": 423
        },
        "id": "BNS4vUDtWU_A",
        "outputId": "727ce370-20d5-4464-b60e-a901cb811eeb"
      },
      "outputs": [
        {
          "output_type": "execute_result",
          "data": {
            "text/plain": [
              "          id   value       feature\n",
              "0      10711    film  content_type\n",
              "1       2508    film  content_type\n",
              "2      10716    film  content_type\n",
              "3       7868    film  content_type\n",
              "4      16268    film  content_type\n",
              "...      ...     ...           ...\n",
              "15958   6443  series  content_type\n",
              "15959   2367  series  content_type\n",
              "15960  10632  series  content_type\n",
              "15961   4538  series  content_type\n",
              "15962   3206  series  content_type\n",
              "\n",
              "[14019 rows x 3 columns]"
            ],
            "text/html": [
              "\n",
              "  <div id=\"df-ba2a8041-1420-44f8-b029-f1a455e687dc\" class=\"colab-df-container\">\n",
              "    <div>\n",
              "<style scoped>\n",
              "    .dataframe tbody tr th:only-of-type {\n",
              "        vertical-align: middle;\n",
              "    }\n",
              "\n",
              "    .dataframe tbody tr th {\n",
              "        vertical-align: top;\n",
              "    }\n",
              "\n",
              "    .dataframe thead th {\n",
              "        text-align: right;\n",
              "    }\n",
              "</style>\n",
              "<table border=\"1\" class=\"dataframe\">\n",
              "  <thead>\n",
              "    <tr style=\"text-align: right;\">\n",
              "      <th></th>\n",
              "      <th>id</th>\n",
              "      <th>value</th>\n",
              "      <th>feature</th>\n",
              "    </tr>\n",
              "  </thead>\n",
              "  <tbody>\n",
              "    <tr>\n",
              "      <th>0</th>\n",
              "      <td>10711</td>\n",
              "      <td>film</td>\n",
              "      <td>content_type</td>\n",
              "    </tr>\n",
              "    <tr>\n",
              "      <th>1</th>\n",
              "      <td>2508</td>\n",
              "      <td>film</td>\n",
              "      <td>content_type</td>\n",
              "    </tr>\n",
              "    <tr>\n",
              "      <th>2</th>\n",
              "      <td>10716</td>\n",
              "      <td>film</td>\n",
              "      <td>content_type</td>\n",
              "    </tr>\n",
              "    <tr>\n",
              "      <th>3</th>\n",
              "      <td>7868</td>\n",
              "      <td>film</td>\n",
              "      <td>content_type</td>\n",
              "    </tr>\n",
              "    <tr>\n",
              "      <th>4</th>\n",
              "      <td>16268</td>\n",
              "      <td>film</td>\n",
              "      <td>content_type</td>\n",
              "    </tr>\n",
              "    <tr>\n",
              "      <th>...</th>\n",
              "      <td>...</td>\n",
              "      <td>...</td>\n",
              "      <td>...</td>\n",
              "    </tr>\n",
              "    <tr>\n",
              "      <th>15958</th>\n",
              "      <td>6443</td>\n",
              "      <td>series</td>\n",
              "      <td>content_type</td>\n",
              "    </tr>\n",
              "    <tr>\n",
              "      <th>15959</th>\n",
              "      <td>2367</td>\n",
              "      <td>series</td>\n",
              "      <td>content_type</td>\n",
              "    </tr>\n",
              "    <tr>\n",
              "      <th>15960</th>\n",
              "      <td>10632</td>\n",
              "      <td>series</td>\n",
              "      <td>content_type</td>\n",
              "    </tr>\n",
              "    <tr>\n",
              "      <th>15961</th>\n",
              "      <td>4538</td>\n",
              "      <td>series</td>\n",
              "      <td>content_type</td>\n",
              "    </tr>\n",
              "    <tr>\n",
              "      <th>15962</th>\n",
              "      <td>3206</td>\n",
              "      <td>series</td>\n",
              "      <td>content_type</td>\n",
              "    </tr>\n",
              "  </tbody>\n",
              "</table>\n",
              "<p>14019 rows × 3 columns</p>\n",
              "</div>\n",
              "    <div class=\"colab-df-buttons\">\n",
              "\n",
              "  <div class=\"colab-df-container\">\n",
              "    <button class=\"colab-df-convert\" onclick=\"convertToInteractive('df-ba2a8041-1420-44f8-b029-f1a455e687dc')\"\n",
              "            title=\"Convert this dataframe to an interactive table.\"\n",
              "            style=\"display:none;\">\n",
              "\n",
              "  <svg xmlns=\"http://www.w3.org/2000/svg\" height=\"24px\" viewBox=\"0 -960 960 960\">\n",
              "    <path d=\"M120-120v-720h720v720H120Zm60-500h600v-160H180v160Zm220 220h160v-160H400v160Zm0 220h160v-160H400v160ZM180-400h160v-160H180v160Zm440 0h160v-160H620v160ZM180-180h160v-160H180v160Zm440 0h160v-160H620v160Z\"/>\n",
              "  </svg>\n",
              "    </button>\n",
              "\n",
              "  <style>\n",
              "    .colab-df-container {\n",
              "      display:flex;\n",
              "      gap: 12px;\n",
              "    }\n",
              "\n",
              "    .colab-df-convert {\n",
              "      background-color: #E8F0FE;\n",
              "      border: none;\n",
              "      border-radius: 50%;\n",
              "      cursor: pointer;\n",
              "      display: none;\n",
              "      fill: #1967D2;\n",
              "      height: 32px;\n",
              "      padding: 0 0 0 0;\n",
              "      width: 32px;\n",
              "    }\n",
              "\n",
              "    .colab-df-convert:hover {\n",
              "      background-color: #E2EBFA;\n",
              "      box-shadow: 0px 1px 2px rgba(60, 64, 67, 0.3), 0px 1px 3px 1px rgba(60, 64, 67, 0.15);\n",
              "      fill: #174EA6;\n",
              "    }\n",
              "\n",
              "    .colab-df-buttons div {\n",
              "      margin-bottom: 4px;\n",
              "    }\n",
              "\n",
              "    [theme=dark] .colab-df-convert {\n",
              "      background-color: #3B4455;\n",
              "      fill: #D2E3FC;\n",
              "    }\n",
              "\n",
              "    [theme=dark] .colab-df-convert:hover {\n",
              "      background-color: #434B5C;\n",
              "      box-shadow: 0px 1px 3px 1px rgba(0, 0, 0, 0.15);\n",
              "      filter: drop-shadow(0px 1px 2px rgba(0, 0, 0, 0.3));\n",
              "      fill: #FFFFFF;\n",
              "    }\n",
              "  </style>\n",
              "\n",
              "    <script>\n",
              "      const buttonEl =\n",
              "        document.querySelector('#df-ba2a8041-1420-44f8-b029-f1a455e687dc button.colab-df-convert');\n",
              "      buttonEl.style.display =\n",
              "        google.colab.kernel.accessAllowed ? 'block' : 'none';\n",
              "\n",
              "      async function convertToInteractive(key) {\n",
              "        const element = document.querySelector('#df-ba2a8041-1420-44f8-b029-f1a455e687dc');\n",
              "        const dataTable =\n",
              "          await google.colab.kernel.invokeFunction('convertToInteractive',\n",
              "                                                    [key], {});\n",
              "        if (!dataTable) return;\n",
              "\n",
              "        const docLinkHtml = 'Like what you see? Visit the ' +\n",
              "          '<a target=\"_blank\" href=https://colab.research.google.com/notebooks/data_table.ipynb>data table notebook</a>'\n",
              "          + ' to learn more about interactive tables.';\n",
              "        element.innerHTML = '';\n",
              "        dataTable['output_type'] = 'display_data';\n",
              "        await google.colab.output.renderOutput(dataTable, element);\n",
              "        const docLink = document.createElement('div');\n",
              "        docLink.innerHTML = docLinkHtml;\n",
              "        element.appendChild(docLink);\n",
              "      }\n",
              "    </script>\n",
              "  </div>\n",
              "\n",
              "\n",
              "<div id=\"df-f819ead2-fcfd-4589-98c0-c7725f4b37e7\">\n",
              "  <button class=\"colab-df-quickchart\" onclick=\"quickchart('df-f819ead2-fcfd-4589-98c0-c7725f4b37e7')\"\n",
              "            title=\"Suggest charts\"\n",
              "            style=\"display:none;\">\n",
              "\n",
              "<svg xmlns=\"http://www.w3.org/2000/svg\" height=\"24px\"viewBox=\"0 0 24 24\"\n",
              "     width=\"24px\">\n",
              "    <g>\n",
              "        <path d=\"M19 3H5c-1.1 0-2 .9-2 2v14c0 1.1.9 2 2 2h14c1.1 0 2-.9 2-2V5c0-1.1-.9-2-2-2zM9 17H7v-7h2v7zm4 0h-2V7h2v10zm4 0h-2v-4h2v4z\"/>\n",
              "    </g>\n",
              "</svg>\n",
              "  </button>\n",
              "\n",
              "<style>\n",
              "  .colab-df-quickchart {\n",
              "      --bg-color: #E8F0FE;\n",
              "      --fill-color: #1967D2;\n",
              "      --hover-bg-color: #E2EBFA;\n",
              "      --hover-fill-color: #174EA6;\n",
              "      --disabled-fill-color: #AAA;\n",
              "      --disabled-bg-color: #DDD;\n",
              "  }\n",
              "\n",
              "  [theme=dark] .colab-df-quickchart {\n",
              "      --bg-color: #3B4455;\n",
              "      --fill-color: #D2E3FC;\n",
              "      --hover-bg-color: #434B5C;\n",
              "      --hover-fill-color: #FFFFFF;\n",
              "      --disabled-bg-color: #3B4455;\n",
              "      --disabled-fill-color: #666;\n",
              "  }\n",
              "\n",
              "  .colab-df-quickchart {\n",
              "    background-color: var(--bg-color);\n",
              "    border: none;\n",
              "    border-radius: 50%;\n",
              "    cursor: pointer;\n",
              "    display: none;\n",
              "    fill: var(--fill-color);\n",
              "    height: 32px;\n",
              "    padding: 0;\n",
              "    width: 32px;\n",
              "  }\n",
              "\n",
              "  .colab-df-quickchart:hover {\n",
              "    background-color: var(--hover-bg-color);\n",
              "    box-shadow: 0 1px 2px rgba(60, 64, 67, 0.3), 0 1px 3px 1px rgba(60, 64, 67, 0.15);\n",
              "    fill: var(--button-hover-fill-color);\n",
              "  }\n",
              "\n",
              "  .colab-df-quickchart-complete:disabled,\n",
              "  .colab-df-quickchart-complete:disabled:hover {\n",
              "    background-color: var(--disabled-bg-color);\n",
              "    fill: var(--disabled-fill-color);\n",
              "    box-shadow: none;\n",
              "  }\n",
              "\n",
              "  .colab-df-spinner {\n",
              "    border: 2px solid var(--fill-color);\n",
              "    border-color: transparent;\n",
              "    border-bottom-color: var(--fill-color);\n",
              "    animation:\n",
              "      spin 1s steps(1) infinite;\n",
              "  }\n",
              "\n",
              "  @keyframes spin {\n",
              "    0% {\n",
              "      border-color: transparent;\n",
              "      border-bottom-color: var(--fill-color);\n",
              "      border-left-color: var(--fill-color);\n",
              "    }\n",
              "    20% {\n",
              "      border-color: transparent;\n",
              "      border-left-color: var(--fill-color);\n",
              "      border-top-color: var(--fill-color);\n",
              "    }\n",
              "    30% {\n",
              "      border-color: transparent;\n",
              "      border-left-color: var(--fill-color);\n",
              "      border-top-color: var(--fill-color);\n",
              "      border-right-color: var(--fill-color);\n",
              "    }\n",
              "    40% {\n",
              "      border-color: transparent;\n",
              "      border-right-color: var(--fill-color);\n",
              "      border-top-color: var(--fill-color);\n",
              "    }\n",
              "    60% {\n",
              "      border-color: transparent;\n",
              "      border-right-color: var(--fill-color);\n",
              "    }\n",
              "    80% {\n",
              "      border-color: transparent;\n",
              "      border-right-color: var(--fill-color);\n",
              "      border-bottom-color: var(--fill-color);\n",
              "    }\n",
              "    90% {\n",
              "      border-color: transparent;\n",
              "      border-bottom-color: var(--fill-color);\n",
              "    }\n",
              "  }\n",
              "</style>\n",
              "\n",
              "  <script>\n",
              "    async function quickchart(key) {\n",
              "      const quickchartButtonEl =\n",
              "        document.querySelector('#' + key + ' button');\n",
              "      quickchartButtonEl.disabled = true;  // To prevent multiple clicks.\n",
              "      quickchartButtonEl.classList.add('colab-df-spinner');\n",
              "      try {\n",
              "        const charts = await google.colab.kernel.invokeFunction(\n",
              "            'suggestCharts', [key], {});\n",
              "      } catch (error) {\n",
              "        console.error('Error during call to suggestCharts:', error);\n",
              "      }\n",
              "      quickchartButtonEl.classList.remove('colab-df-spinner');\n",
              "      quickchartButtonEl.classList.add('colab-df-quickchart-complete');\n",
              "    }\n",
              "    (() => {\n",
              "      let quickchartButtonEl =\n",
              "        document.querySelector('#df-f819ead2-fcfd-4589-98c0-c7725f4b37e7 button');\n",
              "      quickchartButtonEl.style.display =\n",
              "        google.colab.kernel.accessAllowed ? 'block' : 'none';\n",
              "    })();\n",
              "  </script>\n",
              "</div>\n",
              "    </div>\n",
              "  </div>\n"
            ],
            "application/vnd.google.colaboratory.intrinsic+json": {
              "type": "dataframe",
              "variable_name": "content_feature",
              "summary": "{\n  \"name\": \"content_feature\",\n  \"rows\": 14019,\n  \"fields\": [\n    {\n      \"column\": \"id\",\n      \"properties\": {\n        \"dtype\": \"number\",\n        \"std\": 4771,\n        \"min\": 0,\n        \"max\": 16518,\n        \"num_unique_values\": 14019,\n        \"samples\": [\n          4509,\n          3554,\n          16280\n        ],\n        \"semantic_type\": \"\",\n        \"description\": \"\"\n      }\n    },\n    {\n      \"column\": \"value\",\n      \"properties\": {\n        \"dtype\": \"category\",\n        \"num_unique_values\": 2,\n        \"samples\": [\n          \"series\",\n          \"film\"\n        ],\n        \"semantic_type\": \"\",\n        \"description\": \"\"\n      }\n    },\n    {\n      \"column\": \"feature\",\n      \"properties\": {\n        \"dtype\": \"category\",\n        \"num_unique_values\": 1,\n        \"samples\": [\n          \"content_type\"\n        ],\n        \"semantic_type\": \"\",\n        \"description\": \"\"\n      }\n    }\n  ]\n}"
            }
          },
          "metadata": {},
          "execution_count": 30
        }
      ],
      "source": [
        "content_feature"
      ]
    },
    {
      "cell_type": "code",
      "execution_count": null,
      "metadata": {
        "execution": {
          "iopub.execute_input": "2023-11-29T06:54:14.562909Z",
          "iopub.status.busy": "2023-11-29T06:54:14.561910Z",
          "iopub.status.idle": "2023-11-29T06:54:14.576909Z",
          "shell.execute_reply": "2023-11-29T06:54:14.576909Z",
          "shell.execute_reply.started": "2023-11-29T06:54:14.562909Z"
        },
        "colab": {
          "base_uri": "https://localhost:8080/",
          "height": 178
        },
        "id": "sarBFuTRWU_A",
        "outputId": "956e551b-377a-4794-f17f-ca438ea7ac05"
      },
      "outputs": [
        {
          "output_type": "execute_result",
          "data": {
            "text/plain": [
              "value\n",
              "film      10662\n",
              "series     3357\n",
              "Name: count, dtype: int64"
            ],
            "text/html": [
              "<div>\n",
              "<style scoped>\n",
              "    .dataframe tbody tr th:only-of-type {\n",
              "        vertical-align: middle;\n",
              "    }\n",
              "\n",
              "    .dataframe tbody tr th {\n",
              "        vertical-align: top;\n",
              "    }\n",
              "\n",
              "    .dataframe thead th {\n",
              "        text-align: right;\n",
              "    }\n",
              "</style>\n",
              "<table border=\"1\" class=\"dataframe\">\n",
              "  <thead>\n",
              "    <tr style=\"text-align: right;\">\n",
              "      <th></th>\n",
              "      <th>count</th>\n",
              "    </tr>\n",
              "    <tr>\n",
              "      <th>value</th>\n",
              "      <th></th>\n",
              "    </tr>\n",
              "  </thead>\n",
              "  <tbody>\n",
              "    <tr>\n",
              "      <th>film</th>\n",
              "      <td>10662</td>\n",
              "    </tr>\n",
              "    <tr>\n",
              "      <th>series</th>\n",
              "      <td>3357</td>\n",
              "    </tr>\n",
              "  </tbody>\n",
              "</table>\n",
              "</div><br><label><b>dtype:</b> int64</label>"
            ]
          },
          "metadata": {},
          "execution_count": 31
        }
      ],
      "source": [
        "content_feature['value'].value_counts()"
      ]
    },
    {
      "cell_type": "code",
      "execution_count": null,
      "metadata": {
        "execution": {
          "iopub.execute_input": "2023-11-29T06:54:14.578909Z",
          "iopub.status.busy": "2023-11-29T06:54:14.577909Z",
          "iopub.status.idle": "2023-11-29T06:54:14.592909Z",
          "shell.execute_reply": "2023-11-29T06:54:14.592909Z",
          "shell.execute_reply.started": "2023-11-29T06:54:14.578909Z"
        },
        "tags": [],
        "id": "rAUY_d_RWU_A"
      },
      "outputs": [],
      "source": [
        "item_features = pd.concat((genre_feature, content_feature))"
      ]
    },
    {
      "cell_type": "code",
      "execution_count": null,
      "metadata": {
        "execution": {
          "iopub.execute_input": "2023-11-29T06:54:14.594909Z",
          "iopub.status.busy": "2023-11-29T06:54:14.594909Z",
          "iopub.status.idle": "2023-11-29T06:54:14.609910Z",
          "shell.execute_reply": "2023-11-29T06:54:14.608909Z",
          "shell.execute_reply.started": "2023-11-29T06:54:14.594909Z"
        },
        "tags": [],
        "colab": {
          "base_uri": "https://localhost:8080/",
          "height": 423
        },
        "id": "ZxVb2d_9WU_A",
        "outputId": "dfc47546-8c10-45f9-b613-762dd61e9f5a"
      },
      "outputs": [
        {
          "output_type": "execute_result",
          "data": {
            "text/plain": [
              "          id       value       feature\n",
              "0      10711       драмы         genre\n",
              "0      10711  зарубежные         genre\n",
              "0      10711   детективы         genre\n",
              "0      10711   мелодрамы         genre\n",
              "1       2508  зарубежные         genre\n",
              "...      ...         ...           ...\n",
              "15958   6443      series  content_type\n",
              "15959   2367      series  content_type\n",
              "15960  10632      series  content_type\n",
              "15961   4538      series  content_type\n",
              "15962   3206      series  content_type\n",
              "\n",
              "[50224 rows x 3 columns]"
            ],
            "text/html": [
              "\n",
              "  <div id=\"df-d96ebe2d-7316-44c0-a68d-b187d9f3258d\" class=\"colab-df-container\">\n",
              "    <div>\n",
              "<style scoped>\n",
              "    .dataframe tbody tr th:only-of-type {\n",
              "        vertical-align: middle;\n",
              "    }\n",
              "\n",
              "    .dataframe tbody tr th {\n",
              "        vertical-align: top;\n",
              "    }\n",
              "\n",
              "    .dataframe thead th {\n",
              "        text-align: right;\n",
              "    }\n",
              "</style>\n",
              "<table border=\"1\" class=\"dataframe\">\n",
              "  <thead>\n",
              "    <tr style=\"text-align: right;\">\n",
              "      <th></th>\n",
              "      <th>id</th>\n",
              "      <th>value</th>\n",
              "      <th>feature</th>\n",
              "    </tr>\n",
              "  </thead>\n",
              "  <tbody>\n",
              "    <tr>\n",
              "      <th>0</th>\n",
              "      <td>10711</td>\n",
              "      <td>драмы</td>\n",
              "      <td>genre</td>\n",
              "    </tr>\n",
              "    <tr>\n",
              "      <th>0</th>\n",
              "      <td>10711</td>\n",
              "      <td>зарубежные</td>\n",
              "      <td>genre</td>\n",
              "    </tr>\n",
              "    <tr>\n",
              "      <th>0</th>\n",
              "      <td>10711</td>\n",
              "      <td>детективы</td>\n",
              "      <td>genre</td>\n",
              "    </tr>\n",
              "    <tr>\n",
              "      <th>0</th>\n",
              "      <td>10711</td>\n",
              "      <td>мелодрамы</td>\n",
              "      <td>genre</td>\n",
              "    </tr>\n",
              "    <tr>\n",
              "      <th>1</th>\n",
              "      <td>2508</td>\n",
              "      <td>зарубежные</td>\n",
              "      <td>genre</td>\n",
              "    </tr>\n",
              "    <tr>\n",
              "      <th>...</th>\n",
              "      <td>...</td>\n",
              "      <td>...</td>\n",
              "      <td>...</td>\n",
              "    </tr>\n",
              "    <tr>\n",
              "      <th>15958</th>\n",
              "      <td>6443</td>\n",
              "      <td>series</td>\n",
              "      <td>content_type</td>\n",
              "    </tr>\n",
              "    <tr>\n",
              "      <th>15959</th>\n",
              "      <td>2367</td>\n",
              "      <td>series</td>\n",
              "      <td>content_type</td>\n",
              "    </tr>\n",
              "    <tr>\n",
              "      <th>15960</th>\n",
              "      <td>10632</td>\n",
              "      <td>series</td>\n",
              "      <td>content_type</td>\n",
              "    </tr>\n",
              "    <tr>\n",
              "      <th>15961</th>\n",
              "      <td>4538</td>\n",
              "      <td>series</td>\n",
              "      <td>content_type</td>\n",
              "    </tr>\n",
              "    <tr>\n",
              "      <th>15962</th>\n",
              "      <td>3206</td>\n",
              "      <td>series</td>\n",
              "      <td>content_type</td>\n",
              "    </tr>\n",
              "  </tbody>\n",
              "</table>\n",
              "<p>50224 rows × 3 columns</p>\n",
              "</div>\n",
              "    <div class=\"colab-df-buttons\">\n",
              "\n",
              "  <div class=\"colab-df-container\">\n",
              "    <button class=\"colab-df-convert\" onclick=\"convertToInteractive('df-d96ebe2d-7316-44c0-a68d-b187d9f3258d')\"\n",
              "            title=\"Convert this dataframe to an interactive table.\"\n",
              "            style=\"display:none;\">\n",
              "\n",
              "  <svg xmlns=\"http://www.w3.org/2000/svg\" height=\"24px\" viewBox=\"0 -960 960 960\">\n",
              "    <path d=\"M120-120v-720h720v720H120Zm60-500h600v-160H180v160Zm220 220h160v-160H400v160Zm0 220h160v-160H400v160ZM180-400h160v-160H180v160Zm440 0h160v-160H620v160ZM180-180h160v-160H180v160Zm440 0h160v-160H620v160Z\"/>\n",
              "  </svg>\n",
              "    </button>\n",
              "\n",
              "  <style>\n",
              "    .colab-df-container {\n",
              "      display:flex;\n",
              "      gap: 12px;\n",
              "    }\n",
              "\n",
              "    .colab-df-convert {\n",
              "      background-color: #E8F0FE;\n",
              "      border: none;\n",
              "      border-radius: 50%;\n",
              "      cursor: pointer;\n",
              "      display: none;\n",
              "      fill: #1967D2;\n",
              "      height: 32px;\n",
              "      padding: 0 0 0 0;\n",
              "      width: 32px;\n",
              "    }\n",
              "\n",
              "    .colab-df-convert:hover {\n",
              "      background-color: #E2EBFA;\n",
              "      box-shadow: 0px 1px 2px rgba(60, 64, 67, 0.3), 0px 1px 3px 1px rgba(60, 64, 67, 0.15);\n",
              "      fill: #174EA6;\n",
              "    }\n",
              "\n",
              "    .colab-df-buttons div {\n",
              "      margin-bottom: 4px;\n",
              "    }\n",
              "\n",
              "    [theme=dark] .colab-df-convert {\n",
              "      background-color: #3B4455;\n",
              "      fill: #D2E3FC;\n",
              "    }\n",
              "\n",
              "    [theme=dark] .colab-df-convert:hover {\n",
              "      background-color: #434B5C;\n",
              "      box-shadow: 0px 1px 3px 1px rgba(0, 0, 0, 0.15);\n",
              "      filter: drop-shadow(0px 1px 2px rgba(0, 0, 0, 0.3));\n",
              "      fill: #FFFFFF;\n",
              "    }\n",
              "  </style>\n",
              "\n",
              "    <script>\n",
              "      const buttonEl =\n",
              "        document.querySelector('#df-d96ebe2d-7316-44c0-a68d-b187d9f3258d button.colab-df-convert');\n",
              "      buttonEl.style.display =\n",
              "        google.colab.kernel.accessAllowed ? 'block' : 'none';\n",
              "\n",
              "      async function convertToInteractive(key) {\n",
              "        const element = document.querySelector('#df-d96ebe2d-7316-44c0-a68d-b187d9f3258d');\n",
              "        const dataTable =\n",
              "          await google.colab.kernel.invokeFunction('convertToInteractive',\n",
              "                                                    [key], {});\n",
              "        if (!dataTable) return;\n",
              "\n",
              "        const docLinkHtml = 'Like what you see? Visit the ' +\n",
              "          '<a target=\"_blank\" href=https://colab.research.google.com/notebooks/data_table.ipynb>data table notebook</a>'\n",
              "          + ' to learn more about interactive tables.';\n",
              "        element.innerHTML = '';\n",
              "        dataTable['output_type'] = 'display_data';\n",
              "        await google.colab.output.renderOutput(dataTable, element);\n",
              "        const docLink = document.createElement('div');\n",
              "        docLink.innerHTML = docLinkHtml;\n",
              "        element.appendChild(docLink);\n",
              "      }\n",
              "    </script>\n",
              "  </div>\n",
              "\n",
              "\n",
              "<div id=\"df-63f5774b-5a23-4b76-8392-7bfc5ecb5a70\">\n",
              "  <button class=\"colab-df-quickchart\" onclick=\"quickchart('df-63f5774b-5a23-4b76-8392-7bfc5ecb5a70')\"\n",
              "            title=\"Suggest charts\"\n",
              "            style=\"display:none;\">\n",
              "\n",
              "<svg xmlns=\"http://www.w3.org/2000/svg\" height=\"24px\"viewBox=\"0 0 24 24\"\n",
              "     width=\"24px\">\n",
              "    <g>\n",
              "        <path d=\"M19 3H5c-1.1 0-2 .9-2 2v14c0 1.1.9 2 2 2h14c1.1 0 2-.9 2-2V5c0-1.1-.9-2-2-2zM9 17H7v-7h2v7zm4 0h-2V7h2v10zm4 0h-2v-4h2v4z\"/>\n",
              "    </g>\n",
              "</svg>\n",
              "  </button>\n",
              "\n",
              "<style>\n",
              "  .colab-df-quickchart {\n",
              "      --bg-color: #E8F0FE;\n",
              "      --fill-color: #1967D2;\n",
              "      --hover-bg-color: #E2EBFA;\n",
              "      --hover-fill-color: #174EA6;\n",
              "      --disabled-fill-color: #AAA;\n",
              "      --disabled-bg-color: #DDD;\n",
              "  }\n",
              "\n",
              "  [theme=dark] .colab-df-quickchart {\n",
              "      --bg-color: #3B4455;\n",
              "      --fill-color: #D2E3FC;\n",
              "      --hover-bg-color: #434B5C;\n",
              "      --hover-fill-color: #FFFFFF;\n",
              "      --disabled-bg-color: #3B4455;\n",
              "      --disabled-fill-color: #666;\n",
              "  }\n",
              "\n",
              "  .colab-df-quickchart {\n",
              "    background-color: var(--bg-color);\n",
              "    border: none;\n",
              "    border-radius: 50%;\n",
              "    cursor: pointer;\n",
              "    display: none;\n",
              "    fill: var(--fill-color);\n",
              "    height: 32px;\n",
              "    padding: 0;\n",
              "    width: 32px;\n",
              "  }\n",
              "\n",
              "  .colab-df-quickchart:hover {\n",
              "    background-color: var(--hover-bg-color);\n",
              "    box-shadow: 0 1px 2px rgba(60, 64, 67, 0.3), 0 1px 3px 1px rgba(60, 64, 67, 0.15);\n",
              "    fill: var(--button-hover-fill-color);\n",
              "  }\n",
              "\n",
              "  .colab-df-quickchart-complete:disabled,\n",
              "  .colab-df-quickchart-complete:disabled:hover {\n",
              "    background-color: var(--disabled-bg-color);\n",
              "    fill: var(--disabled-fill-color);\n",
              "    box-shadow: none;\n",
              "  }\n",
              "\n",
              "  .colab-df-spinner {\n",
              "    border: 2px solid var(--fill-color);\n",
              "    border-color: transparent;\n",
              "    border-bottom-color: var(--fill-color);\n",
              "    animation:\n",
              "      spin 1s steps(1) infinite;\n",
              "  }\n",
              "\n",
              "  @keyframes spin {\n",
              "    0% {\n",
              "      border-color: transparent;\n",
              "      border-bottom-color: var(--fill-color);\n",
              "      border-left-color: var(--fill-color);\n",
              "    }\n",
              "    20% {\n",
              "      border-color: transparent;\n",
              "      border-left-color: var(--fill-color);\n",
              "      border-top-color: var(--fill-color);\n",
              "    }\n",
              "    30% {\n",
              "      border-color: transparent;\n",
              "      border-left-color: var(--fill-color);\n",
              "      border-top-color: var(--fill-color);\n",
              "      border-right-color: var(--fill-color);\n",
              "    }\n",
              "    40% {\n",
              "      border-color: transparent;\n",
              "      border-right-color: var(--fill-color);\n",
              "      border-top-color: var(--fill-color);\n",
              "    }\n",
              "    60% {\n",
              "      border-color: transparent;\n",
              "      border-right-color: var(--fill-color);\n",
              "    }\n",
              "    80% {\n",
              "      border-color: transparent;\n",
              "      border-right-color: var(--fill-color);\n",
              "      border-bottom-color: var(--fill-color);\n",
              "    }\n",
              "    90% {\n",
              "      border-color: transparent;\n",
              "      border-bottom-color: var(--fill-color);\n",
              "    }\n",
              "  }\n",
              "</style>\n",
              "\n",
              "  <script>\n",
              "    async function quickchart(key) {\n",
              "      const quickchartButtonEl =\n",
              "        document.querySelector('#' + key + ' button');\n",
              "      quickchartButtonEl.disabled = true;  // To prevent multiple clicks.\n",
              "      quickchartButtonEl.classList.add('colab-df-spinner');\n",
              "      try {\n",
              "        const charts = await google.colab.kernel.invokeFunction(\n",
              "            'suggestCharts', [key], {});\n",
              "      } catch (error) {\n",
              "        console.error('Error during call to suggestCharts:', error);\n",
              "      }\n",
              "      quickchartButtonEl.classList.remove('colab-df-spinner');\n",
              "      quickchartButtonEl.classList.add('colab-df-quickchart-complete');\n",
              "    }\n",
              "    (() => {\n",
              "      let quickchartButtonEl =\n",
              "        document.querySelector('#df-63f5774b-5a23-4b76-8392-7bfc5ecb5a70 button');\n",
              "      quickchartButtonEl.style.display =\n",
              "        google.colab.kernel.accessAllowed ? 'block' : 'none';\n",
              "    })();\n",
              "  </script>\n",
              "</div>\n",
              "    </div>\n",
              "  </div>\n"
            ],
            "application/vnd.google.colaboratory.intrinsic+json": {
              "type": "dataframe",
              "variable_name": "item_features",
              "summary": "{\n  \"name\": \"item_features\",\n  \"rows\": 50224,\n  \"fields\": [\n    {\n      \"column\": \"id\",\n      \"properties\": {\n        \"dtype\": \"number\",\n        \"std\": 4780,\n        \"min\": 0,\n        \"max\": 16518,\n        \"num_unique_values\": 14019,\n        \"samples\": [\n          4509,\n          3554,\n          16280\n        ],\n        \"semantic_type\": \"\",\n        \"description\": \"\"\n      }\n    },\n    {\n      \"column\": \"value\",\n      \"properties\": {\n        \"dtype\": \"category\",\n        \"num_unique_values\": 96,\n        \"samples\": [\n          \"\\u0435\\u0434\\u0438\\u043d\\u043e\\u0431\\u043e\\u0440\\u0441\\u0442\\u0432\\u0430\",\n          \"\\u0442\\u0435\\u043b\\u0435\\u0436\\u0443\\u0440\\u043d\\u0430\\u043b\\u044b\",\n          \"\\u0440\\u0435\\u0430\\u043b\\u0438\\u0442\\u0438\"\n        ],\n        \"semantic_type\": \"\",\n        \"description\": \"\"\n      }\n    },\n    {\n      \"column\": \"feature\",\n      \"properties\": {\n        \"dtype\": \"category\",\n        \"num_unique_values\": 2,\n        \"samples\": [\n          \"content_type\",\n          \"genre\"\n        ],\n        \"semantic_type\": \"\",\n        \"description\": \"\"\n      }\n    }\n  ]\n}"
            }
          },
          "metadata": {},
          "execution_count": 33
        }
      ],
      "source": [
        "item_features"
      ]
    },
    {
      "cell_type": "markdown",
      "metadata": {
        "id": "X0WSyiwEWU_B"
      },
      "source": [
        "# Metrics"
      ]
    },
    {
      "cell_type": "code",
      "execution_count": null,
      "metadata": {
        "execution": {
          "iopub.execute_input": "2023-11-29T06:54:14.610909Z",
          "iopub.status.busy": "2023-11-29T06:54:14.610909Z",
          "iopub.status.idle": "2023-11-29T06:54:14.625909Z",
          "shell.execute_reply": "2023-11-29T06:54:14.624909Z",
          "shell.execute_reply.started": "2023-11-29T06:54:14.610909Z"
        },
        "id": "vfh__579WU_B"
      },
      "outputs": [],
      "source": [
        "metrics_name = {\n",
        "    'Precision': Precision,\n",
        "    'Recall': Recall,\n",
        "    'MAP': MAP,\n",
        "}\n",
        "\n",
        "metrics = {}\n",
        "for metric_name, metric in metrics_name.items():\n",
        "    for k in [1, 3, 5, 10]:\n",
        "        metrics[f'{metric_name}@{k}'] = metric(k=k)"
      ]
    },
    {
      "cell_type": "code",
      "execution_count": null,
      "metadata": {
        "execution": {
          "iopub.execute_input": "2023-11-29T06:54:14.626909Z",
          "iopub.status.busy": "2023-11-29T06:54:14.626909Z",
          "iopub.status.idle": "2023-11-29T06:54:14.640909Z",
          "shell.execute_reply": "2023-11-29T06:54:14.640909Z",
          "shell.execute_reply.started": "2023-11-29T06:54:14.626909Z"
        },
        "colab": {
          "base_uri": "https://localhost:8080/"
        },
        "id": "-06uKhraWU_B",
        "outputId": "bcef465f-12f9-4c04-99a2-e262256f9de1"
      },
      "outputs": [
        {
          "output_type": "execute_result",
          "data": {
            "text/plain": [
              "{'Precision@1': Precision(k=1, debias_config=None, r_precision=False),\n",
              " 'Precision@3': Precision(k=3, debias_config=None, r_precision=False),\n",
              " 'Precision@5': Precision(k=5, debias_config=None, r_precision=False),\n",
              " 'Precision@10': Precision(k=10, debias_config=None, r_precision=False),\n",
              " 'Recall@1': Recall(k=1, debias_config=None),\n",
              " 'Recall@3': Recall(k=3, debias_config=None),\n",
              " 'Recall@5': Recall(k=5, debias_config=None),\n",
              " 'Recall@10': Recall(k=10, debias_config=None),\n",
              " 'MAP@1': MAP(k=1, debias_config=None, divide_by_k=False),\n",
              " 'MAP@3': MAP(k=3, debias_config=None, divide_by_k=False),\n",
              " 'MAP@5': MAP(k=5, debias_config=None, divide_by_k=False),\n",
              " 'MAP@10': MAP(k=10, debias_config=None, divide_by_k=False)}"
            ]
          },
          "metadata": {},
          "execution_count": 35
        }
      ],
      "source": [
        "metrics"
      ]
    },
    {
      "cell_type": "markdown",
      "metadata": {
        "id": "WK0CjiySWU_B"
      },
      "source": [
        "# Models"
      ]
    },
    {
      "cell_type": "code",
      "execution_count": null,
      "metadata": {
        "execution": {
          "iopub.execute_input": "2023-11-29T06:54:14.642909Z",
          "iopub.status.busy": "2023-11-29T06:54:14.642909Z",
          "iopub.status.idle": "2023-11-29T06:54:14.656909Z",
          "shell.execute_reply": "2023-11-29T06:54:14.656909Z",
          "shell.execute_reply.started": "2023-11-29T06:54:14.642909Z"
        },
        "id": "1WMtvYqFWU_B"
      },
      "outputs": [],
      "source": [
        "K_RECOS = 10\n",
        "RANDOM_STATE = 42\n",
        "NUM_THREADS = 16\n",
        "N_FACTORS = (32,)\n",
        "N_EPOCHS = 1 # Lightfm\n",
        "USER_ALPHA = 0 # Lightfm\n",
        "ITEM_ALPHA = 0 # Lightfm\n",
        "LEARNING_RATE = 0.05 # Lightfm"
      ]
    },
    {
      "cell_type": "code",
      "execution_count": null,
      "metadata": {
        "execution": {
          "iopub.execute_input": "2023-11-29T06:54:14.658909Z",
          "iopub.status.busy": "2023-11-29T06:54:14.657909Z",
          "iopub.status.idle": "2023-11-29T06:54:14.673910Z",
          "shell.execute_reply": "2023-11-29T06:54:14.672909Z",
          "shell.execute_reply.started": "2023-11-29T06:54:14.658909Z"
        },
        "id": "C-QsL_sbWU_B"
      },
      "outputs": [],
      "source": [
        "models = {\n",
        "    'popular': PopularModel(),\n",
        "}"
      ]
    },
    {
      "cell_type": "code",
      "execution_count": null,
      "metadata": {
        "execution": {
          "iopub.execute_input": "2023-11-29T06:54:14.674909Z",
          "iopub.status.busy": "2023-11-29T06:54:14.674909Z",
          "iopub.status.idle": "2023-11-29T06:54:14.735909Z",
          "shell.execute_reply": "2023-11-29T06:54:14.734909Z",
          "shell.execute_reply.started": "2023-11-29T06:54:14.674909Z"
        },
        "id": "o7YJmeHtWU_B"
      },
      "outputs": [],
      "source": [
        "implicit_models = {\n",
        "    'ALS': AlternatingLeastSquares,\n",
        "}\n",
        "for implicit_name, implicit_model in implicit_models.items():\n",
        "    for is_fitting_features in (True, False):\n",
        "        for n_factors in N_FACTORS:\n",
        "            models[f\"{implicit_name}_{n_factors}_{is_fitting_features}\"] = (\n",
        "                ImplicitALSWrapperModel(\n",
        "                    model=implicit_model(\n",
        "                        factors=n_factors,\n",
        "                        random_state=RANDOM_STATE,\n",
        "                        num_threads=NUM_THREADS,\n",
        "                    ),\n",
        "                    fit_features_together=is_fitting_features,\n",
        "                )\n",
        "            )"
      ]
    },
    {
      "cell_type": "code",
      "execution_count": null,
      "metadata": {
        "execution": {
          "iopub.execute_input": "2023-11-29T06:54:14.736909Z",
          "iopub.status.busy": "2023-11-29T06:54:14.736909Z",
          "iopub.status.idle": "2023-11-29T06:54:14.751909Z",
          "shell.execute_reply": "2023-11-29T06:54:14.750909Z",
          "shell.execute_reply.started": "2023-11-29T06:54:14.736909Z"
        },
        "id": "AcFim22tWU_B"
      },
      "outputs": [],
      "source": [
        "lightfm_losses = ('logistic', 'bpr', 'warp')\n",
        "\n",
        "for loss in lightfm_losses:\n",
        "    for n_factors in N_FACTORS:\n",
        "        models[f\"LightFM_{loss}_{n_factors}\"] = LightFMWrapperModel(\n",
        "            LightFM(\n",
        "                no_components=n_factors,\n",
        "                loss=loss,\n",
        "                random_state=RANDOM_STATE,\n",
        "                learning_rate=LEARNING_RATE,\n",
        "                user_alpha=USER_ALPHA,\n",
        "                item_alpha=ITEM_ALPHA,\n",
        "            ),\n",
        "            epochs=N_EPOCHS,\n",
        "            num_threads=NUM_THREADS,\n",
        "        )"
      ]
    },
    {
      "cell_type": "code",
      "execution_count": null,
      "metadata": {
        "execution": {
          "iopub.execute_input": "2023-11-29T06:54:14.752909Z",
          "iopub.status.busy": "2023-11-29T06:54:14.752909Z",
          "iopub.status.idle": "2023-11-29T06:54:14.767910Z",
          "shell.execute_reply": "2023-11-29T06:54:14.766909Z",
          "shell.execute_reply.started": "2023-11-29T06:54:14.752909Z"
        },
        "colab": {
          "base_uri": "https://localhost:8080/"
        },
        "id": "z-hhGmroWU_B",
        "outputId": "d4d710de-db34-416a-f9f6-ce181f4e3130"
      },
      "outputs": [
        {
          "output_type": "execute_result",
          "data": {
            "text/plain": [
              "{'popular': <rectools.models.popular.PopularModel at 0x7ca155b467d0>,\n",
              " 'ALS_32_True': <rectools.models.implicit_als.ImplicitALSWrapperModel at 0x7ca155b4d410>,\n",
              " 'ALS_32_False': <rectools.models.implicit_als.ImplicitALSWrapperModel at 0x7ca155b4cad0>,\n",
              " 'LightFM_logistic_32': <rectools.models.lightfm.LightFMWrapperModel at 0x7ca15c766cd0>,\n",
              " 'LightFM_bpr_32': <rectools.models.lightfm.LightFMWrapperModel at 0x7ca166b15290>,\n",
              " 'LightFM_warp_32': <rectools.models.lightfm.LightFMWrapperModel at 0x7ca155b462d0>}"
            ]
          },
          "metadata": {},
          "execution_count": 42
        }
      ],
      "source": [
        "models"
      ]
    },
    {
      "cell_type": "code",
      "execution_count": null,
      "metadata": {
        "execution": {
          "iopub.execute_input": "2023-11-29T06:54:14.768909Z",
          "iopub.status.busy": "2023-11-29T06:54:14.768909Z",
          "iopub.status.idle": "2023-11-29T06:54:15.765593Z",
          "shell.execute_reply": "2023-11-29T06:54:15.764595Z",
          "shell.execute_reply.started": "2023-11-29T06:54:14.768909Z"
        },
        "colab": {
          "base_uri": "https://localhost:8080/"
        },
        "id": "U__7NbfMWU_C",
        "outputId": "58218533-2693-412f-d6ef-72ed6fb2e974"
      },
      "outputs": [
        {
          "output_type": "stream",
          "name": "stdout",
          "text": [
            "CPU times: user 1.9 s, sys: 298 ms, total: 2.2 s\n",
            "Wall time: 2.24 s\n"
          ]
        }
      ],
      "source": [
        "%%time\n",
        "dataset = Dataset.construct(\n",
        "    interactions_df=train,\n",
        "    user_features_df=user_features,\n",
        "    cat_user_features=[\"sex\", \"age\", \"income\"],\n",
        "    item_features_df=item_features,\n",
        "    cat_item_features=[\"genre\", \"content_type\"],\n",
        ")"
      ]
    },
    {
      "cell_type": "code",
      "execution_count": null,
      "metadata": {
        "execution": {
          "iopub.execute_input": "2023-11-29T06:54:15.766593Z",
          "iopub.status.busy": "2023-11-29T06:54:15.766593Z",
          "iopub.status.idle": "2023-11-29T06:54:15.781593Z",
          "shell.execute_reply": "2023-11-29T06:54:15.780593Z",
          "shell.execute_reply.started": "2023-11-29T06:54:15.766593Z"
        },
        "id": "935iBVWdWU_C"
      },
      "outputs": [],
      "source": [
        "TEST_USERS = test[Columns.User].unique()"
      ]
    },
    {
      "cell_type": "code",
      "execution_count": null,
      "metadata": {
        "execution": {
          "iopub.execute_input": "2023-11-29T06:54:15.782596Z",
          "iopub.status.busy": "2023-11-29T06:54:15.782596Z",
          "iopub.status.idle": "2023-11-29T07:00:14.143065Z",
          "shell.execute_reply": "2023-11-29T07:00:14.142064Z",
          "shell.execute_reply.started": "2023-11-29T06:54:15.782596Z"
        },
        "colab": {
          "base_uri": "https://localhost:8080/",
          "height": 252,
          "referenced_widgets": [
            "dbad4fdd7a9c4ce38b3a60a512cf9fe9",
            "838278575cfa4a239d70ea4a2bcf1aee",
            "3bfd19acead14deba63047e4645c4121",
            "3e77e0c0324c464db58fb1963b87c41f",
            "28dd0cf7a55d4f9395f949549f97827f",
            "35918fe8f1684f2caa3fc2bc5e35e13d",
            "febca148dfdb4bd58cfe6ee42aa157f2",
            "5d4065fef2ff46e6b1c2b31ca628247d",
            "2a51cb47686d4247b2e8ccdf8e9d7ef3",
            "b3c96522932548208f3b37792fb52520",
            "765406f9a4a44acab9633800f974bebb",
            "ac5c06c36cad49f78e7d7b17ee6efb34",
            "98bef83a08f141c78256fcdf9f81e6a4",
            "d26b297f21044e69b9275ed242b2c5a6",
            "166d6ff211604ef1a1d5b2128f7400b6",
            "2bb1581c90e84086856bdd80b4df27e0",
            "07016e50304b46eab5afb58c52a4eb0d",
            "ea3306d140e74693baee947d5d6014ed",
            "d09a472507ae4e348cbe45a296da878e",
            "f012aae15c354c97a21407980db64a20",
            "9ea2de63f378498f8b4833ee8b6dc9f1",
            "c3d17fbf726f401693f03ab21de8392d",
            "bd4f00105f2e445cbbdf67e032614a96",
            "4155cfd78d974bf5b6a3e2f307d7a81a",
            "486cc9ae38074bdca2fd1a3c3810ea74",
            "61d07cc3734c405aa214b7d8d2353bbb",
            "f361da01d2b748ddbe0554a12defc3a3",
            "f5524087790448d5ba68b3005f8fb479",
            "709f810ecbb14b92af398df3a41bbd8e",
            "b000af3f36ea4d97a77cfff77486e40f",
            "ba6893c0e27a48b8932af4d98d9457b5",
            "57dc78c13b7341d2af44c5dd4b69540e",
            "d309f7dcea6a411d93b2f830b5db7d83"
          ]
        },
        "id": "ko3AplGwWU_C",
        "outputId": "e7dfe710-6ab6-4f04-b726-8092a14f586a"
      },
      "outputs": [
        {
          "output_type": "display_data",
          "data": {
            "text/plain": [
              "  0%|          | 0/6 [00:00<?, ?it/s]"
            ],
            "application/vnd.jupyter.widget-view+json": {
              "version_major": 2,
              "version_minor": 0,
              "model_id": "dbad4fdd7a9c4ce38b3a60a512cf9fe9"
            }
          },
          "metadata": {}
        },
        {
          "output_type": "stream",
          "name": "stdout",
          "text": [
            "Fitting model popular...\n",
            "Fitting model ALS_32_True...\n",
            "Fitting model ALS_32_False...\n"
          ]
        },
        {
          "output_type": "display_data",
          "data": {
            "text/plain": [
              "  0%|          | 0/1 [00:00<?, ?it/s]"
            ],
            "application/vnd.jupyter.widget-view+json": {
              "version_major": 2,
              "version_minor": 0,
              "model_id": "ac5c06c36cad49f78e7d7b17ee6efb34"
            }
          },
          "metadata": {}
        },
        {
          "output_type": "display_data",
          "data": {
            "text/plain": [
              "  0%|          | 0/1 [00:00<?, ?it/s]"
            ],
            "application/vnd.jupyter.widget-view+json": {
              "version_major": 2,
              "version_minor": 0,
              "model_id": "bd4f00105f2e445cbbdf67e032614a96"
            }
          },
          "metadata": {}
        },
        {
          "output_type": "stream",
          "name": "stdout",
          "text": [
            "Fitting model LightFM_logistic_32...\n",
            "Fitting model LightFM_bpr_32...\n",
            "Fitting model LightFM_warp_32...\n",
            "CPU times: user 12min 8s, sys: 20 s, total: 12min 28s\n",
            "Wall time: 7min 57s\n"
          ]
        }
      ],
      "source": [
        "%%time\n",
        "results = []\n",
        "for model_name, model in tqdm(models.items()):\n",
        "    print(f\"Fitting model {model_name}...\")\n",
        "    model_quality = {'model': model_name}\n",
        "\n",
        "    model.fit(dataset)\n",
        "    recos = model.recommend(\n",
        "        users=TEST_USERS,\n",
        "        dataset=dataset,\n",
        "        k=K_RECOS,\n",
        "        filter_viewed=True,\n",
        "    )\n",
        "    metric_values = calc_metrics(metrics, recos, test, train)\n",
        "    model_quality.update(metric_values)\n",
        "    results.append(model_quality)"
      ]
    },
    {
      "cell_type": "code",
      "execution_count": null,
      "metadata": {
        "execution": {
          "iopub.execute_input": "2023-11-29T07:00:14.144063Z",
          "iopub.status.busy": "2023-11-29T07:00:14.144063Z",
          "iopub.status.idle": "2023-11-29T07:00:14.159067Z",
          "shell.execute_reply": "2023-11-29T07:00:14.158065Z",
          "shell.execute_reply.started": "2023-11-29T07:00:14.144063Z"
        },
        "tags": [],
        "id": "DQlRufMRWU_C"
      },
      "outputs": [],
      "source": [
        "df_quality = pd.DataFrame(results).T\n",
        "\n",
        "df_quality.columns = df_quality.iloc[0]\n",
        "\n",
        "df_quality.drop('model', inplace=True)"
      ]
    },
    {
      "cell_type": "code",
      "execution_count": null,
      "metadata": {
        "execution": {
          "iopub.execute_input": "2023-11-29T07:00:14.160068Z",
          "iopub.status.busy": "2023-11-29T07:00:14.160068Z",
          "iopub.status.idle": "2023-11-29T07:00:14.267065Z",
          "shell.execute_reply": "2023-11-29T07:00:14.266064Z",
          "shell.execute_reply.started": "2023-11-29T07:00:14.160068Z"
        },
        "colab": {
          "base_uri": "https://localhost:8080/",
          "height": 425
        },
        "id": "3LYxrlm4WU_C",
        "outputId": "9bda2bc4-4fcf-4390-cf63-d61d73b0920b"
      },
      "outputs": [
        {
          "output_type": "execute_result",
          "data": {
            "text/plain": [
              "<pandas.io.formats.style.Styler at 0x7ca15ab77910>"
            ],
            "text/html": [
              "<style type=\"text/css\">\n",
              "#T_3b3ed_row0_col5, #T_3b3ed_row1_col5, #T_3b3ed_row2_col0, #T_3b3ed_row3_col5, #T_3b3ed_row4_col5, #T_3b3ed_row5_col5, #T_3b3ed_row6_col0, #T_3b3ed_row7_col5, #T_3b3ed_row8_col5, #T_3b3ed_row9_col5, #T_3b3ed_row10_col5, #T_3b3ed_row11_col5 {\n",
              "  background-color: lightgreen;\n",
              "}\n",
              "</style>\n",
              "<table id=\"T_3b3ed\" class=\"dataframe\">\n",
              "  <thead>\n",
              "    <tr>\n",
              "      <th class=\"index_name level0\" >model</th>\n",
              "      <th id=\"T_3b3ed_level0_col0\" class=\"col_heading level0 col0\" >popular</th>\n",
              "      <th id=\"T_3b3ed_level0_col1\" class=\"col_heading level0 col1\" >ALS_32_True</th>\n",
              "      <th id=\"T_3b3ed_level0_col2\" class=\"col_heading level0 col2\" >ALS_32_False</th>\n",
              "      <th id=\"T_3b3ed_level0_col3\" class=\"col_heading level0 col3\" >LightFM_logistic_32</th>\n",
              "      <th id=\"T_3b3ed_level0_col4\" class=\"col_heading level0 col4\" >LightFM_bpr_32</th>\n",
              "      <th id=\"T_3b3ed_level0_col5\" class=\"col_heading level0 col5\" >LightFM_warp_32</th>\n",
              "    </tr>\n",
              "  </thead>\n",
              "  <tbody>\n",
              "    <tr>\n",
              "      <th id=\"T_3b3ed_level0_row0\" class=\"row_heading level0 row0\" >Precision@1</th>\n",
              "      <td id=\"T_3b3ed_row0_col0\" class=\"data row0 col0\" >0.069368</td>\n",
              "      <td id=\"T_3b3ed_row0_col1\" class=\"data row0 col1\" >0.080866</td>\n",
              "      <td id=\"T_3b3ed_row0_col2\" class=\"data row0 col2\" >0.060950</td>\n",
              "      <td id=\"T_3b3ed_row0_col3\" class=\"data row0 col3\" >0.000363</td>\n",
              "      <td id=\"T_3b3ed_row0_col4\" class=\"data row0 col4\" >0.035352</td>\n",
              "      <td id=\"T_3b3ed_row0_col5\" class=\"data row0 col5\" >0.082353</td>\n",
              "    </tr>\n",
              "    <tr>\n",
              "      <th id=\"T_3b3ed_level0_row1\" class=\"row_heading level0 row1\" >Precision@3</th>\n",
              "      <td id=\"T_3b3ed_row1_col0\" class=\"data row1 col0\" >0.059233</td>\n",
              "      <td id=\"T_3b3ed_row1_col1\" class=\"data row1 col1\" >0.059856</td>\n",
              "      <td id=\"T_3b3ed_row1_col2\" class=\"data row1 col2\" >0.049863</td>\n",
              "      <td id=\"T_3b3ed_row1_col3\" class=\"data row1 col3\" >0.000313</td>\n",
              "      <td id=\"T_3b3ed_row1_col4\" class=\"data row1 col4\" >0.020252</td>\n",
              "      <td id=\"T_3b3ed_row1_col5\" class=\"data row1 col5\" >0.062384</td>\n",
              "    </tr>\n",
              "    <tr>\n",
              "      <th id=\"T_3b3ed_level0_row2\" class=\"row_heading level0 row2\" >Precision@5</th>\n",
              "      <td id=\"T_3b3ed_row2_col0\" class=\"data row2 col0\" >0.051035</td>\n",
              "      <td id=\"T_3b3ed_row2_col1\" class=\"data row2 col1\" >0.047234</td>\n",
              "      <td id=\"T_3b3ed_row2_col2\" class=\"data row2 col2\" >0.042768</td>\n",
              "      <td id=\"T_3b3ed_row2_col3\" class=\"data row2 col3\" >0.000191</td>\n",
              "      <td id=\"T_3b3ed_row2_col4\" class=\"data row2 col4\" >0.014343</td>\n",
              "      <td id=\"T_3b3ed_row2_col5\" class=\"data row2 col5\" >0.050709</td>\n",
              "    </tr>\n",
              "    <tr>\n",
              "      <th id=\"T_3b3ed_level0_row3\" class=\"row_heading level0 row3\" >Precision@10</th>\n",
              "      <td id=\"T_3b3ed_row3_col0\" class=\"data row3 col0\" >0.032803</td>\n",
              "      <td id=\"T_3b3ed_row3_col1\" class=\"data row3 col1\" >0.031225</td>\n",
              "      <td id=\"T_3b3ed_row3_col2\" class=\"data row3 col2\" >0.031436</td>\n",
              "      <td id=\"T_3b3ed_row3_col3\" class=\"data row3 col3\" >0.000208</td>\n",
              "      <td id=\"T_3b3ed_row3_col4\" class=\"data row3 col4\" >0.009088</td>\n",
              "      <td id=\"T_3b3ed_row3_col5\" class=\"data row3 col5\" >0.034107</td>\n",
              "    </tr>\n",
              "    <tr>\n",
              "      <th id=\"T_3b3ed_level0_row4\" class=\"row_heading level0 row4\" >Recall@1</th>\n",
              "      <td id=\"T_3b3ed_row4_col0\" class=\"data row4 col0\" >0.035863</td>\n",
              "      <td id=\"T_3b3ed_row4_col1\" class=\"data row4 col1\" >0.041728</td>\n",
              "      <td id=\"T_3b3ed_row4_col2\" class=\"data row4 col2\" >0.030516</td>\n",
              "      <td id=\"T_3b3ed_row4_col3\" class=\"data row4 col3\" >0.000116</td>\n",
              "      <td id=\"T_3b3ed_row4_col4\" class=\"data row4 col4\" >0.020140</td>\n",
              "      <td id=\"T_3b3ed_row4_col5\" class=\"data row4 col5\" >0.041858</td>\n",
              "    </tr>\n",
              "    <tr>\n",
              "      <th id=\"T_3b3ed_level0_row5\" class=\"row_heading level0 row5\" >Recall@3</th>\n",
              "      <td id=\"T_3b3ed_row5_col0\" class=\"data row5 col0\" >0.088080</td>\n",
              "      <td id=\"T_3b3ed_row5_col1\" class=\"data row5 col1\" >0.088478</td>\n",
              "      <td id=\"T_3b3ed_row5_col2\" class=\"data row5 col2\" >0.072278</td>\n",
              "      <td id=\"T_3b3ed_row5_col3\" class=\"data row5 col3\" >0.000301</td>\n",
              "      <td id=\"T_3b3ed_row5_col4\" class=\"data row5 col4\" >0.033149</td>\n",
              "      <td id=\"T_3b3ed_row5_col5\" class=\"data row5 col5\" >0.091943</td>\n",
              "    </tr>\n",
              "    <tr>\n",
              "      <th id=\"T_3b3ed_level0_row6\" class=\"row_heading level0 row6\" >Recall@5</th>\n",
              "      <td id=\"T_3b3ed_row6_col0\" class=\"data row6 col0\" >0.124184</td>\n",
              "      <td id=\"T_3b3ed_row6_col1\" class=\"data row6 col1\" >0.113661</td>\n",
              "      <td id=\"T_3b3ed_row6_col2\" class=\"data row6 col2\" >0.100516</td>\n",
              "      <td id=\"T_3b3ed_row6_col3\" class=\"data row6 col3\" >0.000306</td>\n",
              "      <td id=\"T_3b3ed_row6_col4\" class=\"data row6 col4\" >0.038254</td>\n",
              "      <td id=\"T_3b3ed_row6_col5\" class=\"data row6 col5\" >0.121526</td>\n",
              "    </tr>\n",
              "    <tr>\n",
              "      <th id=\"T_3b3ed_level0_row7\" class=\"row_heading level0 row7\" >Recall@10</th>\n",
              "      <td id=\"T_3b3ed_row7_col0\" class=\"data row7 col0\" >0.156070</td>\n",
              "      <td id=\"T_3b3ed_row7_col1\" class=\"data row7 col1\" >0.145367</td>\n",
              "      <td id=\"T_3b3ed_row7_col2\" class=\"data row7 col2\" >0.140669</td>\n",
              "      <td id=\"T_3b3ed_row7_col3\" class=\"data row7 col3\" >0.000686</td>\n",
              "      <td id=\"T_3b3ed_row7_col4\" class=\"data row7 col4\" >0.046368</td>\n",
              "      <td id=\"T_3b3ed_row7_col5\" class=\"data row7 col5\" >0.158000</td>\n",
              "    </tr>\n",
              "    <tr>\n",
              "      <th id=\"T_3b3ed_level0_row8\" class=\"row_heading level0 row8\" >MAP@1</th>\n",
              "      <td id=\"T_3b3ed_row8_col0\" class=\"data row8 col0\" >0.035863</td>\n",
              "      <td id=\"T_3b3ed_row8_col1\" class=\"data row8 col1\" >0.041728</td>\n",
              "      <td id=\"T_3b3ed_row8_col2\" class=\"data row8 col2\" >0.030516</td>\n",
              "      <td id=\"T_3b3ed_row8_col3\" class=\"data row8 col3\" >0.000116</td>\n",
              "      <td id=\"T_3b3ed_row8_col4\" class=\"data row8 col4\" >0.020140</td>\n",
              "      <td id=\"T_3b3ed_row8_col5\" class=\"data row8 col5\" >0.041858</td>\n",
              "    </tr>\n",
              "    <tr>\n",
              "      <th id=\"T_3b3ed_level0_row9\" class=\"row_heading level0 row9\" >MAP@3</th>\n",
              "      <td id=\"T_3b3ed_row9_col0\" class=\"data row9 col0\" >0.059216</td>\n",
              "      <td id=\"T_3b3ed_row9_col1\" class=\"data row9 col1\" >0.063046</td>\n",
              "      <td id=\"T_3b3ed_row9_col2\" class=\"data row9 col2\" >0.049124</td>\n",
              "      <td id=\"T_3b3ed_row9_col3\" class=\"data row9 col3\" >0.000208</td>\n",
              "      <td id=\"T_3b3ed_row9_col4\" class=\"data row9 col4\" >0.026090</td>\n",
              "      <td id=\"T_3b3ed_row9_col5\" class=\"data row9 col5\" >0.064588</td>\n",
              "    </tr>\n",
              "    <tr>\n",
              "      <th id=\"T_3b3ed_level0_row10\" class=\"row_heading level0 row10\" >MAP@5</th>\n",
              "      <td id=\"T_3b3ed_row10_col0\" class=\"data row10 col0\" >0.068720</td>\n",
              "      <td id=\"T_3b3ed_row10_col1\" class=\"data row10 col1\" >0.069553</td>\n",
              "      <td id=\"T_3b3ed_row10_col2\" class=\"data row10 col2\" >0.056290</td>\n",
              "      <td id=\"T_3b3ed_row10_col3\" class=\"data row10 col3\" >0.000209</td>\n",
              "      <td id=\"T_3b3ed_row10_col4\" class=\"data row10 col4\" >0.027345</td>\n",
              "      <td id=\"T_3b3ed_row10_col5\" class=\"data row10 col5\" >0.072221</td>\n",
              "    </tr>\n",
              "    <tr>\n",
              "      <th id=\"T_3b3ed_level0_row11\" class=\"row_heading level0 row11\" >MAP@10</th>\n",
              "      <td id=\"T_3b3ed_row11_col0\" class=\"data row11 col0\" >0.073836</td>\n",
              "      <td id=\"T_3b3ed_row11_col1\" class=\"data row11 col1\" >0.074566</td>\n",
              "      <td id=\"T_3b3ed_row11_col2\" class=\"data row11 col2\" >0.062586</td>\n",
              "      <td id=\"T_3b3ed_row11_col3\" class=\"data row11 col3\" >0.000254</td>\n",
              "      <td id=\"T_3b3ed_row11_col4\" class=\"data row11 col4\" >0.028497</td>\n",
              "      <td id=\"T_3b3ed_row11_col5\" class=\"data row11 col5\" >0.078032</td>\n",
              "    </tr>\n",
              "  </tbody>\n",
              "</table>\n"
            ]
          },
          "metadata": {},
          "execution_count": 47
        }
      ],
      "source": [
        "df_quality.style.highlight_max(color='lightgreen', axis=1)"
      ]
    },
    {
      "cell_type": "markdown",
      "metadata": {
        "id": "dn5e0TenWU_C"
      },
      "source": [
        "# Approximate Nearest Neighbors"
      ]
    },
    {
      "cell_type": "markdown",
      "metadata": {
        "id": "zNxLR0sLWU_D"
      },
      "source": [
        "# HNSW algorithm parameters\n",
        "\n",
        "## Search parameters:\n",
        "* ```ef``` - the size of the dynamic list for the nearest neighbors (used during the search). Higher ```ef```\n",
        "leads to more accurate but slower search. ```ef``` cannot be set lower than the number of queried nearest neighbors\n",
        "```k```. The value ```ef``` of can be anything between ```k``` and the size of the dataset.\n",
        "* ```k``` number of nearest neighbors to be returned as the result.\n",
        "The ```knn_query``` function returns two numpy arrays, containing labels and distances to the k found nearest\n",
        "elements for the queries. Note that in case the algorithm is not be able to find ```k``` neighbors to all of the queries,\n",
        "(this can be due to problems with graph or ```k```>size of the dataset) an exception is thrown.\n",
        "\n",
        "\n",
        "## Construction parameters:\n",
        "* ```M``` - the number of bi-directional links created for every new element during construction. Reasonable range for ```M```\n",
        "is 2-100. Higher ```M``` work better on datasets with high intrinsic dimensionality and/or high recall, while low ```M``` work\n",
        "better for datasets with low intrinsic dimensionality and/or low recalls. The parameter also determines the algorithm's memory\n",
        "consumption, which is roughly ```M * 8-10``` bytes per stored element.  \n",
        "As an example for ```dim```=4 random vectors optimal ```M``` for search is somewhere around 6, while for high dimensional datasets\n",
        "(word embeddings, good face descriptors), higher ```M``` are required (e.g. ```M```=48-64) for optimal performance at high recall.\n",
        "The range ```M```=12-48 is ok for the most of the use cases. When ```M``` is changed one has to update the other parameters.\n",
        "Nonetheless, ef and ef_construction parameters can be roughly estimated by assuming that ```M```*```ef_{construction}``` is\n",
        "a constant.\n",
        "\n",
        "* ```ef_construction``` - the parameter has the same meaning as ```ef```, but controls the index_time/index_accuracy. Bigger\n",
        "ef_construction leads to longer construction, but better index quality. At some point, increasing ef_construction does\n",
        "not improve the quality of the index. One way to check if the selection of ef_construction was ok is to measure a recall\n",
        "for M nearest neighbor search when ```ef``` =```ef_construction```: if the recall is lower than 0.9, than there is room\n",
        "for improvement.\n",
        "* ```num_elements``` - defines the maximum number of elements in the index. The index can be extened by saving/loading(load_index\n",
        "function has a parameter which defines the new maximum number of elements).\n",
        "\n",
        "Еще источники:\n",
        "- [Nmslib Docs](https://github.com/nmslib/nmslib/blob/master/manual/methods.md)\n",
        "- [Pinecone Vector Indexes](https://www.pinecone.io/learn/vector-indexes/)"
      ]
    },
    {
      "cell_type": "markdown",
      "metadata": {
        "id": "zAQepfxeWU_D"
      },
      "source": [
        "<img src=\"https://d33wubrfki0l68.cloudfront.net/4c635fabb268a4af60109a506300a2dfda612063/d2535/images/similarity-search-indexes17.jpg\">"
      ]
    },
    {
      "cell_type": "markdown",
      "metadata": {
        "id": "ZK7ZygjfWU_D"
      },
      "source": [
        "<img src=\"https://d33wubrfki0l68.cloudfront.net/96d80cd46c2d12df99c044c860a8a5fb00cf6376/d59ca/images/similarity-search-indexes18.jpg\">"
      ]
    },
    {
      "cell_type": "code",
      "execution_count": null,
      "metadata": {
        "execution": {
          "iopub.execute_input": "2023-11-29T07:00:14.315064Z",
          "iopub.status.busy": "2023-11-29T07:00:14.314065Z",
          "iopub.status.idle": "2023-11-29T07:00:14.328064Z",
          "shell.execute_reply": "2023-11-29T07:00:14.327064Z",
          "shell.execute_reply.started": "2023-11-29T07:00:14.315064Z"
        },
        "colab": {
          "base_uri": "https://localhost:8080/"
        },
        "id": "DVPqLR8bWU_D",
        "outputId": "05c22286-70e0-42a6-f248-3596f94d14aa"
      },
      "outputs": [
        {
          "output_type": "execute_result",
          "data": {
            "text/plain": [
              "<rectools.models.lightfm.LightFMWrapperModel at 0x7ca155b462d0>"
            ]
          },
          "metadata": {},
          "execution_count": 49
        }
      ],
      "source": [
        "model"
      ]
    },
    {
      "cell_type": "code",
      "execution_count": null,
      "metadata": {
        "execution": {
          "iopub.execute_input": "2023-11-29T07:00:14.330064Z",
          "iopub.status.busy": "2023-11-29T07:00:14.329064Z",
          "iopub.status.idle": "2023-11-29T07:00:14.469063Z",
          "shell.execute_reply": "2023-11-29T07:00:14.469063Z",
          "shell.execute_reply.started": "2023-11-29T07:00:14.330064Z"
        },
        "id": "kMX0kkP6WU_D"
      },
      "outputs": [],
      "source": [
        "user_embeddings, item_embeddings = model.get_vectors(dataset)"
      ]
    },
    {
      "cell_type": "code",
      "execution_count": null,
      "metadata": {
        "execution": {
          "iopub.execute_input": "2023-11-29T07:00:14.471066Z",
          "iopub.status.busy": "2023-11-29T07:00:14.471066Z",
          "iopub.status.idle": "2023-11-29T07:00:14.486068Z",
          "shell.execute_reply": "2023-11-29T07:00:14.485066Z",
          "shell.execute_reply.started": "2023-11-29T07:00:14.471066Z"
        },
        "colab": {
          "base_uri": "https://localhost:8080/"
        },
        "id": "DcusTLcdWU_D",
        "outputId": "670843fa-3d56-42df-faed-8c10f079685f"
      },
      "outputs": [
        {
          "output_type": "execute_result",
          "data": {
            "text/plain": [
              "((756562, 34), (14019, 34))"
            ]
          },
          "metadata": {},
          "execution_count": 51
        }
      ],
      "source": [
        "user_embeddings.shape, item_embeddings.shape"
      ]
    },
    {
      "cell_type": "code",
      "execution_count": null,
      "metadata": {
        "execution": {
          "iopub.execute_input": "2023-11-29T07:00:14.487066Z",
          "iopub.status.busy": "2023-11-29T07:00:14.487066Z",
          "iopub.status.idle": "2023-11-29T07:00:14.502067Z",
          "shell.execute_reply": "2023-11-29T07:00:14.501068Z",
          "shell.execute_reply.started": "2023-11-29T07:00:14.487066Z"
        },
        "id": "xcn9wun-WU_D"
      },
      "outputs": [],
      "source": [
        "def augment_inner_product(factors):\n",
        "    normed_factors = np.linalg.norm(factors, axis=1)\n",
        "    max_norm = normed_factors.max()\n",
        "\n",
        "    extra_dim = np.sqrt(max_norm ** 2 - normed_factors ** 2).reshape(-1, 1)\n",
        "    augmented_factors = np.append(factors, extra_dim, axis=1)\n",
        "    return max_norm, augmented_factors"
      ]
    },
    {
      "cell_type": "code",
      "execution_count": null,
      "metadata": {
        "execution": {
          "iopub.execute_input": "2023-11-29T07:00:14.503066Z",
          "iopub.status.busy": "2023-11-29T07:00:14.503066Z",
          "iopub.status.idle": "2023-11-29T07:00:14.517062Z",
          "shell.execute_reply": "2023-11-29T07:00:14.517062Z",
          "shell.execute_reply.started": "2023-11-29T07:00:14.503066Z"
        },
        "colab": {
          "base_uri": "https://localhost:8080/"
        },
        "id": "kasbw0RCWU_E",
        "outputId": "99003863-274d-4dd2-9180-7f865601923c"
      },
      "outputs": [
        {
          "output_type": "stream",
          "name": "stdout",
          "text": [
            "pre shape:  (14019, 34)\n"
          ]
        },
        {
          "output_type": "execute_result",
          "data": {
            "text/plain": [
              "(14019, 35)"
            ]
          },
          "metadata": {},
          "execution_count": 53
        }
      ],
      "source": [
        "print('pre shape: ', item_embeddings.shape)\n",
        "max_norm, augmented_item_embeddings = augment_inner_product(item_embeddings)\n",
        "augmented_item_embeddings.shape"
      ]
    },
    {
      "cell_type": "code",
      "execution_count": null,
      "metadata": {
        "execution": {
          "iopub.execute_input": "2023-11-29T07:00:14.519063Z",
          "iopub.status.busy": "2023-11-29T07:00:14.518063Z",
          "iopub.status.idle": "2023-11-29T07:00:14.566063Z",
          "shell.execute_reply": "2023-11-29T07:00:14.565063Z",
          "shell.execute_reply.started": "2023-11-29T07:00:14.519063Z"
        },
        "colab": {
          "base_uri": "https://localhost:8080/"
        },
        "id": "OatXCwhwWU_E",
        "outputId": "24c739de-6f78-4340-c740-6b2f85ca3513"
      },
      "outputs": [
        {
          "output_type": "execute_result",
          "data": {
            "text/plain": [
              "(756562, 35)"
            ]
          },
          "metadata": {},
          "execution_count": 54
        }
      ],
      "source": [
        "extra_zero = np.zeros((user_embeddings.shape[0], 1))\n",
        "augmented_user_embeddings = np.append(user_embeddings, extra_zero, axis=1)\n",
        "augmented_user_embeddings.shape"
      ]
    },
    {
      "cell_type": "code",
      "execution_count": null,
      "metadata": {
        "execution": {
          "iopub.execute_input": "2023-11-29T07:00:14.567064Z",
          "iopub.status.busy": "2023-11-29T07:00:14.566063Z",
          "iopub.status.idle": "2023-11-29T07:00:14.582066Z",
          "shell.execute_reply": "2023-11-29T07:00:14.581063Z",
          "shell.execute_reply.started": "2023-11-29T07:00:14.567064Z"
        },
        "id": "0xWRyvTRWU_E"
      },
      "outputs": [],
      "source": [
        "user_id = 30"
      ]
    },
    {
      "cell_type": "code",
      "execution_count": null,
      "metadata": {
        "execution": {
          "iopub.execute_input": "2023-11-29T07:00:14.583066Z",
          "iopub.status.busy": "2023-11-29T07:00:14.583066Z",
          "iopub.status.idle": "2023-11-29T07:00:14.597065Z",
          "shell.execute_reply": "2023-11-29T07:00:14.597065Z",
          "shell.execute_reply.started": "2023-11-29T07:00:14.583066Z"
        },
        "colab": {
          "base_uri": "https://localhost:8080/"
        },
        "id": "m8UVCexsWU_E",
        "outputId": "9c7c1357-0804-4c02-9dd2-34e58cf98fc0"
      },
      "outputs": [
        {
          "output_type": "execute_result",
          "data": {
            "text/plain": [
              "array([-2.25424530e+02,  1.00000000e+00, -1.42826691e-01,  3.81425917e-02,\n",
              "       -2.81122863e-01, -3.98500189e-02, -2.48058885e-03, -2.67318606e-01,\n",
              "        2.12787285e-01, -3.56602550e-01, -1.00381352e-01, -1.71458930e-01,\n",
              "        3.15686464e-01, -1.27490610e-03, -4.51651871e-01, -3.14176306e-02,\n",
              "       -2.47271284e-01, -2.85945565e-01, -3.23614061e-01, -1.77833930e-01,\n",
              "       -2.03510121e-01, -1.41103148e-01, -2.14366063e-01,  3.51128876e-01,\n",
              "       -2.10072726e-01,  1.70982882e-01, -3.44153382e-02,  3.77270997e-01,\n",
              "       -4.01926935e-01, -2.21559197e-01, -1.19094200e-01, -1.91293061e-01,\n",
              "       -2.90782541e-01,  3.07248175e-01])"
            ]
          },
          "metadata": {},
          "execution_count": 56
        }
      ],
      "source": [
        "user_embeddings[user_id]"
      ]
    },
    {
      "cell_type": "code",
      "execution_count": null,
      "metadata": {
        "execution": {
          "iopub.execute_input": "2023-11-29T07:00:14.599062Z",
          "iopub.status.busy": "2023-11-29T07:00:14.598063Z",
          "iopub.status.idle": "2023-11-29T07:00:14.613062Z",
          "shell.execute_reply": "2023-11-29T07:00:14.613062Z",
          "shell.execute_reply.started": "2023-11-29T07:00:14.599062Z"
        },
        "colab": {
          "base_uri": "https://localhost:8080/"
        },
        "id": "U4HnCaaEWU_E",
        "outputId": "67c813e5-ba87-4c8f-94b7-d7f2d3f2066d"
      },
      "outputs": [
        {
          "output_type": "execute_result",
          "data": {
            "text/plain": [
              "array([-2.25424530e+02,  1.00000000e+00, -1.42826691e-01,  3.81425917e-02,\n",
              "       -2.81122863e-01, -3.98500189e-02, -2.48058885e-03, -2.67318606e-01,\n",
              "        2.12787285e-01, -3.56602550e-01, -1.00381352e-01, -1.71458930e-01,\n",
              "        3.15686464e-01, -1.27490610e-03, -4.51651871e-01, -3.14176306e-02,\n",
              "       -2.47271284e-01, -2.85945565e-01, -3.23614061e-01, -1.77833930e-01,\n",
              "       -2.03510121e-01, -1.41103148e-01, -2.14366063e-01,  3.51128876e-01,\n",
              "       -2.10072726e-01,  1.70982882e-01, -3.44153382e-02,  3.77270997e-01,\n",
              "       -4.01926935e-01, -2.21559197e-01, -1.19094200e-01, -1.91293061e-01,\n",
              "       -2.90782541e-01,  3.07248175e-01,  0.00000000e+00])"
            ]
          },
          "metadata": {},
          "execution_count": 57
        }
      ],
      "source": [
        "augmented_user_embeddings[user_id]"
      ]
    },
    {
      "cell_type": "code",
      "execution_count": null,
      "metadata": {
        "execution": {
          "iopub.execute_input": "2023-11-29T07:00:14.615062Z",
          "iopub.status.busy": "2023-11-29T07:00:14.614063Z",
          "iopub.status.idle": "2023-11-29T07:00:14.630066Z",
          "shell.execute_reply": "2023-11-29T07:00:14.629066Z",
          "shell.execute_reply.started": "2023-11-29T07:00:14.615062Z"
        },
        "id": "jyn4DHe6WU_E"
      },
      "outputs": [],
      "source": [
        "item_id = 0"
      ]
    },
    {
      "cell_type": "code",
      "execution_count": null,
      "metadata": {
        "execution": {
          "iopub.execute_input": "2023-11-29T07:00:14.631066Z",
          "iopub.status.busy": "2023-11-29T07:00:14.631066Z",
          "iopub.status.idle": "2023-11-29T07:00:14.646066Z",
          "shell.execute_reply": "2023-11-29T07:00:14.645067Z",
          "shell.execute_reply.started": "2023-11-29T07:00:14.631066Z"
        },
        "colab": {
          "base_uri": "https://localhost:8080/"
        },
        "id": "4-nNwBFlWU_E",
        "outputId": "d8f437f8-a4f4-494a-86b0-815a60a28b7c"
      },
      "outputs": [
        {
          "output_type": "execute_result",
          "data": {
            "text/plain": [
              "array([ 1.        ,  1.55703056,  0.28764731, -0.84088397, -0.16164654,\n",
              "        0.51847982,  0.07491209,  0.12415464,  0.17356083, -0.90181524,\n",
              "       -0.6619159 ,  0.03611821,  0.49875396,  0.88175726, -0.07119629,\n",
              "       -0.26309633, -0.58569324,  0.18361798, -0.40840062,  0.05773047,\n",
              "       -1.25995374,  0.02868177,  0.15860614,  0.29673213, -0.52789551,\n",
              "       -0.03979107, -0.91377938,  0.7699008 , -0.03022068, -0.20016402,\n",
              "        0.15744451, -0.16348104, -0.33135971, -0.20557144])"
            ]
          },
          "metadata": {},
          "execution_count": 59
        }
      ],
      "source": [
        "item_embeddings[item_id]"
      ]
    },
    {
      "cell_type": "code",
      "execution_count": null,
      "metadata": {
        "execution": {
          "iopub.execute_input": "2023-11-29T07:00:14.647065Z",
          "iopub.status.busy": "2023-11-29T07:00:14.647065Z",
          "iopub.status.idle": "2023-11-29T07:00:14.661064Z",
          "shell.execute_reply": "2023-11-29T07:00:14.661064Z",
          "shell.execute_reply.started": "2023-11-29T07:00:14.647065Z"
        },
        "colab": {
          "base_uri": "https://localhost:8080/"
        },
        "id": "goOkqGPRWU_E",
        "outputId": "2a310e2d-633e-4dc3-ab60-70a766f5091a"
      },
      "outputs": [
        {
          "output_type": "execute_result",
          "data": {
            "text/plain": [
              "array([ 1.        ,  1.55703056,  0.28764731, -0.84088397, -0.16164654,\n",
              "        0.51847982,  0.07491209,  0.12415464,  0.17356083, -0.90181524,\n",
              "       -0.6619159 ,  0.03611821,  0.49875396,  0.88175726, -0.07119629,\n",
              "       -0.26309633, -0.58569324,  0.18361798, -0.40840062,  0.05773047,\n",
              "       -1.25995374,  0.02868177,  0.15860614,  0.29673213, -0.52789551,\n",
              "       -0.03979107, -0.91377938,  0.7699008 , -0.03022068, -0.20016402,\n",
              "        0.15744451, -0.16348104, -0.33135971, -0.20557144,  4.5170697 ])"
            ]
          },
          "metadata": {},
          "execution_count": 60
        }
      ],
      "source": [
        "augmented_item_embeddings[item_id]"
      ]
    },
    {
      "cell_type": "code",
      "execution_count": null,
      "metadata": {
        "execution": {
          "iopub.execute_input": "2023-11-29T07:00:14.663067Z",
          "iopub.status.busy": "2023-11-29T07:00:14.663067Z",
          "iopub.status.idle": "2023-11-29T07:00:14.677066Z",
          "shell.execute_reply": "2023-11-29T07:00:14.677066Z",
          "shell.execute_reply.started": "2023-11-29T07:00:14.663067Z"
        },
        "colab": {
          "base_uri": "https://localhost:8080/"
        },
        "id": "-7j3zWuBWU_F",
        "outputId": "36a4083f-b748-4a04-9744-744f54b68e27"
      },
      "outputs": [
        {
          "output_type": "stream",
          "name": "stdout",
          "text": [
            "Index-time parameters {'M': 48, 'indexThreadQty': 4, 'efConstruction': 100, 'post': 0}\n"
          ]
        }
      ],
      "source": [
        "# Set index parameters\n",
        "# These are the most important ones\n",
        "M = 48\n",
        "efC = 100\n",
        "\n",
        "num_threads = 4\n",
        "index_time_params = {'M': M, 'indexThreadQty': num_threads, 'efConstruction': efC, 'post' : 0}\n",
        "print('Index-time parameters', index_time_params)"
      ]
    },
    {
      "cell_type": "code",
      "execution_count": null,
      "metadata": {
        "execution": {
          "iopub.execute_input": "2023-11-29T07:00:14.679066Z",
          "iopub.status.busy": "2023-11-29T07:00:14.678065Z",
          "iopub.status.idle": "2023-11-29T07:00:14.694066Z",
          "shell.execute_reply": "2023-11-29T07:00:14.693067Z",
          "shell.execute_reply.started": "2023-11-29T07:00:14.679066Z"
        },
        "id": "oEvlN9SpWU_F"
      },
      "outputs": [],
      "source": [
        "# Number of neighbors\n",
        "K=10"
      ]
    },
    {
      "cell_type": "code",
      "execution_count": null,
      "metadata": {
        "execution": {
          "iopub.execute_input": "2023-11-29T07:00:14.695066Z",
          "iopub.status.busy": "2023-11-29T07:00:14.695066Z",
          "iopub.status.idle": "2023-11-29T07:00:14.710067Z",
          "shell.execute_reply": "2023-11-29T07:00:14.709068Z",
          "shell.execute_reply.started": "2023-11-29T07:00:14.695066Z"
        },
        "id": "xRjObEXrWU_F"
      },
      "outputs": [],
      "source": [
        "# Space name should correspond to the space name\n",
        "# used for brute-force search\n",
        "space_name='negdotprod'"
      ]
    },
    {
      "cell_type": "code",
      "execution_count": null,
      "metadata": {
        "execution": {
          "iopub.execute_input": "2023-11-29T07:00:14.711065Z",
          "iopub.status.busy": "2023-11-29T07:00:14.711065Z",
          "iopub.status.idle": "2023-11-29T07:00:14.726063Z",
          "shell.execute_reply": "2023-11-29T07:00:14.725067Z",
          "shell.execute_reply.started": "2023-11-29T07:00:14.711065Z"
        },
        "colab": {
          "base_uri": "https://localhost:8080/"
        },
        "id": "ZKqFOu2WWU_F",
        "outputId": "d5b4f329-aadc-499c-beac-7a31e2dcfda0"
      },
      "outputs": [
        {
          "output_type": "execute_result",
          "data": {
            "text/plain": [
              "14019"
            ]
          },
          "metadata": {},
          "execution_count": 66
        }
      ],
      "source": [
        "# Intitialize the library, specify the space, the type of the vector and add data points\n",
        "index = nmslib.init(method='hnsw', space=space_name, data_type=nmslib.DataType.DENSE_VECTOR)\n",
        "index.addDataPointBatch(augmented_item_embeddings)"
      ]
    },
    {
      "cell_type": "code",
      "execution_count": null,
      "metadata": {
        "execution": {
          "iopub.execute_input": "2023-11-29T07:00:14.727063Z",
          "iopub.status.busy": "2023-11-29T07:00:14.727063Z",
          "iopub.status.idle": "2023-11-29T07:00:14.742066Z",
          "shell.execute_reply": "2023-11-29T07:00:14.741066Z",
          "shell.execute_reply.started": "2023-11-29T07:00:14.727063Z"
        },
        "colab": {
          "base_uri": "https://localhost:8080/"
        },
        "id": "_2zKsVMpWU_F",
        "outputId": "09bbce2d-6c5a-438e-b67a-72cc046eb590"
      },
      "outputs": [
        {
          "output_type": "execute_result",
          "data": {
            "text/plain": [
              "<nmslib.FloatIndex method='hnsw' space='negdotprod' at 0x91cd270>"
            ]
          },
          "metadata": {},
          "execution_count": 67
        }
      ],
      "source": [
        "index"
      ]
    },
    {
      "cell_type": "code",
      "execution_count": null,
      "metadata": {
        "execution": {
          "iopub.execute_input": "2023-11-29T07:00:14.743065Z",
          "iopub.status.busy": "2023-11-29T07:00:14.743065Z",
          "iopub.status.idle": "2023-11-29T07:00:14.964062Z",
          "shell.execute_reply": "2023-11-29T07:00:14.964062Z",
          "shell.execute_reply.started": "2023-11-29T07:00:14.743065Z"
        },
        "colab": {
          "base_uri": "https://localhost:8080/"
        },
        "id": "4W3d4X44WU_F",
        "outputId": "27e3a8b0-66d6-4cbe-da0e-2604d25c13d7"
      },
      "outputs": [
        {
          "output_type": "stream",
          "name": "stdout",
          "text": [
            "Index-time parameters {'M': 48, 'indexThreadQty': 4, 'efConstruction': 100}\n",
            "Indexing time = 0.981389\n"
          ]
        }
      ],
      "source": [
        "# Create an index\n",
        "start = time.time()\n",
        "index_time_params = {'M': M, 'indexThreadQty': num_threads, 'efConstruction': efC}\n",
        "index.createIndex(index_time_params)\n",
        "end = time.time()\n",
        "print('Index-time parameters', index_time_params)\n",
        "print('Indexing time = %f' % (end-start))"
      ]
    },
    {
      "cell_type": "code",
      "execution_count": null,
      "metadata": {
        "execution": {
          "iopub.execute_input": "2023-11-29T07:00:14.966067Z",
          "iopub.status.busy": "2023-11-29T07:00:14.965063Z",
          "iopub.status.idle": "2023-11-29T07:00:14.980066Z",
          "shell.execute_reply": "2023-11-29T07:00:14.979067Z",
          "shell.execute_reply.started": "2023-11-29T07:00:14.966067Z"
        },
        "colab": {
          "base_uri": "https://localhost:8080/"
        },
        "id": "caKD9Ue6WU_F",
        "outputId": "d7ee12e0-b20e-4cc7-c11a-a0356411f125"
      },
      "outputs": [
        {
          "output_type": "stream",
          "name": "stdout",
          "text": [
            "Setting query-time parameters {'efSearch': 100}\n"
          ]
        }
      ],
      "source": [
        "# Setting query-time parameters\n",
        "efS = 100\n",
        "query_time_params = {'efSearch': efS}\n",
        "print('Setting query-time parameters', query_time_params)\n",
        "index.setQueryTimeParams(query_time_params)"
      ]
    },
    {
      "cell_type": "code",
      "execution_count": null,
      "metadata": {
        "execution": {
          "iopub.execute_input": "2023-11-29T07:00:14.989063Z",
          "iopub.status.busy": "2023-11-29T07:00:14.988063Z",
          "iopub.status.idle": "2023-11-29T07:00:14.995069Z",
          "shell.execute_reply": "2023-11-29T07:00:14.994068Z",
          "shell.execute_reply.started": "2023-11-29T07:00:14.989063Z"
        },
        "id": "DWyghkiEWU_F"
      },
      "outputs": [],
      "source": [
        "query_matrix = augmented_user_embeddings[:1000, :]"
      ]
    },
    {
      "cell_type": "code",
      "execution_count": null,
      "metadata": {
        "execution": {
          "iopub.execute_input": "2023-11-29T07:00:14.996066Z",
          "iopub.status.busy": "2023-11-29T07:00:14.996066Z",
          "iopub.status.idle": "2023-11-29T07:00:15.027067Z",
          "shell.execute_reply": "2023-11-29T07:00:15.026065Z",
          "shell.execute_reply.started": "2023-11-29T07:00:14.996066Z"
        },
        "colab": {
          "base_uri": "https://localhost:8080/"
        },
        "id": "pFB1flRLWU_G",
        "outputId": "ce8d8b63-2c3e-4f9c-8de9-bada56b0b99a"
      },
      "outputs": [
        {
          "output_type": "stream",
          "name": "stdout",
          "text": [
            "kNN time total=0.027742 (sec), per query=0.000028 (sec), per query adjusted for thread number=0.000111 (sec)\n"
          ]
        }
      ],
      "source": [
        "# Querying\n",
        "query_qty = query_matrix.shape[0]\n",
        "start = time.time()\n",
        "nbrs = index.knnQueryBatch(query_matrix, k = K, num_threads = num_threads)\n",
        "end = time.time()\n",
        "print('kNN time total=%f (sec), per query=%f (sec), per query adjusted for thread number=%f (sec)' %\n",
        "      (end-start, float(end-start)/query_qty, num_threads*float(end-start)/query_qty))"
      ]
    },
    {
      "cell_type": "code",
      "execution_count": null,
      "metadata": {
        "execution": {
          "iopub.execute_input": "2023-11-29T07:00:15.028066Z",
          "iopub.status.busy": "2023-11-29T07:00:15.028066Z",
          "iopub.status.idle": "2023-11-29T07:00:15.041067Z",
          "shell.execute_reply": "2023-11-29T07:00:15.041067Z",
          "shell.execute_reply.started": "2023-11-29T07:00:15.028066Z"
        },
        "colab": {
          "base_uri": "https://localhost:8080/"
        },
        "id": "6MsLCuqDWU_G",
        "outputId": "febe0a44-f496-4b1f-cb81-533aeaee6a11"
      },
      "outputs": [
        {
          "output_type": "execute_result",
          "data": {
            "text/plain": [
              "(array([ 43,  32,  19,  31,  62, 166, 121, 100,  69,  36], dtype=int32),\n",
              " array([198.3718 , 198.6821 , 198.86887, 199.12776, 199.1423 , 199.42725,\n",
              "        199.45709, 199.45741, 199.49812, 199.51248], dtype=float32))"
            ]
          },
          "metadata": {},
          "execution_count": 72
        }
      ],
      "source": [
        "nbrs[0]"
      ]
    },
    {
      "cell_type": "code",
      "execution_count": null,
      "metadata": {
        "execution": {
          "iopub.execute_input": "2023-11-29T07:00:15.043065Z",
          "iopub.status.busy": "2023-11-29T07:00:15.042067Z",
          "iopub.status.idle": "2023-11-29T07:00:15.058067Z",
          "shell.execute_reply": "2023-11-29T07:00:15.057068Z",
          "shell.execute_reply.started": "2023-11-29T07:00:15.043065Z"
        },
        "colab": {
          "base_uri": "https://localhost:8080/"
        },
        "id": "FUqXVMV5WU_G",
        "outputId": "62882e14-0866-48d3-c2ed-ad04f5a432da"
      },
      "outputs": [
        {
          "output_type": "execute_result",
          "data": {
            "text/plain": [
              "array([198.3718 , 198.6821 , 198.86887, 199.12776, 199.1423 , 199.42725,\n",
              "       199.45709, 199.45741, 199.49812, 199.51248], dtype=float32)"
            ]
          },
          "metadata": {},
          "execution_count": 73
        }
      ],
      "source": [
        "nbrs[0][1]"
      ]
    },
    {
      "cell_type": "code",
      "execution_count": null,
      "metadata": {
        "execution": {
          "iopub.execute_input": "2023-11-29T07:00:15.059066Z",
          "iopub.status.busy": "2023-11-29T07:00:15.059066Z",
          "iopub.status.idle": "2023-11-29T07:00:15.073063Z",
          "shell.execute_reply": "2023-11-29T07:00:15.072062Z",
          "shell.execute_reply.started": "2023-11-29T07:00:15.059066Z"
        },
        "id": "av19ZRwIWU_G"
      },
      "outputs": [],
      "source": [
        "def recommend_all(query_factors, index_factors, topn=10):\n",
        "    output = query_factors.dot(index_factors.T)\n",
        "    argpartition_indices = np.argpartition(output, -topn)[:, -topn:]\n",
        "\n",
        "    x_indices = np.repeat(np.arange(output.shape[0]), topn)\n",
        "    y_indices = argpartition_indices.flatten()\n",
        "    top_value = output[x_indices, y_indices].reshape(output.shape[0], topn)\n",
        "    top_indices = np.argsort(top_value)[:, ::-1]\n",
        "\n",
        "    y_indices = top_indices.flatten()\n",
        "    top_indices = argpartition_indices[x_indices, y_indices]\n",
        "    labels = top_indices.reshape(-1, topn)\n",
        "    distances = output[x_indices, top_indices].reshape(-1, topn)\n",
        "    return labels, distances"
      ]
    },
    {
      "cell_type": "code",
      "execution_count": null,
      "metadata": {
        "execution": {
          "iopub.execute_input": "2023-11-29T07:00:15.074064Z",
          "iopub.status.busy": "2023-11-29T07:00:15.073063Z",
          "iopub.status.idle": "2023-11-29T07:00:15.087065Z",
          "shell.execute_reply": "2023-11-29T07:00:15.087065Z",
          "shell.execute_reply.started": "2023-11-29T07:00:15.074064Z"
        },
        "colab": {
          "base_uri": "https://localhost:8080/"
        },
        "id": "Yj8N6LvcWU_G",
        "outputId": "054d7b9a-3f7c-4689-bd77-3d94ada681a3"
      },
      "outputs": [
        {
          "output_type": "execute_result",
          "data": {
            "text/plain": [
              "(array([[ 43,  32,  19,  31,  62, 166, 121, 100,  69,  36]]),\n",
              " array([[-198.37178268, -198.68211821, -198.86887223, -199.12776854,\n",
              "         -199.14229232, -199.42725192, -199.45708235, -199.45741433,\n",
              "         -199.49812068, -199.51249354]]))"
            ]
          },
          "metadata": {},
          "execution_count": 75
        }
      ],
      "source": [
        "recommend_all(user_embeddings[[0], :], item_embeddings)"
      ]
    },
    {
      "cell_type": "code",
      "execution_count": null,
      "metadata": {
        "execution": {
          "iopub.execute_input": "2023-11-29T07:00:15.089063Z",
          "iopub.status.busy": "2023-11-29T07:00:15.088062Z",
          "iopub.status.idle": "2023-11-29T07:00:15.103064Z",
          "shell.execute_reply": "2023-11-29T07:00:15.102062Z",
          "shell.execute_reply.started": "2023-11-29T07:00:15.089063Z"
        },
        "colab": {
          "base_uri": "https://localhost:8080/"
        },
        "id": "zqWM_0GfWU_G",
        "outputId": "07d16d67-c3a9-4e69-db54-2ce3be46a8e5"
      },
      "outputs": [
        {
          "output_type": "execute_result",
          "data": {
            "text/plain": [
              "((1000, 34), (756562, 34))"
            ]
          },
          "metadata": {},
          "execution_count": 76
        }
      ],
      "source": [
        "item_embeddings[:1000, :].shape, user_embeddings.shape"
      ]
    },
    {
      "cell_type": "code",
      "execution_count": null,
      "metadata": {
        "execution": {
          "iopub.execute_input": "2023-11-29T07:00:15.104068Z",
          "iopub.status.busy": "2023-11-29T07:00:15.104068Z",
          "iopub.status.idle": "2023-11-29T07:00:15.112630Z",
          "shell.execute_reply": "2023-11-29T07:00:15.112513Z",
          "shell.execute_reply.started": "2023-11-29T07:00:15.104068Z"
        },
        "id": "QpeNp4t3WU_G"
      },
      "outputs": [],
      "source": [
        "query_matrix_not_augmented = user_embeddings[:1000, :]"
      ]
    },
    {
      "cell_type": "code",
      "execution_count": null,
      "metadata": {
        "execution": {
          "iopub.execute_input": "2023-11-29T07:00:15.114627Z",
          "iopub.status.busy": "2023-11-29T07:00:15.113629Z",
          "iopub.status.idle": "2023-11-29T07:00:27.810355Z",
          "shell.execute_reply": "2023-11-29T07:00:27.810355Z",
          "shell.execute_reply.started": "2023-11-29T07:00:15.114627Z"
        },
        "colab": {
          "base_uri": "https://localhost:8080/"
        },
        "id": "ekDb1XUaWU_G",
        "outputId": "d2b69fb5-73f8-41e9-8be7-40c3448cf31d"
      },
      "outputs": [
        {
          "output_type": "stream",
          "name": "stdout",
          "text": [
            "246 ms ± 5.29 ms per loop (mean ± std. dev. of 7 runs, 1 loop each)\n"
          ]
        }
      ],
      "source": [
        "%%timeit\n",
        "recommend_all(query_matrix_not_augmented, item_embeddings)"
      ]
    },
    {
      "cell_type": "code",
      "execution_count": null,
      "metadata": {
        "execution": {
          "iopub.execute_input": "2023-11-29T07:00:27.812357Z",
          "iopub.status.busy": "2023-11-29T07:00:27.811356Z",
          "iopub.status.idle": "2023-11-29T07:00:35.013463Z",
          "shell.execute_reply": "2023-11-29T07:00:35.012461Z",
          "shell.execute_reply.started": "2023-11-29T07:00:27.812357Z"
        },
        "colab": {
          "base_uri": "https://localhost:8080/"
        },
        "id": "g2Lm-HTHWU_H",
        "outputId": "8122c92d-2d07-4754-b817-9fdea5073cee"
      },
      "outputs": [
        {
          "output_type": "stream",
          "name": "stdout",
          "text": [
            "26.8 ms ± 670 µs per loop (mean ± std. dev. of 7 runs, 10 loops each)\n"
          ]
        }
      ],
      "source": [
        "%%timeit\n",
        "index.knnQueryBatch(query_matrix, k = K, num_threads = num_threads)"
      ]
    },
    {
      "cell_type": "code",
      "execution_count": null,
      "metadata": {
        "execution": {
          "iopub.execute_input": "2023-11-29T07:00:35.044506Z",
          "iopub.status.busy": "2023-11-29T07:00:35.043504Z",
          "iopub.status.idle": "2023-11-29T07:00:35.122503Z",
          "shell.execute_reply": "2023-11-29T07:00:35.122503Z",
          "shell.execute_reply.started": "2023-11-29T07:00:35.044506Z"
        },
        "colab": {
          "base_uri": "https://localhost:8080/"
        },
        "id": "fSljUsySWU_H",
        "outputId": "75d1b565-4b0e-4cd3-d25b-37b3dd6b1dd7"
      },
      "outputs": [
        {
          "output_type": "stream",
          "name": "stdout",
          "text": [
            "CPU times: user 1.26 s, sys: 3.08 ms, total: 1.27 s\n",
            "Wall time: 662 ms\n"
          ]
        }
      ],
      "source": [
        "%%time\n",
        "max_elements, dim = augmented_item_embeddings.shape\n",
        "hnsw = hnswlib.Index(\"ip\", dim) # possible options for space are l2, cosine or ip\n",
        "\n",
        "# Initing index - the maximum number of elements should be known beforehand\n",
        "hnsw.init_index(max_elements, M, efC)\n",
        "\n",
        "# Element insertion (can be called several times)\n",
        "hnsw.add_items(augmented_item_embeddings)"
      ]
    },
    {
      "cell_type": "code",
      "execution_count": null,
      "metadata": {
        "execution": {
          "iopub.execute_input": "2023-11-29T07:00:35.124505Z",
          "iopub.status.busy": "2023-11-29T07:00:35.123504Z",
          "iopub.status.idle": "2023-11-29T07:00:35.139507Z",
          "shell.execute_reply": "2023-11-29T07:00:35.138506Z",
          "shell.execute_reply.started": "2023-11-29T07:00:35.124505Z"
        },
        "id": "3ZPH7tzwWU_H"
      },
      "outputs": [],
      "source": [
        "# Controlling the recall by setting ef, should always be > k\n",
        "hnsw.set_ef(efS)"
      ]
    },
    {
      "cell_type": "code",
      "execution_count": null,
      "metadata": {
        "execution": {
          "iopub.execute_input": "2023-11-29T07:00:35.140505Z",
          "iopub.status.busy": "2023-11-29T07:00:35.140505Z",
          "iopub.status.idle": "2023-11-29T07:00:35.155504Z",
          "shell.execute_reply": "2023-11-29T07:00:35.154504Z",
          "shell.execute_reply.started": "2023-11-29T07:00:35.140505Z"
        },
        "id": "8FbuZXTwWU_H"
      },
      "outputs": [],
      "source": [
        "label, distance = hnsw.knn_query(query_matrix, k=k)"
      ]
    },
    {
      "cell_type": "code",
      "execution_count": null,
      "metadata": {
        "execution": {
          "iopub.execute_input": "2023-11-29T07:00:35.156507Z",
          "iopub.status.busy": "2023-11-29T07:00:35.156507Z",
          "iopub.status.idle": "2023-11-29T07:00:35.170507Z",
          "shell.execute_reply": "2023-11-29T07:00:35.170507Z",
          "shell.execute_reply.started": "2023-11-29T07:00:35.156507Z"
        },
        "colab": {
          "base_uri": "https://localhost:8080/"
        },
        "id": "Sesa3vMLWU_H",
        "outputId": "a4338f9d-7770-4743-aef1-bd6ca5ec1eeb"
      },
      "outputs": [
        {
          "output_type": "execute_result",
          "data": {
            "text/plain": [
              "array([[  43,   32,   19, ...,  100,   69,   36],\n",
              "       [  31,    8,   62, ...,   43,   19,  149],\n",
              "       [  31,   19,  121, ...,  268,   29, 1276],\n",
              "       ...,\n",
              "       [  19,   31,   32, ...,  268,  258,  173],\n",
              "       [  43,   19,   32, ...,  164,  487,   75],\n",
              "       [  32,   43,   31, ...,  100,  120,  173]], dtype=uint64)"
            ]
          },
          "metadata": {},
          "execution_count": 83
        }
      ],
      "source": [
        "label"
      ]
    },
    {
      "cell_type": "code",
      "execution_count": null,
      "metadata": {
        "execution": {
          "iopub.execute_input": "2023-11-29T07:00:35.172507Z",
          "iopub.status.busy": "2023-11-29T07:00:35.171510Z",
          "iopub.status.idle": "2023-11-29T07:00:35.187508Z",
          "shell.execute_reply": "2023-11-29T07:00:35.186509Z",
          "shell.execute_reply.started": "2023-11-29T07:00:35.172507Z"
        },
        "colab": {
          "base_uri": "https://localhost:8080/"
        },
        "id": "Cvuf_QRLWU_H",
        "outputId": "5d087b2c-2218-4dee-a60f-bd226c85ea94"
      },
      "outputs": [
        {
          "output_type": "execute_result",
          "data": {
            "text/plain": [
              "array([[-198.37178  , -198.68208  , -198.86885  , ..., -199.45741  ,\n",
              "        -199.49811  , -199.51247  ],\n",
              "       [-199.48941  , -199.54874  , -199.55763  , ..., -199.92894  ,\n",
              "        -199.93971  , -199.99533  ],\n",
              "       [-185.1278   , -185.35916  , -186.02507  , ..., -186.26729  ,\n",
              "        -186.28326  , -186.29094  ],\n",
              "       ...,\n",
              "       [-220.15611  , -220.19745  , -220.46617  , ..., -220.7164   ,\n",
              "        -220.72238  , -220.85843  ],\n",
              "       [-200.35648  , -200.53137  , -200.62827  , ..., -201.05673  ,\n",
              "        -201.09016  , -201.11523  ],\n",
              "       [   4.5450006,    4.3846407,    4.3406014, ...,    3.7275565,\n",
              "           3.6817563,    3.6548834]], dtype=float32)"
            ]
          },
          "metadata": {},
          "execution_count": 84
        }
      ],
      "source": [
        "1 - distance"
      ]
    },
    {
      "cell_type": "code",
      "execution_count": null,
      "metadata": {
        "execution": {
          "iopub.execute_input": "2023-11-29T07:00:35.188510Z",
          "iopub.status.busy": "2023-11-29T07:00:35.188510Z",
          "iopub.status.idle": "2023-11-29T07:00:35.203509Z",
          "shell.execute_reply": "2023-11-29T07:00:35.202508Z",
          "shell.execute_reply.started": "2023-11-29T07:00:35.188510Z"
        },
        "colab": {
          "base_uri": "https://localhost:8080/"
        },
        "id": "YgRQWeMTWU_H",
        "outputId": "059fbca4-14c8-4744-a382-59324585ad1d"
      },
      "outputs": [
        {
          "output_type": "execute_result",
          "data": {
            "text/plain": [
              "-205.38771253205275"
            ]
          },
          "metadata": {},
          "execution_count": 85
        }
      ],
      "source": [
        "item_embeddings[8867].dot(user_embeddings[0])"
      ]
    },
    {
      "cell_type": "code",
      "execution_count": null,
      "metadata": {
        "execution": {
          "iopub.execute_input": "2023-11-29T07:00:35.204508Z",
          "iopub.status.busy": "2023-11-29T07:00:35.204508Z",
          "iopub.status.idle": "2023-11-29T07:00:35.376507Z",
          "shell.execute_reply": "2023-11-29T07:00:35.375507Z",
          "shell.execute_reply.started": "2023-11-29T07:00:35.204508Z"
        },
        "colab": {
          "base_uri": "https://localhost:8080/"
        },
        "id": "kJwPX8MUWU_H",
        "outputId": "246eb73a-e737-4a89-8662-23beca85f6d0"
      },
      "outputs": [
        {
          "output_type": "stream",
          "name": "stdout",
          "text": [
            "[[  43   32   19 ...  100   69   36]\n",
            " [  31    8   62 ...   43   19  149]\n",
            " [  31   19  121 ...  268   29 1276]\n",
            " ...\n",
            " [  19   31   32 ...  268  258  173]\n",
            " [  43   19   32 ...  164  487   75]\n",
            " [  32   43   31 ...  100  120  173]]\n",
            "[[-198.37178268 -198.68211821 -198.86887223 ... -199.45741433\n",
            "  -199.49812068 -199.51249354]\n",
            " [-199.48941872 -199.54872038 -199.55762579 ... -199.92894088\n",
            "  -199.93971236 -199.99530661]\n",
            " [-185.12779137 -185.35915297 -186.02506024 ... -186.26727922\n",
            "  -186.28327549 -186.29092958]\n",
            " ...\n",
            " [-220.15610514 -220.19745336 -220.46616457 ... -220.71641241\n",
            "  -220.72240113 -220.85841215]\n",
            " [-200.35646878 -200.53134919 -200.62826774 ... -201.0567136\n",
            "  -201.09017803 -201.11520724]\n",
            " [   4.54500083    4.38464034    4.34060154 ...    3.72755665\n",
            "     3.68175597    3.65488408]]\n"
          ]
        }
      ],
      "source": [
        "labels, distances = recommend_all(user_embeddings[:1000, :], item_embeddings)\n",
        "print(labels)\n",
        "print(distances)"
      ]
    },
    {
      "cell_type": "code",
      "execution_count": null,
      "metadata": {
        "id": "Hw5zyfZzWU_I"
      },
      "outputs": [],
      "source": []
    },
    {
      "cell_type": "code",
      "execution_count": null,
      "metadata": {
        "id": "bzuaU1BdWU_I"
      },
      "outputs": [],
      "source": []
    }
  ],
  "metadata": {
    "kernelspec": {
      "display_name": "Python 3",
      "name": "python3"
    },
    "language_info": {
      "name": "python"
    },
    "widgets": {
      "application/vnd.jupyter.widget-state+json": {
        "dbad4fdd7a9c4ce38b3a60a512cf9fe9": {
          "model_module": "@jupyter-widgets/controls",
          "model_name": "HBoxModel",
          "model_module_version": "1.5.0",
          "state": {
            "_dom_classes": [],
            "_model_module": "@jupyter-widgets/controls",
            "_model_module_version": "1.5.0",
            "_model_name": "HBoxModel",
            "_view_count": null,
            "_view_module": "@jupyter-widgets/controls",
            "_view_module_version": "1.5.0",
            "_view_name": "HBoxView",
            "box_style": "",
            "children": [
              "IPY_MODEL_838278575cfa4a239d70ea4a2bcf1aee",
              "IPY_MODEL_3bfd19acead14deba63047e4645c4121",
              "IPY_MODEL_3e77e0c0324c464db58fb1963b87c41f"
            ],
            "layout": "IPY_MODEL_28dd0cf7a55d4f9395f949549f97827f"
          }
        },
        "838278575cfa4a239d70ea4a2bcf1aee": {
          "model_module": "@jupyter-widgets/controls",
          "model_name": "HTMLModel",
          "model_module_version": "1.5.0",
          "state": {
            "_dom_classes": [],
            "_model_module": "@jupyter-widgets/controls",
            "_model_module_version": "1.5.0",
            "_model_name": "HTMLModel",
            "_view_count": null,
            "_view_module": "@jupyter-widgets/controls",
            "_view_module_version": "1.5.0",
            "_view_name": "HTMLView",
            "description": "",
            "description_tooltip": null,
            "layout": "IPY_MODEL_35918fe8f1684f2caa3fc2bc5e35e13d",
            "placeholder": "​",
            "style": "IPY_MODEL_febca148dfdb4bd58cfe6ee42aa157f2",
            "value": "100%"
          }
        },
        "3bfd19acead14deba63047e4645c4121": {
          "model_module": "@jupyter-widgets/controls",
          "model_name": "FloatProgressModel",
          "model_module_version": "1.5.0",
          "state": {
            "_dom_classes": [],
            "_model_module": "@jupyter-widgets/controls",
            "_model_module_version": "1.5.0",
            "_model_name": "FloatProgressModel",
            "_view_count": null,
            "_view_module": "@jupyter-widgets/controls",
            "_view_module_version": "1.5.0",
            "_view_name": "ProgressView",
            "bar_style": "success",
            "description": "",
            "description_tooltip": null,
            "layout": "IPY_MODEL_5d4065fef2ff46e6b1c2b31ca628247d",
            "max": 6,
            "min": 0,
            "orientation": "horizontal",
            "style": "IPY_MODEL_2a51cb47686d4247b2e8ccdf8e9d7ef3",
            "value": 6
          }
        },
        "3e77e0c0324c464db58fb1963b87c41f": {
          "model_module": "@jupyter-widgets/controls",
          "model_name": "HTMLModel",
          "model_module_version": "1.5.0",
          "state": {
            "_dom_classes": [],
            "_model_module": "@jupyter-widgets/controls",
            "_model_module_version": "1.5.0",
            "_model_name": "HTMLModel",
            "_view_count": null,
            "_view_module": "@jupyter-widgets/controls",
            "_view_module_version": "1.5.0",
            "_view_name": "HTMLView",
            "description": "",
            "description_tooltip": null,
            "layout": "IPY_MODEL_b3c96522932548208f3b37792fb52520",
            "placeholder": "​",
            "style": "IPY_MODEL_765406f9a4a44acab9633800f974bebb",
            "value": " 6/6 [07:57&lt;00:00, 62.84s/it]"
          }
        },
        "28dd0cf7a55d4f9395f949549f97827f": {
          "model_module": "@jupyter-widgets/base",
          "model_name": "LayoutModel",
          "model_module_version": "1.2.0",
          "state": {
            "_model_module": "@jupyter-widgets/base",
            "_model_module_version": "1.2.0",
            "_model_name": "LayoutModel",
            "_view_count": null,
            "_view_module": "@jupyter-widgets/base",
            "_view_module_version": "1.2.0",
            "_view_name": "LayoutView",
            "align_content": null,
            "align_items": null,
            "align_self": null,
            "border": null,
            "bottom": null,
            "display": null,
            "flex": null,
            "flex_flow": null,
            "grid_area": null,
            "grid_auto_columns": null,
            "grid_auto_flow": null,
            "grid_auto_rows": null,
            "grid_column": null,
            "grid_gap": null,
            "grid_row": null,
            "grid_template_areas": null,
            "grid_template_columns": null,
            "grid_template_rows": null,
            "height": null,
            "justify_content": null,
            "justify_items": null,
            "left": null,
            "margin": null,
            "max_height": null,
            "max_width": null,
            "min_height": null,
            "min_width": null,
            "object_fit": null,
            "object_position": null,
            "order": null,
            "overflow": null,
            "overflow_x": null,
            "overflow_y": null,
            "padding": null,
            "right": null,
            "top": null,
            "visibility": null,
            "width": null
          }
        },
        "35918fe8f1684f2caa3fc2bc5e35e13d": {
          "model_module": "@jupyter-widgets/base",
          "model_name": "LayoutModel",
          "model_module_version": "1.2.0",
          "state": {
            "_model_module": "@jupyter-widgets/base",
            "_model_module_version": "1.2.0",
            "_model_name": "LayoutModel",
            "_view_count": null,
            "_view_module": "@jupyter-widgets/base",
            "_view_module_version": "1.2.0",
            "_view_name": "LayoutView",
            "align_content": null,
            "align_items": null,
            "align_self": null,
            "border": null,
            "bottom": null,
            "display": null,
            "flex": null,
            "flex_flow": null,
            "grid_area": null,
            "grid_auto_columns": null,
            "grid_auto_flow": null,
            "grid_auto_rows": null,
            "grid_column": null,
            "grid_gap": null,
            "grid_row": null,
            "grid_template_areas": null,
            "grid_template_columns": null,
            "grid_template_rows": null,
            "height": null,
            "justify_content": null,
            "justify_items": null,
            "left": null,
            "margin": null,
            "max_height": null,
            "max_width": null,
            "min_height": null,
            "min_width": null,
            "object_fit": null,
            "object_position": null,
            "order": null,
            "overflow": null,
            "overflow_x": null,
            "overflow_y": null,
            "padding": null,
            "right": null,
            "top": null,
            "visibility": null,
            "width": null
          }
        },
        "febca148dfdb4bd58cfe6ee42aa157f2": {
          "model_module": "@jupyter-widgets/controls",
          "model_name": "DescriptionStyleModel",
          "model_module_version": "1.5.0",
          "state": {
            "_model_module": "@jupyter-widgets/controls",
            "_model_module_version": "1.5.0",
            "_model_name": "DescriptionStyleModel",
            "_view_count": null,
            "_view_module": "@jupyter-widgets/base",
            "_view_module_version": "1.2.0",
            "_view_name": "StyleView",
            "description_width": ""
          }
        },
        "5d4065fef2ff46e6b1c2b31ca628247d": {
          "model_module": "@jupyter-widgets/base",
          "model_name": "LayoutModel",
          "model_module_version": "1.2.0",
          "state": {
            "_model_module": "@jupyter-widgets/base",
            "_model_module_version": "1.2.0",
            "_model_name": "LayoutModel",
            "_view_count": null,
            "_view_module": "@jupyter-widgets/base",
            "_view_module_version": "1.2.0",
            "_view_name": "LayoutView",
            "align_content": null,
            "align_items": null,
            "align_self": null,
            "border": null,
            "bottom": null,
            "display": null,
            "flex": null,
            "flex_flow": null,
            "grid_area": null,
            "grid_auto_columns": null,
            "grid_auto_flow": null,
            "grid_auto_rows": null,
            "grid_column": null,
            "grid_gap": null,
            "grid_row": null,
            "grid_template_areas": null,
            "grid_template_columns": null,
            "grid_template_rows": null,
            "height": null,
            "justify_content": null,
            "justify_items": null,
            "left": null,
            "margin": null,
            "max_height": null,
            "max_width": null,
            "min_height": null,
            "min_width": null,
            "object_fit": null,
            "object_position": null,
            "order": null,
            "overflow": null,
            "overflow_x": null,
            "overflow_y": null,
            "padding": null,
            "right": null,
            "top": null,
            "visibility": null,
            "width": null
          }
        },
        "2a51cb47686d4247b2e8ccdf8e9d7ef3": {
          "model_module": "@jupyter-widgets/controls",
          "model_name": "ProgressStyleModel",
          "model_module_version": "1.5.0",
          "state": {
            "_model_module": "@jupyter-widgets/controls",
            "_model_module_version": "1.5.0",
            "_model_name": "ProgressStyleModel",
            "_view_count": null,
            "_view_module": "@jupyter-widgets/base",
            "_view_module_version": "1.2.0",
            "_view_name": "StyleView",
            "bar_color": null,
            "description_width": ""
          }
        },
        "b3c96522932548208f3b37792fb52520": {
          "model_module": "@jupyter-widgets/base",
          "model_name": "LayoutModel",
          "model_module_version": "1.2.0",
          "state": {
            "_model_module": "@jupyter-widgets/base",
            "_model_module_version": "1.2.0",
            "_model_name": "LayoutModel",
            "_view_count": null,
            "_view_module": "@jupyter-widgets/base",
            "_view_module_version": "1.2.0",
            "_view_name": "LayoutView",
            "align_content": null,
            "align_items": null,
            "align_self": null,
            "border": null,
            "bottom": null,
            "display": null,
            "flex": null,
            "flex_flow": null,
            "grid_area": null,
            "grid_auto_columns": null,
            "grid_auto_flow": null,
            "grid_auto_rows": null,
            "grid_column": null,
            "grid_gap": null,
            "grid_row": null,
            "grid_template_areas": null,
            "grid_template_columns": null,
            "grid_template_rows": null,
            "height": null,
            "justify_content": null,
            "justify_items": null,
            "left": null,
            "margin": null,
            "max_height": null,
            "max_width": null,
            "min_height": null,
            "min_width": null,
            "object_fit": null,
            "object_position": null,
            "order": null,
            "overflow": null,
            "overflow_x": null,
            "overflow_y": null,
            "padding": null,
            "right": null,
            "top": null,
            "visibility": null,
            "width": null
          }
        },
        "765406f9a4a44acab9633800f974bebb": {
          "model_module": "@jupyter-widgets/controls",
          "model_name": "DescriptionStyleModel",
          "model_module_version": "1.5.0",
          "state": {
            "_model_module": "@jupyter-widgets/controls",
            "_model_module_version": "1.5.0",
            "_model_name": "DescriptionStyleModel",
            "_view_count": null,
            "_view_module": "@jupyter-widgets/base",
            "_view_module_version": "1.2.0",
            "_view_name": "StyleView",
            "description_width": ""
          }
        },
        "ac5c06c36cad49f78e7d7b17ee6efb34": {
          "model_module": "@jupyter-widgets/controls",
          "model_name": "HBoxModel",
          "model_module_version": "1.5.0",
          "state": {
            "_dom_classes": [],
            "_model_module": "@jupyter-widgets/controls",
            "_model_module_version": "1.5.0",
            "_model_name": "HBoxModel",
            "_view_count": null,
            "_view_module": "@jupyter-widgets/controls",
            "_view_module_version": "1.5.0",
            "_view_name": "HBoxView",
            "box_style": "",
            "children": [
              "IPY_MODEL_98bef83a08f141c78256fcdf9f81e6a4",
              "IPY_MODEL_d26b297f21044e69b9275ed242b2c5a6",
              "IPY_MODEL_166d6ff211604ef1a1d5b2128f7400b6"
            ],
            "layout": "IPY_MODEL_2bb1581c90e84086856bdd80b4df27e0"
          }
        },
        "98bef83a08f141c78256fcdf9f81e6a4": {
          "model_module": "@jupyter-widgets/controls",
          "model_name": "HTMLModel",
          "model_module_version": "1.5.0",
          "state": {
            "_dom_classes": [],
            "_model_module": "@jupyter-widgets/controls",
            "_model_module_version": "1.5.0",
            "_model_name": "HTMLModel",
            "_view_count": null,
            "_view_module": "@jupyter-widgets/controls",
            "_view_module_version": "1.5.0",
            "_view_name": "HTMLView",
            "description": "",
            "description_tooltip": null,
            "layout": "IPY_MODEL_07016e50304b46eab5afb58c52a4eb0d",
            "placeholder": "​",
            "style": "IPY_MODEL_ea3306d140e74693baee947d5d6014ed",
            "value": "100%"
          }
        },
        "d26b297f21044e69b9275ed242b2c5a6": {
          "model_module": "@jupyter-widgets/controls",
          "model_name": "FloatProgressModel",
          "model_module_version": "1.5.0",
          "state": {
            "_dom_classes": [],
            "_model_module": "@jupyter-widgets/controls",
            "_model_module_version": "1.5.0",
            "_model_name": "FloatProgressModel",
            "_view_count": null,
            "_view_module": "@jupyter-widgets/controls",
            "_view_module_version": "1.5.0",
            "_view_name": "ProgressView",
            "bar_style": "success",
            "description": "",
            "description_tooltip": null,
            "layout": "IPY_MODEL_d09a472507ae4e348cbe45a296da878e",
            "max": 1,
            "min": 0,
            "orientation": "horizontal",
            "style": "IPY_MODEL_f012aae15c354c97a21407980db64a20",
            "value": 1
          }
        },
        "166d6ff211604ef1a1d5b2128f7400b6": {
          "model_module": "@jupyter-widgets/controls",
          "model_name": "HTMLModel",
          "model_module_version": "1.5.0",
          "state": {
            "_dom_classes": [],
            "_model_module": "@jupyter-widgets/controls",
            "_model_module_version": "1.5.0",
            "_model_name": "HTMLModel",
            "_view_count": null,
            "_view_module": "@jupyter-widgets/controls",
            "_view_module_version": "1.5.0",
            "_view_name": "HTMLView",
            "description": "",
            "description_tooltip": null,
            "layout": "IPY_MODEL_9ea2de63f378498f8b4833ee8b6dc9f1",
            "placeholder": "​",
            "style": "IPY_MODEL_c3d17fbf726f401693f03ab21de8392d",
            "value": " 1/1 [00:03&lt;00:00,  3.79s/it]"
          }
        },
        "2bb1581c90e84086856bdd80b4df27e0": {
          "model_module": "@jupyter-widgets/base",
          "model_name": "LayoutModel",
          "model_module_version": "1.2.0",
          "state": {
            "_model_module": "@jupyter-widgets/base",
            "_model_module_version": "1.2.0",
            "_model_name": "LayoutModel",
            "_view_count": null,
            "_view_module": "@jupyter-widgets/base",
            "_view_module_version": "1.2.0",
            "_view_name": "LayoutView",
            "align_content": null,
            "align_items": null,
            "align_self": null,
            "border": null,
            "bottom": null,
            "display": null,
            "flex": null,
            "flex_flow": null,
            "grid_area": null,
            "grid_auto_columns": null,
            "grid_auto_flow": null,
            "grid_auto_rows": null,
            "grid_column": null,
            "grid_gap": null,
            "grid_row": null,
            "grid_template_areas": null,
            "grid_template_columns": null,
            "grid_template_rows": null,
            "height": null,
            "justify_content": null,
            "justify_items": null,
            "left": null,
            "margin": null,
            "max_height": null,
            "max_width": null,
            "min_height": null,
            "min_width": null,
            "object_fit": null,
            "object_position": null,
            "order": null,
            "overflow": null,
            "overflow_x": null,
            "overflow_y": null,
            "padding": null,
            "right": null,
            "top": null,
            "visibility": null,
            "width": null
          }
        },
        "07016e50304b46eab5afb58c52a4eb0d": {
          "model_module": "@jupyter-widgets/base",
          "model_name": "LayoutModel",
          "model_module_version": "1.2.0",
          "state": {
            "_model_module": "@jupyter-widgets/base",
            "_model_module_version": "1.2.0",
            "_model_name": "LayoutModel",
            "_view_count": null,
            "_view_module": "@jupyter-widgets/base",
            "_view_module_version": "1.2.0",
            "_view_name": "LayoutView",
            "align_content": null,
            "align_items": null,
            "align_self": null,
            "border": null,
            "bottom": null,
            "display": null,
            "flex": null,
            "flex_flow": null,
            "grid_area": null,
            "grid_auto_columns": null,
            "grid_auto_flow": null,
            "grid_auto_rows": null,
            "grid_column": null,
            "grid_gap": null,
            "grid_row": null,
            "grid_template_areas": null,
            "grid_template_columns": null,
            "grid_template_rows": null,
            "height": null,
            "justify_content": null,
            "justify_items": null,
            "left": null,
            "margin": null,
            "max_height": null,
            "max_width": null,
            "min_height": null,
            "min_width": null,
            "object_fit": null,
            "object_position": null,
            "order": null,
            "overflow": null,
            "overflow_x": null,
            "overflow_y": null,
            "padding": null,
            "right": null,
            "top": null,
            "visibility": null,
            "width": null
          }
        },
        "ea3306d140e74693baee947d5d6014ed": {
          "model_module": "@jupyter-widgets/controls",
          "model_name": "DescriptionStyleModel",
          "model_module_version": "1.5.0",
          "state": {
            "_model_module": "@jupyter-widgets/controls",
            "_model_module_version": "1.5.0",
            "_model_name": "DescriptionStyleModel",
            "_view_count": null,
            "_view_module": "@jupyter-widgets/base",
            "_view_module_version": "1.2.0",
            "_view_name": "StyleView",
            "description_width": ""
          }
        },
        "d09a472507ae4e348cbe45a296da878e": {
          "model_module": "@jupyter-widgets/base",
          "model_name": "LayoutModel",
          "model_module_version": "1.2.0",
          "state": {
            "_model_module": "@jupyter-widgets/base",
            "_model_module_version": "1.2.0",
            "_model_name": "LayoutModel",
            "_view_count": null,
            "_view_module": "@jupyter-widgets/base",
            "_view_module_version": "1.2.0",
            "_view_name": "LayoutView",
            "align_content": null,
            "align_items": null,
            "align_self": null,
            "border": null,
            "bottom": null,
            "display": null,
            "flex": null,
            "flex_flow": null,
            "grid_area": null,
            "grid_auto_columns": null,
            "grid_auto_flow": null,
            "grid_auto_rows": null,
            "grid_column": null,
            "grid_gap": null,
            "grid_row": null,
            "grid_template_areas": null,
            "grid_template_columns": null,
            "grid_template_rows": null,
            "height": null,
            "justify_content": null,
            "justify_items": null,
            "left": null,
            "margin": null,
            "max_height": null,
            "max_width": null,
            "min_height": null,
            "min_width": null,
            "object_fit": null,
            "object_position": null,
            "order": null,
            "overflow": null,
            "overflow_x": null,
            "overflow_y": null,
            "padding": null,
            "right": null,
            "top": null,
            "visibility": null,
            "width": null
          }
        },
        "f012aae15c354c97a21407980db64a20": {
          "model_module": "@jupyter-widgets/controls",
          "model_name": "ProgressStyleModel",
          "model_module_version": "1.5.0",
          "state": {
            "_model_module": "@jupyter-widgets/controls",
            "_model_module_version": "1.5.0",
            "_model_name": "ProgressStyleModel",
            "_view_count": null,
            "_view_module": "@jupyter-widgets/base",
            "_view_module_version": "1.2.0",
            "_view_name": "StyleView",
            "bar_color": null,
            "description_width": ""
          }
        },
        "9ea2de63f378498f8b4833ee8b6dc9f1": {
          "model_module": "@jupyter-widgets/base",
          "model_name": "LayoutModel",
          "model_module_version": "1.2.0",
          "state": {
            "_model_module": "@jupyter-widgets/base",
            "_model_module_version": "1.2.0",
            "_model_name": "LayoutModel",
            "_view_count": null,
            "_view_module": "@jupyter-widgets/base",
            "_view_module_version": "1.2.0",
            "_view_name": "LayoutView",
            "align_content": null,
            "align_items": null,
            "align_self": null,
            "border": null,
            "bottom": null,
            "display": null,
            "flex": null,
            "flex_flow": null,
            "grid_area": null,
            "grid_auto_columns": null,
            "grid_auto_flow": null,
            "grid_auto_rows": null,
            "grid_column": null,
            "grid_gap": null,
            "grid_row": null,
            "grid_template_areas": null,
            "grid_template_columns": null,
            "grid_template_rows": null,
            "height": null,
            "justify_content": null,
            "justify_items": null,
            "left": null,
            "margin": null,
            "max_height": null,
            "max_width": null,
            "min_height": null,
            "min_width": null,
            "object_fit": null,
            "object_position": null,
            "order": null,
            "overflow": null,
            "overflow_x": null,
            "overflow_y": null,
            "padding": null,
            "right": null,
            "top": null,
            "visibility": null,
            "width": null
          }
        },
        "c3d17fbf726f401693f03ab21de8392d": {
          "model_module": "@jupyter-widgets/controls",
          "model_name": "DescriptionStyleModel",
          "model_module_version": "1.5.0",
          "state": {
            "_model_module": "@jupyter-widgets/controls",
            "_model_module_version": "1.5.0",
            "_model_name": "DescriptionStyleModel",
            "_view_count": null,
            "_view_module": "@jupyter-widgets/base",
            "_view_module_version": "1.2.0",
            "_view_name": "StyleView",
            "description_width": ""
          }
        },
        "bd4f00105f2e445cbbdf67e032614a96": {
          "model_module": "@jupyter-widgets/controls",
          "model_name": "HBoxModel",
          "model_module_version": "1.5.0",
          "state": {
            "_dom_classes": [],
            "_model_module": "@jupyter-widgets/controls",
            "_model_module_version": "1.5.0",
            "_model_name": "HBoxModel",
            "_view_count": null,
            "_view_module": "@jupyter-widgets/controls",
            "_view_module_version": "1.5.0",
            "_view_name": "HBoxView",
            "box_style": "",
            "children": [
              "IPY_MODEL_4155cfd78d974bf5b6a3e2f307d7a81a",
              "IPY_MODEL_486cc9ae38074bdca2fd1a3c3810ea74",
              "IPY_MODEL_61d07cc3734c405aa214b7d8d2353bbb"
            ],
            "layout": "IPY_MODEL_f361da01d2b748ddbe0554a12defc3a3"
          }
        },
        "4155cfd78d974bf5b6a3e2f307d7a81a": {
          "model_module": "@jupyter-widgets/controls",
          "model_name": "HTMLModel",
          "model_module_version": "1.5.0",
          "state": {
            "_dom_classes": [],
            "_model_module": "@jupyter-widgets/controls",
            "_model_module_version": "1.5.0",
            "_model_name": "HTMLModel",
            "_view_count": null,
            "_view_module": "@jupyter-widgets/controls",
            "_view_module_version": "1.5.0",
            "_view_name": "HTMLView",
            "description": "",
            "description_tooltip": null,
            "layout": "IPY_MODEL_f5524087790448d5ba68b3005f8fb479",
            "placeholder": "​",
            "style": "IPY_MODEL_709f810ecbb14b92af398df3a41bbd8e",
            "value": "100%"
          }
        },
        "486cc9ae38074bdca2fd1a3c3810ea74": {
          "model_module": "@jupyter-widgets/controls",
          "model_name": "FloatProgressModel",
          "model_module_version": "1.5.0",
          "state": {
            "_dom_classes": [],
            "_model_module": "@jupyter-widgets/controls",
            "_model_module_version": "1.5.0",
            "_model_name": "FloatProgressModel",
            "_view_count": null,
            "_view_module": "@jupyter-widgets/controls",
            "_view_module_version": "1.5.0",
            "_view_name": "ProgressView",
            "bar_style": "success",
            "description": "",
            "description_tooltip": null,
            "layout": "IPY_MODEL_b000af3f36ea4d97a77cfff77486e40f",
            "max": 1,
            "min": 0,
            "orientation": "horizontal",
            "style": "IPY_MODEL_ba6893c0e27a48b8932af4d98d9457b5",
            "value": 1
          }
        },
        "61d07cc3734c405aa214b7d8d2353bbb": {
          "model_module": "@jupyter-widgets/controls",
          "model_name": "HTMLModel",
          "model_module_version": "1.5.0",
          "state": {
            "_dom_classes": [],
            "_model_module": "@jupyter-widgets/controls",
            "_model_module_version": "1.5.0",
            "_model_name": "HTMLModel",
            "_view_count": null,
            "_view_module": "@jupyter-widgets/controls",
            "_view_module_version": "1.5.0",
            "_view_name": "HTMLView",
            "description": "",
            "description_tooltip": null,
            "layout": "IPY_MODEL_57dc78c13b7341d2af44c5dd4b69540e",
            "placeholder": "​",
            "style": "IPY_MODEL_d309f7dcea6a411d93b2f830b5db7d83",
            "value": " 1/1 [00:08&lt;00:00,  8.58s/it]"
          }
        },
        "f361da01d2b748ddbe0554a12defc3a3": {
          "model_module": "@jupyter-widgets/base",
          "model_name": "LayoutModel",
          "model_module_version": "1.2.0",
          "state": {
            "_model_module": "@jupyter-widgets/base",
            "_model_module_version": "1.2.0",
            "_model_name": "LayoutModel",
            "_view_count": null,
            "_view_module": "@jupyter-widgets/base",
            "_view_module_version": "1.2.0",
            "_view_name": "LayoutView",
            "align_content": null,
            "align_items": null,
            "align_self": null,
            "border": null,
            "bottom": null,
            "display": null,
            "flex": null,
            "flex_flow": null,
            "grid_area": null,
            "grid_auto_columns": null,
            "grid_auto_flow": null,
            "grid_auto_rows": null,
            "grid_column": null,
            "grid_gap": null,
            "grid_row": null,
            "grid_template_areas": null,
            "grid_template_columns": null,
            "grid_template_rows": null,
            "height": null,
            "justify_content": null,
            "justify_items": null,
            "left": null,
            "margin": null,
            "max_height": null,
            "max_width": null,
            "min_height": null,
            "min_width": null,
            "object_fit": null,
            "object_position": null,
            "order": null,
            "overflow": null,
            "overflow_x": null,
            "overflow_y": null,
            "padding": null,
            "right": null,
            "top": null,
            "visibility": null,
            "width": null
          }
        },
        "f5524087790448d5ba68b3005f8fb479": {
          "model_module": "@jupyter-widgets/base",
          "model_name": "LayoutModel",
          "model_module_version": "1.2.0",
          "state": {
            "_model_module": "@jupyter-widgets/base",
            "_model_module_version": "1.2.0",
            "_model_name": "LayoutModel",
            "_view_count": null,
            "_view_module": "@jupyter-widgets/base",
            "_view_module_version": "1.2.0",
            "_view_name": "LayoutView",
            "align_content": null,
            "align_items": null,
            "align_self": null,
            "border": null,
            "bottom": null,
            "display": null,
            "flex": null,
            "flex_flow": null,
            "grid_area": null,
            "grid_auto_columns": null,
            "grid_auto_flow": null,
            "grid_auto_rows": null,
            "grid_column": null,
            "grid_gap": null,
            "grid_row": null,
            "grid_template_areas": null,
            "grid_template_columns": null,
            "grid_template_rows": null,
            "height": null,
            "justify_content": null,
            "justify_items": null,
            "left": null,
            "margin": null,
            "max_height": null,
            "max_width": null,
            "min_height": null,
            "min_width": null,
            "object_fit": null,
            "object_position": null,
            "order": null,
            "overflow": null,
            "overflow_x": null,
            "overflow_y": null,
            "padding": null,
            "right": null,
            "top": null,
            "visibility": null,
            "width": null
          }
        },
        "709f810ecbb14b92af398df3a41bbd8e": {
          "model_module": "@jupyter-widgets/controls",
          "model_name": "DescriptionStyleModel",
          "model_module_version": "1.5.0",
          "state": {
            "_model_module": "@jupyter-widgets/controls",
            "_model_module_version": "1.5.0",
            "_model_name": "DescriptionStyleModel",
            "_view_count": null,
            "_view_module": "@jupyter-widgets/base",
            "_view_module_version": "1.2.0",
            "_view_name": "StyleView",
            "description_width": ""
          }
        },
        "b000af3f36ea4d97a77cfff77486e40f": {
          "model_module": "@jupyter-widgets/base",
          "model_name": "LayoutModel",
          "model_module_version": "1.2.0",
          "state": {
            "_model_module": "@jupyter-widgets/base",
            "_model_module_version": "1.2.0",
            "_model_name": "LayoutModel",
            "_view_count": null,
            "_view_module": "@jupyter-widgets/base",
            "_view_module_version": "1.2.0",
            "_view_name": "LayoutView",
            "align_content": null,
            "align_items": null,
            "align_self": null,
            "border": null,
            "bottom": null,
            "display": null,
            "flex": null,
            "flex_flow": null,
            "grid_area": null,
            "grid_auto_columns": null,
            "grid_auto_flow": null,
            "grid_auto_rows": null,
            "grid_column": null,
            "grid_gap": null,
            "grid_row": null,
            "grid_template_areas": null,
            "grid_template_columns": null,
            "grid_template_rows": null,
            "height": null,
            "justify_content": null,
            "justify_items": null,
            "left": null,
            "margin": null,
            "max_height": null,
            "max_width": null,
            "min_height": null,
            "min_width": null,
            "object_fit": null,
            "object_position": null,
            "order": null,
            "overflow": null,
            "overflow_x": null,
            "overflow_y": null,
            "padding": null,
            "right": null,
            "top": null,
            "visibility": null,
            "width": null
          }
        },
        "ba6893c0e27a48b8932af4d98d9457b5": {
          "model_module": "@jupyter-widgets/controls",
          "model_name": "ProgressStyleModel",
          "model_module_version": "1.5.0",
          "state": {
            "_model_module": "@jupyter-widgets/controls",
            "_model_module_version": "1.5.0",
            "_model_name": "ProgressStyleModel",
            "_view_count": null,
            "_view_module": "@jupyter-widgets/base",
            "_view_module_version": "1.2.0",
            "_view_name": "StyleView",
            "bar_color": null,
            "description_width": ""
          }
        },
        "57dc78c13b7341d2af44c5dd4b69540e": {
          "model_module": "@jupyter-widgets/base",
          "model_name": "LayoutModel",
          "model_module_version": "1.2.0",
          "state": {
            "_model_module": "@jupyter-widgets/base",
            "_model_module_version": "1.2.0",
            "_model_name": "LayoutModel",
            "_view_count": null,
            "_view_module": "@jupyter-widgets/base",
            "_view_module_version": "1.2.0",
            "_view_name": "LayoutView",
            "align_content": null,
            "align_items": null,
            "align_self": null,
            "border": null,
            "bottom": null,
            "display": null,
            "flex": null,
            "flex_flow": null,
            "grid_area": null,
            "grid_auto_columns": null,
            "grid_auto_flow": null,
            "grid_auto_rows": null,
            "grid_column": null,
            "grid_gap": null,
            "grid_row": null,
            "grid_template_areas": null,
            "grid_template_columns": null,
            "grid_template_rows": null,
            "height": null,
            "justify_content": null,
            "justify_items": null,
            "left": null,
            "margin": null,
            "max_height": null,
            "max_width": null,
            "min_height": null,
            "min_width": null,
            "object_fit": null,
            "object_position": null,
            "order": null,
            "overflow": null,
            "overflow_x": null,
            "overflow_y": null,
            "padding": null,
            "right": null,
            "top": null,
            "visibility": null,
            "width": null
          }
        },
        "d309f7dcea6a411d93b2f830b5db7d83": {
          "model_module": "@jupyter-widgets/controls",
          "model_name": "DescriptionStyleModel",
          "model_module_version": "1.5.0",
          "state": {
            "_model_module": "@jupyter-widgets/controls",
            "_model_module_version": "1.5.0",
            "_model_name": "DescriptionStyleModel",
            "_view_count": null,
            "_view_module": "@jupyter-widgets/base",
            "_view_module_version": "1.2.0",
            "_view_name": "StyleView",
            "description_width": ""
          }
        }
      }
    },
    "colab": {
      "provenance": []
    }
  },
  "nbformat": 4,
  "nbformat_minor": 0
}